{
 "cells": [
  {
   "cell_type": "code",
   "execution_count": 1,
   "id": "87ac8a45",
   "metadata": {},
   "outputs": [],
   "source": [
    "# !conda install -c conda-forge rdkit\n",
    "# !pip isntall rdkit"
   ]
  },
  {
   "cell_type": "code",
   "execution_count": 2,
   "id": "89f42f26",
   "metadata": {},
   "outputs": [],
   "source": [
    "import pandas as pd"
   ]
  },
  {
   "cell_type": "markdown",
   "id": "afc5abe5",
   "metadata": {},
   "source": [
    "#### FILE 1"
   ]
  },
  {
   "cell_type": "code",
   "execution_count": 3,
   "id": "dc20d385-c379-4386-83e4-01a3e09b753c",
   "metadata": {},
   "outputs": [
    {
     "name": "stdout",
     "output_type": "stream",
     "text": [
      "The selected columns are identical: False\n",
      "      Referenced Pt(111) dG Energies  (eV), 800K                      \\\n",
      "                               Functional PBE-D3 Functional BEEF-vdw   \n",
      "count                                  46.000000           46.000000   \n",
      "mean                                    0.355006            0.385069   \n",
      "std                                     0.452787            0.406095   \n",
      "min                                    -0.449946           -0.473425   \n",
      "25%                                     0.107846            0.168691   \n",
      "50%                                     0.265966            0.361281   \n",
      "75%                                     0.496779            0.657834   \n",
      "max                                     1.681295            1.274628   \n",
      "\n",
      "                                             \n",
      "      Functional RPBE Functional SCAN-rVV10  \n",
      "count       46.000000             46.000000  \n",
      "mean         0.793696             -0.010139  \n",
      "std          0.472367              0.451148  \n",
      "min         -0.256655             -0.748240  \n",
      "25%          0.506015             -0.379029  \n",
      "50%          0.780959             -0.006169  \n",
      "75%          1.123551              0.260149  \n",
      "max          1.738620              0.930254  \n",
      "      Referenced Pt(111) dG Energies  (eV), 800K                      \\\n",
      "                               Functional PBE-D3 Functional BEEF-vdw   \n",
      "count                                  46.000000           46.000000   \n",
      "mean                                    0.389375            0.422031   \n",
      "std                                     0.475997            0.406711   \n",
      "min                                    -0.449939           -0.461928   \n",
      "25%                                     0.127255            0.217150   \n",
      "50%                                     0.282661            0.373929   \n",
      "75%                                     0.520727            0.735442   \n",
      "max                                     1.883511            1.281530   \n",
      "\n",
      "                                             \n",
      "      Functional RPBE Functional SCAN-rVV10  \n",
      "count       46.000000             46.000000  \n",
      "mean         0.816380              0.036347  \n",
      "std          0.473159              0.437499  \n",
      "min         -0.256652             -0.741116  \n",
      "25%          0.557546             -0.243658  \n",
      "50%          0.780968              0.015946  \n",
      "75%          1.123158              0.323486  \n",
      "max          1.738629              0.953307  \n"
     ]
    }
   ],
   "source": [
    "# Read the files into dataframes\n",
    "file_1 = pd.read_excel('datasets/file_1.xlsx', header=[0,1])  # assuming first two rows are header\n",
    "file_1_old = pd.read_excel('datasets/file_1_old.xlsx', header=[0,1])\n",
    "# Select the 3rd, 4th, 5th and 6th columns\n",
    "# Assuming that columns are 0-indexed, 3rd, 4th, 5th and 6th columns correspond to indices 2, 3, 4, 5.\n",
    "file_1_selected = file_1.iloc[:, 2:6]\n",
    "file_1_old_selected = file_1_old.iloc[:, 2:6]\n",
    "# Compare the selected columns in the two dataframes\n",
    "comparison = file_1_selected.equals(file_1_old_selected)\n",
    "# Print the result\n",
    "print('The selected columns are identical:', comparison)\n",
    "print(file_1_selected.describe())\n",
    "print(file_1_old_selected.describe())"
   ]
  },
  {
   "cell_type": "code",
   "execution_count": 4,
   "id": "cefcde1f-cda5-4f8e-a0cc-4ada9e24a146",
   "metadata": {},
   "outputs": [],
   "source": [
    "# import pandas as pd\n",
    "\n",
    "# # Sample data\n",
    "# data = {\n",
    "#     'Column1': [1, -2, 3, -4],\n",
    "#     'Column2': [-1, 2, -3, 4],\n",
    "#     'Column3': [2, -2, 2, -2],\n",
    "#     'Column4': [-2, 2, -2, 2],\n",
    "# }\n",
    "\n",
    "# # This is just sample data; replace it with your dataframe\n",
    "# file_1_selected = pd.DataFrame(data)\n",
    "\n",
    "# # Compute the average of the absolute values\n",
    "# avg_abs_values = file_1_selected.abs().mean()\n",
    "\n",
    "# print(avg_abs_values)"
   ]
  },
  {
   "cell_type": "code",
   "execution_count": 10,
   "id": "e372dde0-0ecb-4871-a47b-cb10dcce2186",
   "metadata": {},
   "outputs": [
    {
     "name": "stdout",
     "output_type": "stream",
     "text": [
      "Referenced Pt(111) dG Energies  (eV), 800K  Functional PBE-D3        0.427707\n",
      "                                            Functional BEEF-vdw      0.462220\n",
      "                                            Functional RPBE          0.812393\n",
      "                                            Functional SCAN-rVV10    0.372611\n",
      "dtype: float64\n"
     ]
    }
   ],
   "source": [
    "avg_abs_values = file_1_selected.abs().mean()\n",
    "print(avg_abs_values)"
   ]
  },
  {
   "cell_type": "markdown",
   "id": "992cb387",
   "metadata": {},
   "source": [
    "#### FILE 2"
   ]
  },
  {
   "cell_type": "code",
   "execution_count": 4,
   "id": "e04dea5d",
   "metadata": {},
   "outputs": [],
   "source": [
    "# Read the files into dataframes\n",
    "file_2 = pd.read_excel('datasets/file_2.xlsx', header=[0])  # assuming first two rows are header\n",
    "file_2_old = pd.read_excel('datasets/file_2_old.xlsx', header=[0])"
   ]
  },
  {
   "cell_type": "code",
   "execution_count": 5,
   "id": "c3cac534",
   "metadata": {},
   "outputs": [
    {
     "name": "stdout",
     "output_type": "stream",
     "text": [
      "The selected columns are identical: False\n",
      "       CH3CH2CH3            CH3CHCH3             CH3CH2CH2          \n",
      "count          2000.000000          2000.000000          2000.000000\n",
      "mean              0.009627             0.011777             0.009302\n",
      "std               0.345283             0.351842             0.261266\n",
      "min              -1.139674            -1.161315            -0.828135\n",
      "25%              -0.219881            -0.224079            -0.167588\n",
      "50%               0.007417             0.013721             0.012022\n",
      "75%               0.244447             0.249224             0.182517\n",
      "max               1.308833             1.501977             1.052531\n",
      "         CH3CH2CH3     CH3CHCH3    CH3CH2CH2\n",
      "count  2000.000000  2000.000000  2000.000000\n",
      "mean      0.009898     0.012105     0.009630\n",
      "std       0.345961     0.352363     0.259983\n",
      "min      -1.116901    -1.186993    -0.833686\n",
      "25%      -0.219263    -0.230941    -0.166128\n",
      "50%       0.008391     0.011437     0.011963\n",
      "75%       0.242577     0.251851     0.184907\n",
      "max       1.310979     1.507659     1.058227\n"
     ]
    }
   ],
   "source": [
    "s, gap = 0, 3\n",
    "file_2_selected = file_2.iloc[:, s:s+gap]\n",
    "file_2_old_selected = file_2_old.iloc[:, s:s+gap]\n",
    "# Compare the selected columns in the two dataframes\n",
    "comparison = file_2_selected.equals(file_2_old_selected)\n",
    "# Print the result\n",
    "print('The selected columns are identical:', comparison)\n",
    "print(file_2_selected.describe())\n",
    "print(file_2_old_selected.describe())"
   ]
  },
  {
   "cell_type": "markdown",
   "id": "4ec37f8d",
   "metadata": {},
   "source": [
    "#### Generate Morgan fingerprints"
   ]
  },
  {
   "cell_type": "code",
   "execution_count": 6,
   "id": "ed0157e9",
   "metadata": {},
   "outputs": [],
   "source": [
    "from rdkit import Chem\n",
    "from rdkit.Chem import AllChem"
   ]
  },
  {
   "cell_type": "code",
   "execution_count": 7,
   "id": "699c5b20",
   "metadata": {},
   "outputs": [],
   "source": [
    "def generate_morgan_fingerprint(smiles_str, radius=2, nbits=24): ## how many nbits should be chosen? nbits=24, radius=2\n",
    "    \"\"\"Generate Morgan fingerprint from a SMILES string.\"\"\"\n",
    "    molecule = Chem.MolFromSmiles(smiles_str)\n",
    "    if molecule is None:\n",
    "        return None\n",
    "    morgan_fp = AllChem.GetMorganFingerprintAsBitVect(molecule, radius, nBits=nbits)\n",
    "    return list(morgan_fp)"
   ]
  },
  {
   "cell_type": "code",
   "execution_count": 8,
   "id": "68256f02",
   "metadata": {},
   "outputs": [
    {
     "name": "stdout",
     "output_type": "stream",
     "text": [
      "[1, 0, 0, 0, 0, 0, 0, 0, 0, 1, 0, 0, 0, 0, 0, 0, 0, 0, 0, 0, 0, 0, 1, 0]\n"
     ]
    }
   ],
   "source": [
    "# Test the function with example SMILES\n",
    "smiles_example = 'CCC'  # This is the SMILES for propane\n",
    "fp = generate_morgan_fingerprint(smiles_example)\n",
    "print(fp)"
   ]
  },
  {
   "cell_type": "code",
   "execution_count": 9,
   "id": "3cd26b2b",
   "metadata": {},
   "outputs": [],
   "source": [
    "## generate morgan fingerprints"
   ]
  },
  {
   "cell_type": "code",
   "execution_count": 10,
   "id": "05be892b",
   "metadata": {},
   "outputs": [
    {
     "name": "stdout",
     "output_type": "stream",
     "text": [
      "0 CCC\n",
      "[1, 0, 0, 0, 0, 0, 0, 0, 0, 1, 0, 0, 0, 0, 0, 0, 0, 0, 0, 0, 0, 0, 1, 0]\n",
      "3\n",
      "\n",
      "1 C[CH]C\n",
      "[0, 0, 0, 0, 1, 0, 1, 0, 0, 1, 0, 0, 0, 0, 0, 0, 0, 0, 0, 0, 1, 0, 0, 0]\n",
      "4\n",
      "\n",
      "2 CC[CH2]\n",
      "[1, 0, 0, 0, 0, 0, 0, 0, 0, 1, 0, 0, 0, 0, 1, 0, 0, 0, 0, 0, 0, 1, 1, 0]\n",
      "5\n",
      "\n",
      "3 CC=C\n",
      "[0, 0, 0, 0, 1, 1, 1, 0, 0, 1, 0, 0, 0, 0, 0, 0, 1, 0, 0, 0, 0, 0, 1, 0]\n",
      "6\n",
      "\n",
      "4 CC[CH]\n",
      "[1, 0, 0, 1, 0, 0, 0, 0, 0, 1, 0, 0, 0, 1, 0, 0, 0, 0, 0, 0, 0, 1, 1, 0]\n",
      "6\n",
      "\n",
      "5 [CH2]C[CH2]\n",
      "[1, 1, 0, 0, 0, 0, 0, 0, 0, 0, 0, 0, 0, 0, 1, 0, 0, 0, 0, 0, 0, 0, 1, 0]\n",
      "4\n",
      "\n",
      "6 C[C]C\n",
      "[0, 0, 0, 0, 0, 0, 0, 0, 0, 1, 0, 1, 0, 0, 0, 0, 1, 0, 1, 0, 0, 0, 0, 0]\n",
      "4\n",
      "\n",
      "7 CC[C]\n",
      "[1, 0, 0, 0, 0, 0, 0, 0, 0, 1, 0, 1, 0, 0, 0, 0, 0, 1, 0, 0, 0, 1, 1, 0]\n",
      "6\n",
      "\n",
      "8 [CH2]C[CH]\n",
      "[1, 0, 0, 1, 0, 0, 0, 0, 0, 0, 0, 0, 0, 0, 1, 0, 0, 0, 0, 0, 0, 1, 1, 0]\n",
      "5\n",
      "\n",
      "9 C=C[CH2]\n",
      "[0, 0, 0, 0, 0, 1, 1, 0, 0, 0, 0, 0, 0, 0, 0, 0, 1, 0, 0, 0, 1, 0, 1, 0]\n",
      "5\n",
      "\n",
      "10 CC=[CH]\n",
      "[0, 0, 0, 1, 1, 1, 1, 0, 0, 1, 0, 0, 0, 0, 0, 0, 0, 0, 0, 0, 0, 0, 0, 0]\n",
      "5\n",
      "\n",
      "11 C[C]=C\n",
      "[0, 0, 0, 0, 0, 0, 0, 1, 0, 1, 0, 0, 0, 0, 0, 0, 1, 1, 1, 0, 0, 0, 1, 0]\n",
      "6\n",
      "\n",
      "12 CC=[C]\n",
      "[0, 0, 0, 1, 1, 0, 1, 0, 0, 1, 0, 0, 0, 0, 0, 0, 0, 0, 0, 0, 0, 1, 1, 0]\n",
      "6\n",
      "\n",
      "13 [CH2]C[C]\n",
      "[1, 0, 0, 0, 0, 0, 0, 0, 0, 0, 0, 0, 0, 0, 1, 0, 1, 1, 0, 0, 0, 1, 1, 0]\n",
      "6\n",
      "\n",
      "14 C=C[CH]\n",
      "[0, 0, 0, 1, 0, 1, 1, 0, 0, 0, 0, 0, 0, 0, 1, 0, 0, 0, 0, 0, 0, 0, 1, 1]\n",
      "6\n",
      "\n",
      "15 [CH]C[CH]\n",
      "[1, 0, 0, 1, 0, 0, 0, 0, 0, 0, 0, 0, 0, 0, 0, 1, 0, 0, 0, 0, 0, 1, 0, 0]\n",
      "4\n",
      "\n",
      "16 C=C=C\n",
      "[0, 0, 0, 0, 0, 0, 0, 0, 0, 0, 0, 0, 1, 0, 0, 0, 0, 1, 1, 0, 0, 0, 1, 0]\n",
      "4\n",
      "\n",
      "17 CC#C\n",
      "[0, 0, 0, 1, 0, 0, 0, 0, 0, 1, 0, 0, 1, 0, 1, 0, 1, 0, 1, 0, 0, 0, 0, 0]\n",
      "6\n",
      "\n",
      "18 CC#[C]\n",
      "[0, 0, 0, 0, 0, 0, 1, 0, 0, 1, 1, 0, 0, 0, 0, 0, 1, 0, 1, 0, 0, 1, 0, 0]\n",
      "6\n",
      "\n",
      "19 C=C[C]\n",
      "[0, 0, 0, 0, 0, 1, 1, 1, 0, 0, 0, 0, 0, 0, 0, 0, 0, 0, 0, 0, 0, 1, 1, 1]\n",
      "6\n",
      "\n",
      "20 [CH]C[C]\n",
      "[1, 1, 0, 1, 0, 0, 0, 0, 0, 0, 0, 0, 0, 0, 0, 0, 0, 1, 0, 0, 0, 1, 0, 0]\n",
      "5\n",
      "\n",
      "21 [CH]=C[CH]\n",
      "[0, 0, 0, 1, 0, 0, 1, 0, 0, 0, 0, 0, 0, 0, 0, 0, 0, 0, 0, 0, 0, 0, 0, 1]\n",
      "3\n",
      "\n",
      "22 C=C=[CH]\n",
      "[0, 0, 0, 1, 0, 0, 0, 0, 0, 0, 1, 0, 0, 0, 0, 0, 0, 1, 1, 0, 0, 0, 1, 0]\n",
      "5\n",
      "\n",
      "23 C=C=[C]\n",
      "[0, 0, 0, 0, 0, 0, 0, 0, 0, 0, 1, 0, 0, 1, 0, 0, 0, 1, 1, 0, 0, 1, 1, 0]\n",
      "6\n",
      "\n",
      "24 [CH]=C[C]\n",
      "[0, 0, 0, 1, 0, 0, 1, 0, 0, 0, 0, 0, 0, 0, 0, 0, 1, 0, 0, 0, 0, 1, 0, 1]\n",
      "5\n",
      "\n",
      "25 [C]C[C]\n",
      "[1, 0, 0, 0, 0, 0, 0, 0, 0, 0, 0, 0, 0, 0, 0, 0, 0, 1, 0, 0, 0, 1, 0, 1]\n",
      "4\n",
      "\n",
      "26 [CH]=C=[CH]\n",
      "[0, 0, 0, 1, 0, 0, 0, 1, 0, 0, 0, 0, 0, 0, 0, 0, 0, 0, 1, 0, 0, 0, 0, 0]\n",
      "3\n",
      "\n",
      "27 [C]C=[C]\n",
      "[0, 0, 0, 0, 0, 0, 1, 0, 0, 0, 0, 0, 0, 0, 0, 0, 0, 0, 0, 0, 0, 1, 1, 1]\n",
      "4\n",
      "\n",
      "28 [CH]=C=[C]\n",
      "[0, 0, 0, 1, 0, 0, 0, 0, 0, 0, 1, 0, 0, 0, 1, 0, 0, 0, 1, 0, 0, 1, 0, 0]\n",
      "5\n",
      "\n",
      "29 [C]=C=[C]\n",
      "[0, 0, 0, 0, 0, 0, 0, 0, 0, 0, 1, 0, 0, 0, 0, 0, 0, 0, 1, 0, 1, 1, 0, 0]\n",
      "4\n",
      "\n",
      "30 CC\n",
      "[0, 0, 0, 1, 0, 0, 0, 0, 0, 1, 0, 0, 0, 0, 0, 0, 0, 0, 0, 0, 0, 0, 0, 0]\n",
      "2\n",
      "\n",
      "31 C[CH2]\n",
      "[0, 0, 0, 0, 0, 0, 0, 0, 0, 1, 0, 0, 1, 0, 0, 0, 0, 0, 0, 0, 0, 0, 1, 0]\n",
      "3\n",
      "\n",
      "32 C[CH]\n",
      "[0, 0, 0, 1, 0, 0, 0, 0, 0, 1, 0, 0, 0, 0, 0, 0, 0, 0, 1, 0, 0, 0, 0, 0]\n",
      "3\n",
      "\n",
      "33 C[C]\n",
      "[0, 0, 0, 0, 0, 0, 0, 1, 0, 1, 0, 0, 0, 0, 0, 0, 0, 0, 0, 0, 0, 1, 0, 0]\n",
      "3\n",
      "\n",
      "34 C=C\n",
      "[0, 0, 0, 0, 0, 0, 0, 0, 0, 0, 0, 0, 0, 0, 0, 0, 0, 0, 0, 0, 0, 1, 1, 0]\n",
      "2\n",
      "\n",
      "35 C=[CH]\n",
      "[0, 0, 0, 1, 0, 0, 1, 0, 0, 0, 0, 0, 0, 0, 0, 0, 0, 0, 0, 0, 0, 0, 1, 0]\n",
      "3\n",
      "\n",
      "36 C=[C]\n",
      "[0, 0, 0, 0, 0, 0, 0, 0, 0, 0, 0, 0, 1, 0, 0, 0, 0, 0, 0, 0, 0, 1, 1, 0]\n",
      "3\n",
      "\n",
      "37 C#C\n",
      "[0, 0, 0, 1, 0, 0, 0, 0, 0, 0, 0, 0, 0, 0, 0, 1, 0, 0, 0, 0, 0, 0, 0, 0]\n",
      "2\n",
      "\n",
      "38 C#[C]\n",
      "[0, 0, 0, 1, 0, 0, 0, 0, 0, 0, 0, 0, 0, 0, 0, 1, 0, 0, 0, 0, 0, 1, 0, 0]\n",
      "3\n",
      "\n",
      "39 [C]#[C]\n",
      "[0, 0, 0, 0, 0, 0, 0, 0, 0, 0, 0, 0, 0, 0, 0, 0, 0, 0, 0, 0, 0, 1, 0, 0]\n",
      "1\n",
      "\n",
      "40 C\n",
      "[0, 0, 0, 0, 0, 0, 0, 0, 0, 0, 0, 0, 0, 0, 0, 0, 1, 0, 0, 0, 0, 0, 0, 0]\n",
      "1\n",
      "\n",
      "41 [CH3]\n",
      "[0, 0, 0, 0, 0, 0, 0, 1, 0, 0, 0, 0, 0, 0, 0, 0, 0, 0, 0, 0, 0, 0, 0, 0]\n",
      "1\n",
      "\n",
      "42 [CH2]\n",
      "[0, 0, 0, 0, 0, 0, 0, 0, 0, 0, 0, 1, 0, 0, 0, 0, 0, 0, 0, 0, 0, 0, 0, 0]\n",
      "1\n",
      "\n",
      "43 [CH]\n",
      "[0, 0, 0, 0, 1, 0, 0, 0, 0, 0, 0, 0, 0, 0, 0, 0, 0, 0, 0, 0, 0, 0, 0, 0]\n",
      "1\n",
      "\n",
      "44 [C]\n",
      "[0, 0, 0, 0, 0, 0, 0, 0, 1, 0, 0, 0, 0, 0, 0, 0, 0, 0, 0, 0, 0, 0, 0, 0]\n",
      "1\n",
      "\n",
      "45 [H]\n",
      "[0, 0, 0, 0, 0, 0, 0, 0, 0, 0, 0, 0, 0, 0, 0, 0, 0, 1, 0, 0, 0, 0, 0, 0]\n",
      "1\n",
      "\n"
     ]
    },
    {
     "name": "stderr",
     "output_type": "stream",
     "text": [
      "[23:19:41] WARNING: not removing hydrogen atom without neighbors\n"
     ]
    }
   ],
   "source": [
    "list_smiles = list(file_1.iloc[:, 1])\n",
    "for ismiles, smiles in enumerate(list_smiles):\n",
    "    fp = generate_morgan_fingerprint(smiles)\n",
    "    print(ismiles, smiles)\n",
    "    print(fp)\n",
    "    print(sum(fp))\n",
    "    print()"
   ]
  },
  {
   "cell_type": "code",
   "execution_count": 11,
   "id": "ac705448",
   "metadata": {},
   "outputs": [],
   "source": [
    "## check if generates same fingerprints for different smiles"
   ]
  },
  {
   "cell_type": "code",
   "execution_count": 12,
   "id": "1ebdec88",
   "metadata": {},
   "outputs": [
    {
     "name": "stdout",
     "output_type": "stream",
     "text": [
      "1035 0\n"
     ]
    },
    {
     "name": "stderr",
     "output_type": "stream",
     "text": [
      "[23:20:09] WARNING: not removing hydrogen atom without neighbors\n"
     ]
    }
   ],
   "source": [
    "fingerprints = [generate_morgan_fingerprint(smiles) for smiles in list_smiles]\n",
    "c0, c1 = 0, 0\n",
    "# Check for identical fingerprints\n",
    "for i in range(len(fingerprints)):\n",
    "    for j in range(i+1, len(fingerprints)):\n",
    "        if fingerprints[i] == fingerprints[j]:\n",
    "            print(f\"Fingerprints for SMILES {i} ({list_smiles[i]}) and SMILES {j} ({list_smiles[j]}) are identical.\")\n",
    "            c1+=1\n",
    "        else:\n",
    "            c0+=1\n",
    "print(c0, c1)"
   ]
  },
  {
   "cell_type": "code",
   "execution_count": null,
   "id": "ebd58f68",
   "metadata": {},
   "outputs": [],
   "source": []
  }
 ],
 "metadata": {
  "kernelspec": {
   "display_name": "Python 3 (ipykernel)",
   "language": "python",
   "name": "python3"
  },
  "language_info": {
   "codemirror_mode": {
    "name": "ipython",
    "version": 3
   },
   "file_extension": ".py",
   "mimetype": "text/x-python",
   "name": "python",
   "nbconvert_exporter": "python",
   "pygments_lexer": "ipython3",
   "version": "3.7.12"
  }
 },
 "nbformat": 4,
 "nbformat_minor": 5
}
