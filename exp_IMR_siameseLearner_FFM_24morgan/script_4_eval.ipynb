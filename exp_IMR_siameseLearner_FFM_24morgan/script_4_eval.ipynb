{
 "cells": [
  {
   "cell_type": "code",
   "execution_count": 1,
   "metadata": {},
   "outputs": [],
   "source": [
    "## main_1: load result\n",
    "\n",
    "import pickle as pk\n",
    "import numpy as np\n",
    "import csv\n",
    "num_trials = 10 ## should be 10\n",
    "list_env = [0,1,2,3] ## should be [0,1,2,3,4,5]"
   ]
  },
  {
   "cell_type": "code",
   "execution_count": 2,
   "metadata": {},
   "outputs": [],
   "source": [
    "d_result = {}\n",
    "list_d_result = []\n",
    "for trial_no in range(num_trials):\n",
    "    for env_no in list_env: \n",
    "        with open('datasets/' + 'd_result_' + str(trial_no) + '_' + str(env_no) + '.pickle', 'rb') as handle:\n",
    "            d = pk.load(handle)\n",
    "            list_d_result.append(d)\n",
    "            d_result.update(d)"
   ]
  },
  {
   "cell_type": "code",
   "execution_count": 3,
   "metadata": {},
   "outputs": [
    {
     "data": {
      "text/plain": [
       "600"
      ]
     },
     "execution_count": 3,
     "metadata": {},
     "output_type": "execute_result"
    }
   ],
   "source": [
    "len(list(d_result.keys())) ## trials 10 X envs 6 X model (2+30) X 5 algs == 9600"
   ]
  },
  {
   "cell_type": "code",
   "execution_count": 4,
   "metadata": {},
   "outputs": [],
   "source": [
    "d_env_no_vs_env_name = {\n",
    "    0: 'PBE-D3',\n",
    "    1: 'BEEF-vdw',\n",
    "    2: 'RPBE',\n",
    "    3: 'scan-rVV10'\n",
    "}\n",
    "list_line = [['env_no (env_name)', 'alg', 'model_name', 'mean ± std']]\n",
    "d_line = {}\n",
    "d_env_alg_vs_siamese = {}\n",
    "for env_no in list_env: ## change_2:\n",
    "    d_line[env_no] = {}\n",
    "    d_env_alg_vs_siamese[env_no] = {}\n",
    "    for alg in ['ridge','elastic','krr','svr']: ## ['ridge','lasso','elastic','krr','svr']:\n",
    "        d_line[env_no][alg] = {}\n",
    "        d_env_alg_vs_siamese[env_no][alg] = None\n",
    "        list_model_name = ['regular', 'PCA', 'Siamese'] \n",
    "        for model_name in list_model_name:\n",
    "            list_result = []\n",
    "            for trial_no in range(num_trials):\n",
    "                key = (str(trial_no), str(env_no), str(model_name), str(alg))\n",
    "                result = d_result[key]\n",
    "                list_result.append(result)\n",
    "            mean, std = np.mean(list_result), np.std(list_result)\n",
    "            _mean_std = '{:.2f} ± {:.2f}'.format(mean, std)\n",
    "            line = [str(env_no) + ' (' + str(d_env_no_vs_env_name[env_no]) + ')', alg, model_name, _mean_std]\n",
    "            list_line.append(line)\n",
    "            \n",
    "            if model_name == 'regular':\n",
    "                d_line[env_no][alg]['regular'] = (mean, std)\n",
    "            elif model_name == 'PCA':\n",
    "                d_line[env_no][alg]['PCA'] = (mean, std)\n",
    "            else:\n",
    "                if 'Siamese' not in d_line[env_no][alg].keys():\n",
    "                    d_line[env_no][alg]['Siamese'] = (mean, std) \n",
    "                    d_env_alg_vs_siamese[env_no][alg] = model_name\n",
    "                else:\n",
    "                    raise Exception('Error!')"
   ]
  },
  {
   "cell_type": "code",
   "execution_count": 5,
   "metadata": {},
   "outputs": [],
   "source": [
    "# d_line"
   ]
  },
  {
   "cell_type": "code",
   "execution_count": 6,
   "metadata": {},
   "outputs": [],
   "source": [
    "list_row = []\n",
    "for env_no in list_env: ## change_2:\n",
    "\n",
    "    list_row.append(['env no: ' + str(env_no), '', '', ''])\n",
    "    list_row.append(['alg\\model', 'regular', 'PCA', 'Siamese'])\n",
    "    \n",
    "    for alg in ['ridge','elastic','krr','svr']: ## ['ridge','lasso','elastic','krr','svr']:\n",
    "        row = [alg]\n",
    "        for model_name in ['regular', 'PCA', 'Siamese']:\n",
    "            mean, std = d_line[env_no][alg][model_name]\n",
    "            _mean_std = '{:.2f} ± {:.2f}'.format(mean, std)\n",
    "            row.append(_mean_std)\n",
    "        list_row.append(row)  \n",
    "    list_row.append(['', '', '', ''])\n",
    "    list_row.append(['', '', '', ''])\n"
   ]
  },
  {
   "cell_type": "code",
   "execution_count": 7,
   "metadata": {},
   "outputs": [],
   "source": [
    "filename = \"datasets/result_v20_new_3to1by24_128_1.csv\"\n",
    "    \n",
    "with open(filename, 'w', newline='', encoding='utf-8') as csvfile: \n",
    "    csvwriter = csv.writer(csvfile) \n",
    "        \n",
    "    # # writing the fields \n",
    "    # csvwriter.writerow(fields)         \n",
    "    # writing the data rows \n",
    "    csvwriter.writerows(list_row)"
   ]
  },
  {
   "cell_type": "code",
   "execution_count": 8,
   "metadata": {},
   "outputs": [
    {
     "data": {
      "text/plain": [
       "[['env no: 0', '', '', ''],\n",
       " ['alg\\\\model', 'regular', 'PCA', 'Siamese'],\n",
       " ['ridge', '0.34 ± 0.05', '0.33 ± 0.05', '0.34 ± 0.11'],\n",
       " ['elastic', '0.32 ± 0.05', '0.31 ± 0.05', '0.25 ± 0.04'],\n",
       " ['krr', '0.31 ± 0.05', '0.33 ± 0.07', '0.28 ± 0.05'],\n",
       " ['svr', '0.31 ± 0.05', '0.31 ± 0.05', '0.28 ± 0.06'],\n",
       " ['', '', '', ''],\n",
       " ['', '', '', ''],\n",
       " ['env no: 1', '', '', ''],\n",
       " ['alg\\\\model', 'regular', 'PCA', 'Siamese'],\n",
       " ['ridge', '0.34 ± 0.04', '0.34 ± 0.04', '0.11 ± 0.04'],\n",
       " ['elastic', '0.33 ± 0.03', '0.34 ± 0.04', '0.11 ± 0.04'],\n",
       " ['krr', '0.33 ± 0.04', '0.34 ± 0.04', '0.10 ± 0.03'],\n",
       " ['svr', '0.33 ± 0.05', '0.32 ± 0.05', '0.10 ± 0.03'],\n",
       " ['', '', '', ''],\n",
       " ['', '', '', ''],\n",
       " ['env no: 2', '', '', ''],\n",
       " ['alg\\\\model', 'regular', 'PCA', 'Siamese'],\n",
       " ['ridge', '0.37 ± 0.06', '0.37 ± 0.06', '0.18 ± 0.03'],\n",
       " ['elastic', '0.37 ± 0.05', '0.38 ± 0.05', '0.17 ± 0.03'],\n",
       " ['krr', '0.38 ± 0.05', '0.39 ± 0.05', '0.17 ± 0.04'],\n",
       " ['svr', '0.38 ± 0.06', '0.38 ± 0.06', '0.17 ± 0.04'],\n",
       " ['', '', '', ''],\n",
       " ['', '', '', ''],\n",
       " ['env no: 3', '', '', ''],\n",
       " ['alg\\\\model', 'regular', 'PCA', 'Siamese'],\n",
       " ['ridge', '0.39 ± 0.05', '0.39 ± 0.05', '0.22 ± 0.05'],\n",
       " ['elastic', '0.40 ± 0.03', '0.40 ± 0.04', '0.20 ± 0.06'],\n",
       " ['krr', '0.39 ± 0.04', '0.39 ± 0.03', '0.18 ± 0.03'],\n",
       " ['svr', '0.39 ± 0.05', '0.39 ± 0.05', '0.19 ± 0.04'],\n",
       " ['', '', '', ''],\n",
       " ['', '', '', '']]"
      ]
     },
     "execution_count": 8,
     "metadata": {},
     "output_type": "execute_result"
    }
   ],
   "source": [
    "list_row"
   ]
  },
  {
   "cell_type": "code",
   "execution_count": null,
   "metadata": {},
   "outputs": [],
   "source": []
  },
  {
   "cell_type": "code",
   "execution_count": null,
   "metadata": {},
   "outputs": [],
   "source": []
  },
  {
   "cell_type": "code",
   "execution_count": null,
   "metadata": {},
   "outputs": [],
   "source": []
  }
 ],
 "metadata": {
  "kernelspec": {
   "display_name": "Python 3",
   "language": "python",
   "name": "python3"
  },
  "language_info": {
   "codemirror_mode": {
    "name": "ipython",
    "version": 3
   },
   "file_extension": ".py",
   "mimetype": "text/x-python",
   "name": "python",
   "nbconvert_exporter": "python",
   "pygments_lexer": "ipython3",
   "version": "3.7.6"
  }
 },
 "nbformat": 4,
 "nbformat_minor": 4
}
