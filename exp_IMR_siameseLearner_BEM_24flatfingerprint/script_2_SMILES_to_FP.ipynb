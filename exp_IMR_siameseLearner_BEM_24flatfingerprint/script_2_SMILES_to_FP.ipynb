{
 "cells": [
  {
   "cell_type": "code",
   "execution_count": 1,
   "metadata": {
    "tags": []
   },
   "outputs": [],
   "source": [
    "import utils\n",
    "import pandas as pd\n",
    "import numpy as np"
   ]
  },
  {
   "cell_type": "code",
   "execution_count": 2,
   "metadata": {
    "tags": []
   },
   "outputs": [],
   "source": [
    "file_name = 'datasets/smiles.csv'\n",
    "df = pd.read_csv(file_name, sep=\",\", header=None) \n",
    "m = df.values\n",
    "smiles = [row[2] for row in m] "
   ]
  },
  {
   "cell_type": "code",
   "execution_count": 3,
   "metadata": {
    "tags": []
   },
   "outputs": [
    {
     "name": "stdout",
     "output_type": "stream",
     "text": [
      "C=C=[C-1]\n",
      "loop 2, atom C, num of H atoms 2, charge 0, terC True\n",
      "loop 4, atom C, num of H atoms 0, charge 0, terC False\n",
      "loop 9, atom C, num of H atoms 1, charge 1, terC True\n",
      "[3. 3. 0. 0. 0. 2. 1. 0. 0. 3. 0. 0. 0. 0. 1. 1. 0. 0. 0. 0. 0. 0. 0. 0.\n",
      " 2. 0.]\n"
     ]
    }
   ],
   "source": [
    "print(smiles[22])\n",
    "print(utils.ywq_readSmilesToFingerprints(smiles[22]))"
   ]
  },
  {
   "cell_type": "code",
   "execution_count": 4,
   "metadata": {
    "tags": []
   },
   "outputs": [
    {
     "name": "stdout",
     "output_type": "stream",
     "text": [
      "[C-1]=C=[C-1]\n",
      "loop 6, atom C, num of H atoms 1, charge 1, terC True\n",
      "loop 8, atom C, num of H atoms 0, charge 0, terC False\n",
      "loop 13, atom C, num of H atoms 1, charge 1, terC True\n",
      "[2. 3. 0. 0. 0. 1. 2. 0. 0. 2. 0. 0. 0. 0. 0. 2. 0. 0. 0. 0. 0. 0. 0. 0.\n",
      " 2. 0.]\n"
     ]
    }
   ],
   "source": [
    "print(smiles[26])\n",
    "print(utils.ywq_readSmilesToFingerprints(smiles[26]))"
   ]
  },
  {
   "cell_type": "code",
   "execution_count": null,
   "metadata": {},
   "outputs": [],
   "source": []
  },
  {
   "cell_type": "code",
   "execution_count": 5,
   "metadata": {
    "tags": []
   },
   "outputs": [],
   "source": [
    "def get_embed_from_smiles(smiles):\n",
    "    list_emb = []\n",
    "    for i, s1 in enumerate(smiles):\n",
    "        \n",
    "        #######wenqiang modification\n",
    "        #to skip single H and O atom\n",
    "        vec1 = np.zeros(26)\n",
    "        if s1 =='[H]':\n",
    "            vec1[0]=1\n",
    "            list_emb.append(vec1)\n",
    "            continue\n",
    "        if s1 == '[O-2]':\n",
    "            vec1[2]=1\n",
    "            vec1[3]=1\n",
    "            list_emb.append(vec1)\n",
    "            continue\n",
    "        #######\n",
    "        \n",
    "        try:\n",
    "            #print('before conversion', s1)\n",
    "            #s2 = utils.convertNewSmilesToOldSmiles(s1)\n",
    "            #print('after conversion: ', s2)\n",
    "            s3 = utils.ywq_readSmilesToFingerprints(s1)\n",
    "            print()\n",
    "        except Exception as e:\n",
    "            print(i, e)\n",
    "            s3 = ['-'] * 26\n",
    "        list_emb.append(s3)    \n",
    "    return np.array(list_emb)"
   ]
  },
  {
   "cell_type": "code",
   "execution_count": 6,
   "metadata": {
    "tags": []
   },
   "outputs": [
    {
     "name": "stdout",
     "output_type": "stream",
     "text": [
      "loop 1, atom C, num of H atoms 3, charge 0, terC True\n",
      "loop 2, atom C, num of H atoms 2, charge 0, terC False\n",
      "loop 3, atom C, num of H atoms 3, charge 0, terC True\n",
      "\n",
      "loop 1, atom C, num of H atoms 3, charge 0, terC True\n",
      "loop 6, atom C, num of H atoms 1, charge 1, terC False\n",
      "loop 7, atom C, num of H atoms 3, charge 0, terC True\n",
      "\n",
      "loop 1, atom C, num of H atoms 3, charge 0, terC True\n",
      "loop 2, atom C, num of H atoms 2, charge 0, terC False\n",
      "loop 7, atom C, num of H atoms 2, charge 1, terC True\n",
      "\n",
      "loop 1, atom C, num of H atoms 3, charge 0, terC True\n",
      "loop 3, atom C, num of H atoms 1, charge 0, terC False\n",
      "loop 4, atom C, num of H atoms 2, charge 0, terC True\n",
      "\n",
      "loop 1, atom C, num of H atoms 3, charge 0, terC True\n",
      "loop 2, atom C, num of H atoms 2, charge 0, terC False\n",
      "loop 7, atom C, num of H atoms 1, charge 2, terC True\n",
      "\n",
      "loop 5, atom C, num of H atoms 2, charge 1, terC True\n",
      "loop 6, atom C, num of H atoms 2, charge 0, terC False\n",
      "loop 11, atom C, num of H atoms 2, charge 1, terC True\n",
      "\n",
      "loop 1, atom C, num of H atoms 3, charge 0, terC True\n",
      "loop 6, atom C, num of H atoms 0, charge 2, terC False\n",
      "loop 7, atom C, num of H atoms 3, charge 0, terC True\n",
      "\n",
      "loop 1, atom C, num of H atoms 3, charge 0, terC True\n",
      "loop 2, atom C, num of H atoms 2, charge 0, terC False\n",
      "loop 7, atom C, num of H atoms 0, charge 3, terC True\n",
      "\n",
      "loop 5, atom C, num of H atoms 2, charge 1, terC True\n",
      "loop 6, atom C, num of H atoms 2, charge 0, terC False\n",
      "loop 11, atom C, num of H atoms 1, charge 2, terC True\n",
      "\n",
      "loop 2, atom C, num of H atoms 2, charge 0, terC True\n",
      "loop 3, atom C, num of H atoms 1, charge 0, terC False\n",
      "loop 8, atom C, num of H atoms 2, charge 1, terC True\n",
      "\n",
      "loop 1, atom C, num of H atoms 3, charge 0, terC True\n",
      "loop 3, atom C, num of H atoms 1, charge 0, terC False\n",
      "loop 8, atom C, num of H atoms 1, charge 1, terC True\n",
      "\n",
      "loop 1, atom C, num of H atoms 3, charge 0, terC True\n",
      "loop 7, atom C, num of H atoms 0, charge 1, terC False\n",
      "loop 8, atom C, num of H atoms 2, charge 0, terC True\n",
      "\n",
      "loop 1, atom C, num of H atoms 3, charge 0, terC True\n",
      "loop 2, atom C, num of H atoms 2, charge 0, terC False\n",
      "loop 7, atom C, num of H atoms 1, charge 2, terC True\n",
      "\n",
      "loop 5, atom C, num of H atoms 2, charge 1, terC True\n",
      "loop 6, atom C, num of H atoms 2, charge 0, terC False\n",
      "loop 11, atom C, num of H atoms 0, charge 3, terC True\n",
      "\n",
      "loop 2, atom C, num of H atoms 2, charge 0, terC True\n",
      "loop 3, atom C, num of H atoms 1, charge 0, terC False\n",
      "loop 8, atom C, num of H atoms 1, charge 2, terC True\n",
      "\n",
      "loop 5, atom C, num of H atoms 1, charge 2, terC True\n",
      "loop 6, atom C, num of H atoms 2, charge 0, terC False\n",
      "loop 11, atom C, num of H atoms 1, charge 2, terC True\n",
      "\n",
      "loop 2, atom C, num of H atoms 2, charge 0, terC True\n",
      "loop 4, atom C, num of H atoms 0, charge 0, terC False\n",
      "loop 5, atom C, num of H atoms 2, charge 0, terC True\n",
      "\n",
      "loop 1, atom C, num of H atoms 3, charge 0, terC True\n",
      "loop 3, atom C, num of H atoms 0, charge 0, terC False\n",
      "loop 4, atom C, num of H atoms 1, charge 0, terC True\n",
      "\n",
      "loop 1, atom C, num of H atoms 3, charge 0, terC True\n",
      "loop 3, atom C, num of H atoms 0, charge 0, terC False\n",
      "loop 8, atom C, num of H atoms 0, charge 1, terC True\n",
      "\n",
      "loop 2, atom C, num of H atoms 2, charge 0, terC True\n",
      "loop 3, atom C, num of H atoms 1, charge 0, terC False\n",
      "loop 8, atom C, num of H atoms 0, charge 3, terC True\n",
      "\n",
      "loop 5, atom C, num of H atoms 1, charge 2, terC True\n",
      "loop 6, atom C, num of H atoms 2, charge 0, terC False\n",
      "loop 11, atom C, num of H atoms 0, charge 3, terC True\n",
      "\n",
      "loop 6, atom C, num of H atoms 1, charge 1, terC True\n",
      "loop 7, atom C, num of H atoms 1, charge 0, terC False\n",
      "loop 12, atom C, num of H atoms 1, charge 2, terC True\n",
      "\n",
      "loop 2, atom C, num of H atoms 2, charge 0, terC True\n",
      "loop 4, atom C, num of H atoms 0, charge 0, terC False\n",
      "loop 9, atom C, num of H atoms 1, charge 1, terC True\n",
      "\n",
      "loop 2, atom C, num of H atoms 2, charge 0, terC True\n",
      "loop 4, atom C, num of H atoms 0, charge 0, terC False\n",
      "loop 9, atom C, num of H atoms 0, charge 2, terC True\n",
      "\n",
      "loop 6, atom C, num of H atoms 1, charge 1, terC True\n",
      "loop 7, atom C, num of H atoms 1, charge 0, terC False\n",
      "loop 12, atom C, num of H atoms 0, charge 3, terC True\n",
      "\n",
      "loop 5, atom C, num of H atoms 0, charge 3, terC True\n",
      "loop 6, atom C, num of H atoms 2, charge 0, terC False\n",
      "loop 11, atom C, num of H atoms 0, charge 3, terC True\n",
      "\n",
      "loop 6, atom C, num of H atoms 1, charge 1, terC True\n",
      "loop 8, atom C, num of H atoms 0, charge 0, terC False\n",
      "loop 13, atom C, num of H atoms 1, charge 1, terC True\n",
      "\n",
      "loop 5, atom C, num of H atoms 0, charge 3, terC True\n",
      "loop 7, atom C, num of H atoms 1, charge 0, terC False\n",
      "loop 12, atom C, num of H atoms 0, charge 2, terC True\n",
      "\n",
      "loop 6, atom C, num of H atoms 1, charge 1, terC True\n",
      "loop 8, atom C, num of H atoms 0, charge 0, terC False\n",
      "loop 13, atom C, num of H atoms 0, charge 2, terC True\n",
      "\n",
      "loop 6, atom C, num of H atoms 0, charge 2, terC True\n",
      "loop 8, atom C, num of H atoms 0, charge 0, terC False\n",
      "loop 13, atom C, num of H atoms 0, charge 2, terC True\n",
      "\n",
      "loop 1, atom C, num of H atoms 3, charge 0, terC True\n",
      "loop 2, atom C, num of H atoms 3, charge 0, terC True\n",
      "\n",
      "loop 1, atom C, num of H atoms 3, charge 0, terC True\n",
      "loop 6, atom C, num of H atoms 2, charge 1, terC True\n",
      "\n",
      "loop 1, atom C, num of H atoms 3, charge 0, terC True\n",
      "loop 6, atom C, num of H atoms 1, charge 2, terC True\n",
      "\n",
      "loop 1, atom C, num of H atoms 3, charge 0, terC True\n",
      "loop 6, atom C, num of H atoms 0, charge 3, terC True\n",
      "\n",
      "loop 2, atom C, num of H atoms 2, charge 0, terC True\n",
      "loop 3, atom C, num of H atoms 2, charge 0, terC True\n",
      "\n",
      "loop 2, atom C, num of H atoms 2, charge 0, terC True\n",
      "loop 7, atom C, num of H atoms 1, charge 1, terC True\n",
      "\n",
      "loop 2, atom C, num of H atoms 2, charge 0, terC True\n",
      "loop 7, atom C, num of H atoms 0, charge 2, terC True\n",
      "\n",
      "loop 2, atom C, num of H atoms 1, charge 0, terC True\n",
      "loop 3, atom C, num of H atoms 1, charge 0, terC True\n",
      "\n",
      "loop 2, atom C, num of H atoms 1, charge 0, terC True\n",
      "loop 7, atom C, num of H atoms 0, charge 1, terC True\n",
      "\n",
      "loop 6, atom C, num of H atoms 0, charge 1, terC True\n",
      "loop 11, atom C, num of H atoms 0, charge 1, terC True\n",
      "\n",
      "loop 1, atom C, num of H atoms 3, charge 0, terC True\n",
      "\n",
      "loop 5, atom C, num of H atoms 2, charge 1, terC True\n",
      "\n",
      "loop 5, atom C, num of H atoms 1, charge 2, terC True\n",
      "\n",
      "loop 5, atom C, num of H atoms 0, charge 3, terC True\n",
      "\n",
      "loop 5, atom C, num of H atoms -1, charge 4, terC True\n",
      "\n"
     ]
    }
   ],
   "source": [
    "array_emb = get_embed_from_smiles(smiles) \n",
    "# feature_target = np.hstack((array_emb, m[:,[2]])) \n",
    "# print(feature_target.shape)\n",
    "# np.savetxt('datasets/embedding_vs_energy_env_0.csv', feature_target, delimiter = \",\", fmt='%s')\n",
    "#print(array_emb)"
   ]
  },
  {
   "cell_type": "code",
   "execution_count": 7,
   "metadata": {
    "tags": []
   },
   "outputs": [],
   "source": [
    "# [\n",
    "#     'H', 'C', 'O', 'O0', 'O1', 'C0', \n",
    "#     'C1', 'C2', 'C3', 'C-H', 'C-O0', 'C-O1', \n",
    "#     'C=O', 'O-H', 'C0-C0', 'C0-C1', 'C0-C2', 'C0-C3', \n",
    "#     'C1-C1', 'C1-C2', 'C1-C3', 'C2-C2', 'C2-C3', 'C3-C3', 'C=C', 'C#C'\n",
    "# ]"
   ]
  },
  {
   "cell_type": "code",
   "execution_count": 8,
   "metadata": {
    "tags": []
   },
   "outputs": [
    {
     "name": "stdout",
     "output_type": "stream",
     "text": [
      "[8. 3. 0. 0. 0. 3. 0. 0. 0. 8. 0. 0. 0. 0. 2. 0. 0. 0. 0. 0. 0. 0. 0. 0.\n",
      " 0. 0.]\n",
      "[7. 3. 0. 0. 0. 2. 1. 0. 0. 7. 0. 0. 0. 0. 0. 2. 0. 0. 0. 0. 0. 0. 0. 0.\n",
      " 0. 0.]\n",
      "[7. 3. 0. 0. 0. 2. 1. 0. 0. 7. 0. 0. 0. 0. 1. 1. 0. 0. 0. 0. 0. 0. 0. 0.\n",
      " 0. 0.]\n",
      "[6. 3. 0. 0. 0. 3. 0. 0. 0. 6. 0. 0. 0. 0. 2. 0. 0. 0. 0. 0. 0. 0. 0. 0.\n",
      " 1. 0.]\n",
      "[6. 3. 0. 0. 0. 2. 0. 1. 0. 6. 0. 0. 0. 0. 1. 0. 1. 0. 0. 0. 0. 0. 0. 0.\n",
      " 0. 0.]\n",
      "[6. 3. 0. 0. 0. 1. 2. 0. 0. 6. 0. 0. 0. 0. 0. 2. 0. 0. 0. 0. 0. 0. 0. 0.\n",
      " 0. 0.]\n",
      "[6. 3. 0. 0. 0. 2. 0. 1. 0. 6. 0. 0. 0. 0. 0. 0. 2. 0. 0. 0. 0. 0. 0. 0.\n",
      " 0. 0.]\n",
      "[5. 3. 0. 0. 0. 2. 0. 0. 1. 5. 0. 0. 0. 0. 1. 0. 0. 1. 0. 0. 0. 0. 0. 0.\n",
      " 0. 0.]\n",
      "[5. 3. 0. 0. 0. 1. 1. 1. 0. 5. 0. 0. 0. 0. 0. 1. 1. 0. 0. 0. 0. 0. 0. 0.\n",
      " 0. 0.]\n",
      "[5. 3. 0. 0. 0. 2. 1. 0. 0. 5. 0. 0. 0. 0. 1. 1. 0. 0. 0. 0. 0. 0. 0. 0.\n",
      " 1. 0.]\n",
      "[5. 3. 0. 0. 0. 2. 1. 0. 0. 5. 0. 0. 0. 0. 1. 1. 0. 0. 0. 0. 0. 0. 0. 0.\n",
      " 1. 0.]\n",
      "[5. 3. 0. 0. 0. 2. 1. 0. 0. 5. 0. 0. 0. 0. 0. 2. 0. 0. 0. 0. 0. 0. 0. 0.\n",
      " 1. 0.]\n",
      "[6. 3. 0. 0. 0. 2. 0. 1. 0. 6. 0. 0. 0. 0. 1. 0. 1. 0. 0. 0. 0. 0. 0. 0.\n",
      " 0. 0.]\n",
      "[4. 3. 0. 0. 0. 1. 1. 0. 1. 4. 0. 0. 0. 0. 0. 1. 0. 1. 0. 0. 0. 0. 0. 0.\n",
      " 0. 0.]\n",
      "[4. 3. 0. 0. 0. 2. 0. 1. 0. 4. 0. 0. 0. 0. 1. 0. 1. 0. 0. 0. 0. 0. 0. 0.\n",
      " 1. 0.]\n",
      "[4. 3. 0. 0. 0. 1. 0. 2. 0. 4. 0. 0. 0. 0. 0. 0. 2. 0. 0. 0. 0. 0. 0. 0.\n",
      " 0. 0.]\n",
      "[4. 3. 0. 0. 0. 3. 0. 0. 0. 4. 0. 0. 0. 0. 2. 0. 0. 0. 0. 0. 0. 0. 0. 0.\n",
      " 2. 0.]\n",
      "[4. 3. 0. 0. 0. 3. 0. 0. 0. 4. 0. 0. 0. 0. 2. 0. 0. 0. 0. 0. 0. 0. 0. 0.\n",
      " 0. 1.]\n",
      "[3. 3. 0. 0. 0. 2. 1. 0. 0. 3. 0. 0. 0. 0. 1. 1. 0. 0. 0. 0. 0. 0. 0. 0.\n",
      " 0. 1.]\n",
      "[3. 3. 0. 0. 0. 2. 0. 0. 1. 3. 0. 0. 0. 0. 1. 0. 0. 1. 0. 0. 0. 0. 0. 0.\n",
      " 1. 0.]\n",
      "[3. 3. 0. 0. 0. 1. 0. 1. 1. 3. 0. 0. 0. 0. 0. 0. 1. 1. 0. 0. 0. 0. 0. 0.\n",
      " 0. 0.]\n",
      "[3. 3. 0. 0. 0. 1. 1. 1. 0. 3. 0. 0. 0. 0. 0. 1. 1. 0. 0. 0. 0. 0. 0. 0.\n",
      " 1. 0.]\n",
      "[3. 3. 0. 0. 0. 2. 1. 0. 0. 3. 0. 0. 0. 0. 1. 1. 0. 0. 0. 0. 0. 0. 0. 0.\n",
      " 2. 0.]\n",
      "[2. 3. 0. 0. 0. 2. 0. 1. 0. 2. 0. 0. 0. 0. 1. 0. 1. 0. 0. 0. 0. 0. 0. 0.\n",
      " 2. 0.]\n",
      "[2. 3. 0. 0. 0. 1. 1. 0. 1. 2. 0. 0. 0. 0. 0. 1. 0. 1. 0. 0. 0. 0. 0. 0.\n",
      " 1. 0.]\n",
      "[2. 3. 0. 0. 0. 1. 0. 0. 2. 2. 0. 0. 0. 0. 0. 0. 0. 2. 0. 0. 0. 0. 0. 0.\n",
      " 0. 0.]\n",
      "[2. 3. 0. 0. 0. 1. 2. 0. 0. 2. 0. 0. 0. 0. 0. 2. 0. 0. 0. 0. 0. 0. 0. 0.\n",
      " 2. 0.]\n",
      "[1. 3. 0. 0. 0. 1. 0. 1. 1. 1. 0. 0. 0. 0. 0. 0. 1. 1. 0. 0. 0. 0. 0. 0.\n",
      " 1. 0.]\n",
      "[1. 3. 0. 0. 0. 1. 1. 1. 0. 1. 0. 0. 0. 0. 0. 1. 1. 0. 0. 0. 0. 0. 0. 0.\n",
      " 2. 0.]\n",
      "[0. 3. 0. 0. 0. 1. 0. 2. 0. 0. 0. 0. 0. 0. 0. 0. 2. 0. 0. 0. 0. 0. 0. 0.\n",
      " 2. 0.]\n",
      "[6. 2. 0. 0. 0. 2. 0. 0. 0. 6. 0. 0. 0. 0. 1. 0. 0. 0. 0. 0. 0. 0. 0. 0.\n",
      " 0. 0.]\n",
      "[5. 2. 0. 0. 0. 1. 1. 0. 0. 5. 0. 0. 0. 0. 0. 1. 0. 0. 0. 0. 0. 0. 0. 0.\n",
      " 0. 0.]\n",
      "[4. 2. 0. 0. 0. 1. 0. 1. 0. 4. 0. 0. 0. 0. 0. 0. 1. 0. 0. 0. 0. 0. 0. 0.\n",
      " 0. 0.]\n",
      "[3. 2. 0. 0. 0. 1. 0. 0. 1. 3. 0. 0. 0. 0. 0. 0. 0. 1. 0. 0. 0. 0. 0. 0.\n",
      " 0. 0.]\n",
      "[4. 2. 0. 0. 0. 2. 0. 0. 0. 4. 0. 0. 0. 0. 1. 0. 0. 0. 0. 0. 0. 0. 0. 0.\n",
      " 1. 0.]\n",
      "[3. 2. 0. 0. 0. 1. 1. 0. 0. 3. 0. 0. 0. 0. 0. 1. 0. 0. 0. 0. 0. 0. 0. 0.\n",
      " 1. 0.]\n",
      "[2. 2. 0. 0. 0. 1. 0. 1. 0. 2. 0. 0. 0. 0. 0. 0. 1. 0. 0. 0. 0. 0. 0. 0.\n",
      " 1. 0.]\n",
      "[2. 2. 0. 0. 0. 2. 0. 0. 0. 2. 0. 0. 0. 0. 1. 0. 0. 0. 0. 0. 0. 0. 0. 0.\n",
      " 0. 1.]\n",
      "[1. 2. 0. 0. 0. 1. 1. 0. 0. 1. 0. 0. 0. 0. 0. 1. 0. 0. 0. 0. 0. 0. 0. 0.\n",
      " 0. 1.]\n",
      "[0. 2. 0. 0. 0. 0. 2. 0. 0. 0. 0. 0. 0. 0. 0. 0. 0. 0. 1. 0. 0. 0. 0. 0.\n",
      " 0. 1.]\n",
      "[4. 1. 0. 0. 0. 1. 0. 0. 0. 4. 0. 0. 0. 0. 0. 0. 0. 0. 0. 0. 0. 0. 0. 0.\n",
      " 0. 0.]\n",
      "[3. 1. 0. 0. 0. 0. 1. 0. 0. 3. 0. 0. 0. 0. 0. 0. 0. 0. 0. 0. 0. 0. 0. 0.\n",
      " 0. 0.]\n",
      "[2. 1. 0. 0. 0. 0. 0. 1. 0. 2. 0. 0. 0. 0. 0. 0. 0. 0. 0. 0. 0. 0. 0. 0.\n",
      " 0. 0.]\n",
      "[1. 1. 0. 0. 0. 0. 0. 0. 1. 1. 0. 0. 0. 0. 0. 0. 0. 0. 0. 0. 0. 0. 0. 0.\n",
      " 0. 0.]\n",
      "[0. 1. 0. 0. 0. 0. 0. 0. 0. 0. 0. 0. 0. 0. 0. 0. 0. 0. 0. 0. 0. 0. 0. 0.\n",
      " 0. 0.]\n",
      "[1. 0. 0. 0. 0. 0. 0. 0. 0. 0. 0. 0. 0. 0. 0. 0. 0. 0. 0. 0. 0. 0. 0. 0.\n",
      " 0. 0.]\n"
     ]
    }
   ],
   "source": [
    "for i in range(len(smiles)):\n",
    "#    print('index: ', i)\n",
    "#    print(smiles[i])\n",
    "    print(array_emb[i])\n",
    "#    print(len(array_emb[i]))"
   ]
  },
  {
   "cell_type": "code",
   "execution_count": 15,
   "metadata": {},
   "outputs": [
    {
     "data": {
      "text/plain": [
       "624.0"
      ]
     },
     "execution_count": 15,
     "metadata": {},
     "output_type": "execute_result"
    }
   ],
   "source": [
    "np.sum(array_emb[:, :-2])"
   ]
  },
  {
   "cell_type": "code",
   "execution_count": 16,
   "metadata": {},
   "outputs": [],
   "source": [
    "a = pd.read_csv('datasets/embedding_vs_energy_env_0.csv', sep=\",\", header=None)\n",
    "b = a.values[:, :-1]"
   ]
  },
  {
   "cell_type": "code",
   "execution_count": 17,
   "metadata": {},
   "outputs": [
    {
     "data": {
      "text/plain": [
       "624.0"
      ]
     },
     "execution_count": 17,
     "metadata": {},
     "output_type": "execute_result"
    }
   ],
   "source": [
    "np.sum(b)"
   ]
  },
  {
   "cell_type": "code",
   "execution_count": null,
   "metadata": {},
   "outputs": [],
   "source": []
  },
  {
   "cell_type": "code",
   "execution_count": null,
   "metadata": {},
   "outputs": [],
   "source": []
  },
  {
   "cell_type": "code",
   "execution_count": null,
   "metadata": {},
   "outputs": [],
   "source": []
  }
 ],
 "metadata": {
  "kernelspec": {
   "display_name": "Python 3",
   "language": "python",
   "name": "python3"
  },
  "language_info": {
   "codemirror_mode": {
    "name": "ipython",
    "version": 3
   },
   "file_extension": ".py",
   "mimetype": "text/x-python",
   "name": "python",
   "nbconvert_exporter": "python",
   "pygments_lexer": "ipython3",
   "version": "3.7.6"
  }
 },
 "nbformat": 4,
 "nbformat_minor": 4
}
