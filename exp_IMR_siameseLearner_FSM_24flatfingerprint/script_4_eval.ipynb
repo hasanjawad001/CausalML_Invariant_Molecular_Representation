{
 "cells": [
  {
   "cell_type": "code",
   "execution_count": 1,
   "metadata": {},
   "outputs": [],
   "source": [
    "## main_1: load result\n",
    "\n",
    "import pickle as pk\n",
    "import numpy as np\n",
    "import csv\n",
    "num_trials = 10 \n",
    "num_envs = 4"
   ]
  },
  {
   "cell_type": "code",
   "execution_count": 2,
   "metadata": {},
   "outputs": [],
   "source": [
    "d_result = {}\n",
    "list_d_result = []\n",
    "for i in range(num_trials):\n",
    "    for file_no in [0, 1, 2, 3]: ## change_2: env 0 ==> file 0; env 1,2,3 ==> file 3, env 4 ==> file 4, env 5 ==> file 5\n",
    "        with open('datasets/' + 'd_result_' + str(i) + '_' + str(file_no) + '.pickle', 'rb') as handle:\n",
    "            d = pk.load(handle)\n",
    "            list_d_result.append(d)\n",
    "            d_result.update(d)"
   ]
  },
  {
   "cell_type": "code",
   "execution_count": 3,
   "metadata": {},
   "outputs": [
    {
     "data": {
      "text/plain": [
       "600"
      ]
     },
     "execution_count": 3,
     "metadata": {},
     "output_type": "execute_result"
    }
   ],
   "source": [
    "len(list(d_result.keys())) ## trials 10 X envs 4 X model 3 X 5 algs == 9600"
   ]
  },
  {
   "cell_type": "code",
   "execution_count": 4,
   "metadata": {},
   "outputs": [
    {
     "name": "stdout",
     "output_type": "stream",
     "text": [
      "0 0 0.42058566\n",
      "0 1 0.41200298\n",
      "0 2 0.41412732\n",
      "0 3 0.4930225\n",
      "1 0 0.29541332\n",
      "1 1 0.26415792\n",
      "1 2 0.33864123\n",
      "1 3 0.2907431\n",
      "2 0 0.19757026\n",
      "2 1 0.22277905\n",
      "2 2 0.26399532\n",
      "2 3 0.32162443\n",
      "3 0 0.35010374\n",
      "3 1 0.3908381\n",
      "3 2 0.48901534\n",
      "3 3 0.47869858\n",
      "4 0 0.41603473\n",
      "4 1 0.4489188\n",
      "4 2 0.46232086\n",
      "4 3 0.49285206\n",
      "5 0 0.40129834\n",
      "5 1 0.39106917\n",
      "5 2 0.29580173\n",
      "5 3 0.36554182\n",
      "6 0 0.27426094\n",
      "6 1 0.25008294\n",
      "6 2 0.2961534\n",
      "6 3 0.40946215\n",
      "7 0 0.22205842\n",
      "7 1 0.31284878\n",
      "7 2 0.32962677\n",
      "7 3 0.33557275\n",
      "8 0 0.30527502\n",
      "8 1 0.288986\n",
      "8 2 0.36516845\n",
      "8 3 0.35367393\n",
      "9 0 0.3318836\n",
      "9 1 0.4571868\n",
      "9 2 0.39556617\n",
      "9 3 0.43208802\n"
     ]
    }
   ],
   "source": [
    "# d_result\n",
    "for it in range(10):\n",
    "    for ie in range(4):\n",
    "        print(it, ie, d_result[str(it), str(ie), str('Siamese'), str('ridge')])"
   ]
  },
  {
   "cell_type": "code",
   "execution_count": 5,
   "metadata": {},
   "outputs": [],
   "source": [
    "d_env_no_vs_env_name = {\n",
    "    0: 'PBE-D3',\n",
    "    1: 'BEEF-vdw',\n",
    "    2: 'RPBE',\n",
    "    3: 'scan-rVV10',\n",
    "}\n",
    "list_line = [['env_no (env_name)', 'alg', 'model_name', 'mean ± std']]\n",
    "d_line = {}\n",
    "for env_no in [0,1,2,3]: ## change_2:\n",
    "    d_line[env_no] = {}\n",
    "    for alg in ['ridge','elastic','krr','svr']:\n",
    "        d_line[env_no][alg] = {}\n",
    "        list_model_name = ['regular', 'PCA', 'Siamese'] \n",
    "        # for _nhn in [128, 64, 32, 16, 8]:\n",
    "        #     for _lr in [1e-4, 1e-3, 1e-2]:\n",
    "        #         for _sc in [0, 1]:\n",
    "#         for _nhn in [128]:\n",
    "#             for _lr in [1e-2, 1e-3]:\n",
    "#                 for _sc in [0]:\n",
    "        \n",
    "#                     mn = 'Siamese_' + str(_nhn) + '_' + str(_lr) + '_' + str(_sc)\n",
    "#                     list_model_name.append(mn)\n",
    "        for model_name in list_model_name:\n",
    "            list_result = []\n",
    "            for trial_no in range(num_trials):\n",
    "                key = (str(trial_no), str(env_no), str(model_name), str(alg))\n",
    "                result = d_result[key]\n",
    "                list_result.append(result)\n",
    "            mean, std = np.mean(list_result), np.std(list_result)\n",
    "            _mean_std = '{:.2f} ± {:.2f}'.format(mean, std)\n",
    "            line = [str(env_no) + ' (' + str(d_env_no_vs_env_name[env_no]) + ')', alg, model_name, _mean_std]\n",
    "            list_line.append(line)\n",
    "            \n",
    "            if model_name == 'regular':\n",
    "                d_line[env_no][alg]['regular'] = (mean, std)\n",
    "            elif model_name == 'PCA':\n",
    "                d_line[env_no][alg]['PCA'] = (mean, std)\n",
    "            else:\n",
    "                if 'Siamese' not in d_line[env_no][alg].keys():\n",
    "                    d_line[env_no][alg]['Siamese'] = (mean, std)  \n",
    "                else:\n",
    "                    old_mean = d_line[env_no][alg]['Siamese'][0]\n",
    "                    if mean < old_mean:\n",
    "                        d_line[env_no][alg]['Siamese'] = (mean, std) ## update\n",
    "                    else:\n",
    "                        pass ## do not update"
   ]
  },
  {
   "cell_type": "code",
   "execution_count": 6,
   "metadata": {},
   "outputs": [],
   "source": [
    "list_row = []\n",
    "for env_no in [0,1,2,3]: ## change_2:\n",
    "\n",
    "    list_row.append(['env no: ' + str(env_no), '', '', ''])\n",
    "    list_row.append(['alg\\model', 'regular', 'PCA', 'Siamese'])\n",
    "    \n",
    "    for alg in ['ridge','elastic','krr','svr']:\n",
    "        row = [alg]\n",
    "        for model_name in ['regular', 'PCA', 'Siamese']:\n",
    "            mean, std = d_line[env_no][alg][model_name]\n",
    "            _mean_std = '{:.2f} ± {:.2f}'.format(mean, std)\n",
    "            row.append(_mean_std)\n",
    "        list_row.append(row)  \n",
    "    list_row.append(['', '', '', ''])\n",
    "    list_row.append(['', '', '', ''])\n"
   ]
  },
  {
   "cell_type": "code",
   "execution_count": 7,
   "metadata": {},
   "outputs": [],
   "source": [
    "filename = \"datasets/result_128_1_v3.csv\"\n",
    "    \n",
    "with open(filename, 'w', newline='', encoding='utf-8') as csvfile: \n",
    "    csvwriter = csv.writer(csvfile) \n",
    "        \n",
    "    # # writing the fields \n",
    "    # csvwriter.writerow(fields)         \n",
    "    # writing the data rows \n",
    "    csvwriter.writerows(list_row)"
   ]
  },
  {
   "cell_type": "code",
   "execution_count": null,
   "metadata": {},
   "outputs": [],
   "source": []
  },
  {
   "cell_type": "code",
   "execution_count": null,
   "metadata": {},
   "outputs": [],
   "source": []
  },
  {
   "cell_type": "code",
   "execution_count": null,
   "metadata": {},
   "outputs": [],
   "source": []
  },
  {
   "cell_type": "code",
   "execution_count": null,
   "metadata": {},
   "outputs": [],
   "source": []
  },
  {
   "cell_type": "code",
   "execution_count": null,
   "metadata": {},
   "outputs": [],
   "source": []
  }
 ],
 "metadata": {
  "kernelspec": {
   "display_name": "Python 3",
   "language": "python",
   "name": "python3"
  },
  "language_info": {
   "codemirror_mode": {
    "name": "ipython",
    "version": 3
   },
   "file_extension": ".py",
   "mimetype": "text/x-python",
   "name": "python",
   "nbconvert_exporter": "python",
   "pygments_lexer": "ipython3",
   "version": "3.7.6"
  }
 },
 "nbformat": 4,
 "nbformat_minor": 4
}
