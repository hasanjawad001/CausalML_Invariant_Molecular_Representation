{
 "cells": [
  {
   "cell_type": "code",
   "execution_count": 1,
   "id": "8a7363e7-1435-4e68-bac2-aad976b26379",
   "metadata": {},
   "outputs": [],
   "source": [
    "## 1. extract all slabs from ocp and cathub(mamun)\n",
    "## 2. generate slab descriptor with dimenet++\n",
    "## 3. extract all product from ocp and cathub(mamun)\n",
    "## 4. generate product descriptor with chEMBL\n",
    "## 5. run experiments-\n",
    "##    - (cathub, ocp) x (xgboost) x (original 1024+1024, pca ncomponents, imr ncomponents)\n",
    "##    - solves n^2 to n, solves descriptor generation for slab/surface"
   ]
  },
  {
   "cell_type": "code",
   "execution_count": 2,
   "id": "3e8a9175-ea23-447f-a41b-9ccc1e44e6c8",
   "metadata": {},
   "outputs": [],
   "source": [
    "import pickle\n",
    "import json\n",
    "from transformers import AutoTokenizer, AutoModel, pipeline\n",
    "import numpy as np\n",
    "from ocpmodels.common.relaxation.ase_utils import OCPCalculator\n",
    "from ase.constraints import FixAtoms\n",
    "from ase.build import add_adsorbate, molecule, surface\n",
    "import torch\n",
    "import pandas as pd"
   ]
  },
  {
   "cell_type": "code",
   "execution_count": 3,
   "id": "583a1f65-bae4-4239-a0a5-a1ece3c4aa30",
   "metadata": {},
   "outputs": [],
   "source": [
    "with open('datasets/reactions.pickle', 'rb') as f:\n",
    "    loaded_reactions = pickle.load(f)"
   ]
  },
  {
   "cell_type": "code",
   "execution_count": 4,
   "id": "399cf20d-c70e-4058-b142-76eb7ced2ad3",
   "metadata": {},
   "outputs": [],
   "source": [
    "#####################################################################\n",
    "## data from cathub\n",
    "#####################################################################"
   ]
  },
  {
   "cell_type": "code",
   "execution_count": 5,
   "id": "080c79be-eb14-4aff-b810-1701a9be135c",
   "metadata": {},
   "outputs": [
    {
     "name": "stdout",
     "output_type": "stream",
     "text": [
      "0\n",
      "20000\n",
      "40000\n",
      "60000\n",
      "80000\n"
     ]
    }
   ],
   "source": [
    "list_rinfo = []\n",
    "for i, react in enumerate(loaded_reactions):\n",
    "    if i%20000==0: \n",
    "        print(i)\n",
    "    try:\n",
    "        d_prod = json.loads(react['products'])\n",
    "        if len(d_prod.keys()) != 1:\n",
    "            continue\n",
    "        sc = react['surfaceComposition']\n",
    "        facet = react['facet']\n",
    "        star = react['reactionSystems']['star']\n",
    "        pkey = list(d_prod.keys())[0].replace('star', '')\n",
    "        pval = d_prod[list(d_prod.keys())[0]]\n",
    "        re = react['reactionEnergy']\n",
    "        nre = re/pval\n",
    "        rinfo = {\n",
    "            'sc': sc,\n",
    "            'slab': star,\n",
    "            'star': str(star.symbols),           \n",
    "            'facet': facet,\n",
    "            'pkey': pkey,\n",
    "            'pval': pval,            \n",
    "            're': re,\n",
    "            'nre': nre,                        \n",
    "        }\n",
    "        list_rinfo.append(rinfo)\n",
    "    except Exception as e:\n",
    "        pass"
   ]
  },
  {
   "cell_type": "code",
   "execution_count": 6,
   "id": "ebe045d2-6967-4d50-9199-e664aebca879",
   "metadata": {},
   "outputs": [
    {
     "data": {
      "text/plain": [
       "45136"
      ]
     },
     "execution_count": 6,
     "metadata": {},
     "output_type": "execute_result"
    }
   ],
   "source": [
    "len(list_rinfo)"
   ]
  },
  {
   "cell_type": "code",
   "execution_count": 7,
   "id": "60ede7a7-2e2c-4627-b739-a76f571c9862",
   "metadata": {},
   "outputs": [],
   "source": [
    "filtered_dict = {}\n",
    "for item in list_rinfo:\n",
    "    key = (item['star'], item['facet'], item['pkey'])\n",
    "    if key not in filtered_dict or item['nre'] < filtered_dict[key]['nre']:\n",
    "        filtered_dict[key] = item\n",
    "list_rinfo = list(filtered_dict.values())"
   ]
  },
  {
   "cell_type": "code",
   "execution_count": 8,
   "id": "9ac48a4e-a133-4bcc-9685-d59c58ecea96",
   "metadata": {},
   "outputs": [
    {
     "data": {
      "text/plain": [
       "11257"
      ]
     },
     "execution_count": 8,
     "metadata": {},
     "output_type": "execute_result"
    }
   ],
   "source": [
    "len(list_rinfo)"
   ]
  },
  {
   "cell_type": "code",
   "execution_count": 9,
   "id": "37a8da83-d65d-4219-8283-28613f4bd225",
   "metadata": {},
   "outputs": [
    {
     "data": {
      "text/plain": [
       "{'sc': 'V3Sc',\n",
       " 'slab': Atoms(symbols='V3ScV3ScV3Sc', pbc=True, cell=[[5.6401896008612615, 0.0, 0.0], [-2.8200948004306308, 4.884546654335772, 0.0], [0.0, 0.0, 24.60519325876673]], calculator=SinglePointCalculator(...)),\n",
       " 'star': 'V3ScV3ScV3Sc',\n",
       " 'facet': '111',\n",
       " 'pkey': 'N',\n",
       " 'pval': 1,\n",
       " 're': -2.810391181412342,\n",
       " 'nre': -2.810391181412342}"
      ]
     },
     "execution_count": 9,
     "metadata": {},
     "output_type": "execute_result"
    }
   ],
   "source": [
    "list_rinfo[0]"
   ]
  },
  {
   "cell_type": "code",
   "execution_count": 10,
   "id": "d9f346c1-029c-46c6-8bd4-6c829dccb3c3",
   "metadata": {},
   "outputs": [],
   "source": [
    "#####################################################################\n",
    "## product descriptors\n",
    "#####################################################################"
   ]
  },
  {
   "cell_type": "code",
   "execution_count": 11,
   "id": "4f958e5a-a7cf-4170-9535-7027493728fd",
   "metadata": {},
   "outputs": [],
   "source": [
    "set_pkey = set()\n",
    "for rinfo in list_rinfo:\n",
    "    if rinfo['pkey'] not in set_pkey:\n",
    "        set_pkey.add(rinfo['pkey'])\n",
    "list_pkey = list(set_pkey)"
   ]
  },
  {
   "cell_type": "code",
   "execution_count": 12,
   "id": "3494d31a-0ebc-4799-a1a7-874d6d9dc076",
   "metadata": {},
   "outputs": [
    {
     "data": {
      "text/plain": [
       "['N', 'C', 'CH', 'S', 'CH3', 'H', 'SH', 'CH2', 'O', 'NH', 'OH', 'H2O']"
      ]
     },
     "execution_count": 12,
     "metadata": {},
     "output_type": "execute_result"
    }
   ],
   "source": [
    "list_pkey"
   ]
  },
  {
   "cell_type": "code",
   "execution_count": 13,
   "id": "ba066507-a7e4-40a6-961e-4e20f12ae601",
   "metadata": {},
   "outputs": [],
   "source": [
    "d_pkey_vs_smiles = {\n",
    "    ## pubchem: one entry/ multi entry/ previous datasets\n",
    "    'S': '[S]',\n",
    "    'O': '[O]',\n",
    "    'CH': '[CH]', \n",
    "    'H': '[H]',\n",
    "    'SH': '[SH]',    \n",
    "    'NH': '[NH]',\n",
    "    'CH3': '[CH3]',   \n",
    "    'H2O': 'O',\n",
    "    'C': '[C]',   \n",
    "    'N': '[N]',    \n",
    "    'OH': '[OH]',\n",
    "    'CH2': '[CH2]', \n",
    "}"
   ]
  },
  {
   "cell_type": "code",
   "execution_count": 14,
   "id": "684ecfd6-2110-4a75-b02b-337205d6c868",
   "metadata": {},
   "outputs": [
    {
     "name": "stderr",
     "output_type": "stream",
     "text": [
      "Some weights of the model checkpoint at mrm8488/chEMBL26_smiles_v2 were not used when initializing RobertaModel: ['lm_head.decoder.weight', 'lm_head.bias', 'lm_head.dense.weight', 'lm_head.decoder.bias', 'lm_head.dense.bias', 'lm_head.layer_norm.bias', 'lm_head.layer_norm.weight']\n",
      "- This IS expected if you are initializing RobertaModel from the checkpoint of a model trained on another task or with another architecture (e.g. initializing a BertForSequenceClassification model from a BertForPreTraining model).\n",
      "- This IS NOT expected if you are initializing RobertaModel from the checkpoint of a model that you expect to be exactly identical (initializing a BertForSequenceClassification model from a BertForSequenceClassification model).\n"
     ]
    }
   ],
   "source": [
    "tokenizer = AutoTokenizer.from_pretrained(\"mrm8488/chEMBL26_smiles_v2\")\n",
    "model = AutoModel.from_pretrained(\"mrm8488/chEMBL26_smiles_v2\")\n",
    "fe = pipeline('feature-extraction', model=model, tokenizer=tokenizer, device=-1) ## device= (0 for GPU, -1 for CPU)"
   ]
  },
  {
   "cell_type": "code",
   "execution_count": 15,
   "id": "e93fd148-7c71-4c6d-9459-e85033d3e82e",
   "metadata": {},
   "outputs": [
    {
     "name": "stdout",
     "output_type": "stream",
     "text": [
      "(12, 768)\n"
     ]
    }
   ],
   "source": [
    "list_pkey= list(d_pkey_vs_smiles.keys())\n",
    "list_smiles= list(d_pkey_vs_smiles.values())\n",
    "list_emb_1 = fe(list_smiles)\n",
    "\n",
    "list_emb_2 = []\n",
    "for emb_1 in list_emb_1:\n",
    "    emb_2 = np.mean(np.array(emb_1[0]), axis=0)\n",
    "    list_emb_2.append(emb_2)\n",
    "arr_emb = np.array(list_emb_2)\n",
    "print(arr_emb.shape)\n",
    "\n",
    "d_pkey_vs_desc = {}\n",
    "for i, pkey in enumerate(list_pkey):\n",
    "    d_pkey_vs_desc[pkey] = arr_emb[i]"
   ]
  },
  {
   "cell_type": "code",
   "execution_count": 16,
   "id": "031c83ac-a2bf-40b2-ac67-98e0fed8f79c",
   "metadata": {},
   "outputs": [],
   "source": [
    "for rinfo in list_rinfo:\n",
    "    rinfo['pdesc'] = d_pkey_vs_desc[rinfo['pkey']]"
   ]
  },
  {
   "cell_type": "code",
   "execution_count": 17,
   "id": "84bbabec-deac-4c29-b80c-2ae5c3bef1c6",
   "metadata": {},
   "outputs": [
    {
     "data": {
      "text/plain": [
       "dict_keys(['sc', 'slab', 'star', 'facet', 'pkey', 'pval', 're', 'nre', 'pdesc'])"
      ]
     },
     "execution_count": 17,
     "metadata": {},
     "output_type": "execute_result"
    }
   ],
   "source": [
    "list_rinfo[0].keys()"
   ]
  },
  {
   "cell_type": "code",
   "execution_count": 18,
   "id": "98977c45-8140-4874-8989-93b521b7c7f0",
   "metadata": {},
   "outputs": [],
   "source": [
    "#####################################################################\n",
    "## slab descriptors\n",
    "#####################################################################"
   ]
  },
  {
   "cell_type": "code",
   "execution_count": 19,
   "id": "293e4d96-d25b-41c5-a51c-607fc250a116",
   "metadata": {},
   "outputs": [
    {
     "name": "stdout",
     "output_type": "stream",
     "text": [
      "No module named 'ocpmodels.models.'\n"
     ]
    }
   ],
   "source": [
    "try:\n",
    "    config_yml_path = \"ocp/configs/is2re/all/dimenet_plus_plus/dpp.yml\"\n",
    "    checkpoint_path = \"dimenetpp_all.pt\"\n",
    "    # Define the calculator\n",
    "    calc = OCPCalculator(config_yml=config_yml_path, checkpoint=checkpoint_path)\n",
    "except Exception as e:\n",
    "    print(e)\n",
    "    config_yml_path = \"ocp/configs/is2re/all/dimenet_plus_plus/dpp.yml\"\n",
    "    checkpoint_path = \"dimenetpp_all.pt\"\n",
    "    # Define the calculator\n",
    "    calc = OCPCalculator(config_yml=config_yml_path, checkpoint=checkpoint_path)    "
   ]
  },
  {
   "cell_type": "code",
   "execution_count": 21,
   "id": "d0a7a018-7860-4f62-87e1-91bbee8b76ca",
   "metadata": {},
   "outputs": [],
   "source": [
    "calc"
   ]
  },
  {
   "cell_type": "code",
   "execution_count": 24,
   "id": "c0ae6a58-bc6e-4994-bf4a-a0cbf15a4cbd",
   "metadata": {},
   "outputs": [
    {
     "data": {
      "text/plain": [
       "11257"
      ]
     },
     "execution_count": 24,
     "metadata": {},
     "output_type": "execute_result"
    }
   ],
   "source": [
    "len(list_rinfo)"
   ]
  },
  {
   "cell_type": "code",
   "execution_count": 25,
   "id": "1d17d8f8-1e05-4669-b624-7fad72b7a3c8",
   "metadata": {},
   "outputs": [
    {
     "name": "stdout",
     "output_type": "stream",
     "text": [
      "0\n",
      "500\n",
      "1000\n",
      "1500\n",
      "2000\n",
      "2500\n",
      "3000\n",
      "3500\n",
      "4000\n",
      "4500\n",
      "5000\n",
      "5500\n",
      "6000\n",
      "6500\n",
      "7000\n",
      "7500\n",
      "8000\n",
      "8500\n",
      "9000\n",
      "9500\n",
      "10000\n",
      "10500\n",
      "11000\n"
     ]
    }
   ],
   "source": [
    "list_rinfo2 = []\n",
    "for i, rinfo in enumerate(list_rinfo):\n",
    "    if i%500==0:\n",
    "        print(i)\n",
    "    try:\n",
    "        ase_slab = rinfo['slab']\n",
    "        adslab = ase_slab.copy()  \n",
    "\n",
    "        ads_symbol = rinfo['pkey']    \n",
    "        adsorbate = molecule(ads_symbol)\n",
    "        add_adsorbate(adslab, adsorbate, 3, offset=(1, 1))\n",
    "\n",
    "        ## set additional info\n",
    "        tags = np.zeros(len(adslab))\n",
    "        tags[18:27] = 1\n",
    "        tags[27:] = 2\n",
    "        adslab.set_tags(tags)\n",
    "        cons= FixAtoms(indices=[atom.index for atom in adslab if (atom.tag == 0)])\n",
    "        adslab.set_constraint(cons)\n",
    "        adslab.center(vacuum=13.0, axis=2)\n",
    "        adslab.set_pbc(True)\n",
    "\n",
    "        ## calculator, energy, embeddings\n",
    "        adslab.calc = calc\n",
    "        ads_energy = adslab.get_potential_energy()\n",
    "        min_ads_embs = torch.min(calc.trainer.model.module.embs[0], dim=0).values        \n",
    "        mean_ads_embs = torch.mean(calc.trainer.model.module.embs[0], dim=0)    \n",
    "        max_ads_embs = torch.max(calc.trainer.model.module.embs[0], dim=0).values    \n",
    "        # sum_ads_embs = torch.sum(calc.trainer.model.module.embs[0], dim=0)                \n",
    "        # print(min_ads_embs.shape, mean_ads_embs.shape, max_ads_embs.shape)\n",
    "        combined_embs = torch.cat((min_ads_embs, mean_ads_embs, max_ads_embs))    \n",
    "        rinfo['sdesc'] = combined_embs.numpy()\n",
    "        list_rinfo2.append(rinfo)\n",
    "    except Exception as e:\n",
    "        pass"
   ]
  },
  {
   "cell_type": "code",
   "execution_count": 27,
   "id": "447b578f-70aa-4b0c-a1dd-188fd35577f6",
   "metadata": {},
   "outputs": [
    {
     "data": {
      "text/plain": [
       "10938"
      ]
     },
     "execution_count": 27,
     "metadata": {},
     "output_type": "execute_result"
    }
   ],
   "source": [
    "len(list_rinfo2)"
   ]
  },
  {
   "cell_type": "code",
   "execution_count": 28,
   "id": "e2404235-85b6-4190-a1aa-ca1cf58669f1",
   "metadata": {},
   "outputs": [],
   "source": [
    "list_rinfo = list_rinfo2"
   ]
  },
  {
   "cell_type": "code",
   "execution_count": 29,
   "id": "247b70c5-5f43-4253-a44d-238e7b053fb4",
   "metadata": {},
   "outputs": [
    {
     "data": {
      "text/plain": [
       "10938"
      ]
     },
     "execution_count": 29,
     "metadata": {},
     "output_type": "execute_result"
    }
   ],
   "source": [
    "len(list_rinfo)"
   ]
  },
  {
   "cell_type": "code",
   "execution_count": 30,
   "id": "e7dc679b-5761-4510-b472-e2aa99ace186",
   "metadata": {},
   "outputs": [
    {
     "data": {
      "text/plain": [
       "dict_keys(['sc', 'slab', 'star', 'facet', 'pkey', 'pval', 're', 'nre', 'pdesc', 'sdesc'])"
      ]
     },
     "execution_count": 30,
     "metadata": {},
     "output_type": "execute_result"
    }
   ],
   "source": [
    "list_rinfo[-1].keys()"
   ]
  },
  {
   "cell_type": "code",
   "execution_count": 31,
   "id": "6611ca81-de75-41f4-8b00-d670f65880f3",
   "metadata": {},
   "outputs": [],
   "source": [
    "sdesc_columns = [f's{i}' for i in range(768)]\n",
    "pdesc_columns = [f'p{i}' for i in range(768)]\n",
    "columns = sdesc_columns + pdesc_columns + ['energy']\n",
    "data = []\n",
    "for i, rinfo in enumerate(list_rinfo):\n",
    "    try:\n",
    "        sdesc_flat = rinfo['sdesc'].flatten()\n",
    "        pdesc_flat = rinfo['pdesc'].flatten()\n",
    "        energy = rinfo['nre']\n",
    "        row = list(sdesc_flat) + list(pdesc_flat) + [energy]\n",
    "        data.append(row)\n",
    "    except Exception as e:\n",
    "        print(i, e)\n",
    "df = pd.DataFrame(data, columns=columns)"
   ]
  },
  {
   "cell_type": "code",
   "execution_count": 32,
   "id": "ec9b0870-6845-4246-897a-8412a077561d",
   "metadata": {},
   "outputs": [
    {
     "name": "stdout",
     "output_type": "stream",
     "text": [
      "(10938, 1537)\n"
     ]
    },
    {
     "data": {
      "text/html": [
       "<div>\n",
       "<style scoped>\n",
       "    .dataframe tbody tr th:only-of-type {\n",
       "        vertical-align: middle;\n",
       "    }\n",
       "\n",
       "    .dataframe tbody tr th {\n",
       "        vertical-align: top;\n",
       "    }\n",
       "\n",
       "    .dataframe thead th {\n",
       "        text-align: right;\n",
       "    }\n",
       "</style>\n",
       "<table border=\"1\" class=\"dataframe\">\n",
       "  <thead>\n",
       "    <tr style=\"text-align: right;\">\n",
       "      <th></th>\n",
       "      <th>s0</th>\n",
       "      <th>s1</th>\n",
       "      <th>s2</th>\n",
       "      <th>s3</th>\n",
       "      <th>s4</th>\n",
       "      <th>s5</th>\n",
       "      <th>s6</th>\n",
       "      <th>s7</th>\n",
       "      <th>s8</th>\n",
       "      <th>s9</th>\n",
       "      <th>...</th>\n",
       "      <th>p759</th>\n",
       "      <th>p760</th>\n",
       "      <th>p761</th>\n",
       "      <th>p762</th>\n",
       "      <th>p763</th>\n",
       "      <th>p764</th>\n",
       "      <th>p765</th>\n",
       "      <th>p766</th>\n",
       "      <th>p767</th>\n",
       "      <th>energy</th>\n",
       "    </tr>\n",
       "  </thead>\n",
       "  <tbody>\n",
       "    <tr>\n",
       "      <th>0</th>\n",
       "      <td>-1.981828</td>\n",
       "      <td>-1.770542</td>\n",
       "      <td>-1.320971</td>\n",
       "      <td>-2.183548</td>\n",
       "      <td>-1.858627</td>\n",
       "      <td>-0.831343</td>\n",
       "      <td>-2.508203</td>\n",
       "      <td>-1.690223</td>\n",
       "      <td>-1.849663</td>\n",
       "      <td>-1.821207</td>\n",
       "      <td>...</td>\n",
       "      <td>0.912192</td>\n",
       "      <td>0.652321</td>\n",
       "      <td>0.835792</td>\n",
       "      <td>-2.122195</td>\n",
       "      <td>-0.916445</td>\n",
       "      <td>-1.751576</td>\n",
       "      <td>0.783765</td>\n",
       "      <td>-1.780947</td>\n",
       "      <td>-0.901280</td>\n",
       "      <td>-2.810391</td>\n",
       "    </tr>\n",
       "    <tr>\n",
       "      <th>1</th>\n",
       "      <td>-1.587637</td>\n",
       "      <td>-2.088126</td>\n",
       "      <td>-2.159897</td>\n",
       "      <td>-1.888337</td>\n",
       "      <td>-1.780846</td>\n",
       "      <td>-1.802099</td>\n",
       "      <td>-1.936221</td>\n",
       "      <td>-1.551155</td>\n",
       "      <td>-2.214272</td>\n",
       "      <td>-0.360621</td>\n",
       "      <td>...</td>\n",
       "      <td>0.133178</td>\n",
       "      <td>0.967194</td>\n",
       "      <td>0.530776</td>\n",
       "      <td>-0.386460</td>\n",
       "      <td>0.284255</td>\n",
       "      <td>-1.429858</td>\n",
       "      <td>1.077861</td>\n",
       "      <td>-0.831704</td>\n",
       "      <td>-0.738524</td>\n",
       "      <td>-4.468474</td>\n",
       "    </tr>\n",
       "  </tbody>\n",
       "</table>\n",
       "<p>2 rows × 1537 columns</p>\n",
       "</div>"
      ],
      "text/plain": [
       "         s0        s1        s2        s3        s4        s5        s6  \\\n",
       "0 -1.981828 -1.770542 -1.320971 -2.183548 -1.858627 -0.831343 -2.508203   \n",
       "1 -1.587637 -2.088126 -2.159897 -1.888337 -1.780846 -1.802099 -1.936221   \n",
       "\n",
       "         s7        s8        s9  ...      p759      p760      p761      p762  \\\n",
       "0 -1.690223 -1.849663 -1.821207  ...  0.912192  0.652321  0.835792 -2.122195   \n",
       "1 -1.551155 -2.214272 -0.360621  ...  0.133178  0.967194  0.530776 -0.386460   \n",
       "\n",
       "       p763      p764      p765      p766      p767    energy  \n",
       "0 -0.916445 -1.751576  0.783765 -1.780947 -0.901280 -2.810391  \n",
       "1  0.284255 -1.429858  1.077861 -0.831704 -0.738524 -4.468474  \n",
       "\n",
       "[2 rows x 1537 columns]"
      ]
     },
     "execution_count": 32,
     "metadata": {},
     "output_type": "execute_result"
    }
   ],
   "source": [
    "df.to_pickle('v4/cathub_df.pickle')\n",
    "print(df.shape)\n",
    "df.head(2)"
   ]
  },
  {
   "cell_type": "code",
   "execution_count": null,
   "id": "1cd42bff-bae4-43b2-8ecb-bbc9f8ec1448",
   "metadata": {},
   "outputs": [],
   "source": []
  },
  {
   "cell_type": "code",
   "execution_count": null,
   "id": "eafae6ff-9a00-4876-9713-476a4b4f442e",
   "metadata": {},
   "outputs": [],
   "source": []
  },
  {
   "cell_type": "code",
   "execution_count": null,
   "id": "fad4293e-e881-4790-9099-27445945224a",
   "metadata": {},
   "outputs": [],
   "source": []
  },
  {
   "cell_type": "code",
   "execution_count": null,
   "id": "d073fd45-2cc7-4f53-ae6c-8d78f0c76be2",
   "metadata": {},
   "outputs": [],
   "source": []
  }
 ],
 "metadata": {
  "kernelspec": {
   "display_name": "Python 3 (ipykernel)",
   "language": "python",
   "name": "python3"
  },
  "language_info": {
   "codemirror_mode": {
    "name": "ipython",
    "version": 3
   },
   "file_extension": ".py",
   "mimetype": "text/x-python",
   "name": "python",
   "nbconvert_exporter": "python",
   "pygments_lexer": "ipython3",
   "version": "3.10.9"
  }
 },
 "nbformat": 4,
 "nbformat_minor": 5
}
