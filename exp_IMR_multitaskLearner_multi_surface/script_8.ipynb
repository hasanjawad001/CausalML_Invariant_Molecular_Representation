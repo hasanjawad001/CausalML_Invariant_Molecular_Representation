{
 "cells": [
  {
   "cell_type": "code",
   "execution_count": 14,
   "id": "6e745ebc-faba-4d9b-ba02-7f900e270627",
   "metadata": {},
   "outputs": [],
   "source": [
    "import pickle\n",
    "import os\n",
    "import numpy as np\n",
    "import ase.io\n",
    "from ase.constraints import FixAtoms\n",
    "from ase.build import add_adsorbate, molecule, surface\n",
    "from pymatgen.ext.matproj import MPRester\n",
    "from pymatgen.core.surface import generate_all_slabs, SlabGenerator\n",
    "from pymatgen.io.ase import AseAtomsAdaptor\n",
    "from ocpmodels.common.relaxation.ase_utils import OCPCalculator\n",
    "import json\n",
    "import ray\n",
    "import pandas as pd\n",
    "from transformers import AutoTokenizer, AutoModel, pipeline"
   ]
  },
  {
   "cell_type": "code",
   "execution_count": 15,
   "id": "20ef13bc-f222-45f9-9bbd-b41f841b9549",
   "metadata": {},
   "outputs": [
    {
     "ename": "RuntimeError",
     "evalue": "!atom.empty() INTERNAL ASSERT FAILED at \"/opt/conda/conda-bld/pytorch_1678402411778/work/aten/src/ATen/core/qualified_name.h\":24, please report a bug to PyTorch. Invalid name for qualified name: '__torch__.ocpmodels.models..equiformer_v2.gaussian_rbf.gaussian'",
     "output_type": "error",
     "traceback": [
      "\u001b[0;31m---------------------------------------------------------------------------\u001b[0m",
      "\u001b[0;31mRuntimeError\u001b[0m                              Traceback (most recent call last)",
      "Cell \u001b[0;32mIn[15], line 5\u001b[0m\n\u001b[1;32m      2\u001b[0m checkpoint_path \u001b[38;5;241m=\u001b[39m \u001b[38;5;124m\"\u001b[39m\u001b[38;5;124mdimenetpp_all.pt\u001b[39m\u001b[38;5;124m\"\u001b[39m\n\u001b[1;32m      4\u001b[0m \u001b[38;5;66;03m# Define the calculator\u001b[39;00m\n\u001b[0;32m----> 5\u001b[0m calc \u001b[38;5;241m=\u001b[39m \u001b[43mOCPCalculator\u001b[49m\u001b[43m(\u001b[49m\u001b[43mconfig_yml\u001b[49m\u001b[38;5;241;43m=\u001b[39;49m\u001b[43mconfig_yml_path\u001b[49m\u001b[43m,\u001b[49m\u001b[43m \u001b[49m\u001b[43mcheckpoint\u001b[49m\u001b[38;5;241;43m=\u001b[39;49m\u001b[43mcheckpoint_path\u001b[49m\u001b[43m)\u001b[49m\n",
      "File \u001b[0;32m/host_workspace/v9/ocp/ocpmodels/common/relaxation/ase_utils.py:91\u001b[0m, in \u001b[0;36mOCPCalculator.__init__\u001b[0;34m(self, config_yml, checkpoint, trainer, cutoff, max_neighbors, cpu)\u001b[0m\n\u001b[1;32m     65\u001b[0m \u001b[38;5;28;01mdef\u001b[39;00m \u001b[38;5;21m__init__\u001b[39m(\n\u001b[1;32m     66\u001b[0m     \u001b[38;5;28mself\u001b[39m,\n\u001b[1;32m     67\u001b[0m     config_yml: Optional[\u001b[38;5;28mstr\u001b[39m] \u001b[38;5;241m=\u001b[39m \u001b[38;5;28;01mNone\u001b[39;00m,\n\u001b[0;32m   (...)\u001b[0m\n\u001b[1;32m     72\u001b[0m     cpu: \u001b[38;5;28mbool\u001b[39m \u001b[38;5;241m=\u001b[39m \u001b[38;5;28;01mTrue\u001b[39;00m,\n\u001b[1;32m     73\u001b[0m ) \u001b[38;5;241m-\u001b[39m\u001b[38;5;241m>\u001b[39m \u001b[38;5;28;01mNone\u001b[39;00m:\n\u001b[1;32m     74\u001b[0m     \u001b[38;5;124;03m\"\"\"\u001b[39;00m\n\u001b[1;32m     75\u001b[0m \u001b[38;5;124;03m    OCP-ASE Calculator\u001b[39;00m\n\u001b[1;32m     76\u001b[0m \n\u001b[0;32m   (...)\u001b[0m\n\u001b[1;32m     89\u001b[0m \u001b[38;5;124;03m            Whether to load and run the model on CPU. Set `False` for GPU.\u001b[39;00m\n\u001b[1;32m     90\u001b[0m \u001b[38;5;124;03m    \"\"\"\u001b[39;00m\n\u001b[0;32m---> 91\u001b[0m     \u001b[43msetup_imports\u001b[49m\u001b[43m(\u001b[49m\u001b[43m)\u001b[49m\n\u001b[1;32m     92\u001b[0m     setup_logging()\n\u001b[1;32m     93\u001b[0m     Calculator\u001b[38;5;241m.\u001b[39m\u001b[38;5;21m__init__\u001b[39m(\u001b[38;5;28mself\u001b[39m)\n",
      "File \u001b[0;32m/host_workspace/v9/ocp/ocpmodels/common/utils.py:328\u001b[0m, in \u001b[0;36msetup_imports\u001b[0;34m(config)\u001b[0m\n\u001b[1;32m    326\u001b[0m \u001b[38;5;28;01mfor\u001b[39;00m key \u001b[38;5;129;01min\u001b[39;00m import_keys:\n\u001b[1;32m    327\u001b[0m     \u001b[38;5;28;01mfor\u001b[39;00m f \u001b[38;5;129;01min\u001b[39;00m (project_root \u001b[38;5;241m/\u001b[39m \u001b[38;5;124m\"\u001b[39m\u001b[38;5;124mocpmodels\u001b[39m\u001b[38;5;124m\"\u001b[39m \u001b[38;5;241m/\u001b[39m key)\u001b[38;5;241m.\u001b[39mrglob(\u001b[38;5;124m\"\u001b[39m\u001b[38;5;124m*.py\u001b[39m\u001b[38;5;124m\"\u001b[39m):\n\u001b[0;32m--> 328\u001b[0m         \u001b[43m_import_local_file\u001b[49m\u001b[43m(\u001b[49m\u001b[43mf\u001b[49m\u001b[43m,\u001b[49m\u001b[43m \u001b[49m\u001b[43mproject_root\u001b[49m\u001b[38;5;241;43m=\u001b[39;49m\u001b[43mproject_root\u001b[49m\u001b[43m)\u001b[49m\n\u001b[1;32m    330\u001b[0m \u001b[38;5;28;01mif\u001b[39;00m \u001b[38;5;129;01mnot\u001b[39;00m skip_experimental_imports:\n\u001b[1;32m    331\u001b[0m     setup_experimental_imports(project_root)\n",
      "File \u001b[0;32m/host_workspace/v9/ocp/ocpmodels/common/utils.py:259\u001b[0m, in \u001b[0;36m_import_local_file\u001b[0;34m(path, project_root)\u001b[0m\n\u001b[1;32m    252\u001b[0m module_name \u001b[38;5;241m=\u001b[39m \u001b[38;5;124m\"\u001b[39m\u001b[38;5;124m.\u001b[39m\u001b[38;5;124m\"\u001b[39m\u001b[38;5;241m.\u001b[39mjoin(\n\u001b[1;32m    253\u001b[0m     path\u001b[38;5;241m.\u001b[39mabsolute()\n\u001b[1;32m    254\u001b[0m     \u001b[38;5;241m.\u001b[39mrelative_to(project_root\u001b[38;5;241m.\u001b[39mabsolute())\n\u001b[1;32m    255\u001b[0m     \u001b[38;5;241m.\u001b[39mwith_suffix(\u001b[38;5;124m\"\u001b[39m\u001b[38;5;124m\"\u001b[39m)\n\u001b[1;32m    256\u001b[0m     \u001b[38;5;241m.\u001b[39mparts\n\u001b[1;32m    257\u001b[0m )\n\u001b[1;32m    258\u001b[0m logging\u001b[38;5;241m.\u001b[39mdebug(\u001b[38;5;124mf\u001b[39m\u001b[38;5;124m\"\u001b[39m\u001b[38;5;124mResolved module name of \u001b[39m\u001b[38;5;132;01m{\u001b[39;00mpath\u001b[38;5;132;01m}\u001b[39;00m\u001b[38;5;124m to \u001b[39m\u001b[38;5;132;01m{\u001b[39;00mmodule_name\u001b[38;5;132;01m}\u001b[39;00m\u001b[38;5;124m\"\u001b[39m)\n\u001b[0;32m--> 259\u001b[0m \u001b[43mimportlib\u001b[49m\u001b[38;5;241;43m.\u001b[39;49m\u001b[43mimport_module\u001b[49m\u001b[43m(\u001b[49m\u001b[43mmodule_name\u001b[49m\u001b[43m)\u001b[49m\n",
      "File \u001b[0;32m/opt/anaconda3/lib/python3.10/importlib/__init__.py:126\u001b[0m, in \u001b[0;36mimport_module\u001b[0;34m(name, package)\u001b[0m\n\u001b[1;32m    124\u001b[0m             \u001b[38;5;28;01mbreak\u001b[39;00m\n\u001b[1;32m    125\u001b[0m         level \u001b[38;5;241m+\u001b[39m\u001b[38;5;241m=\u001b[39m \u001b[38;5;241m1\u001b[39m\n\u001b[0;32m--> 126\u001b[0m \u001b[38;5;28;01mreturn\u001b[39;00m \u001b[43m_bootstrap\u001b[49m\u001b[38;5;241;43m.\u001b[39;49m\u001b[43m_gcd_import\u001b[49m\u001b[43m(\u001b[49m\u001b[43mname\u001b[49m\u001b[43m[\u001b[49m\u001b[43mlevel\u001b[49m\u001b[43m:\u001b[49m\u001b[43m]\u001b[49m\u001b[43m,\u001b[49m\u001b[43m \u001b[49m\u001b[43mpackage\u001b[49m\u001b[43m,\u001b[49m\u001b[43m \u001b[49m\u001b[43mlevel\u001b[49m\u001b[43m)\u001b[49m\n",
      "File \u001b[0;32m<frozen importlib._bootstrap>:1050\u001b[0m, in \u001b[0;36m_gcd_import\u001b[0;34m(name, package, level)\u001b[0m\n",
      "File \u001b[0;32m<frozen importlib._bootstrap>:1027\u001b[0m, in \u001b[0;36m_find_and_load\u001b[0;34m(name, import_)\u001b[0m\n",
      "File \u001b[0;32m<frozen importlib._bootstrap>:992\u001b[0m, in \u001b[0;36m_find_and_load_unlocked\u001b[0;34m(name, import_)\u001b[0m\n",
      "File \u001b[0;32m<frozen importlib._bootstrap>:241\u001b[0m, in \u001b[0;36m_call_with_frames_removed\u001b[0;34m(f, *args, **kwds)\u001b[0m\n",
      "File \u001b[0;32m<frozen importlib._bootstrap>:1050\u001b[0m, in \u001b[0;36m_gcd_import\u001b[0;34m(name, package, level)\u001b[0m\n",
      "File \u001b[0;32m<frozen importlib._bootstrap>:1027\u001b[0m, in \u001b[0;36m_find_and_load\u001b[0;34m(name, import_)\u001b[0m\n",
      "File \u001b[0;32m<frozen importlib._bootstrap>:992\u001b[0m, in \u001b[0;36m_find_and_load_unlocked\u001b[0;34m(name, import_)\u001b[0m\n",
      "File \u001b[0;32m<frozen importlib._bootstrap>:241\u001b[0m, in \u001b[0;36m_call_with_frames_removed\u001b[0;34m(f, *args, **kwds)\u001b[0m\n",
      "File \u001b[0;32m<frozen importlib._bootstrap>:1050\u001b[0m, in \u001b[0;36m_gcd_import\u001b[0;34m(name, package, level)\u001b[0m\n",
      "File \u001b[0;32m<frozen importlib._bootstrap>:1027\u001b[0m, in \u001b[0;36m_find_and_load\u001b[0;34m(name, import_)\u001b[0m\n",
      "File \u001b[0;32m<frozen importlib._bootstrap>:1006\u001b[0m, in \u001b[0;36m_find_and_load_unlocked\u001b[0;34m(name, import_)\u001b[0m\n",
      "File \u001b[0;32m<frozen importlib._bootstrap>:688\u001b[0m, in \u001b[0;36m_load_unlocked\u001b[0;34m(spec)\u001b[0m\n",
      "File \u001b[0;32m<frozen importlib._bootstrap_external>:883\u001b[0m, in \u001b[0;36mexec_module\u001b[0;34m(self, module)\u001b[0m\n",
      "File \u001b[0;32m<frozen importlib._bootstrap>:241\u001b[0m, in \u001b[0;36m_call_with_frames_removed\u001b[0;34m(f, *args, **kwds)\u001b[0m\n",
      "File \u001b[0;32m/host_workspace/v9/ocp/ocpmodels/models/__init__.py:10\u001b[0m\n\u001b[1;32m      8\u001b[0m \u001b[38;5;28;01mfrom\u001b[39;00m \u001b[38;5;21;01m.\u001b[39;00m\u001b[38;5;21;01mdimenet\u001b[39;00m \u001b[38;5;28;01mimport\u001b[39;00m DimeNetWrap \u001b[38;5;28;01mas\u001b[39;00m DimeNet\n\u001b[1;32m      9\u001b[0m \u001b[38;5;28;01mfrom\u001b[39;00m \u001b[38;5;21;01m.\u001b[39;00m\u001b[38;5;21;01mdimenet_plus_plus\u001b[39;00m \u001b[38;5;28;01mimport\u001b[39;00m DimeNetPlusPlusWrap \u001b[38;5;28;01mas\u001b[39;00m DimeNetPlusPlus\n\u001b[0;32m---> 10\u001b[0m \u001b[38;5;28;01mfrom\u001b[39;00m \u001b[38;5;21;01m.\u001b[39;00m\u001b[38;5;21;01mequiformer_v2\u001b[39;00m \u001b[38;5;28;01mimport\u001b[39;00m EquiformerV2\n\u001b[1;32m     11\u001b[0m \u001b[38;5;28;01mfrom\u001b[39;00m \u001b[38;5;21;01m.\u001b[39;00m\u001b[38;5;21;01mescn\u001b[39;00m \u001b[38;5;28;01mimport\u001b[39;00m eSCN\n\u001b[1;32m     12\u001b[0m \u001b[38;5;28;01mfrom\u001b[39;00m \u001b[38;5;21;01m.\u001b[39;00m\u001b[38;5;21;01mforcenet\u001b[39;00m \u001b[38;5;28;01mimport\u001b[39;00m ForceNet\n",
      "File \u001b[0;32m/host_workspace/v9/ocp/ocpmodels/models/equiformer_v2/__init__.py:1\u001b[0m\n\u001b[0;32m----> 1\u001b[0m \u001b[38;5;28;01mfrom\u001b[39;00m \u001b[38;5;21;01m.\u001b[39;00m\u001b[38;5;21;01mequiformer_v2_oc20\u001b[39;00m \u001b[38;5;28;01mimport\u001b[39;00m EquiformerV2_OC20 \u001b[38;5;28;01mas\u001b[39;00m EquiformerV2\n",
      "File \u001b[0;32m/host_workspace/v9/ocp/ocpmodels/models/equiformer_v2/equiformer_v2_oc20.py:20\u001b[0m\n\u001b[1;32m     16\u001b[0m     \u001b[38;5;28;01mpass\u001b[39;00m\n\u001b[1;32m     19\u001b[0m \u001b[38;5;28;01mfrom\u001b[39;00m \u001b[38;5;21;01m.\u001b[39;00m\u001b[38;5;21;01medge_rot_mat\u001b[39;00m \u001b[38;5;28;01mimport\u001b[39;00m init_edge_rot_mat\n\u001b[0;32m---> 20\u001b[0m \u001b[38;5;28;01mfrom\u001b[39;00m \u001b[38;5;21;01m.\u001b[39;00m\u001b[38;5;21;01mgaussian_rbf\u001b[39;00m \u001b[38;5;28;01mimport\u001b[39;00m GaussianRadialBasisLayer\n\u001b[1;32m     21\u001b[0m \u001b[38;5;28;01mfrom\u001b[39;00m \u001b[38;5;21;01m.\u001b[39;00m\u001b[38;5;21;01minput_block\u001b[39;00m \u001b[38;5;28;01mimport\u001b[39;00m EdgeDegreeEmbedding\n\u001b[1;32m     22\u001b[0m \u001b[38;5;28;01mfrom\u001b[39;00m \u001b[38;5;21;01m.\u001b[39;00m\u001b[38;5;21;01mlayer_norm\u001b[39;00m \u001b[38;5;28;01mimport\u001b[39;00m (\n\u001b[1;32m     23\u001b[0m     EquivariantLayerNormArray,\n\u001b[1;32m     24\u001b[0m     EquivariantLayerNormArraySphericalHarmonics,\n\u001b[0;32m   (...)\u001b[0m\n\u001b[1;32m     27\u001b[0m     get_normalization_layer,\n\u001b[1;32m     28\u001b[0m )\n",
      "File \u001b[0;32m/host_workspace/v9/ocp/ocpmodels/models/equiformer_v2/gaussian_rbf.py:5\u001b[0m\n\u001b[1;32m      1\u001b[0m \u001b[38;5;28;01mimport\u001b[39;00m \u001b[38;5;21;01mtorch\u001b[39;00m\n\u001b[1;32m      4\u001b[0m \u001b[38;5;129;43m@torch\u001b[39;49m\u001b[38;5;241;43m.\u001b[39;49m\u001b[43mjit\u001b[49m\u001b[38;5;241;43m.\u001b[39;49m\u001b[43mscript\u001b[49m\n\u001b[0;32m----> 5\u001b[0m \u001b[38;5;28;43;01mdef\u001b[39;49;00m\u001b[43m \u001b[49m\u001b[38;5;21;43mgaussian\u001b[39;49m\u001b[43m(\u001b[49m\u001b[43mx\u001b[49m\u001b[43m:\u001b[49m\u001b[43m \u001b[49m\u001b[43mtorch\u001b[49m\u001b[38;5;241;43m.\u001b[39;49m\u001b[43mTensor\u001b[49m\u001b[43m,\u001b[49m\u001b[43m \u001b[49m\u001b[43mmean\u001b[49m\u001b[43m,\u001b[49m\u001b[43m \u001b[49m\u001b[43mstd\u001b[49m\u001b[43m)\u001b[49m\u001b[43m \u001b[49m\u001b[38;5;241;43m-\u001b[39;49m\u001b[38;5;241;43m>\u001b[39;49m\u001b[43m \u001b[49m\u001b[43mtorch\u001b[49m\u001b[38;5;241;43m.\u001b[39;49m\u001b[43mTensor\u001b[49m\u001b[43m:\u001b[49m\n\u001b[1;32m      6\u001b[0m \u001b[43m    \u001b[49m\u001b[43mpi\u001b[49m\u001b[43m \u001b[49m\u001b[38;5;241;43m=\u001b[39;49m\u001b[43m \u001b[49m\u001b[38;5;241;43m3.14159\u001b[39;49m\n\u001b[1;32m      7\u001b[0m \u001b[43m    \u001b[49m\u001b[43ma\u001b[49m\u001b[43m \u001b[49m\u001b[38;5;241;43m=\u001b[39;49m\u001b[43m \u001b[49m\u001b[43m(\u001b[49m\u001b[38;5;241;43m2\u001b[39;49m\u001b[43m \u001b[49m\u001b[38;5;241;43m*\u001b[39;49m\u001b[43m \u001b[49m\u001b[43mpi\u001b[49m\u001b[43m)\u001b[49m\u001b[43m \u001b[49m\u001b[38;5;241;43m*\u001b[39;49m\u001b[38;5;241;43m*\u001b[39;49m\u001b[43m \u001b[49m\u001b[38;5;241;43m0.5\u001b[39;49m\n",
      "File \u001b[0;32m/opt/anaconda3/lib/python3.10/site-packages/torch/jit/_script.py:1341\u001b[0m, in \u001b[0;36mscript\u001b[0;34m(obj, optimize, _frames_up, _rcb, example_inputs)\u001b[0m\n\u001b[1;32m   1339\u001b[0m \u001b[38;5;28;01mif\u001b[39;00m _rcb \u001b[38;5;129;01mis\u001b[39;00m \u001b[38;5;28;01mNone\u001b[39;00m:\n\u001b[1;32m   1340\u001b[0m     _rcb \u001b[38;5;241m=\u001b[39m _jit_internal\u001b[38;5;241m.\u001b[39mcreateResolutionCallbackFromClosure(obj)\n\u001b[0;32m-> 1341\u001b[0m fn \u001b[38;5;241m=\u001b[39m torch\u001b[38;5;241m.\u001b[39m_C\u001b[38;5;241m.\u001b[39m_jit_script_compile(\n\u001b[1;32m   1342\u001b[0m     qualified_name, ast, _rcb, get_default_args(obj)\n\u001b[1;32m   1343\u001b[0m )\n\u001b[1;32m   1344\u001b[0m \u001b[38;5;66;03m# Forward docstrings\u001b[39;00m\n\u001b[1;32m   1345\u001b[0m fn\u001b[38;5;241m.\u001b[39m\u001b[38;5;18m__doc__\u001b[39m \u001b[38;5;241m=\u001b[39m obj\u001b[38;5;241m.\u001b[39m\u001b[38;5;18m__doc__\u001b[39m\n",
      "\u001b[0;31mRuntimeError\u001b[0m: !atom.empty() INTERNAL ASSERT FAILED at \"/opt/conda/conda-bld/pytorch_1678402411778/work/aten/src/ATen/core/qualified_name.h\":24, please report a bug to PyTorch. Invalid name for qualified name: '__torch__.ocpmodels.models..equiformer_v2.gaussian_rbf.gaussian'"
     ]
    }
   ],
   "source": [
    "config_yml_path = \"ocp/configs/is2re/all/dimenet_plus_plus/dpp.yml\"\n",
    "checkpoint_path = \"dimenetpp_all.pt\"\n",
    "\n",
    "# Define the calculator\n",
    "calc = OCPCalculator(config_yml=config_yml_path, checkpoint=checkpoint_path)"
   ]
  },
  {
   "cell_type": "code",
   "execution_count": 13,
   "id": "48d5744d-36e6-402d-96c9-d89943720eba",
   "metadata": {},
   "outputs": [],
   "source": []
  },
  {
   "cell_type": "code",
   "execution_count": 13,
   "id": "e39bcd58-db88-446f-acd9-f7cd4967d67f",
   "metadata": {},
   "outputs": [
    {
     "ename": "ImportError",
     "evalue": "cannot import name 'build_model' from 'ocpmodels.common.utils' (/host_workspace/v9/ocp/ocpmodels/common/utils.py)",
     "output_type": "error",
     "traceback": [
      "\u001b[0;31m---------------------------------------------------------------------------\u001b[0m",
      "\u001b[0;31mImportError\u001b[0m                               Traceback (most recent call last)",
      "Cell \u001b[0;32mIn[13], line 2\u001b[0m\n\u001b[1;32m      1\u001b[0m \u001b[38;5;28;01mfrom\u001b[39;00m \u001b[38;5;21;01mocpmodels\u001b[39;00m\u001b[38;5;21;01m.\u001b[39;00m\u001b[38;5;21;01mmodels\u001b[39;00m\u001b[38;5;21;01m.\u001b[39;00m\u001b[38;5;21;01mbase\u001b[39;00m \u001b[38;5;28;01mimport\u001b[39;00m BaseModel\n\u001b[0;32m----> 2\u001b[0m \u001b[38;5;28;01mfrom\u001b[39;00m \u001b[38;5;21;01mocpmodels\u001b[39;00m\u001b[38;5;21;01m.\u001b[39;00m\u001b[38;5;21;01mcommon\u001b[39;00m\u001b[38;5;21;01m.\u001b[39;00m\u001b[38;5;21;01mutils\u001b[39;00m \u001b[38;5;28;01mimport\u001b[39;00m build_model\n\u001b[1;32m      3\u001b[0m \u001b[38;5;28;01mimport\u001b[39;00m \u001b[38;5;21;01mtorch\u001b[39;00m\n",
      "\u001b[0;31mImportError\u001b[0m: cannot import name 'build_model' from 'ocpmodels.common.utils' (/host_workspace/v9/ocp/ocpmodels/common/utils.py)"
     ]
    }
   ],
   "source": [
    "from ocpmodels.models.base import BaseModel\n",
    "from ocpmodels.common.utils import build_model\n",
    "import torch"
   ]
  },
  {
   "cell_type": "code",
   "execution_count": null,
   "id": "7e8aa965-9f6f-4375-a078-86fa33c49504",
   "metadata": {},
   "outputs": [],
   "source": [
    "# 1. Load the pre-trained model\n",
    "\n",
    "# Load the configuration\n",
    "with open(\"ocp/configs/is2re/all/dimenet_plus_plus/dpp.yml\", 'r') as stream:\n",
    "    config = yaml.safe_load(stream)\n",
    "\n",
    "model_config = config['model']\n",
    "model = build_model(model_config)  # This function might need to be written or replaced based on how you usually instantiate models with your framework.\n",
    "\n",
    "# Load checkpoint\n",
    "checkpoint = torch.load(\"dimenetpp_all.pt\")\n",
    "model.load_state_dict(checkpoint['state_dict'])\n",
    "\n",
    "# 2. Define a hook\n",
    "\n",
    "embeddings = None\n",
    "\n",
    "def hook_fn(module, input, output):\n",
    "    global embeddings\n",
    "    embeddings = output\n",
    "\n",
    "# Register hook to the last output block\n",
    "hook = model.output_blocks[-1].register_forward_hook(hook_fn)\n",
    "\n",
    "# 3. Prepare the input data\n",
    "\n",
    "# Assuming you have a function `generate_data` that constructs the data object for a given bulk_symbol, miller_index, and ads_symbol\n",
    "data = generate_data(bulk_symbol=\"Ag12\", miller_index=(1,1,0), ads_symbol=\"CH2CH2OH\")\n",
    "\n",
    "# 4. Call the model's forward method\n",
    "\n",
    "with torch.no_grad():  # No need to track gradients\n",
    "    model(data)\n",
    "\n",
    "print(embeddings)\n",
    "\n",
    "# Cleanup\n",
    "hook.remove()"
   ]
  },
  {
   "cell_type": "code",
   "execution_count": null,
   "id": "49b1a5c5-6b62-4841-9710-10d7ae72aa56",
   "metadata": {},
   "outputs": [],
   "source": []
  },
  {
   "cell_type": "code",
   "execution_count": null,
   "id": "28d2f2c8-2bea-4200-aa6a-6849bc2a1355",
   "metadata": {},
   "outputs": [],
   "source": []
  },
  {
   "cell_type": "code",
   "execution_count": null,
   "id": "dc9ec3b2-7212-4935-b57d-bdef7a25f59d",
   "metadata": {},
   "outputs": [],
   "source": []
  },
  {
   "cell_type": "code",
   "execution_count": null,
   "id": "a99e3efa-068d-466d-b296-322dd83ea120",
   "metadata": {},
   "outputs": [],
   "source": []
  },
  {
   "cell_type": "code",
   "execution_count": null,
   "id": "30373c9b-bd38-4753-ad9c-a13c2f0d62aa",
   "metadata": {},
   "outputs": [],
   "source": []
  }
 ],
 "metadata": {
  "kernelspec": {
   "display_name": "Python 3 (ipykernel)",
   "language": "python",
   "name": "python3"
  },
  "language_info": {
   "codemirror_mode": {
    "name": "ipython",
    "version": 3
   },
   "file_extension": ".py",
   "mimetype": "text/x-python",
   "name": "python",
   "nbconvert_exporter": "python",
   "pygments_lexer": "ipython3",
   "version": "3.10.9"
  }
 },
 "nbformat": 4,
 "nbformat_minor": 5
}
