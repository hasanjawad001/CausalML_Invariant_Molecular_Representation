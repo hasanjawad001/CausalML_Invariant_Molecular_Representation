{
 "cells": [
  {
   "cell_type": "code",
   "execution_count": 1,
   "id": "2daabbe1-8a1f-4153-85cd-035f8ee259b8",
   "metadata": {},
   "outputs": [],
   "source": [
    "import pandas as pd\n",
    "import matplotlib.pyplot as plt"
   ]
  },
  {
   "cell_type": "code",
   "execution_count": 2,
   "id": "2e11e672-5315-40a0-a6e0-0d716b74e2ed",
   "metadata": {},
   "outputs": [],
   "source": [
    "criteria = [\n",
    "    {'symbol': 'Pt', 'miller_index': [1, 1, 1]},\n",
    "    {'symbol': 'Ru', 'miller_index': [[0, 0, 0, 1], [0, 0, 1]]},\n",
    "    {'symbol': 'Ni', 'miller_index': [1, 1, 1]},\n",
    "    {'symbol': 'Co', 'miller_index': [[0, 0, 0, 1], [0, 0, 1]]},\n",
    "    {'symbol': 'Fe', 'miller_index': [1, 1, 0]},\n",
    "    {'symbol': 'Cu', 'miller_index': [1, 1, 1]}\n",
    "]"
   ]
  },
  {
   "cell_type": "code",
   "execution_count": 3,
   "id": "3319d877-eb3d-4311-af41-237c9d0f5179",
   "metadata": {},
   "outputs": [],
   "source": [
    "df = pd.read_parquet('datasets/ocp_reactions_info_df.parquet')"
   ]
  },
  {
   "cell_type": "code",
   "execution_count": 4,
   "id": "f0c3a9cd-fcf4-4f7d-8860-fbd5c97cb9ef",
   "metadata": {},
   "outputs": [],
   "source": [
    "df2 = df[['ads_symbols', 'bulk_symbols', 'miller_index', 'energy']]"
   ]
  },
  {
   "cell_type": "code",
   "execution_count": 5,
   "id": "25881a39-e2e4-4c32-bed6-e14ee67dc228",
   "metadata": {},
   "outputs": [
    {
     "data": {
      "text/html": [
       "<div>\n",
       "<style scoped>\n",
       "    .dataframe tbody tr th:only-of-type {\n",
       "        vertical-align: middle;\n",
       "    }\n",
       "\n",
       "    .dataframe tbody tr th {\n",
       "        vertical-align: top;\n",
       "    }\n",
       "\n",
       "    .dataframe thead th {\n",
       "        text-align: right;\n",
       "    }\n",
       "</style>\n",
       "<table border=\"1\" class=\"dataframe\">\n",
       "  <thead>\n",
       "    <tr style=\"text-align: right;\">\n",
       "      <th></th>\n",
       "      <th>ads_symbols</th>\n",
       "      <th>bulk_symbols</th>\n",
       "      <th>miller_index</th>\n",
       "      <th>energy</th>\n",
       "    </tr>\n",
       "  </thead>\n",
       "  <tbody>\n",
       "    <tr>\n",
       "      <th>185605</th>\n",
       "      <td>*C</td>\n",
       "      <td>Ru</td>\n",
       "      <td>[1, 0, 0]</td>\n",
       "      <td>-2.159905</td>\n",
       "    </tr>\n",
       "    <tr>\n",
       "      <th>259905</th>\n",
       "      <td>*C</td>\n",
       "      <td>Ru</td>\n",
       "      <td>[1, 1, 0]</td>\n",
       "      <td>-1.312221</td>\n",
       "    </tr>\n",
       "    <tr>\n",
       "      <th>266199</th>\n",
       "      <td>*C</td>\n",
       "      <td>Ni</td>\n",
       "      <td>[1, 0, 0]</td>\n",
       "      <td>-1.232129</td>\n",
       "    </tr>\n",
       "    <tr>\n",
       "      <th>291397</th>\n",
       "      <td>*C</td>\n",
       "      <td>Pt</td>\n",
       "      <td>[1, 1, 1]</td>\n",
       "      <td>-0.899093</td>\n",
       "    </tr>\n",
       "    <tr>\n",
       "      <th>310512</th>\n",
       "      <td>*C</td>\n",
       "      <td>Fe</td>\n",
       "      <td>[1, 0, 2]</td>\n",
       "      <td>-0.624686</td>\n",
       "    </tr>\n",
       "  </tbody>\n",
       "</table>\n",
       "</div>"
      ],
      "text/plain": [
       "       ads_symbols bulk_symbols miller_index    energy\n",
       "185605          *C           Ru    [1, 0, 0] -2.159905\n",
       "259905          *C           Ru    [1, 1, 0] -1.312221\n",
       "266199          *C           Ni    [1, 0, 0] -1.232129\n",
       "291397          *C           Pt    [1, 1, 1] -0.899093\n",
       "310512          *C           Fe    [1, 0, 2] -0.624686"
      ]
     },
     "execution_count": 5,
     "metadata": {},
     "output_type": "execute_result"
    }
   ],
   "source": [
    "df2[\n",
    "    (df2['bulk_symbols'].isin(['Pt', 'Ru', 'Ni', 'Co', 'Fe', 'Cu'])) &\n",
    "    (df2['ads_symbols'] == '*C')\n",
    "].head()\n"
   ]
  },
  {
   "cell_type": "code",
   "execution_count": 6,
   "id": "cecdf813-0763-45a7-a0c1-c082f6678fda",
   "metadata": {},
   "outputs": [],
   "source": [
    "merged_df = pd.DataFrame()"
   ]
  },
  {
   "cell_type": "code",
   "execution_count": 7,
   "id": "7723b4f1-714d-49a8-953f-a44b14b3a40a",
   "metadata": {},
   "outputs": [],
   "source": [
    "a = df2[\n",
    "    (df2['bulk_symbols']=='Pt') &\n",
    "    (df2['ads_symbols'] == '*C')\n",
    "]\n",
    "\n",
    "b= df2[\n",
    "    (df2['bulk_symbols']=='Ru') &\n",
    "    (df2['ads_symbols'] == '*C')\n",
    "]\n",
    "\n",
    "c=df2[\n",
    "    (df2['bulk_symbols']=='Ni') &\n",
    "    (df2['ads_symbols'] == '*C')\n",
    "]\n",
    "\n",
    "d=df2[\n",
    "    (df2['bulk_symbols']=='Co') &\n",
    "    (df2['ads_symbols'] == '*C')\n",
    "]\n",
    "\n",
    "e=df2[\n",
    "    (df2['bulk_symbols']=='Fe') &\n",
    "    (df2['ads_symbols'] == '*C')\n",
    "]\n",
    "\n",
    "f=df2[\n",
    "    (df2['bulk_symbols']=='Cu') &\n",
    "    (df2['ads_symbols'] == '*C')\n",
    "]"
   ]
  },
  {
   "cell_type": "code",
   "execution_count": 8,
   "id": "a5de2e26-a394-4889-891e-ae68ab39a3f6",
   "metadata": {},
   "outputs": [
    {
     "data": {
      "text/plain": [
       "((2, 4), (3, 4), (3, 4), (0, 4), (1, 4), (7, 4))"
      ]
     },
     "execution_count": 8,
     "metadata": {},
     "output_type": "execute_result"
    }
   ],
   "source": [
    "a.shape, b.shape, c.shape, d.shape, e.shape, f.shape"
   ]
  },
  {
   "cell_type": "code",
   "execution_count": 9,
   "id": "2d1d579f-c584-4aae-acde-ee36b12efbd1",
   "metadata": {},
   "outputs": [
    {
     "data": {
      "text/html": [
       "<div>\n",
       "<style scoped>\n",
       "    .dataframe tbody tr th:only-of-type {\n",
       "        vertical-align: middle;\n",
       "    }\n",
       "\n",
       "    .dataframe tbody tr th {\n",
       "        vertical-align: top;\n",
       "    }\n",
       "\n",
       "    .dataframe thead th {\n",
       "        text-align: right;\n",
       "    }\n",
       "</style>\n",
       "<table border=\"1\" class=\"dataframe\">\n",
       "  <thead>\n",
       "    <tr style=\"text-align: right;\">\n",
       "      <th></th>\n",
       "      <th>ads_symbols</th>\n",
       "      <th>bulk_symbols</th>\n",
       "      <th>miller_index</th>\n",
       "      <th>energy</th>\n",
       "    </tr>\n",
       "  </thead>\n",
       "  <tbody>\n",
       "    <tr>\n",
       "      <th>291397</th>\n",
       "      <td>*C</td>\n",
       "      <td>Pt</td>\n",
       "      <td>[1, 1, 1]</td>\n",
       "      <td>-0.899093</td>\n",
       "    </tr>\n",
       "    <tr>\n",
       "      <th>392825</th>\n",
       "      <td>*C</td>\n",
       "      <td>Pt</td>\n",
       "      <td>[1, 0, 0]</td>\n",
       "      <td>1.079837</td>\n",
       "    </tr>\n",
       "    <tr>\n",
       "      <th>185605</th>\n",
       "      <td>*C</td>\n",
       "      <td>Ru</td>\n",
       "      <td>[1, 0, 0]</td>\n",
       "      <td>-2.159905</td>\n",
       "    </tr>\n",
       "    <tr>\n",
       "      <th>259905</th>\n",
       "      <td>*C</td>\n",
       "      <td>Ru</td>\n",
       "      <td>[1, 1, 0]</td>\n",
       "      <td>-1.312221</td>\n",
       "    </tr>\n",
       "    <tr>\n",
       "      <th>341952</th>\n",
       "      <td>*C</td>\n",
       "      <td>Ru</td>\n",
       "      <td>[2, 1, 1]</td>\n",
       "      <td>-0.144919</td>\n",
       "    </tr>\n",
       "    <tr>\n",
       "      <th>266199</th>\n",
       "      <td>*C</td>\n",
       "      <td>Ni</td>\n",
       "      <td>[1, 0, 0]</td>\n",
       "      <td>-1.232129</td>\n",
       "    </tr>\n",
       "    <tr>\n",
       "      <th>353779</th>\n",
       "      <td>*C</td>\n",
       "      <td>Ni</td>\n",
       "      <td>[1, 0, 0]</td>\n",
       "      <td>0.034408</td>\n",
       "    </tr>\n",
       "    <tr>\n",
       "      <th>353819</th>\n",
       "      <td>*C</td>\n",
       "      <td>Ni</td>\n",
       "      <td>[1, 0, 0]</td>\n",
       "      <td>0.035189</td>\n",
       "    </tr>\n",
       "    <tr>\n",
       "      <th>310512</th>\n",
       "      <td>*C</td>\n",
       "      <td>Fe</td>\n",
       "      <td>[1, 0, 2]</td>\n",
       "      <td>-0.624686</td>\n",
       "    </tr>\n",
       "    <tr>\n",
       "      <th>357109</th>\n",
       "      <td>*C</td>\n",
       "      <td>Cu</td>\n",
       "      <td>[1, 0, 0]</td>\n",
       "      <td>0.102567</td>\n",
       "    </tr>\n",
       "    <tr>\n",
       "      <th>363685</th>\n",
       "      <td>*C</td>\n",
       "      <td>Cu</td>\n",
       "      <td>[0, 0, 1]</td>\n",
       "      <td>0.249569</td>\n",
       "    </tr>\n",
       "    <tr>\n",
       "      <th>367811</th>\n",
       "      <td>*C</td>\n",
       "      <td>Cu</td>\n",
       "      <td>[1, 0, 0]</td>\n",
       "      <td>0.348856</td>\n",
       "    </tr>\n",
       "    <tr>\n",
       "      <th>369442</th>\n",
       "      <td>*C</td>\n",
       "      <td>Cu</td>\n",
       "      <td>[1, 0, 1]</td>\n",
       "      <td>0.390664</td>\n",
       "    </tr>\n",
       "    <tr>\n",
       "      <th>383477</th>\n",
       "      <td>*C</td>\n",
       "      <td>Cu</td>\n",
       "      <td>[2, 1, 0]</td>\n",
       "      <td>0.780718</td>\n",
       "    </tr>\n",
       "    <tr>\n",
       "      <th>400431</th>\n",
       "      <td>*C</td>\n",
       "      <td>Cu</td>\n",
       "      <td>[2, 1, 1]</td>\n",
       "      <td>1.337966</td>\n",
       "    </tr>\n",
       "    <tr>\n",
       "      <th>434161</th>\n",
       "      <td>*C</td>\n",
       "      <td>Cu</td>\n",
       "      <td>[1, 1, 1]</td>\n",
       "      <td>3.201780</td>\n",
       "    </tr>\n",
       "  </tbody>\n",
       "</table>\n",
       "</div>"
      ],
      "text/plain": [
       "       ads_symbols bulk_symbols miller_index    energy\n",
       "291397          *C           Pt    [1, 1, 1] -0.899093\n",
       "392825          *C           Pt    [1, 0, 0]  1.079837\n",
       "185605          *C           Ru    [1, 0, 0] -2.159905\n",
       "259905          *C           Ru    [1, 1, 0] -1.312221\n",
       "341952          *C           Ru    [2, 1, 1] -0.144919\n",
       "266199          *C           Ni    [1, 0, 0] -1.232129\n",
       "353779          *C           Ni    [1, 0, 0]  0.034408\n",
       "353819          *C           Ni    [1, 0, 0]  0.035189\n",
       "310512          *C           Fe    [1, 0, 2] -0.624686\n",
       "357109          *C           Cu    [1, 0, 0]  0.102567\n",
       "363685          *C           Cu    [0, 0, 1]  0.249569\n",
       "367811          *C           Cu    [1, 0, 0]  0.348856\n",
       "369442          *C           Cu    [1, 0, 1]  0.390664\n",
       "383477          *C           Cu    [2, 1, 0]  0.780718\n",
       "400431          *C           Cu    [2, 1, 1]  1.337966\n",
       "434161          *C           Cu    [1, 1, 1]  3.201780"
      ]
     },
     "execution_count": 9,
     "metadata": {},
     "output_type": "execute_result"
    }
   ],
   "source": [
    "merged_df = pd.concat([a, b, c, d, e, f])\n",
    "merged_df"
   ]
  },
  {
   "cell_type": "code",
   "execution_count": null,
   "id": "89b0973e-2dd5-4a3c-a357-4a00fcf84b99",
   "metadata": {},
   "outputs": [],
   "source": []
  },
  {
   "cell_type": "code",
   "execution_count": 10,
   "id": "c67cafbc-649b-4783-97de-42f78a0888b7",
   "metadata": {},
   "outputs": [
    {
     "name": "stdout",
     "output_type": "stream",
     "text": [
      "       ads_symbols bulk_symbols miller_index    energy\n",
      "291397          *C           Pt    [1, 1, 1] -0.899093\n",
      "185605          *C           Ru    [1, 0, 0] -2.159905\n",
      "266199          *C           Ni    [1, 0, 0] -1.232129\n",
      "310512          *C           Fe    [1, 0, 2] -0.624686\n",
      "357109          *C           Cu    [1, 0, 0]  0.102567\n"
     ]
    }
   ],
   "source": [
    "import pandas as pd\n",
    "\n",
    "# Assuming df2 is your DataFrame and it's already defined in your environment\n",
    "# df2 = ...\n",
    "\n",
    "# List of bulk symbols to filter\n",
    "bulk_symbols_list = ['Pt', 'Ru', 'Ni', 'Co', 'Fe', 'Cu']\n",
    "\n",
    "# Initialize an empty DataFrame for the merged results\n",
    "merged_df = pd.DataFrame()\n",
    "\n",
    "# Iterate through the bulk symbols, filter, and merge the results\n",
    "for symbol in bulk_symbols_list:\n",
    "    temp_df = df2[\n",
    "        (df2['bulk_symbols'] == symbol) &\n",
    "        (df2['ads_symbols'] == '*C')\n",
    "    ].head(1)\n",
    "    merged_df = pd.concat([merged_df, temp_df])\n",
    "\n",
    "# Display the merged DataFrame\n",
    "print(merged_df.head(len(bulk_symbols_list)))"
   ]
  },
  {
   "cell_type": "code",
   "execution_count": null,
   "id": "94ed7427-677a-40a5-9fec-2b9ccbe6464d",
   "metadata": {},
   "outputs": [],
   "source": []
  },
  {
   "cell_type": "code",
   "execution_count": null,
   "id": "1d9b3508-ce4b-4762-9f82-be1311ddd8fd",
   "metadata": {},
   "outputs": [],
   "source": []
  },
  {
   "cell_type": "code",
   "execution_count": 11,
   "id": "a1dd1507-4c7c-42da-b847-9e501c4aac38",
   "metadata": {},
   "outputs": [
    {
     "name": "stdout",
     "output_type": "stream",
     "text": [
      "{'symbol': 'Pt', 'miller_index': [1, 1, 1]} [1, 1, 1]        ads_symbols bulk_symbols miller_index    energy\n",
      "291397          *C           Pt    [1, 1, 1] -0.899093\n",
      "{'symbol': 'Ru', 'miller_index': [[0, 0, 0, 1], [0, 0, 1]]} [0, 0, 0, 1] Empty DataFrame\n",
      "Columns: [ads_symbols, bulk_symbols, miller_index, energy]\n",
      "Index: []\n",
      "{'symbol': 'Ru', 'miller_index': [[0, 0, 0, 1], [0, 0, 1]]} [0, 0, 1] Empty DataFrame\n",
      "Columns: [ads_symbols, bulk_symbols, miller_index, energy]\n",
      "Index: []\n",
      "{'symbol': 'Ni', 'miller_index': [1, 1, 1]} [1, 1, 1] Empty DataFrame\n",
      "Columns: [ads_symbols, bulk_symbols, miller_index, energy]\n",
      "Index: []\n",
      "{'symbol': 'Co', 'miller_index': [[0, 0, 0, 1], [0, 0, 1]]} [0, 0, 0, 1] Empty DataFrame\n",
      "Columns: [ads_symbols, bulk_symbols, miller_index, energy]\n",
      "Index: []\n",
      "{'symbol': 'Co', 'miller_index': [[0, 0, 0, 1], [0, 0, 1]]} [0, 0, 1] Empty DataFrame\n",
      "Columns: [ads_symbols, bulk_symbols, miller_index, energy]\n",
      "Index: []\n",
      "{'symbol': 'Fe', 'miller_index': [1, 1, 0]} [1, 1, 0] Empty DataFrame\n",
      "Columns: [ads_symbols, bulk_symbols, miller_index, energy]\n",
      "Index: []\n",
      "{'symbol': 'Cu', 'miller_index': [1, 1, 1]} [1, 1, 1]        ads_symbols bulk_symbols miller_index   energy\n",
      "434161          *C           Cu    [1, 1, 1]  3.20178\n"
     ]
    }
   ],
   "source": [
    "filtered_df = pd.DataFrame()\n",
    "for crit in criteria:\n",
    "    symbol = crit['symbol']\n",
    "    miller_indices = crit['miller_index']\n",
    "    if not isinstance(miller_indices[0], list):\n",
    "        miller_indices = [miller_indices]\n",
    "\n",
    "    for index in miller_indices:\n",
    "        temp_df = df2[(df2['bulk_symbols']==symbol) & \n",
    "                     (df2['miller_index'].apply(lambda x: all([a == b for a, b in zip(x, index)]))) & \n",
    "                     (df2['ads_symbols'] == '*C')]\n",
    "        temp_df = temp_df.sort_values(by='bulk_symbols').head(1)        \n",
    "        filtered_df = pd.concat([filtered_df, temp_df])\n",
    "        print(crit, index, temp_df)\n"
   ]
  },
  {
   "cell_type": "code",
   "execution_count": 12,
   "id": "a5795059-54a0-4b43-a29f-654347d9ef80",
   "metadata": {},
   "outputs": [
    {
     "data": {
      "text/html": [
       "<div>\n",
       "<style scoped>\n",
       "    .dataframe tbody tr th:only-of-type {\n",
       "        vertical-align: middle;\n",
       "    }\n",
       "\n",
       "    .dataframe tbody tr th {\n",
       "        vertical-align: top;\n",
       "    }\n",
       "\n",
       "    .dataframe thead th {\n",
       "        text-align: right;\n",
       "    }\n",
       "</style>\n",
       "<table border=\"1\" class=\"dataframe\">\n",
       "  <thead>\n",
       "    <tr style=\"text-align: right;\">\n",
       "      <th></th>\n",
       "      <th>ads_symbols</th>\n",
       "      <th>bulk_symbols</th>\n",
       "      <th>miller_index</th>\n",
       "      <th>energy</th>\n",
       "    </tr>\n",
       "  </thead>\n",
       "  <tbody>\n",
       "    <tr>\n",
       "      <th>291397</th>\n",
       "      <td>*C</td>\n",
       "      <td>Pt</td>\n",
       "      <td>[1, 1, 1]</td>\n",
       "      <td>-0.899093</td>\n",
       "    </tr>\n",
       "    <tr>\n",
       "      <th>434161</th>\n",
       "      <td>*C</td>\n",
       "      <td>Cu</td>\n",
       "      <td>[1, 1, 1]</td>\n",
       "      <td>3.201780</td>\n",
       "    </tr>\n",
       "  </tbody>\n",
       "</table>\n",
       "</div>"
      ],
      "text/plain": [
       "       ads_symbols bulk_symbols miller_index    energy\n",
       "291397          *C           Pt    [1, 1, 1] -0.899093\n",
       "434161          *C           Cu    [1, 1, 1]  3.201780"
      ]
     },
     "execution_count": 12,
     "metadata": {},
     "output_type": "execute_result"
    }
   ],
   "source": [
    "filtered_df"
   ]
  },
  {
   "cell_type": "code",
   "execution_count": null,
   "id": "2a2f2d33-0088-47d3-ad45-3a7fe0e8cd24",
   "metadata": {},
   "outputs": [],
   "source": []
  },
  {
   "cell_type": "code",
   "execution_count": 13,
   "id": "39dfc864-b80f-49af-9e6d-f3311bbf5899",
   "metadata": {},
   "outputs": [],
   "source": [
    "import pickle"
   ]
  },
  {
   "cell_type": "code",
   "execution_count": 14,
   "id": "d7d701f1-0aa9-4793-8d15-577b89c5ff19",
   "metadata": {},
   "outputs": [],
   "source": [
    "with open('datasets/reactions_info.pickle', 'rb') as f:\n",
    "    loaded_list_rinfo = pickle.load(f)"
   ]
  },
  {
   "cell_type": "code",
   "execution_count": 15,
   "id": "5f69bb73-06c3-479e-a48a-2a1e3ce2effe",
   "metadata": {},
   "outputs": [],
   "source": [
    "dfc1 = pd.DataFrame(loaded_list_rinfo)"
   ]
  },
  {
   "cell_type": "code",
   "execution_count": 16,
   "id": "543e6b2f-c4f3-4d62-96fa-fd09426922ec",
   "metadata": {},
   "outputs": [],
   "source": [
    "dfc2 = dfc1[['pkey', 'sc', 'facet', 'nre']]"
   ]
  },
  {
   "cell_type": "code",
   "execution_count": 17,
   "id": "7e73a10e-d714-4680-b491-03175d274133",
   "metadata": {},
   "outputs": [
    {
     "data": {
      "text/html": [
       "<div>\n",
       "<style scoped>\n",
       "    .dataframe tbody tr th:only-of-type {\n",
       "        vertical-align: middle;\n",
       "    }\n",
       "\n",
       "    .dataframe tbody tr th {\n",
       "        vertical-align: top;\n",
       "    }\n",
       "\n",
       "    .dataframe thead th {\n",
       "        text-align: right;\n",
       "    }\n",
       "</style>\n",
       "<table border=\"1\" class=\"dataframe\">\n",
       "  <thead>\n",
       "    <tr style=\"text-align: right;\">\n",
       "      <th></th>\n",
       "      <th>pkey</th>\n",
       "      <th>sc</th>\n",
       "      <th>facet</th>\n",
       "      <th>nre</th>\n",
       "    </tr>\n",
       "  </thead>\n",
       "  <tbody>\n",
       "    <tr>\n",
       "      <th>12134</th>\n",
       "      <td>C</td>\n",
       "      <td>Pt</td>\n",
       "      <td>111</td>\n",
       "      <td>2.222466</td>\n",
       "    </tr>\n",
       "  </tbody>\n",
       "</table>\n",
       "</div>"
      ],
      "text/plain": [
       "      pkey  sc facet       nre\n",
       "12134    C  Pt   111  2.222466"
      ]
     },
     "execution_count": 17,
     "metadata": {},
     "output_type": "execute_result"
    }
   ],
   "source": [
    "dfc2[\n",
    "    (dfc2['sc']=='Pt') &\n",
    "    (dfc2['facet'] == '111') &\n",
    "    (dfc2['pkey'] == 'C')\n",
    "].head(1)"
   ]
  },
  {
   "cell_type": "code",
   "execution_count": 18,
   "id": "02fc0185-6df5-471d-9374-73411852bb6a",
   "metadata": {},
   "outputs": [
    {
     "data": {
      "text/html": [
       "<div>\n",
       "<style scoped>\n",
       "    .dataframe tbody tr th:only-of-type {\n",
       "        vertical-align: middle;\n",
       "    }\n",
       "\n",
       "    .dataframe tbody tr th {\n",
       "        vertical-align: top;\n",
       "    }\n",
       "\n",
       "    .dataframe thead th {\n",
       "        text-align: right;\n",
       "    }\n",
       "</style>\n",
       "<table border=\"1\" class=\"dataframe\">\n",
       "  <thead>\n",
       "    <tr style=\"text-align: right;\">\n",
       "      <th></th>\n",
       "      <th>pkey</th>\n",
       "      <th>sc</th>\n",
       "      <th>facet</th>\n",
       "      <th>nre</th>\n",
       "    </tr>\n",
       "  </thead>\n",
       "  <tbody>\n",
       "    <tr>\n",
       "      <th>12016</th>\n",
       "      <td>C</td>\n",
       "      <td>Ru</td>\n",
       "      <td>111</td>\n",
       "      <td>2.166237</td>\n",
       "    </tr>\n",
       "    <tr>\n",
       "      <th>12019</th>\n",
       "      <td>C</td>\n",
       "      <td>Ru</td>\n",
       "      <td>111</td>\n",
       "      <td>1.599310</td>\n",
       "    </tr>\n",
       "    <tr>\n",
       "      <th>12024</th>\n",
       "      <td>C</td>\n",
       "      <td>Ru</td>\n",
       "      <td>111</td>\n",
       "      <td>3.567144</td>\n",
       "    </tr>\n",
       "  </tbody>\n",
       "</table>\n",
       "</div>"
      ],
      "text/plain": [
       "      pkey  sc facet       nre\n",
       "12016    C  Ru   111  2.166237\n",
       "12019    C  Ru   111  1.599310\n",
       "12024    C  Ru   111  3.567144"
      ]
     },
     "execution_count": 18,
     "metadata": {},
     "output_type": "execute_result"
    }
   ],
   "source": [
    "dfc2[\n",
    "    (dfc2['sc']=='Ru') &\n",
    "    # (dfc2['facet'] == '111') &\n",
    "    (dfc2['pkey'] == 'C')\n",
    "].head()"
   ]
  },
  {
   "cell_type": "code",
   "execution_count": 19,
   "id": "69f07e23-5a6c-4a5f-8619-4fe84e097944",
   "metadata": {},
   "outputs": [
    {
     "data": {
      "text/html": [
       "<div>\n",
       "<style scoped>\n",
       "    .dataframe tbody tr th:only-of-type {\n",
       "        vertical-align: middle;\n",
       "    }\n",
       "\n",
       "    .dataframe tbody tr th {\n",
       "        vertical-align: top;\n",
       "    }\n",
       "\n",
       "    .dataframe thead th {\n",
       "        text-align: right;\n",
       "    }\n",
       "</style>\n",
       "<table border=\"1\" class=\"dataframe\">\n",
       "  <thead>\n",
       "    <tr style=\"text-align: right;\">\n",
       "      <th></th>\n",
       "      <th>pkey</th>\n",
       "      <th>sc</th>\n",
       "      <th>facet</th>\n",
       "      <th>nre</th>\n",
       "    </tr>\n",
       "  </thead>\n",
       "  <tbody>\n",
       "  </tbody>\n",
       "</table>\n",
       "</div>"
      ],
      "text/plain": [
       "Empty DataFrame\n",
       "Columns: [pkey, sc, facet, nre]\n",
       "Index: []"
      ]
     },
     "execution_count": 19,
     "metadata": {},
     "output_type": "execute_result"
    }
   ],
   "source": [
    "dfc2[\n",
    "    (dfc2['sc']=='Ni') &\n",
    "    # (dfc2['facet'] == '111') &\n",
    "    (dfc2['pkey'] == 'C')\n",
    "].head()"
   ]
  },
  {
   "cell_type": "code",
   "execution_count": 20,
   "id": "45117a84-70b4-47fc-b52c-abd991a0c208",
   "metadata": {},
   "outputs": [
    {
     "data": {
      "text/html": [
       "<div>\n",
       "<style scoped>\n",
       "    .dataframe tbody tr th:only-of-type {\n",
       "        vertical-align: middle;\n",
       "    }\n",
       "\n",
       "    .dataframe tbody tr th {\n",
       "        vertical-align: top;\n",
       "    }\n",
       "\n",
       "    .dataframe thead th {\n",
       "        text-align: right;\n",
       "    }\n",
       "</style>\n",
       "<table border=\"1\" class=\"dataframe\">\n",
       "  <thead>\n",
       "    <tr style=\"text-align: right;\">\n",
       "      <th></th>\n",
       "      <th>pkey</th>\n",
       "      <th>sc</th>\n",
       "      <th>facet</th>\n",
       "      <th>nre</th>\n",
       "    </tr>\n",
       "  </thead>\n",
       "  <tbody>\n",
       "    <tr>\n",
       "      <th>42420</th>\n",
       "      <td>C</td>\n",
       "      <td>Co</td>\n",
       "      <td>111</td>\n",
       "      <td>2.292816</td>\n",
       "    </tr>\n",
       "    <tr>\n",
       "      <th>42428</th>\n",
       "      <td>C</td>\n",
       "      <td>Co</td>\n",
       "      <td>111</td>\n",
       "      <td>2.106999</td>\n",
       "    </tr>\n",
       "    <tr>\n",
       "      <th>42434</th>\n",
       "      <td>C</td>\n",
       "      <td>Co</td>\n",
       "      <td>111</td>\n",
       "      <td>3.999846</td>\n",
       "    </tr>\n",
       "  </tbody>\n",
       "</table>\n",
       "</div>"
      ],
      "text/plain": [
       "      pkey  sc facet       nre\n",
       "42420    C  Co   111  2.292816\n",
       "42428    C  Co   111  2.106999\n",
       "42434    C  Co   111  3.999846"
      ]
     },
     "execution_count": 20,
     "metadata": {},
     "output_type": "execute_result"
    }
   ],
   "source": [
    "dfc2[\n",
    "    (dfc2['sc']=='Co') &\n",
    "    # (dfc2['facet'] == '111') &\n",
    "    (dfc2['pkey'] == 'C')\n",
    "].head()"
   ]
  },
  {
   "cell_type": "code",
   "execution_count": 21,
   "id": "1dcf381b-8130-41d2-90db-67076bbb2702",
   "metadata": {},
   "outputs": [
    {
     "data": {
      "text/html": [
       "<div>\n",
       "<style scoped>\n",
       "    .dataframe tbody tr th:only-of-type {\n",
       "        vertical-align: middle;\n",
       "    }\n",
       "\n",
       "    .dataframe tbody tr th {\n",
       "        vertical-align: top;\n",
       "    }\n",
       "\n",
       "    .dataframe thead th {\n",
       "        text-align: right;\n",
       "    }\n",
       "</style>\n",
       "<table border=\"1\" class=\"dataframe\">\n",
       "  <thead>\n",
       "    <tr style=\"text-align: right;\">\n",
       "      <th></th>\n",
       "      <th>pkey</th>\n",
       "      <th>sc</th>\n",
       "      <th>facet</th>\n",
       "      <th>nre</th>\n",
       "    </tr>\n",
       "  </thead>\n",
       "  <tbody>\n",
       "    <tr>\n",
       "      <th>42410</th>\n",
       "      <td>C</td>\n",
       "      <td>Fe</td>\n",
       "      <td>111</td>\n",
       "      <td>2.313203</td>\n",
       "    </tr>\n",
       "  </tbody>\n",
       "</table>\n",
       "</div>"
      ],
      "text/plain": [
       "      pkey  sc facet       nre\n",
       "42410    C  Fe   111  2.313203"
      ]
     },
     "execution_count": 21,
     "metadata": {},
     "output_type": "execute_result"
    }
   ],
   "source": [
    "dfc2[\n",
    "    (dfc2['sc']=='Fe') &\n",
    "    # (dfc2['facet'] == '111') &\n",
    "    (dfc2['pkey'] == 'C')\n",
    "].head()"
   ]
  },
  {
   "cell_type": "code",
   "execution_count": 22,
   "id": "f22df770-f034-43f8-8640-9da5a6f5fd24",
   "metadata": {},
   "outputs": [
    {
     "data": {
      "text/html": [
       "<div>\n",
       "<style scoped>\n",
       "    .dataframe tbody tr th:only-of-type {\n",
       "        vertical-align: middle;\n",
       "    }\n",
       "\n",
       "    .dataframe tbody tr th {\n",
       "        vertical-align: top;\n",
       "    }\n",
       "\n",
       "    .dataframe thead th {\n",
       "        text-align: right;\n",
       "    }\n",
       "</style>\n",
       "<table border=\"1\" class=\"dataframe\">\n",
       "  <thead>\n",
       "    <tr style=\"text-align: right;\">\n",
       "      <th></th>\n",
       "      <th>pkey</th>\n",
       "      <th>sc</th>\n",
       "      <th>facet</th>\n",
       "      <th>nre</th>\n",
       "    </tr>\n",
       "  </thead>\n",
       "  <tbody>\n",
       "    <tr>\n",
       "      <th>12117</th>\n",
       "      <td>C</td>\n",
       "      <td>Cu</td>\n",
       "      <td>111</td>\n",
       "      <td>4.110073</td>\n",
       "    </tr>\n",
       "    <tr>\n",
       "      <th>12118</th>\n",
       "      <td>C</td>\n",
       "      <td>Cu</td>\n",
       "      <td>111</td>\n",
       "      <td>4.163049</td>\n",
       "    </tr>\n",
       "    <tr>\n",
       "      <th>12120</th>\n",
       "      <td>C</td>\n",
       "      <td>Cu</td>\n",
       "      <td>111</td>\n",
       "      <td>5.956332</td>\n",
       "    </tr>\n",
       "  </tbody>\n",
       "</table>\n",
       "</div>"
      ],
      "text/plain": [
       "      pkey  sc facet       nre\n",
       "12117    C  Cu   111  4.110073\n",
       "12118    C  Cu   111  4.163049\n",
       "12120    C  Cu   111  5.956332"
      ]
     },
     "execution_count": 22,
     "metadata": {},
     "output_type": "execute_result"
    }
   ],
   "source": [
    "dfc2[\n",
    "    (dfc2['sc']=='Cu') &\n",
    "    # (dfc2['facet'] == '111') &\n",
    "    (dfc2['pkey'] == 'C')\n",
    "].head()"
   ]
  },
  {
   "cell_type": "code",
   "execution_count": null,
   "id": "229517ea-5c2e-4675-98a7-90b8bb26f370",
   "metadata": {},
   "outputs": [],
   "source": []
  },
  {
   "cell_type": "code",
   "execution_count": 23,
   "id": "b1078dbc-c2cf-46a2-9a26-cfc3a73238bd",
   "metadata": {},
   "outputs": [
    {
     "data": {
      "text/html": [
       "<div>\n",
       "<style scoped>\n",
       "    .dataframe tbody tr th:only-of-type {\n",
       "        vertical-align: middle;\n",
       "    }\n",
       "\n",
       "    .dataframe tbody tr th {\n",
       "        vertical-align: top;\n",
       "    }\n",
       "\n",
       "    .dataframe thead th {\n",
       "        text-align: right;\n",
       "    }\n",
       "</style>\n",
       "<table border=\"1\" class=\"dataframe\">\n",
       "  <thead>\n",
       "    <tr style=\"text-align: right;\">\n",
       "      <th></th>\n",
       "      <th>pkey</th>\n",
       "      <th>sc</th>\n",
       "      <th>facet</th>\n",
       "      <th>nre</th>\n",
       "    </tr>\n",
       "  </thead>\n",
       "  <tbody>\n",
       "    <tr>\n",
       "      <th>12117</th>\n",
       "      <td>C</td>\n",
       "      <td>Cu</td>\n",
       "      <td>111</td>\n",
       "      <td>4.110073</td>\n",
       "    </tr>\n",
       "  </tbody>\n",
       "</table>\n",
       "</div>"
      ],
      "text/plain": [
       "      pkey  sc facet       nre\n",
       "12117    C  Cu   111  4.110073"
      ]
     },
     "execution_count": 23,
     "metadata": {},
     "output_type": "execute_result"
    }
   ],
   "source": [
    "dfc2[\n",
    "    (dfc2['sc']=='Pt') &\n",
    "    (dfc2['facet'] == '111') &\n",
    "    (dfc2['pkey'] == 'C')\n",
    "].head(1)\n",
    "\n",
    "dfc2[\n",
    "    (dfc2['sc']=='Cu') &\n",
    "    (dfc2['facet'] == '111') &\n",
    "    (dfc2['pkey'] == 'C')\n",
    "].head(1)"
   ]
  },
  {
   "cell_type": "code",
   "execution_count": 24,
   "id": "294d5123-2858-46b5-b68a-015e087b2374",
   "metadata": {},
   "outputs": [
    {
     "name": "stdout",
     "output_type": "stream",
     "text": [
      "      pkey  sc facet       nre\n",
      "12134    C  Pt   111  2.222466\n",
      "12117    C  Cu   111  4.110073\n"
     ]
    }
   ],
   "source": [
    "conditions = [\n",
    "    {'sc': 'Pt', 'facet': '111', 'pkey': 'C'},\n",
    "    {'sc': 'Cu', 'facet': '111', 'pkey': 'C'}\n",
    "]\n",
    "merged_df = pd.DataFrame()\n",
    "for condition in conditions:\n",
    "    temp_df = dfc2[\n",
    "        (dfc2['sc'] == condition['sc']) &\n",
    "        (dfc2['facet'] == condition['facet']) &\n",
    "        (dfc2['pkey'] == condition['pkey'])\n",
    "    ].head(1)\n",
    "    \n",
    "    merged_df = pd.concat([merged_df, temp_df])\n",
    "print(merged_df.head())\n"
   ]
  },
  {
   "cell_type": "code",
   "execution_count": null,
   "id": "0bfc06d6-cf4d-41b1-b3f2-5a23deceb0b3",
   "metadata": {},
   "outputs": [],
   "source": []
  },
  {
   "cell_type": "code",
   "execution_count": null,
   "id": "f6f48132-cceb-4a74-b54d-10da2721633f",
   "metadata": {},
   "outputs": [],
   "source": []
  },
  {
   "cell_type": "code",
   "execution_count": null,
   "id": "28e8a36f-e5a2-450e-bc3c-fcf93be34c3e",
   "metadata": {},
   "outputs": [],
   "source": []
  }
 ],
 "metadata": {
  "kernelspec": {
   "display_name": "Python 3 (ipykernel)",
   "language": "python",
   "name": "python3"
  },
  "language_info": {
   "codemirror_mode": {
    "name": "ipython",
    "version": 3
   },
   "file_extension": ".py",
   "mimetype": "text/x-python",
   "name": "python",
   "nbconvert_exporter": "python",
   "pygments_lexer": "ipython3",
   "version": "3.10.9"
  }
 },
 "nbformat": 4,
 "nbformat_minor": 5
}
