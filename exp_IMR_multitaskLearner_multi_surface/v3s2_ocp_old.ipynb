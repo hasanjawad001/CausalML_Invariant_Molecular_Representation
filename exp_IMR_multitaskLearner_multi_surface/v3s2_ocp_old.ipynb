{
 "cells": [
  {
   "cell_type": "code",
   "execution_count": 53,
   "id": "8a7363e7-1435-4e68-bac2-aad976b26379",
   "metadata": {},
   "outputs": [],
   "source": [
    "## 1. extract all slabs from ocp and cathub(mamun)\n",
    "## 2. generate slab descriptor with dimenet++\n",
    "## 3. extract all product from ocp and cathub(mamun)\n",
    "## 4. generate product descriptor with chEMBL\n",
    "## 5. run experiments-\n",
    "##    - multitask learner -> (cathub, ocp) x (xgboost) x (original 1024+1024, pca ncomponents, imr ncomponents)\n",
    "##    - solves n^2 to n, solves descriptor generation for slab/surface"
   ]
  },
  {
   "cell_type": "code",
   "execution_count": 54,
   "id": "3e8a9175-ea23-447f-a41b-9ccc1e44e6c8",
   "metadata": {},
   "outputs": [],
   "source": [
    "import json\n",
    "import pickle\n",
    "import numpy as np\n",
    "from ocpmodels.datasets import SinglePointLmdbDataset \n",
    "import os\n",
    "import ase.io\n",
    "from ase.constraints import FixAtoms\n",
    "from ase.build import add_adsorbate, molecule, surface\n",
    "from pymatgen.ext.matproj import MPRester\n",
    "from pymatgen.core.surface import generate_all_slabs, SlabGenerator\n",
    "from pymatgen.io.ase import AseAtomsAdaptor\n",
    "from ocpmodels.common.relaxation.ase_utils import OCPCalculator\n",
    "from pprint import pprint\n",
    "import pubchempy as pcp\n",
    "from transformers import AutoTokenizer, AutoModel, pipeline\n",
    "import pandas as pd\n",
    "import ray\n",
    "import torch\n",
    "import random"
   ]
  },
  {
   "cell_type": "code",
   "execution_count": 55,
   "id": "f9b51e67-51af-45ce-b403-b5be20094263",
   "metadata": {},
   "outputs": [
    {
     "name": "stdout",
     "output_type": "stream",
     "text": [
      "446885\n"
     ]
    }
   ],
   "source": [
    "with open('datasets/ocp_reactions_info.pickle', 'rb') as f:\n",
    "    loaded_list_data = pickle.load(f)\n",
    "    \n",
    "## this data only contains the lowest energy reaction info\n",
    "## also this includes both train and validation from OCP\n",
    "## but the data can be separated using the adslab_slab_key\n",
    "## check which adslab_slab_key are in train then separate those as train data\n",
    "## check which adslab_slab_key are in validation then separate those as validation data\n",
    "## then your model can be trained\n",
    "print(len(loaded_list_data)) "
   ]
  },
  {
   "cell_type": "code",
   "execution_count": 56,
   "id": "03c63eaa-cdd7-4fb9-972f-3050c506acc3",
   "metadata": {},
   "outputs": [],
   "source": [
    "#####################################################################\n",
    "## data from ocp\n",
    "#####################################################################"
   ]
  },
  {
   "cell_type": "code",
   "execution_count": 57,
   "id": "07e304a0-39d2-422b-b31e-f26c4f2f042f",
   "metadata": {},
   "outputs": [
    {
     "data": {
      "text/plain": [
       "{'bulk_id': 2085,\n",
       " 'ads_id': 29,\n",
       " 'bulk_mpid': 'mp-976273',\n",
       " 'bulk_symbols': 'Hf6Ge4',\n",
       " 'ads_symbols': '*COCH2O',\n",
       " 'miller_index': (2, 1, 0),\n",
       " 'shift': 0.022,\n",
       " 'top': True,\n",
       " 'adsorption_site': ((9.3, 4.58, 26.89),),\n",
       " 'class': 1,\n",
       " 'anomaly': 1,\n",
       " 'adslab_slab_key': 'random2024607',\n",
       " 'energy': -9.992999119999922}"
      ]
     },
     "execution_count": 57,
     "metadata": {},
     "output_type": "execute_result"
    }
   ],
   "source": [
    "loaded_list_data[0]"
   ]
  },
  {
   "cell_type": "code",
   "execution_count": 58,
   "id": "6d16ea48-fcf5-47e4-94a2-e5ff67df1f20",
   "metadata": {},
   "outputs": [],
   "source": [
    "#####################################################################\n",
    "## product descriptors\n",
    "#####################################################################"
   ]
  },
  {
   "cell_type": "code",
   "execution_count": 59,
   "id": "1dadbe09-8272-4f15-803f-6e4701ed47e9",
   "metadata": {},
   "outputs": [
    {
     "name": "stdout",
     "output_type": "stream",
     "text": [
      "{'ads_id': 67,\n",
      " 'ads_symbols': '*NO2NO2',\n",
      " 'adslab_slab_key': 'random1645311',\n",
      " 'adsorption_site': ((6.08, 5.63, 18.81),),\n",
      " 'anomaly': 0,\n",
      " 'bulk_id': 2106,\n",
      " 'bulk_mpid': 'mp-11329',\n",
      " 'bulk_symbols': 'P4W2',\n",
      " 'class': 2,\n",
      " 'energy': 9.999100859999942,\n",
      " 'miller_index': (1, 1, 1),\n",
      " 'pkey': 'NO2NO2',\n",
      " 'shift': 0.022,\n",
      " 'top': True}\n"
     ]
    },
    {
     "data": {
      "text/plain": [
       "68"
      ]
     },
     "execution_count": 59,
     "metadata": {},
     "output_type": "execute_result"
    }
   ],
   "source": [
    "for lld in loaded_list_data[:]:\n",
    "    ads_symbols = lld['ads_symbols']\n",
    "    pkey = ads_symbols.replace('*', '')\n",
    "    lld['pkey'] = pkey\n",
    "\n",
    "pprint(loaded_list_data[-1])\n",
    "\n",
    "list_pkey =  []\n",
    "for data in loaded_list_data:\n",
    "    pkey = data['pkey']\n",
    "    list_pkey.append(pkey)\n",
    "\n",
    "list_pkey = list(set(list_pkey))\n",
    "\n",
    "len(list_pkey)"
   ]
  },
  {
   "cell_type": "code",
   "execution_count": 60,
   "id": "dfbdb54a-358f-4c4d-bcec-ea301eecfe0a",
   "metadata": {},
   "outputs": [],
   "source": [
    "d_pkey_vs_smiles = {\n",
    "    'CH2CO': 'C=C=O',\n",
    "    'COHCHO': 'C(=O)C=O',\n",
    "    'OH2': 'O',\n",
    "    'CH2O': 'C=O',\n",
    "    'COCHO': 'C(=C=O)[O-]',\n",
    "    'CHOH': 'C=O',\n",
    "    'ONN(CH3)2': 'ONN(C)(C)',\n",
    "    'OHCH2CH3': 'CCO',\n",
    "    'NONH': 'N=N[O-]',\n",
    "    'NO2': 'N(=O)[O-]',\n",
    "    'CCHO': 'C#C[O-]',\n",
    "    'OHCH3': 'CO',\n",
    "    'NH': '[NH]',\n",
    "    'COHCOH': 'C(=O)C=O',\n",
    "    'OCH2CH3': 'CC[O-]',\n",
    "    'NNO': '[N-]=[N+]=O',\n",
    "    'CHCH2OH': 'C1CO1',\n",
    "    'CHOCH2OH': 'CC(=O)O',\n",
    "    'CHCOH': 'C=C=O',\n",
    "    'NO': '[N]=O',\n",
    "    'CHOHCHOH': 'CC(=O)O',\n",
    "    'CH2OH': 'C[O-]',\n",
    "    'NNH': '[NH+]#N',\n",
    "    'CCH2': 'C#C',\n",
    "    'OCH3': 'C[O-]',\n",
    "    'CCH3': 'C=[CH]',\n",
    "    'CH2CH3': 'C[CH2+]',\n",
    "    'CHOHCH2': 'C1CO1',\n",
    "    'COHCH2OH': 'CC(=O)O',\n",
    "    'OCH2CHOH': 'CC(=O)O',\n",
    "    'CN': '[C-]#N',\n",
    "    'CHOHCH3': 'CC[O-]',\n",
    "    'CCH2OH': 'C[C]=O',\n",
    "    'CHOCHO': 'C(=O)C=O',\n",
    "    'CHCH': 'C#C',\n",
    "    'CH4': 'C',\n",
    "    'COCH2O': 'C(=O)C=O',\n",
    "    'CHOCHOH': 'CC(=O)[O-]',\n",
    "    'CCH': 'C#[C-]',\n",
    "    'CHOHCH2OH': 'C([CH]O)O',\n",
    "    'N2': 'N#N',\n",
    "    'ONNH2': 'NN=O',\n",
    "    'N': '[N]',\n",
    "    'OCHCH3': 'C1CO1',\n",
    "    'C': '[C]',\n",
    "    'ONH': 'N=O',\n",
    "    'CHCO': 'C#C[O-]',\n",
    "    'CCO': 'C1#CO1',\n",
    "    'CH2CH2OH': 'CC[O-]',\n",
    "    'NO3': '[N+](=O)([O-])[O-]',\n",
    "    'O': '[O]',\n",
    "    'NO2NO2': '[N+](=O)([N+](=O)[O-])[O-]',\n",
    "    'CH2': '[CH2]',\n",
    "    'CHCH2': 'C=[CH]',\n",
    "    'OH': '[OH-]',\n",
    "    'CC': '[C-]#[C+]',\n",
    "    'NHNH': 'N=N',\n",
    "    'H': '[H+]',\n",
    "    'COHCHOH': 'CC(=O)[O-]',\n",
    "    'CH3': '[CH3+]',\n",
    "    'NH3': 'N',\n",
    "    'OHNNCH3': 'C(=O)(N)N',\n",
    "    'CHCHOH': 'C[C]=O',\n",
    "    'COCH3': 'C[C]=O',\n",
    "    'CCHOH': 'C=C=O',\n",
    "    'OHNH2': 'NO',\n",
    "    'COHCH3': 'C1CO1',\n",
    "    'CHCHO': 'C=C=O'\n",
    "}"
   ]
  },
  {
   "cell_type": "code",
   "execution_count": 61,
   "id": "684ecfd6-2110-4a75-b02b-337205d6c868",
   "metadata": {},
   "outputs": [
    {
     "name": "stderr",
     "output_type": "stream",
     "text": [
      "Some weights of the model checkpoint at mrm8488/chEMBL26_smiles_v2 were not used when initializing RobertaModel: ['lm_head.dense.bias', 'lm_head.layer_norm.weight', 'lm_head.bias', 'lm_head.decoder.bias', 'lm_head.layer_norm.bias', 'lm_head.decoder.weight', 'lm_head.dense.weight']\n",
      "- This IS expected if you are initializing RobertaModel from the checkpoint of a model trained on another task or with another architecture (e.g. initializing a BertForSequenceClassification model from a BertForPreTraining model).\n",
      "- This IS NOT expected if you are initializing RobertaModel from the checkpoint of a model that you expect to be exactly identical (initializing a BertForSequenceClassification model from a BertForSequenceClassification model).\n"
     ]
    }
   ],
   "source": [
    "tokenizer = AutoTokenizer.from_pretrained(\"mrm8488/chEMBL26_smiles_v2\")\n",
    "model = AutoModel.from_pretrained(\"mrm8488/chEMBL26_smiles_v2\")\n",
    "fe = pipeline('feature-extraction', model=model, tokenizer=tokenizer, device=-1) ## device= (0 for GPU, -1 for CPU)"
   ]
  },
  {
   "cell_type": "code",
   "execution_count": 62,
   "id": "e93fd148-7c71-4c6d-9459-e85033d3e82e",
   "metadata": {},
   "outputs": [
    {
     "name": "stdout",
     "output_type": "stream",
     "text": [
      "(68, 768)\n"
     ]
    }
   ],
   "source": [
    "list_pkey= list(d_pkey_vs_smiles.keys())\n",
    "list_smiles= list(d_pkey_vs_smiles.values())\n",
    "list_emb_1 = fe(list_smiles)\n",
    "\n",
    "list_emb_2 = []\n",
    "for emb_1 in list_emb_1:\n",
    "    emb_2 = np.mean(np.array(emb_1[0]), axis=0)\n",
    "    list_emb_2.append(emb_2)\n",
    "arr_emb = np.array(list_emb_2)\n",
    "print(arr_emb.shape)\n",
    "\n",
    "d_pkey_vs_desc = {}\n",
    "for i, pkey in enumerate(list_pkey):\n",
    "    d_pkey_vs_desc[pkey] = arr_emb[i]"
   ]
  },
  {
   "cell_type": "code",
   "execution_count": 63,
   "id": "031c83ac-a2bf-40b2-ac67-98e0fed8f79c",
   "metadata": {},
   "outputs": [],
   "source": [
    "for rinfo in loaded_list_data:\n",
    "    rinfo['pdesc'] = d_pkey_vs_desc[rinfo['pkey']]"
   ]
  },
  {
   "cell_type": "code",
   "execution_count": 65,
   "id": "84bbabec-deac-4c29-b80c-2ae5c3bef1c6",
   "metadata": {},
   "outputs": [
    {
     "data": {
      "text/plain": [
       "dict_keys(['bulk_id', 'ads_id', 'bulk_mpid', 'bulk_symbols', 'ads_symbols', 'miller_index', 'shift', 'top', 'adsorption_site', 'class', 'anomaly', 'adslab_slab_key', 'energy', 'pkey', 'pdesc'])"
      ]
     },
     "execution_count": 65,
     "metadata": {},
     "output_type": "execute_result"
    }
   ],
   "source": [
    "loaded_list_data[0].keys()"
   ]
  },
  {
   "cell_type": "code",
   "execution_count": 70,
   "id": "abde5c74-6ac9-4d08-b9b8-ddb3a3842dc7",
   "metadata": {},
   "outputs": [],
   "source": [
    "# loaded_list_data[0]"
   ]
  },
  {
   "cell_type": "code",
   "execution_count": 71,
   "id": "2e0e7b2e-edf5-4374-90bd-8832e809c5db",
   "metadata": {},
   "outputs": [],
   "source": [
    "#####################################################################\n",
    "## slab descriptors\n",
    "#####################################################################"
   ]
  },
  {
   "cell_type": "code",
   "execution_count": 73,
   "id": "4d147ada-8ec1-4354-a03e-cb547636ba57",
   "metadata": {},
   "outputs": [
    {
     "name": "stderr",
     "output_type": "stream",
     "text": [
      "/home/mchowdh5/.local/lib/python3.10/site-packages/mp_api/client/mprester.py:182: UserWarning: mpcontribs-client not installed. Install the package to query MPContribs data, or construct pourbaix diagrams: 'pip install mpcontribs-client'\n",
      "  warnings.warn(\n"
     ]
    }
   ],
   "source": [
    "m = MPRester('Yct0KDbJbqMLWluZEovkwrLXh2VRHXbc')"
   ]
  },
  {
   "cell_type": "code",
   "execution_count": 68,
   "id": "293e4d96-d25b-41c5-a51c-607fc250a116",
   "metadata": {},
   "outputs": [
    {
     "name": "stdout",
     "output_type": "stream",
     "text": [
      "No module named 'ocpmodels.models.'\n"
     ]
    }
   ],
   "source": [
    "try:\n",
    "    config_yml_path = \"ocp/configs/is2re/all/dimenet_plus_plus/dpp.yml\"\n",
    "    checkpoint_path = \"dimenetpp_all.pt\"\n",
    "    # Define the calculator\n",
    "    calc = OCPCalculator(config_yml=config_yml_path, checkpoint=checkpoint_path)\n",
    "except Exception as e:\n",
    "    print(e)\n",
    "    config_yml_path = \"ocp/configs/is2re/all/dimenet_plus_plus/dpp.yml\"\n",
    "    checkpoint_path = \"dimenetpp_all.pt\"\n",
    "    # Define the calculator\n",
    "    calc = OCPCalculator(config_yml=config_yml_path, checkpoint=checkpoint_path)    "
   ]
  },
  {
   "cell_type": "code",
   "execution_count": 72,
   "id": "2b3dec86-1840-497f-a16f-64a010c014b2",
   "metadata": {},
   "outputs": [
    {
     "data": {
      "text/plain": [
       "<ocpmodels.common.relaxation.ase_utils.OCPCalculator at 0x7f56a82f0730>"
      ]
     },
     "execution_count": 72,
     "metadata": {},
     "output_type": "execute_result"
    }
   ],
   "source": [
    "calc"
   ]
  },
  {
   "cell_type": "code",
   "execution_count": 74,
   "id": "018f139f-57f3-4e29-b28d-48b201e01ddd",
   "metadata": {},
   "outputs": [
    {
     "data": {
      "text/plain": [
       "443368"
      ]
     },
     "execution_count": 74,
     "metadata": {},
     "output_type": "execute_result"
    }
   ],
   "source": [
    "# File path for the dataset\n",
    "folder_path = 'datasets/slabs/'\n",
    "\n",
    "# File names\n",
    "file_names = [\n",
    "    \"list_rinfo_0to100000.pkl\",\n",
    "    \"list_rinfo_100000to200000.pkl\",\n",
    "    \"list_rinfo_200000to300000.pkl\",\n",
    "    \"list_rinfo_300000to400000.pkl\",\n",
    "    \"list_rinfo_400000to500000.pkl\"\n",
    "]\n",
    "\n",
    "# Initialize the combined list\n",
    "list_rinfo_all = []\n",
    "\n",
    "# Iterate through each file and append its contents to the combined list\n",
    "for file_name in file_names:\n",
    "    file_path = os.path.join(folder_path, file_name)\n",
    "    with open(file_path, 'rb') as file:\n",
    "        list_rinfo = pickle.load(file)\n",
    "        list_rinfo_all.extend(list_rinfo)\n",
    "\n",
    "# Check the length of the combined list\n",
    "len(list_rinfo_all)"
   ]
  },
  {
   "cell_type": "code",
   "execution_count": 76,
   "id": "1a2a731f-f5b7-43a9-bc8a-95e3b2f64423",
   "metadata": {},
   "outputs": [],
   "source": [
    "for lld in list_rinfo_all[:]:\n",
    "    ads_symbols = lld['ads_symbols']\n",
    "    pkey = ads_symbols.replace('*', '')\n",
    "    lld['pkey'] = pkey"
   ]
  },
  {
   "cell_type": "code",
   "execution_count": 77,
   "id": "10a6d560-8a17-4394-a656-5170b0362473",
   "metadata": {},
   "outputs": [
    {
     "data": {
      "text/plain": [
       "68"
      ]
     },
     "execution_count": 77,
     "metadata": {},
     "output_type": "execute_result"
    }
   ],
   "source": [
    "list_pkey =  []\n",
    "for data in list_rinfo_all:\n",
    "    pkey = data['pkey']\n",
    "    list_pkey.append(pkey)\n",
    "\n",
    "list_pkey = list(set(list_pkey))\n",
    "\n",
    "len(list_pkey)"
   ]
  },
  {
   "cell_type": "code",
   "execution_count": 21,
   "id": "5a28b2f4-8d85-4aec-b2a8-67d9d82aec2d",
   "metadata": {},
   "outputs": [],
   "source": [
    "d_pkey_vs_smiles = {\n",
    "    'CH2CO': 'C=C=O',\n",
    "    'COHCHO': 'C(=O)C=O',\n",
    "    'OH2': 'O',\n",
    "    'CH2O': 'C=O',\n",
    "    'COCHO': 'C(=C=O)[O-]',\n",
    "    'CHOH': 'C=O',\n",
    "    'ONN(CH3)2': 'ONN(C)(C)',\n",
    "    'OHCH2CH3': 'CCO',\n",
    "    'NONH': 'N=N[O-]',\n",
    "    'NO2': 'N(=O)[O-]',\n",
    "    'CCHO': 'C#C[O-]',\n",
    "    'OHCH3': 'CO',\n",
    "    'NH': '[NH]',\n",
    "    'COHCOH': 'C(=O)C=O',\n",
    "    'OCH2CH3': 'CC[O-]',\n",
    "    'NNO': '[N-]=[N+]=O',\n",
    "    'CHCH2OH': 'C1CO1',\n",
    "    'CHOCH2OH': 'CC(=O)O',\n",
    "    'CHCOH': 'C=C=O',\n",
    "    'NO': '[N]=O',\n",
    "    'CHOHCHOH': 'CC(=O)O',\n",
    "    'CH2OH': 'C[O-]',\n",
    "    'NNH': '[NH+]#N',\n",
    "    'CCH2': 'C#C',\n",
    "    'OCH3': 'C[O-]',\n",
    "    'CCH3': 'C=[CH]',\n",
    "    'CH2CH3': 'C[CH2+]',\n",
    "    'CHOHCH2': 'C1CO1',\n",
    "    'COHCH2OH': 'CC(=O)O',\n",
    "    'OCH2CHOH': 'CC(=O)O',\n",
    "    'CN': '[C-]#N',\n",
    "    'CHOHCH3': 'CC[O-]',\n",
    "    'CCH2OH': 'C[C]=O',\n",
    "    'CHOCHO': 'C(=O)C=O',\n",
    "    'CHCH': 'C#C',\n",
    "    'CH4': 'C',\n",
    "    'COCH2O': 'C(=O)C=O',\n",
    "    'CHOCHOH': 'CC(=O)[O-]',\n",
    "    'CCH': 'C#[C-]',\n",
    "    'CHOHCH2OH': 'C([CH]O)O',\n",
    "    'N2': 'N#N',\n",
    "    'ONNH2': 'NN=O',\n",
    "    'N': '[N]',\n",
    "    'OCHCH3': 'C1CO1',\n",
    "    'C': '[C]',\n",
    "    'ONH': 'N=O',\n",
    "    'CHCO': 'C#C[O-]',\n",
    "    'CCO': 'C1#CO1',\n",
    "    'CH2CH2OH': 'CC[O-]',\n",
    "    'NO3': '[N+](=O)([O-])[O-]',\n",
    "    'O': '[O]',\n",
    "    'NO2NO2': '[N+](=O)([N+](=O)[O-])[O-]',\n",
    "    'CH2': '[CH2]',\n",
    "    'CHCH2': 'C=[CH]',\n",
    "    'OH': '[OH-]',\n",
    "    'CC': '[C-]#[C+]',\n",
    "    'NHNH': 'N=N',\n",
    "    'H': '[H+]',\n",
    "    'COHCHOH': 'CC(=O)[O-]',\n",
    "    'CH3': '[CH3+]',\n",
    "    'NH3': 'N',\n",
    "    'OHNNCH3': 'C(=O)(N)N',\n",
    "    'CHCHOH': 'C[C]=O',\n",
    "    'COCH3': 'C[C]=O',\n",
    "    'CCHOH': 'C=C=O',\n",
    "    'OHNH2': 'NO',\n",
    "    'COHCH3': 'C1CO1',\n",
    "    'CHCHO': 'C=C=O'\n",
    "}"
   ]
  },
  {
   "cell_type": "code",
   "execution_count": 21,
   "id": "48b59275-3356-49c0-a93a-6d7d849e9581",
   "metadata": {},
   "outputs": [],
   "source": [
    "tokenizer = AutoTokenizer.from_pretrained(\"mrm8488/chEMBL26_smiles_v2\")\n",
    "model = AutoModel.from_pretrained(\"mrm8488/chEMBL26_smiles_v2\")\n",
    "fe = pipeline('feature-extraction', model=model, tokenizer=tokenizer, device=-1) ## device= (0 for GPU, -1 for CPU)"
   ]
  },
  {
   "cell_type": "code",
   "execution_count": 78,
   "id": "79eb9f31-4b83-41da-8737-2487673e955d",
   "metadata": {},
   "outputs": [
    {
     "name": "stdout",
     "output_type": "stream",
     "text": [
      "(68, 768)\n"
     ]
    }
   ],
   "source": [
    "list_pkey= list(d_pkey_vs_smiles.keys())\n",
    "list_smiles= list(d_pkey_vs_smiles.values())\n",
    "list_emb_1 = fe(list_smiles)\n",
    "\n",
    "list_emb_2 = []\n",
    "for emb_1 in list_emb_1:\n",
    "    emb_2 = np.mean(np.array(emb_1[0]), axis=0)\n",
    "    list_emb_2.append(emb_2)\n",
    "arr_emb = np.array(list_emb_2)\n",
    "print(arr_emb.shape)\n",
    "\n",
    "d_pkey_vs_desc = {}\n",
    "for i, pkey in enumerate(list_pkey):\n",
    "    d_pkey_vs_desc[pkey] = arr_emb[i]"
   ]
  },
  {
   "cell_type": "code",
   "execution_count": 79,
   "id": "a93d992c-4172-45a8-8639-323f43d7dc9c",
   "metadata": {},
   "outputs": [],
   "source": [
    "for rinfo in list_rinfo_all:\n",
    "    rinfo['pdesc'] = d_pkey_vs_desc[rinfo['pkey']]"
   ]
  },
  {
   "cell_type": "code",
   "execution_count": 81,
   "id": "eed93784-e136-4e63-b3c1-e1e2a40dcc28",
   "metadata": {},
   "outputs": [
    {
     "data": {
      "text/plain": [
       "dict_keys(['bulk_id', 'ads_id', 'bulk_mpid', 'bulk_symbols', 'ads_symbols', 'miller_index', 'shift', 'top', 'adsorption_site', 'class', 'anomaly', 'adslab_slab_key', 'energy', 'slab', 'pkey', 'pdesc'])"
      ]
     },
     "execution_count": 81,
     "metadata": {},
     "output_type": "execute_result"
    }
   ],
   "source": [
    "list_rinfo_all[0].keys()"
   ]
  },
  {
   "cell_type": "code",
   "execution_count": 83,
   "id": "ef11a125-0419-4743-b5ab-4ab0d836aeb2",
   "metadata": {},
   "outputs": [],
   "source": [
    "# list_rinfo_all[0]"
   ]
  },
  {
   "cell_type": "code",
   "execution_count": 21,
   "id": "f7bbe2ef-aa9b-4ee6-8999-1f1695a5ed8c",
   "metadata": {},
   "outputs": [],
   "source": []
  },
  {
   "cell_type": "code",
   "execution_count": 21,
   "id": "14290f04-4146-4ca4-bf48-a974d5e366d8",
   "metadata": {},
   "outputs": [],
   "source": []
  },
  {
   "cell_type": "code",
   "execution_count": 21,
   "id": "27e02076-cae5-4f84-8f09-6e067c0170c2",
   "metadata": {},
   "outputs": [],
   "source": []
  },
  {
   "cell_type": "code",
   "execution_count": 21,
   "id": "083647a5-3a6a-4775-a8b8-f46e362d0b77",
   "metadata": {},
   "outputs": [],
   "source": []
  },
  {
   "cell_type": "code",
   "execution_count": 21,
   "id": "96c06756-544a-433e-8da3-16c17f8782dc",
   "metadata": {},
   "outputs": [],
   "source": []
  },
  {
   "cell_type": "code",
   "execution_count": 21,
   "id": "8468936d-7b36-44d2-aa5d-c673e23b0257",
   "metadata": {},
   "outputs": [
    {
     "name": "stdout",
     "output_type": "stream",
     "text": [
      "0\n",
      "500\n",
      "1000\n",
      "1500\n",
      "2000\n",
      "2500\n",
      "3000\n",
      "3500\n",
      "4000\n",
      "4500\n",
      "5000\n",
      "5500\n",
      "6000\n",
      "6500\n",
      "7000\n",
      "7500\n",
      "8000\n",
      "8500\n",
      "9000\n",
      "9500\n",
      "10000\n",
      "10500\n",
      "11000\n"
     ]
    }
   ],
   "source": [
    "for i, rinfo in enumerate(list_rinfo):\n",
    "    if i%500==0:\n",
    "        print(i)\n",
    "    ase_slab = rinfo['slab']\n",
    "    adslab = ase_slab.copy()            \n",
    "        \n",
    "    ## set additional info\n",
    "    tags = np.zeros(len(adslab))\n",
    "    tags[18:27] = 1\n",
    "    tags[27:] = 2\n",
    "    adslab.set_tags(tags)\n",
    "    cons= FixAtoms(indices=[atom.index for atom in adslab if (atom.tag == 0)])\n",
    "    adslab.set_constraint(cons)\n",
    "    adslab.center(vacuum=13.0, axis=2)\n",
    "    adslab.set_pbc(True)\n",
    "\n",
    "    ## calculator, energy, embeddings\n",
    "    adslab.calc = calc\n",
    "    ads_energy = adslab.get_potential_energy()\n",
    "    min_ads_embs = torch.min(calc.trainer.model.module.embs[0], dim=0).values        \n",
    "    mean_ads_embs = torch.mean(calc.trainer.model.module.embs[0], dim=0)    \n",
    "    max_ads_embs = torch.max(calc.trainer.model.module.embs[0], dim=0).values    \n",
    "    # sum_ads_embs = torch.sum(calc.trainer.model.module.embs[0], dim=0)                \n",
    "    # print(min_ads_embs.shape, mean_ads_embs.shape, max_ads_embs.shape)\n",
    "    combined_embs = torch.cat((min_ads_embs, mean_ads_embs, max_ads_embs))    \n",
    "    rinfo['sdesc'] = combined_embs.numpy()"
   ]
  },
  {
   "cell_type": "code",
   "execution_count": 25,
   "id": "e7dc679b-5761-4510-b472-e2aa99ace186",
   "metadata": {},
   "outputs": [
    {
     "data": {
      "text/plain": [
       "dict_keys(['sc', 'slab', 'star', 'facet', 'pkey', 'pval', 're', 'nre', 'pdesc', 'sdesc'])"
      ]
     },
     "execution_count": 25,
     "metadata": {},
     "output_type": "execute_result"
    }
   ],
   "source": [
    "list_rinfo[-1].keys()"
   ]
  },
  {
   "cell_type": "code",
   "execution_count": 26,
   "id": "6611ca81-de75-41f4-8b00-d670f65880f3",
   "metadata": {},
   "outputs": [],
   "source": [
    "sdesc_columns = [f's{i}' for i in range(768)]\n",
    "pdesc_columns = [f'p{i}' for i in range(768)]\n",
    "columns = sdesc_columns + pdesc_columns + ['energy']\n",
    "data = []\n",
    "for i, rinfo in enumerate(list_rinfo):\n",
    "    try:\n",
    "        sdesc_flat = rinfo['sdesc'].flatten()\n",
    "        pdesc_flat = rinfo['pdesc'].flatten()\n",
    "        energy = rinfo['nre']\n",
    "        row = list(sdesc_flat) + list(pdesc_flat) + [energy]\n",
    "        data.append(row)\n",
    "    except Exception as e:\n",
    "        print(i, e)\n",
    "df = pd.DataFrame(data, columns=columns)"
   ]
  },
  {
   "cell_type": "code",
   "execution_count": 27,
   "id": "ec9b0870-6845-4246-897a-8412a077561d",
   "metadata": {},
   "outputs": [
    {
     "name": "stdout",
     "output_type": "stream",
     "text": [
      "(11257, 1537)\n"
     ]
    },
    {
     "data": {
      "text/html": [
       "<div>\n",
       "<style scoped>\n",
       "    .dataframe tbody tr th:only-of-type {\n",
       "        vertical-align: middle;\n",
       "    }\n",
       "\n",
       "    .dataframe tbody tr th {\n",
       "        vertical-align: top;\n",
       "    }\n",
       "\n",
       "    .dataframe thead th {\n",
       "        text-align: right;\n",
       "    }\n",
       "</style>\n",
       "<table border=\"1\" class=\"dataframe\">\n",
       "  <thead>\n",
       "    <tr style=\"text-align: right;\">\n",
       "      <th></th>\n",
       "      <th>s0</th>\n",
       "      <th>s1</th>\n",
       "      <th>s2</th>\n",
       "      <th>s3</th>\n",
       "      <th>s4</th>\n",
       "      <th>s5</th>\n",
       "      <th>s6</th>\n",
       "      <th>s7</th>\n",
       "      <th>s8</th>\n",
       "      <th>s9</th>\n",
       "      <th>...</th>\n",
       "      <th>p759</th>\n",
       "      <th>p760</th>\n",
       "      <th>p761</th>\n",
       "      <th>p762</th>\n",
       "      <th>p763</th>\n",
       "      <th>p764</th>\n",
       "      <th>p765</th>\n",
       "      <th>p766</th>\n",
       "      <th>p767</th>\n",
       "      <th>energy</th>\n",
       "    </tr>\n",
       "  </thead>\n",
       "  <tbody>\n",
       "    <tr>\n",
       "      <th>0</th>\n",
       "      <td>-1.949540</td>\n",
       "      <td>-1.757610</td>\n",
       "      <td>-1.190355</td>\n",
       "      <td>-2.212169</td>\n",
       "      <td>0.684488</td>\n",
       "      <td>0.847683</td>\n",
       "      <td>-2.514778</td>\n",
       "      <td>-1.685970</td>\n",
       "      <td>-1.849821</td>\n",
       "      <td>-1.727471</td>\n",
       "      <td>...</td>\n",
       "      <td>0.912192</td>\n",
       "      <td>0.652321</td>\n",
       "      <td>0.835792</td>\n",
       "      <td>-2.122195</td>\n",
       "      <td>-0.916445</td>\n",
       "      <td>-1.751576</td>\n",
       "      <td>0.783765</td>\n",
       "      <td>-1.780947</td>\n",
       "      <td>-0.901280</td>\n",
       "      <td>-2.810391</td>\n",
       "    </tr>\n",
       "    <tr>\n",
       "      <th>1</th>\n",
       "      <td>-1.588849</td>\n",
       "      <td>-2.084145</td>\n",
       "      <td>-2.292490</td>\n",
       "      <td>-1.887519</td>\n",
       "      <td>-0.122827</td>\n",
       "      <td>-0.544024</td>\n",
       "      <td>-1.935229</td>\n",
       "      <td>-1.545543</td>\n",
       "      <td>-1.634236</td>\n",
       "      <td>-0.257900</td>\n",
       "      <td>...</td>\n",
       "      <td>0.133178</td>\n",
       "      <td>0.967194</td>\n",
       "      <td>0.530776</td>\n",
       "      <td>-0.386460</td>\n",
       "      <td>0.284255</td>\n",
       "      <td>-1.429858</td>\n",
       "      <td>1.077861</td>\n",
       "      <td>-0.831704</td>\n",
       "      <td>-0.738524</td>\n",
       "      <td>-4.468474</td>\n",
       "    </tr>\n",
       "  </tbody>\n",
       "</table>\n",
       "<p>2 rows × 1537 columns</p>\n",
       "</div>"
      ],
      "text/plain": [
       "         s0        s1        s2        s3        s4        s5        s6  \\\n",
       "0 -1.949540 -1.757610 -1.190355 -2.212169  0.684488  0.847683 -2.514778   \n",
       "1 -1.588849 -2.084145 -2.292490 -1.887519 -0.122827 -0.544024 -1.935229   \n",
       "\n",
       "         s7        s8        s9  ...      p759      p760      p761      p762  \\\n",
       "0 -1.685970 -1.849821 -1.727471  ...  0.912192  0.652321  0.835792 -2.122195   \n",
       "1 -1.545543 -1.634236 -0.257900  ...  0.133178  0.967194  0.530776 -0.386460   \n",
       "\n",
       "       p763      p764      p765      p766      p767    energy  \n",
       "0 -0.916445 -1.751576  0.783765 -1.780947 -0.901280 -2.810391  \n",
       "1  0.284255 -1.429858  1.077861 -0.831704 -0.738524 -4.468474  \n",
       "\n",
       "[2 rows x 1537 columns]"
      ]
     },
     "execution_count": 27,
     "metadata": {},
     "output_type": "execute_result"
    }
   ],
   "source": [
    "df.to_pickle('v3/cathub_df.pickle')\n",
    "print(df.shape)\n",
    "df.head(2)"
   ]
  },
  {
   "cell_type": "code",
   "execution_count": null,
   "id": "1cd42bff-bae4-43b2-8ecb-bbc9f8ec1448",
   "metadata": {},
   "outputs": [],
   "source": []
  },
  {
   "cell_type": "code",
   "execution_count": null,
   "id": "eafae6ff-9a00-4876-9713-476a4b4f442e",
   "metadata": {},
   "outputs": [],
   "source": []
  },
  {
   "cell_type": "code",
   "execution_count": null,
   "id": "fad4293e-e881-4790-9099-27445945224a",
   "metadata": {},
   "outputs": [],
   "source": []
  },
  {
   "cell_type": "code",
   "execution_count": null,
   "id": "d073fd45-2cc7-4f53-ae6c-8d78f0c76be2",
   "metadata": {},
   "outputs": [],
   "source": []
  }
 ],
 "metadata": {
  "kernelspec": {
   "display_name": "Python 3 (ipykernel)",
   "language": "python",
   "name": "python3"
  },
  "language_info": {
   "codemirror_mode": {
    "name": "ipython",
    "version": 3
   },
   "file_extension": ".py",
   "mimetype": "text/x-python",
   "name": "python",
   "nbconvert_exporter": "python",
   "pygments_lexer": "ipython3",
   "version": "3.10.9"
  }
 },
 "nbformat": 4,
 "nbformat_minor": 5
}
