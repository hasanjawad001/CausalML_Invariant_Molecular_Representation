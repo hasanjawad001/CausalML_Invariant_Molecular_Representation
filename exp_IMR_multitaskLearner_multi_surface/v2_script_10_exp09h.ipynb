{
 "cells": [
  {
   "cell_type": "code",
   "execution_count": null,
   "id": "e9bfca20-29db-42d5-b0d5-fbab70046eda",
   "metadata": {},
   "outputs": [],
   "source": [
    "## created from exp9g\n",
    "## exp_name = 'exp9h'\n",
    "## remove commenting on training of Invariant Model\n",
    "## 1e-3 x 1000 (instead of 1e-4 x 10000)\n",
    "## from 1024 => *0.5 => *0.25 (9e)\n",
    "## use nonlinear head (9f)\n",
    "## use optimizer.step() separately for each data source loss (9g)\n",
    "## going to use the trained model from 9g but instead of xgboost, \n",
    "##         going to use the head of the trained model to predict (9h)\n",
    "##         so just create another trained model from 9g with name 9h and use it"
   ]
  },
  {
   "cell_type": "code",
   "execution_count": 1,
   "id": "b8e9b2f4-f402-4144-9cf9-f2420f8b7850",
   "metadata": {},
   "outputs": [],
   "source": [
    "## install\n",
    "# !pip install xgboost"
   ]
  },
  {
   "cell_type": "code",
   "execution_count": 2,
   "id": "1ac7d380-e4a0-4341-8aaa-7e19096d13b8",
   "metadata": {},
   "outputs": [],
   "source": [
    "## import\n",
    "import pandas as pd\n",
    "from sklearn.model_selection import train_test_split\n",
    "from sklearn.linear_model import Ridge\n",
    "from sklearn.metrics import mean_absolute_error, r2_score\n",
    "import matplotlib.pyplot as plt\n",
    "import numpy as np\n",
    "import seaborn as sns\n",
    "import xgboost as xgb\n",
    "from sklearn.decomposition import PCA\n",
    "import torch\n",
    "import torch.nn as nn\n",
    "from torch.nn import DataParallel\n",
    "from torch.utils.data import DataLoader, TensorDataset\n",
    "from itertools import cycle"
   ]
  },
  {
   "cell_type": "code",
   "execution_count": 3,
   "id": "d28eb635-53ac-43f8-a049-700ab0760429",
   "metadata": {},
   "outputs": [
    {
     "data": {
      "text/plain": [
       "<torch._C.Generator at 0x7f355d93dd70>"
      ]
     },
     "execution_count": 3,
     "metadata": {},
     "output_type": "execute_result"
    }
   ],
   "source": [
    "## variables\n",
    "seed = 42\n",
    "ratio_test = 0.2\n",
    "exp_name = 'exp9h' ## change\n",
    "np.random.seed(seed)\n",
    "torch.manual_seed(seed)"
   ]
  },
  {
   "cell_type": "code",
   "execution_count": 4,
   "id": "f6ddcbba-20c3-471d-b30b-b3f82823fbd2",
   "metadata": {},
   "outputs": [],
   "source": [
    "## class\n",
    "class InvariantModel(nn.Module):\n",
    "    def __init__(self, len_embedding, abstract_len_embedding):\n",
    "        super(InvariantModel, self).__init__()\n",
    "        self.loss = nn.L1Loss(reduction=\"mean\") \n",
    "        self.len_embedding = len_embedding\n",
    "        self.abstract_len_embedding = abstract_len_embedding  \n",
    "        self.encoder = nn.Sequential(\n",
    "            ## 1024 to ...\n",
    "            nn.Linear(self.len_embedding, int(self.len_embedding*0.5)),\n",
    "            nn.ReLU(),\n",
    "            nn.BatchNorm1d(int(self.len_embedding*0.5)), \n",
    "            ## ... to ...\n",
    "            nn.Linear(int(self.len_embedding*0.5), self.abstract_len_embedding),\n",
    "        )\n",
    "        self.head1 = nn.Sequential(\n",
    "            nn.Linear(self.abstract_len_embedding, int(self.abstract_len_embedding * 0.5)),\n",
    "            nn.ReLU(),\n",
    "            nn.BatchNorm1d(int(self.abstract_len_embedding * 0.5)),  # Add BatchNorm1d here\n",
    "            nn.Linear(int(self.abstract_len_embedding * 0.5), 1)\n",
    "        )\n",
    "        self.head2 = nn.Sequential(\n",
    "            nn.Linear(self.abstract_len_embedding, int(self.abstract_len_embedding * 0.5)),\n",
    "            nn.ReLU(),\n",
    "            nn.BatchNorm1d(int(self.abstract_len_embedding * 0.5)),  # Add BatchNorm1d here\n",
    "            nn.Linear(int(self.abstract_len_embedding * 0.5), 1)\n",
    "        )\n",
    "        \n",
    "    def forward(self, x, dataset_id):\n",
    "        x = self.encoder(x)\n",
    "        if dataset_id == 1:\n",
    "            return self.head1(x)\n",
    "        else:\n",
    "            return self.head2(x)"
   ]
  },
  {
   "cell_type": "code",
   "execution_count": 5,
   "id": "ec80a5f0-17ac-4044-b74c-8722bd6b7cb6",
   "metadata": {},
   "outputs": [],
   "source": [
    "## function\n",
    "\n",
    "def get_model_invariant(train_loader1, train_loader2, len_embedding, abstract_len_embedding):    \n",
    "    print(f'len_embedding: {len_embedding}, abstract_len_embedding: {abstract_len_embedding}')\n",
    "    \n",
    "    _lr, num_iterations = 1e-3, 1000\n",
    "    device = torch.device(\"cuda\" if torch.cuda.is_available() else \"cpu\")\n",
    "    model_invariant = InvariantModel(len_embedding, abstract_len_embedding)\n",
    "    if torch.cuda.is_available():\n",
    "        model_invariant = DataParallel(model_invariant)\n",
    "    model_invariant.to(device)\n",
    "    optimizer_invariant = torch.optim.Adam(model_invariant.parameters(), lr=_lr)\n",
    "\n",
    "    model_invariant.train()\n",
    "    for epoch in range(num_iterations):\n",
    "        total_loss = 0.0\n",
    "\n",
    "        # Cycle through the smaller dataset\n",
    "        train_loader1_cycle = cycle(train_loader1)\n",
    "        train_loader2_cycle = cycle(train_loader2)\n",
    "\n",
    "        # Determine the maximum number of batches between the two datasets\n",
    "        max_batches = max(len(train_loader1), len(train_loader2))\n",
    "\n",
    "        for i in range(max_batches):\n",
    "            # Get batch from each dataset; cycle the smaller dataset\n",
    "            data1 = next(train_loader1_cycle)\n",
    "            data2 = next(train_loader2_cycle)\n",
    "\n",
    "            optimizer_invariant.zero_grad()\n",
    "            # Process dataset 1\n",
    "            inputs1, labels1 = data1[0].to(device), data1[1].to(device)\n",
    "            outputs1 = model_invariant(inputs1, dataset_id=1).squeeze()\n",
    "            loss1 = model_invariant.module.loss(outputs1, labels1) if isinstance(model_invariant, DataParallel) else model_invariant.loss(outputs1, labels1)            \n",
    "            loss1.backward()\n",
    "            optimizer_invariant.step()\n",
    "\n",
    "            optimizer_invariant.zero_grad()            \n",
    "            # Process dataset 2\n",
    "            inputs2, labels2 = data2[0].to(device), data2[1].to(device)\n",
    "            outputs2 = model_invariant(inputs2, dataset_id=2).squeeze()\n",
    "            loss2 = model_invariant.module.loss(outputs2, labels2) if isinstance(model_invariant, DataParallel) else model_invariant.loss(outputs2, labels2)            \n",
    "            loss2.backward()\n",
    "            optimizer_invariant.step()\n",
    "            \n",
    "            total_loss += (loss1.item()+loss2.item())\n",
    "\n",
    "\n",
    "        if epoch % 1 == 0:\n",
    "            with open('v2_script_10/logger_' + exp_name + '.log', 'a+') as file1:\n",
    "                file1.writelines(f'epoch: {epoch}, total_loss: {total_loss:.6f}\\n\\n')\n",
    "                \n",
    "    return model_invariant"
   ]
  },
  {
   "cell_type": "code",
   "execution_count": 6,
   "id": "a535c08e-e72f-4a95-abf2-4be5d63f1c41",
   "metadata": {},
   "outputs": [],
   "source": [
    "## check for word ('cathub/ocp', 'nre/energy', 'original/pca')\n",
    "## common (dimenet++, Two-Functional-Model, xgboost) \n",
    "## (cathub/ocp x org/pca/imr x MAE/r2) "
   ]
  },
  {
   "cell_type": "code",
   "execution_count": 31,
   "id": "b6ff9db3-2f73-4c24-bc30-7bae15444d84",
   "metadata": {},
   "outputs": [
    {
     "name": "stdout",
     "output_type": "stream",
     "text": [
      "(8750, 1024) (2188, 1024) (8750,) (2188,)\n",
      "(263890, 1024) (65973, 1024) (263890,) (65973,)\n"
     ]
    }
   ],
   "source": [
    "## 5. cathub, imr, (MAE, r2)\n",
    "## 6. ocp, imr, (MAE, r2)\n",
    "\n",
    "df1 = pd.read_pickle(f'datasets/df_cathub_dpp_combined.pickle')\n",
    "X1 = df1.iloc[:, :-1].values\n",
    "y1 = df1['nre'].values\n",
    "X_train1, X_test1, y_train1, y_test1 = train_test_split(X1, y1, test_size=ratio_test, random_state=seed)\n",
    "df2 = pd.read_pickle(f'datasets/df_ocp_dpp_combined.pickle')\n",
    "X2 = df2.iloc[:, :-1].values\n",
    "y2 = df2['energy'].values\n",
    "X_train2, X_test2, y_train2, y_test2 = train_test_split(X2, y2, test_size=ratio_test, random_state=seed)\n",
    "print(X_train1.shape, X_test1.shape, y_train1.shape, y_test1.shape)\n",
    "print(X_train2.shape, X_test2.shape, y_train2.shape, y_test2.shape)"
   ]
  },
  {
   "cell_type": "code",
   "execution_count": 32,
   "id": "db0a7f97-85b2-49fe-83ac-c60401dcb6a0",
   "metadata": {},
   "outputs": [],
   "source": [
    "# Convert to PyTorch Tensors\n",
    "train_data1 = TensorDataset(torch.tensor(X_train1, dtype=torch.float32), torch.tensor(y_train1, dtype=torch.float32))\n",
    "train_data2 = TensorDataset(torch.tensor(X_train2, dtype=torch.float32), torch.tensor(y_train2, dtype=torch.float32))\n",
    "\n",
    "# Create Data Loaders\n",
    "batch_size = 10000  # Set your batch size\n",
    "train_loader1 = DataLoader(train_data1, batch_size=batch_size, shuffle=True)\n",
    "train_loader2 = DataLoader(train_data2, batch_size=batch_size, shuffle=True)"
   ]
  },
  {
   "cell_type": "code",
   "execution_count": 33,
   "id": "441a00c6-5755-4f2d-bb9f-a7a340b9cc67",
   "metadata": {},
   "outputs": [
    {
     "data": {
      "text/plain": [
       "(1, 27)"
      ]
     },
     "execution_count": 33,
     "metadata": {},
     "output_type": "execute_result"
    }
   ],
   "source": [
    "len(train_loader1), len(train_loader2)"
   ]
  },
  {
   "cell_type": "code",
   "execution_count": 34,
   "id": "95281e21-4d58-4c65-8787-a2270c70d6b2",
   "metadata": {},
   "outputs": [],
   "source": [
    "# ## build a InvariantModel to transform 'd' to 'pca(d)',\n",
    "# ## use that 'InvariantModel transformation' instead of pca\n",
    "# len_embedding = 1024\n",
    "# abstract_len_embedding = int(len_embedding*0.25)   \n",
    "# model_invariant = get_model_invariant(\n",
    "#     train_loader1, train_loader2, \n",
    "#     len_embedding, abstract_len_embedding,    \n",
    "# )\n",
    "# ## save the model\n",
    "# model_path = 'v2_script_10/model_invariant_' + exp_name + '.pt'\n",
    "# torch.save(model_invariant.state_dict(), model_path)"
   ]
  },
  {
   "cell_type": "code",
   "execution_count": 35,
   "id": "aad32538-e808-4e87-a18a-8b7a67a45fc0",
   "metadata": {},
   "outputs": [],
   "source": [
    "##############################################\n",
    "## evaluation\n",
    "##############################################"
   ]
  },
  {
   "cell_type": "code",
   "execution_count": 36,
   "id": "667d0206-3a1e-40af-b468-2eae0a40a12f",
   "metadata": {},
   "outputs": [
    {
     "data": {
      "text/plain": [
       "InvariantModel(\n",
       "  (loss): L1Loss()\n",
       "  (encoder): Sequential(\n",
       "    (0): Linear(in_features=1024, out_features=512, bias=True)\n",
       "    (1): ReLU()\n",
       "    (2): BatchNorm1d(512, eps=1e-05, momentum=0.1, affine=True, track_running_stats=True)\n",
       "    (3): Linear(in_features=512, out_features=256, bias=True)\n",
       "  )\n",
       "  (head1): Sequential(\n",
       "    (0): Linear(in_features=256, out_features=128, bias=True)\n",
       "    (1): ReLU()\n",
       "    (2): BatchNorm1d(128, eps=1e-05, momentum=0.1, affine=True, track_running_stats=True)\n",
       "    (3): Linear(in_features=128, out_features=1, bias=True)\n",
       "  )\n",
       "  (head2): Sequential(\n",
       "    (0): Linear(in_features=256, out_features=128, bias=True)\n",
       "    (1): ReLU()\n",
       "    (2): BatchNorm1d(128, eps=1e-05, momentum=0.1, affine=True, track_running_stats=True)\n",
       "    (3): Linear(in_features=128, out_features=1, bias=True)\n",
       "  )\n",
       ")"
      ]
     },
     "execution_count": 36,
     "metadata": {},
     "output_type": "execute_result"
    }
   ],
   "source": [
    "# load the model\n",
    "exp_name = 'exp9h'\n",
    "len_embedding = 1024\n",
    "abstract_len_embedding = int(len_embedding*0.25)   \n",
    "model_path = 'v2_script_10/model_invariant_' + exp_name + '.pt'\n",
    "model_invariant = DataParallel(InvariantModel(len_embedding, abstract_len_embedding))\n",
    "model_invariant.load_state_dict(torch.load(model_path))\n",
    "model_invariant = model_invariant.module\n",
    "model_invariant.eval()"
   ]
  },
  {
   "cell_type": "code",
   "execution_count": 37,
   "id": "b99b146b-ed6c-42f3-aab6-8ef0c9397663",
   "metadata": {},
   "outputs": [
    {
     "data": {
      "image/png": "[encoded data removed]",
      "text/plain": [
       "<Figure size 400x300 with 1 Axes>"
      ]
     },
     "metadata": {},
     "output_type": "display_data"
    },
    {
     "name": "stdout",
     "output_type": "stream",
     "text": [
      "X_train shape: (8750, 1024), X_test shape: (2188, 1024)\n",
      "y_train shape: (8750,), y_test shape: (2188,)\n",
      "train to test ratio: 0.8:0.2\n",
      "Mean Abs. Error: 1.58\n",
      "R2-score: 0.10\n"
     ]
    }
   ],
   "source": [
    "# X_test1, y_test1 = X_train1, y_train1\n",
    "X_test1_tensor = torch.tensor(X_test1, dtype=torch.float32)\n",
    "model_invariant.eval()\n",
    "with torch.no_grad():\n",
    "    y_pred1_tensor = model_invariant(X_test1_tensor, dataset_id=1).squeeze()\n",
    "y_pred1 = y_pred1_tensor.cpu().numpy() if y_pred1_tensor.is_cuda else y_pred1_tensor.numpy()    \n",
    "# y_pred1 = model_invariant(torch.from_numpy(X_test1).float(), dataset_id=1).squeeze().detach().numpy()\n",
    "mae1 = mean_absolute_error(y_test1, y_pred1)\n",
    "r2score1 = r2_score(y_test1, y_pred1)\n",
    "\n",
    "plt.figure(figsize=(4, 3))\n",
    "plt.scatter(y_test1, y_pred1, alpha=0.5)\n",
    "plt.xlabel('y_test')\n",
    "plt.ylabel('y_pred')\n",
    "plt.title(f'(cathub, invariant)')\n",
    "plt.plot([y_test1.min(), y_test1.max()], [y_test1.min(), y_test1.max()], 'k--', lw=2)\n",
    "plt.show()\n",
    "print(f'X_train shape: {X_train1.shape}, X_test shape: {X_test1.shape}')\n",
    "print(f'y_train shape: {y_train1.shape}, y_test shape: {y_test1.shape}')\n",
    "print(f'train to test ratio: {1-ratio_test}:{ratio_test}')\n",
    "print(f'Mean Abs. Error: {mae1:.2f}')\n",
    "print(f'R2-score: {r2score1:.2f}')"
   ]
  },
  {
   "cell_type": "code",
   "execution_count": 38,
   "id": "2aad243b-d18a-41b6-b960-c3c4725ab15a",
   "metadata": {},
   "outputs": [
    {
     "data": {
      "image/png": "[encoded data removed]",
      "text/plain": [
       "<Figure size 400x300 with 1 Axes>"
      ]
     },
     "metadata": {},
     "output_type": "display_data"
    },
    {
     "name": "stdout",
     "output_type": "stream",
     "text": [
      "X_train shape: (263890, 1024), X_test shape: (65973, 1024)\n",
      "y_train shape: (263890,), y_test shape: (65973,)\n",
      "train to test ratio: 0.8:0.2\n",
      "Mean Abs. Error: 29.36\n",
      "R2-score: -3376877.05\n"
     ]
    }
   ],
   "source": [
    "# X_test2, y_test2 = X_train2, y_train2\n",
    "X_test2_tensor = torch.tensor(X_test2, dtype=torch.float32)\n",
    "model_invariant.eval()\n",
    "with torch.no_grad():\n",
    "    y_pred2_tensor = model_invariant(X_test2_tensor, dataset_id=2).squeeze()\n",
    "y_pred2 = y_pred2_tensor.cpu().numpy() if y_pred2_tensor.is_cuda else y_pred2_tensor.numpy()\n",
    "# y_pred2 = model_invariant(torch.from_numpy(X_test2).float(), dataset_id=2).squeeze().detach().numpy()\n",
    "mae2 = mean_absolute_error(y_test2, y_pred2)\n",
    "r2score2 = r2_score(y_test2, y_pred2)\n",
    "\n",
    "plt.figure(figsize=(4, 3))\n",
    "plt.scatter(y_test2, y_pred2, alpha=0.5)\n",
    "plt.xlabel('y_test')\n",
    "plt.ylabel('y_pred')\n",
    "plt.title(f'(ocp, invariant)')\n",
    "plt.plot([y_test2.min(), y_test2.max()], [y_test2.min(), y_test2.max()], 'k--', lw=2)\n",
    "plt.show()\n",
    "print(f'X_train shape: {X_train2.shape}, X_test shape: {X_test2.shape}')\n",
    "print(f'y_train shape: {y_train2.shape}, y_test shape: {y_test2.shape}')\n",
    "print(f'train to test ratio: {1-ratio_test}:{ratio_test}')\n",
    "print(f'Mean Abs. Error: {mae2:.2f}')\n",
    "print(f'R2-score: {r2score2:.2f}')"
   ]
  },
  {
   "cell_type": "code",
   "execution_count": null,
   "id": "fc332d09-f7a4-485c-8b3c-3745032d6991",
   "metadata": {},
   "outputs": [],
   "source": []
  },
  {
   "cell_type": "code",
   "execution_count": null,
   "id": "a1a61b4f-0cd0-4178-a238-e86e6bc9c965",
   "metadata": {},
   "outputs": [],
   "source": []
  },
  {
   "cell_type": "code",
   "execution_count": null,
   "id": "1c20b25b-b35e-447b-9d43-0a8fc40b1b71",
   "metadata": {},
   "outputs": [],
   "source": []
  },
  {
   "cell_type": "code",
   "execution_count": null,
   "id": "1fa1705f-7e6f-40a9-b1ae-533e13329faf",
   "metadata": {},
   "outputs": [],
   "source": []
  },
  {
   "cell_type": "code",
   "execution_count": null,
   "id": "0134b50f-d2be-41a2-9d69-85776e77acb1",
   "metadata": {},
   "outputs": [],
   "source": []
  }
 ],
 "metadata": {
  "kernelspec": {
   "display_name": "Python 3 (ipykernel)",
   "language": "python",
   "name": "python3"
  },
  "language_info": {
   "codemirror_mode": {
    "name": "ipython",
    "version": 3
   },
   "file_extension": ".py",
   "mimetype": "text/x-python",
   "name": "python",
   "nbconvert_exporter": "python",
   "pygments_lexer": "ipython3",
   "version": "3.10.9"
  }
 },
 "nbformat": 4,
 "nbformat_minor": 5
}
