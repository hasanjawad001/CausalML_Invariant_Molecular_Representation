{
 "cells": [
  {
   "cell_type": "code",
   "execution_count": 77,
   "id": "0232bf62-1410-45f2-bf27-bca7fbb473cd",
   "metadata": {},
   "outputs": [],
   "source": [
    "# !pip install pubchempy\n",
    "# !pip install pyarrow"
   ]
  },
  {
   "cell_type": "code",
   "execution_count": 2,
   "id": "73f50ffc-49ad-4697-9e6c-94fe62990145",
   "metadata": {},
   "outputs": [
    {
     "name": "stderr",
     "output_type": "stream",
     "text": [
      "2023-08-19 13:34:12,698\tINFO util.py:159 -- Outdated packages:\n",
      "  ipywidgets==7.6.5 found, needs ipywidgets>=8\n",
      "Run `pip install -U ipywidgets`, then restart the notebook server for rich notebook output.\n"
     ]
    }
   ],
   "source": [
    "import json\n",
    "import pickle\n",
    "import numpy as np\n",
    "from ocpmodels.datasets import SinglePointLmdbDataset \n",
    "import os\n",
    "import ase.io\n",
    "from ase.constraints import FixAtoms\n",
    "from ase.build import add_adsorbate, molecule, surface\n",
    "from pymatgen.ext.matproj import MPRester\n",
    "from pymatgen.core.surface import generate_all_slabs, SlabGenerator\n",
    "from pymatgen.io.ase import AseAtomsAdaptor\n",
    "from ocpmodels.common.relaxation.ase_utils import OCPCalculator\n",
    "from pprint import pprint\n",
    "import pubchempy as pcp\n",
    "from transformers import AutoTokenizer, AutoModel, pipeline\n",
    "import pandas as pd\n",
    "import ray\n",
    "import torch\n",
    "import random"
   ]
  },
  {
   "cell_type": "code",
   "execution_count": 3,
   "id": "5fe7b1dd-3460-4796-bb4d-01b24444db38",
   "metadata": {},
   "outputs": [],
   "source": [
    "seed = 42  # or any other number\n",
    "# Set the seed for numpy, torch, Python's random module, and sklearn's train_test_split\n",
    "np.random.seed(seed)\n",
    "torch.manual_seed(seed)\n",
    "random.seed(seed)\n",
    "torch.backends.cudnn.deterministic = True\n",
    "torch.backends.cudnn.benchmark = False"
   ]
  },
  {
   "cell_type": "code",
   "execution_count": 4,
   "id": "432e19b8-5346-44a9-8878-7c178f391e60",
   "metadata": {},
   "outputs": [],
   "source": [
    "# # load dataset\n",
    "# print('- load dataset')\n",
    "# src = 'ocp/data/is2re/all/train/data.lmdb'\n",
    "# dataset = SinglePointLmdbDataset({\"src\": src})\n",
    "   \n",
    "# # generate ads energy mappings\n",
    "# print('- create energy dataset')\n",
    "# keys = []\n",
    "# energies = []\n",
    "# for data in dataset:\n",
    "#     keys.append('random' + str(data.sid))\n",
    "#     energies.append(data.y_relaxed)\n",
    "    \n",
    "# energy_data = dict(zip(keys, energies))\n",
    "\n",
    "# # Open a file and use dump()\n",
    "# with open('mapping_energies_train.pkl', 'wb') as file:\n",
    "      \n",
    "#     # A new file will be created\n",
    "#     pickle.dump(energy_data, file)\n",
    "\n",
    "# print('done.')\n",
    "\n",
    "# # load dataset\n",
    "# print('- load dataset')\n",
    "# src = 'ocp/data/is2re/all/val_id/data.lmdb'\n",
    "# dataset = SinglePointLmdbDataset({\"src\": src})\n",
    "   \n",
    "# # generate ads energy mappings\n",
    "# print('- create energy validation dataset')\n",
    "# keys = []\n",
    "# energies = []\n",
    "# for data in dataset:\n",
    "#     keys.append('random' + str(data.sid))\n",
    "#     energies.append(data.y_relaxed)\n",
    "    \n",
    "# energy_data = dict(zip(keys, energies))\n",
    "\n",
    "# # Open a file and use dump()\n",
    "# with open('mapping_energies_validation.pkl', 'wb') as file:\n",
    "      \n",
    "#     # A new file will be created\n",
    "#     pickle.dump(energy_data, file)\n",
    "\n",
    "# print('done.')"
   ]
  },
  {
   "cell_type": "code",
   "execution_count": 5,
   "id": "664469a1-c6e0-4dee-bae0-ad72b23d0224",
   "metadata": {},
   "outputs": [
    {
     "name": "stdout",
     "output_type": "stream",
     "text": [
      "- load data mapping\n",
      "- load adslab_slab mapping\n",
      "- load energy mapping - train\n",
      "- load energy mapping - validation\n"
     ]
    }
   ],
   "source": [
    "# load mappings\n",
    "\n",
    "print('- load data mapping')\n",
    "with open('oc20_data_mapping.pkl', 'rb') as f:\n",
    "    mapping_data = pickle.load(f)\n",
    "\n",
    "print('- load adslab_slab mapping')\n",
    "with open('mapping_adslab_slab.pkl', 'rb') as f:\n",
    "    mapping_adslab_slab = pickle.load(f)\n",
    "\n",
    "print('- load energy mapping - train')\n",
    "with open('mapping_energies_train.pkl', 'rb') as f:\n",
    "    energy_data_train = pickle.load(f)\n",
    "\n",
    "print('- load energy mapping - validation')\n",
    "with open('mapping_energies_validation.pkl', 'rb') as f:\n",
    "    energy_data_validation = pickle.load(f)"
   ]
  },
  {
   "cell_type": "code",
   "execution_count": 6,
   "id": "4bec35db-4607-4e94-b62a-dab08e48bec3",
   "metadata": {},
   "outputs": [
    {
     "name": "stdout",
     "output_type": "stream",
     "text": [
      "- merging all energy data\n",
      "485271\n"
     ]
    }
   ],
   "source": [
    "# Merge dictionaries\n",
    "print('- merging all energy data')\n",
    "energy_data = {**energy_data_train, **energy_data_validation}\n",
    "\n",
    "common_keys = list(set(energy_data.keys()) & set(mapping_data.keys()))\n",
    "\n",
    "print(len(common_keys))"
   ]
  },
  {
   "cell_type": "code",
   "execution_count": 7,
   "id": "07646f92-6507-4f0e-b656-90cec1694bc7",
   "metadata": {},
   "outputs": [],
   "source": [
    "list_data = []\n",
    "for ck in common_keys[:]:\n",
    "    # print(energy_data[ck])\n",
    "    # print(mapping_data[ck])\n",
    "    data_extra = {\n",
    "        'adslab_slab_key': ck,\n",
    "        'energy': energy_data[ck]\n",
    "    }\n",
    "    data = {**mapping_data[ck], **data_extra}\n",
    "    list_data.append(data)\n",
    "\n",
    "# with open('datasets/ocp_reactions.pickle', 'wb') as f:\n",
    "#     pickle.dump(list_data, f)\n",
    "\n",
    "with open('datasets/ocp_reactions.pickle', 'rb') as f:\n",
    "    loaded_list_data = pickle.load(f)"
   ]
  },
  {
   "cell_type": "code",
   "execution_count": 8,
   "id": "e5f6554a-126a-4e56-8446-b2b47e85938e",
   "metadata": {},
   "outputs": [
    {
     "name": "stdout",
     "output_type": "stream",
     "text": [
      "(485271, 13)\n",
      "(446885, 13)\n"
     ]
    }
   ],
   "source": [
    "# Convert list to DataFrame\n",
    "df = pd.DataFrame(loaded_list_data)\n",
    "\n",
    "print(df.shape)\n",
    "\n",
    "# Sort by energy\n",
    "df = df.sort_values(by='energy')\n",
    "\n",
    "# Drop duplicates based on bulk_mpid and miller_index, keeping the entry with the smallest energy\n",
    "df = df.drop_duplicates(subset=['bulk_mpid', 'miller_index', 'ads_symbols'], keep='first')\n",
    "\n",
    "print(df.shape)"
   ]
  },
  {
   "cell_type": "code",
   "execution_count": 9,
   "id": "45f66d5a-cec8-4f6b-a316-429323b24fad",
   "metadata": {},
   "outputs": [
    {
     "name": "stdout",
     "output_type": "stream",
     "text": [
      "446885\n",
      "446885\n"
     ]
    }
   ],
   "source": [
    "# Convert back to list of dictionaries (if required)\n",
    "loaded_list_data = df.to_dict(orient='records')\n",
    "\n",
    "print(len(loaded_list_data))\n",
    "\n",
    "# with open('datasets/ocp_reactions_info.pickle', 'wb') as f:\n",
    "#     pickle.dump(loaded_list_data, f)\n",
    "\n",
    "with open('datasets/ocp_reactions_info.pickle', 'rb') as f:\n",
    "    loaded_list_data = pickle.load(f)\n",
    "\n",
    "print(len(loaded_list_data))"
   ]
  },
  {
   "cell_type": "code",
   "execution_count": 10,
   "id": "dee11ae4-a527-4c48-bb60-18e9f86fb07f",
   "metadata": {},
   "outputs": [
    {
     "name": "stdout",
     "output_type": "stream",
     "text": [
      "{'ads_id': 67,\n",
      " 'ads_symbols': '*NO2NO2',\n",
      " 'adslab_slab_key': 'random1645311',\n",
      " 'adsorption_site': ((6.08, 5.63, 18.81),),\n",
      " 'anomaly': 0,\n",
      " 'bulk_id': 2106,\n",
      " 'bulk_mpid': 'mp-11329',\n",
      " 'bulk_symbols': 'P4W2',\n",
      " 'class': 2,\n",
      " 'energy': 9.999100859999942,\n",
      " 'miller_index': (1, 1, 1),\n",
      " 'pkey': 'NO2NO2',\n",
      " 'shift': 0.022,\n",
      " 'top': True}\n"
     ]
    },
    {
     "data": {
      "text/plain": [
       "68"
      ]
     },
     "execution_count": 10,
     "metadata": {},
     "output_type": "execute_result"
    }
   ],
   "source": [
    "## reaction info to data\n",
    "\n",
    "for lld in loaded_list_data[:]:\n",
    "    ads_symbols = lld['ads_symbols']\n",
    "    pkey = ads_symbols.replace('*', '')\n",
    "    lld['pkey'] = pkey\n",
    "\n",
    "pprint(loaded_list_data[-1])\n",
    "\n",
    "list_pkey =  []\n",
    "for data in loaded_list_data:\n",
    "    pkey = data['pkey']\n",
    "    list_pkey.append(pkey)\n",
    "\n",
    "list_pkey = list(set(list_pkey))\n",
    "\n",
    "len(list_pkey)"
   ]
  },
  {
   "cell_type": "code",
   "execution_count": 11,
   "id": "ee7f704f-0f33-4b4c-8359-d2922a4d0c57",
   "metadata": {},
   "outputs": [],
   "source": [
    "# def name_to_smiles(name):\n",
    "#     try:\n",
    "#         compounds = pcp.get_compounds(name, namespace='formula')\n",
    "#         if compounds:\n",
    "#             return compounds[0].isomeric_smiles\n",
    "#         else:\n",
    "#             print(f\"No compound found for {name}\")\n",
    "#             return None\n",
    "#     except Exception as e:\n",
    "#         print(f\"Error for {name}: {e}\")\n",
    "#         return None\n",
    "\n",
    "# list_pkey_smiles = []\n",
    "# for pkey in list_pkey:\n",
    "#     smiles = name_to_smiles(pkey)\n",
    "#     # print(pkey, smiles)\n",
    "#     list_pkey_smiles.append((pkey, smiles))    \n",
    "\n",
    "# d_pkey_vs_smiles = {}\n",
    "# for (pkey, smiles) in list_pkey_smiles:\n",
    "#     d_pkey_vs_smiles[pkey] = smiles\n",
    "    \n",
    "# 'ONN(CH3)2': 'ONN(C)(C)',"
   ]
  },
  {
   "cell_type": "code",
   "execution_count": 12,
   "id": "41296195-2790-4e62-b95c-d8783f92e621",
   "metadata": {},
   "outputs": [],
   "source": [
    "d_pkey_vs_smiles = {\n",
    "    'CH2CO': 'C=C=O',\n",
    "    'COHCHO': 'C(=O)C=O',\n",
    "    'OH2': 'O',\n",
    "    'CH2O': 'C=O',\n",
    "    'COCHO': 'C(=C=O)[O-]',\n",
    "    'CHOH': 'C=O',\n",
    "    'ONN(CH3)2': 'ONN(C)(C)',\n",
    "    'OHCH2CH3': 'CCO',\n",
    "    'NONH': 'N=N[O-]',\n",
    "    'NO2': 'N(=O)[O-]',\n",
    "    'CCHO': 'C#C[O-]',\n",
    "    'OHCH3': 'CO',\n",
    "    'NH': '[NH]',\n",
    "    'COHCOH': 'C(=O)C=O',\n",
    "    'OCH2CH3': 'CC[O-]',\n",
    "    'NNO': '[N-]=[N+]=O',\n",
    "    'CHCH2OH': 'C1CO1',\n",
    "    'CHOCH2OH': 'CC(=O)O',\n",
    "    'CHCOH': 'C=C=O',\n",
    "    'NO': '[N]=O',\n",
    "    'CHOHCHOH': 'CC(=O)O',\n",
    "    'CH2OH': 'C[O-]',\n",
    "    'NNH': '[NH+]#N',\n",
    "    'CCH2': 'C#C',\n",
    "    'OCH3': 'C[O-]',\n",
    "    'CCH3': 'C=[CH]',\n",
    "    'CH2CH3': 'C[CH2+]',\n",
    "    'CHOHCH2': 'C1CO1',\n",
    "    'COHCH2OH': 'CC(=O)O',\n",
    "    'OCH2CHOH': 'CC(=O)O',\n",
    "    'CN': '[C-]#N',\n",
    "    'CHOHCH3': 'CC[O-]',\n",
    "    'CCH2OH': 'C[C]=O',\n",
    "    'CHOCHO': 'C(=O)C=O',\n",
    "    'CHCH': 'C#C',\n",
    "    'CH4': 'C',\n",
    "    'COCH2O': 'C(=O)C=O',\n",
    "    'CHOCHOH': 'CC(=O)[O-]',\n",
    "    'CCH': 'C#[C-]',\n",
    "    'CHOHCH2OH': 'C([CH]O)O',\n",
    "    'N2': 'N#N',\n",
    "    'ONNH2': 'NN=O',\n",
    "    'N': '[N]',\n",
    "    'OCHCH3': 'C1CO1',\n",
    "    'C': '[C]',\n",
    "    'ONH': 'N=O',\n",
    "    'CHCO': 'C#C[O-]',\n",
    "    'CCO': 'C1#CO1',\n",
    "    'CH2CH2OH': 'CC[O-]',\n",
    "    'NO3': '[N+](=O)([O-])[O-]',\n",
    "    'O': '[O]',\n",
    "    'NO2NO2': '[N+](=O)([N+](=O)[O-])[O-]',\n",
    "    'CH2': '[CH2]',\n",
    "    'CHCH2': 'C=[CH]',\n",
    "    'OH': '[OH-]',\n",
    "    'CC': '[C-]#[C+]',\n",
    "    'NHNH': 'N=N',\n",
    "    'H': '[H+]',\n",
    "    'COHCHOH': 'CC(=O)[O-]',\n",
    "    'CH3': '[CH3+]',\n",
    "    'NH3': 'N',\n",
    "    'OHNNCH3': 'C(=O)(N)N',\n",
    "    'CHCHOH': 'C[C]=O',\n",
    "    'COCH3': 'C[C]=O',\n",
    "    'CCHOH': 'C=C=O',\n",
    "    'OHNH2': 'NO',\n",
    "    'COHCH3': 'C1CO1',\n",
    "    'CHCHO': 'C=C=O'\n",
    "}"
   ]
  },
  {
   "cell_type": "code",
   "execution_count": 13,
   "id": "97c89d55-a5ef-419f-a039-b527f3555811",
   "metadata": {},
   "outputs": [
    {
     "name": "stderr",
     "output_type": "stream",
     "text": [
      "Some weights of the model checkpoint at mrm8488/chEMBL26_smiles_v2 were not used when initializing RobertaModel: ['lm_head.decoder.bias', 'lm_head.dense.weight', 'lm_head.layer_norm.weight', 'lm_head.bias', 'lm_head.dense.bias', 'lm_head.decoder.weight', 'lm_head.layer_norm.bias']\n",
      "- This IS expected if you are initializing RobertaModel from the checkpoint of a model trained on another task or with another architecture (e.g. initializing a BertForSequenceClassification model from a BertForPreTraining model).\n",
      "- This IS NOT expected if you are initializing RobertaModel from the checkpoint of a model that you expect to be exactly identical (initializing a BertForSequenceClassification model from a BertForSequenceClassification model).\n"
     ]
    },
    {
     "name": "stdout",
     "output_type": "stream",
     "text": [
      "(68, 768)\n"
     ]
    }
   ],
   "source": [
    "## pretrained model\n",
    "tokenizer = AutoTokenizer.from_pretrained(\"mrm8488/chEMBL26_smiles_v2\")\n",
    "model = AutoModel.from_pretrained(\"mrm8488/chEMBL26_smiles_v2\")\n",
    "fe = pipeline('feature-extraction', model=model, tokenizer=tokenizer, device=-1) ## device= (0 for GPU, -1 for CPU)\n",
    "\n",
    "list_pkey= list(d_pkey_vs_smiles.keys())\n",
    "list_smiles= list(d_pkey_vs_smiles.values())\n",
    "list_emb_1 = fe(list_smiles)\n",
    "\n",
    "list_emb_2 = []\n",
    "for emb_1 in list_emb_1:\n",
    "    emb_2 = np.mean(np.array(emb_1[0]), axis=0)\n",
    "    list_emb_2.append(emb_2)\n",
    "arr_emb = np.array(list_emb_2)\n",
    "print(arr_emb.shape)\n",
    "\n",
    "d_pkey_vs_pdesc = {}\n",
    "for i, pkey in enumerate(list_pkey):\n",
    "    pdesc = arr_emb[i]\n",
    "    d_pkey_vs_pdesc[pkey] = pdesc    "
   ]
  },
  {
   "cell_type": "code",
   "execution_count": 15,
   "id": "def5d16c-e738-4ce3-9e3d-4646f77e9e40",
   "metadata": {},
   "outputs": [],
   "source": [
    "## Save dictionary to pickle file\n",
    "# with open('datasets/d_pkey_vs_pdesc.pickle', 'wb') as file:\n",
    "#     pickle.dump(d_pkey_vs_pdesc, file)"
   ]
  },
  {
   "cell_type": "code",
   "execution_count": 16,
   "id": "60239369-9f9e-471d-9b37-c5b851f2fdce",
   "metadata": {},
   "outputs": [],
   "source": [
    "# Load dictionary from pickle file\n",
    "with open('datasets/d_pkey_vs_pdesc.pickle', 'rb') as file:\n",
    "    d_pkey_vs_pdesc = pickle.load(file)"
   ]
  },
  {
   "cell_type": "code",
   "execution_count": 17,
   "id": "902fdfe1-019f-459e-8fcf-2ad107771ad5",
   "metadata": {},
   "outputs": [],
   "source": [
    "def find_key(miller_index, bulk_symbol, ads_symbol):\n",
    "    matching_keys = []\n",
    "    \n",
    "    for key, values in mapping_data.items():\n",
    "        if (values['miller_index'] == miller_index and\n",
    "            values['bulk_symbols'] == bulk_symbol and\n",
    "            values['ads_symbols'] == ads_symbol):\n",
    "            matching_keys.append(key)\n",
    "            \n",
    "    return matching_keys\n",
    "\n",
    "def get_ads_energy(miller_index, bulk_symbol, ads_symbol):\n",
    "    my_keys = find_key(miller_index, bulk_symbol, ads_symbol)\n",
    "    all_keys = energy_data.keys()\n",
    "    \n",
    "    energies = []\n",
    "    for key in my_keys:\n",
    "        print('MAPDATA: ', key)\n",
    "        print(json.dumps(mapping_data[key], indent=4))\n",
    "        if key in all_keys:\n",
    "            energies.append(energy_data[key])\n",
    "            print('ENERGY: ', energy_data[key])\n",
    "        else:\n",
    "            print('NO ENERGY')\n",
    "        print(' ')\n",
    "            \n",
    "    return energies\n",
    "\n",
    "# miller_index = (1, 1, 1)\n",
    "# bulk_symbol = 'Pd'\n",
    "# ads_symbol = '*OH'\n",
    "\n",
    "# keys = find_key(miller_index, bulk_symbol, ads_symbol)\n",
    "# print(keys)\n",
    "# energies = get_ads_energy(miller_index, bulk_symbol, ads_symbol)\n",
    "# print(energies) "
   ]
  },
  {
   "cell_type": "code",
   "execution_count": 18,
   "id": "dde93cd9-0bb9-4b15-8c64-7459a9d8a704",
   "metadata": {},
   "outputs": [],
   "source": [
    "list_bulk_facet = []\n",
    "for data in loaded_list_data:\n",
    "    bulk = data['bulk_mpid']\n",
    "    facet = data['miller_index']\n",
    "    list_bulk_facet.append((bulk, facet))\n",
    "\n",
    "list_bulk_facet = list(set(list_bulk_facet))"
   ]
  },
  {
   "cell_type": "code",
   "execution_count": 19,
   "id": "5facf631-f037-443c-a9bd-be6d84203ba5",
   "metadata": {},
   "outputs": [
    {
     "data": {
      "text/plain": [
       "93244"
      ]
     },
     "execution_count": 19,
     "metadata": {},
     "output_type": "execute_result"
    }
   ],
   "source": [
    "len(list_bulk_facet)"
   ]
  },
  {
   "cell_type": "code",
   "execution_count": 20,
   "id": "20584115-f17a-4ad3-a262-320f36597938",
   "metadata": {},
   "outputs": [],
   "source": [
    "d_bulk_facet_vs_sdesc = {}\n",
    "for bulk_facet in list_bulk_facet:\n",
    "    d_bulk_facet_vs_sdesc[bulk_facet] = []"
   ]
  },
  {
   "cell_type": "code",
   "execution_count": 31,
   "id": "ef917241-3e60-4fbf-a138-6e070a983aee",
   "metadata": {},
   "outputs": [],
   "source": [
    "## Initialize Ray.\n",
    "# ray.init(ignore_reinit_error=True, num_cpus=50)"
   ]
  },
  {
   "cell_type": "code",
   "execution_count": 64,
   "id": "61779da5-1085-42ff-9501-ceb2a6eeac20",
   "metadata": {},
   "outputs": [
    {
     "name": "stderr",
     "output_type": "stream",
     "text": [
      "/home/mchowdh5/.local/lib/python3.10/site-packages/mp_api/client/mprester.py:182: UserWarning: mpcontribs-client not installed. Install the package to query MPContribs data, or construct pourbaix diagrams: 'pip install mpcontribs-client'\n",
      "  warnings.warn(\n"
     ]
    }
   ],
   "source": [
    "m = MPRester('Yct0KDbJbqMLWluZEovkwrLXh2VRHXbc')\n",
    "list_adsorbate = ['H', 'O', 'C', 'CO', 'OH', 'N2', 'CO2', 'NH3', 'CH4'] ## 'H2S' \n",
    "\n",
    "config_yml_path = \"ocp/configs/is2re/all/dimenet_plus_plus/dpp.yml\"\n",
    "checkpoint_path = \"dimenetpp_all.pt\"\n",
    "\n",
    "# Initialize the calculator\n",
    "calc = OCPCalculator(config_yml=config_yml_path, checkpoint=checkpoint_path)"
   ]
  },
  {
   "cell_type": "code",
   "execution_count": 33,
   "id": "87dfd7e4-a244-4376-b921-da591309d8a0",
   "metadata": {},
   "outputs": [],
   "source": [
    "##======================================================================================================="
   ]
  },
  {
   "cell_type": "code",
   "execution_count": 34,
   "id": "5fc8cbff-3678-42f6-9bc5-1529e2f76a59",
   "metadata": {},
   "outputs": [],
   "source": [
    "# @ray.remote\n",
    "# def main_execution_remote(start_index, end_index, list_bulk_facet, list_adsorbate, m, calc):\n",
    "#     result = {}\n",
    "#     # list_bulk_facet = ray.get(list_bulk_facet_id)\n",
    "#     # m = ray.get(m_id)\n",
    "#     # list_adsorbate = ray.get(list_adsorbate_id)\n",
    "#     # calc = ray.get(calc_id)            \n",
    "#     for ibulkfacet in range(start_index, end_index):    \n",
    "#         try:\n",
    "#             bulk, facet = list_bulk_facet[ibulkfacet]\n",
    "#             structure = m.get_structure_by_material_id(bulk)\n",
    "#             slabgen = SlabGenerator(structure, facet, 10, 10)\n",
    "#             slabs = slabgen.get_slabs()\n",
    "#             slab = slabs[0] ## todo: what if no slab? what if multiple slab?\n",
    "\n",
    "#             list_energy = []\n",
    "#             for ads_symbol in list_adsorbate:\n",
    "#                 adslab = AseAtomsAdaptor().get_atoms(slab)\n",
    "#                 adslab.calc = calc        \n",
    "#                 slab_energy = adslab.get_potential_energy()\n",
    "\n",
    "#                 adsorbate = molecule(ads_symbol)\n",
    "#                 add_adsorbate(adslab, adsorbate, 3, offset=(1, 1))\n",
    "#                 tags = np.zeros(len(adslab))\n",
    "#                 tags[18:27] = 1\n",
    "#                 tags[27:] = 2\n",
    "#                 adslab.set_tags(tags)\n",
    "#                 cons = FixAtoms(indices=[atom.index for atom in adslab if (atom.tag == 0)])\n",
    "#                 adslab.set_constraint(cons)\n",
    "#                 adslab.center(vacuum=13.0, axis=2)\n",
    "#                 adslab.set_pbc(True)\n",
    "#                 ads_energy = adslab.get_potential_energy()\n",
    "#                 energy = ads_energy - slab_energy ## todo: is this also applicable here?   \n",
    "#                 list_energy.append(energy)\n",
    "\n",
    "#             result[(bulk, facet)] = list_energy\n",
    "#         except Exception as e:\n",
    "#             pass \n",
    "#     return result"
   ]
  },
  {
   "cell_type": "code",
   "execution_count": 35,
   "id": "117c7552-0429-49a6-9960-1b0bd732daea",
   "metadata": {},
   "outputs": [],
   "source": [
    "# slim, elim, glim = 0, 93244, 1000 ## 0, 93244, 1000\n",
    "# futures = []\n",
    "# for start_index in range(slim, elim, glim):\n",
    "#     end_index = start_index + glim\n",
    "#     if end_index > elim:\n",
    "#         end_index = elim\n",
    "\n",
    "#     # Fire off a remote execution.\n",
    "#     future = main_execution_remote.remote(start_index, end_index, list_bulk_facet, list_adsorbate, m, calc)\n",
    "#     futures.append(future)\n",
    "\n",
    "# # Retrieve results.\n",
    "# results = ray.get(futures)"
   ]
  },
  {
   "cell_type": "code",
   "execution_count": 36,
   "id": "c39ea253-21d8-436a-9223-3afcbab19bf3",
   "metadata": {},
   "outputs": [],
   "source": [
    "# merged_dict = {}\n",
    "# for d in results:\n",
    "#     merged_dict.update(d)\n",
    "\n",
    "# with open('datasets/d_bulk_facet_vs_sdesc_0to93244.pickle', 'wb') as f:\n",
    "#     pickle.dump(merged_dict, f)"
   ]
  },
  {
   "cell_type": "code",
   "execution_count": 37,
   "id": "ab1bfc81-f430-40cd-a66a-e158165631d3",
   "metadata": {},
   "outputs": [],
   "source": [
    "##======================================================================================================="
   ]
  },
  {
   "cell_type": "code",
   "execution_count": 39,
   "id": "ff11b2d1-a22e-4aa1-b400-a424d6e142aa",
   "metadata": {},
   "outputs": [],
   "source": [
    "with open('datasets/d_bulk_facet_vs_sdesc_0to10k.pickle', 'rb') as f:\n",
    "    d0 = pickle.load(f)\n",
    "with open('datasets/d_bulk_facet_vs_sdesc_10kto20k.pickle', 'rb') as f:\n",
    "    d1 = pickle.load(f)\n",
    "with open('datasets/d_bulk_facet_vs_sdesc_20kto30k.pickle', 'rb') as f:\n",
    "    d2 = pickle.load(f)\n",
    "with open('datasets/d_bulk_facet_vs_sdesc_30kto60k.pickle', 'rb') as f:\n",
    "    d3 = pickle.load(f)\n",
    "with open('datasets/d_bulk_facet_vs_sdesc_60kto93244.pickle', 'rb') as f:\n",
    "    d4 = pickle.load(f)"
   ]
  },
  {
   "cell_type": "code",
   "execution_count": 40,
   "id": "04867597-213a-40a7-8a1e-62b5d7d13429",
   "metadata": {},
   "outputs": [
    {
     "name": "stdout",
     "output_type": "stream",
     "text": [
      "Number of items in d0: 9070\n",
      "Number of items in d1: 9990\n",
      "Number of items in d2: 9993\n",
      "Number of items in d3: 29179\n",
      "Number of items in d4: 33066\n"
     ]
    }
   ],
   "source": [
    "print(f\"Number of items in d0: {len(d0)}\")\n",
    "print(f\"Number of items in d1: {len(d1)}\")\n",
    "print(f\"Number of items in d2: {len(d2)}\")\n",
    "print(f\"Number of items in d3: {len(d3)}\")\n",
    "print(f\"Number of items in d4: {len(d4)}\")"
   ]
  },
  {
   "cell_type": "code",
   "execution_count": 41,
   "id": "60cf19b3-78b8-4fb9-85ec-f0aa5b664683",
   "metadata": {},
   "outputs": [],
   "source": [
    "d_bulk_facet_vs_sdesc = {**d0, **d1, **d2, **d3, **d4} "
   ]
  },
  {
   "cell_type": "code",
   "execution_count": 42,
   "id": "576af0a4-a649-4968-ae59-e9b81599a064",
   "metadata": {},
   "outputs": [
    {
     "data": {
      "text/plain": [
       "91298"
      ]
     },
     "execution_count": 42,
     "metadata": {},
     "output_type": "execute_result"
    }
   ],
   "source": [
    "len(d_bulk_facet_vs_sdesc)"
   ]
  },
  {
   "cell_type": "code",
   "execution_count": 44,
   "id": "44f8d042-047d-4a20-a156-376e40af21d0",
   "metadata": {},
   "outputs": [],
   "source": [
    "# with open('datasets/d_bulk_facet_vs_sdesc.pickle', 'wb') as file:\n",
    "#     pickle.dump(d_bulk_facet_vs_sdesc, file)"
   ]
  },
  {
   "cell_type": "code",
   "execution_count": 45,
   "id": "90fe8c0b-6d31-4784-aba2-e15ba6f151b2",
   "metadata": {},
   "outputs": [],
   "source": [
    "with open('datasets/d_bulk_facet_vs_sdesc.pickle', 'rb') as file:\n",
    "    d_bulk_facet_vs_sdesc = pickle.load(file)"
   ]
  },
  {
   "cell_type": "code",
   "execution_count": 50,
   "id": "e7a6457f-99ba-4743-8715-6f9ac94223af",
   "metadata": {},
   "outputs": [
    {
     "data": {
      "text/plain": [
       "91298"
      ]
     },
     "execution_count": 50,
     "metadata": {},
     "output_type": "execute_result"
    }
   ],
   "source": [
    "len(d_bulk_facet_vs_sdesc)"
   ]
  },
  {
   "cell_type": "code",
   "execution_count": 51,
   "id": "faee3ddd-9c88-4576-b776-ef865ccf8867",
   "metadata": {},
   "outputs": [
    {
     "data": {
      "text/plain": [
       "68"
      ]
     },
     "execution_count": 51,
     "metadata": {},
     "output_type": "execute_result"
    }
   ],
   "source": [
    "len(d_pkey_vs_pdesc)"
   ]
  },
  {
   "cell_type": "code",
   "execution_count": 52,
   "id": "4a3fb44c-c9f3-4291-95e4-e6addff3a11d",
   "metadata": {},
   "outputs": [
    {
     "data": {
      "text/plain": [
       "446885"
      ]
     },
     "execution_count": 52,
     "metadata": {},
     "output_type": "execute_result"
    }
   ],
   "source": [
    "len(loaded_list_data)"
   ]
  },
  {
   "cell_type": "code",
   "execution_count": 53,
   "id": "561bf430-7720-412a-8626-8ae80e8e267d",
   "metadata": {},
   "outputs": [
    {
     "name": "stdout",
     "output_type": "stream",
     "text": [
      "{'ads_id': 67,\n",
      " 'ads_symbols': '*NO2NO2',\n",
      " 'adslab_slab_key': 'random1645311',\n",
      " 'adsorption_site': ((6.08, 5.63, 18.81),),\n",
      " 'anomaly': 0,\n",
      " 'bulk_id': 2106,\n",
      " 'bulk_mpid': 'mp-11329',\n",
      " 'bulk_symbols': 'P4W2',\n",
      " 'class': 2,\n",
      " 'energy': 9.999100859999942,\n",
      " 'miller_index': (1, 1, 1),\n",
      " 'pkey': 'NO2NO2',\n",
      " 'shift': 0.022,\n",
      " 'top': True}\n"
     ]
    }
   ],
   "source": [
    "pprint(loaded_list_data[-1])"
   ]
  },
  {
   "cell_type": "code",
   "execution_count": 54,
   "id": "bfcb838c-b610-48fa-b9aa-cb415e909d75",
   "metadata": {},
   "outputs": [
    {
     "name": "stdout",
     "output_type": "stream",
     "text": [
      "0\n",
      "100000\n",
      "200000\n",
      "300000\n",
      "400000\n"
     ]
    }
   ],
   "source": [
    "c0, c1 = 0, 0\n",
    "for idata, data in enumerate(loaded_list_data):\n",
    "    pkey = data['pkey']\n",
    "    skey = (data['bulk_mpid'], data['miller_index'])\n",
    "    pdesc = list(d_pkey_vs_pdesc[pkey])\n",
    "    try: \n",
    "        sdesc = list(d_bulk_facet_vs_sdesc[skey])\n",
    "        c1+=1\n",
    "    except Exception as e:\n",
    "        sdesc = []\n",
    "        c0+=1\n",
    "    data['pdesc'] = pdesc\n",
    "    data['sdesc'] = sdesc    \n",
    "    if idata%100000==0:\n",
    "        print(idata)"
   ]
  },
  {
   "cell_type": "code",
   "execution_count": 55,
   "id": "c7b53832-37cc-4191-82e9-d272ffaaf6a8",
   "metadata": {},
   "outputs": [
    {
     "name": "stdout",
     "output_type": "stream",
     "text": [
      "9104 437781 446885\n"
     ]
    }
   ],
   "source": [
    "print(c0, c1, c0+c1)"
   ]
  },
  {
   "cell_type": "code",
   "execution_count": 57,
   "id": "7312e279-d9d6-447e-8ec8-7a341537566f",
   "metadata": {},
   "outputs": [
    {
     "name": "stdout",
     "output_type": "stream",
     "text": [
      "16\n"
     ]
    }
   ],
   "source": [
    "pprint(len(list(loaded_list_data[-1].keys())))"
   ]
  },
  {
   "cell_type": "code",
   "execution_count": 58,
   "id": "a485e2cb-8794-4071-a5bd-edfe29b2ef4a",
   "metadata": {},
   "outputs": [],
   "source": [
    "df = pd.DataFrame(loaded_list_data)"
   ]
  },
  {
   "cell_type": "code",
   "execution_count": 59,
   "id": "2023466b-820b-4651-be5f-8988ab9d2ed9",
   "metadata": {},
   "outputs": [
    {
     "data": {
      "text/html": [
       "<div>\n",
       "<style scoped>\n",
       "    .dataframe tbody tr th:only-of-type {\n",
       "        vertical-align: middle;\n",
       "    }\n",
       "\n",
       "    .dataframe tbody tr th {\n",
       "        vertical-align: top;\n",
       "    }\n",
       "\n",
       "    .dataframe thead th {\n",
       "        text-align: right;\n",
       "    }\n",
       "</style>\n",
       "<table border=\"1\" class=\"dataframe\">\n",
       "  <thead>\n",
       "    <tr style=\"text-align: right;\">\n",
       "      <th></th>\n",
       "      <th>bulk_id</th>\n",
       "      <th>ads_id</th>\n",
       "      <th>bulk_mpid</th>\n",
       "      <th>bulk_symbols</th>\n",
       "      <th>ads_symbols</th>\n",
       "      <th>miller_index</th>\n",
       "      <th>shift</th>\n",
       "      <th>top</th>\n",
       "      <th>adsorption_site</th>\n",
       "      <th>class</th>\n",
       "      <th>anomaly</th>\n",
       "      <th>adslab_slab_key</th>\n",
       "      <th>energy</th>\n",
       "      <th>pkey</th>\n",
       "      <th>pdesc</th>\n",
       "      <th>sdesc</th>\n",
       "    </tr>\n",
       "  </thead>\n",
       "  <tbody>\n",
       "    <tr>\n",
       "      <th>0</th>\n",
       "      <td>2085</td>\n",
       "      <td>29</td>\n",
       "      <td>mp-976273</td>\n",
       "      <td>Hf6Ge4</td>\n",
       "      <td>*COCH2O</td>\n",
       "      <td>(2, 1, 0)</td>\n",
       "      <td>0.022</td>\n",
       "      <td>True</td>\n",
       "      <td>((9.3, 4.58, 26.89),)</td>\n",
       "      <td>1</td>\n",
       "      <td>1</td>\n",
       "      <td>random2024607</td>\n",
       "      <td>-9.992999</td>\n",
       "      <td>COCH2O</td>\n",
       "      <td>[1.4773670434951782, 0.012636385030216642, -0....</td>\n",
       "      <td>[0.008257746696472168, 1.0352611541748047, 1.2...</td>\n",
       "    </tr>\n",
       "    <tr>\n",
       "      <th>1</th>\n",
       "      <td>10724</td>\n",
       "      <td>20</td>\n",
       "      <td>mp-1247259</td>\n",
       "      <td>Ca6Rh2N6</td>\n",
       "      <td>*CHCO</td>\n",
       "      <td>(1, 0, 0)</td>\n",
       "      <td>0.312</td>\n",
       "      <td>True</td>\n",
       "      <td>((10.54, 1.25, 22.82),)</td>\n",
       "      <td>2</td>\n",
       "      <td>0</td>\n",
       "      <td>random1171399</td>\n",
       "      <td>-9.982733</td>\n",
       "      <td>CHCO</td>\n",
       "      <td>[1.6455507054924965, 0.9016518630087376, -0.22...</td>\n",
       "      <td>[0.005488276481628418, 0.16277754306793213, 0....</td>\n",
       "    </tr>\n",
       "  </tbody>\n",
       "</table>\n",
       "</div>"
      ],
      "text/plain": [
       "   bulk_id  ads_id   bulk_mpid bulk_symbols ads_symbols miller_index  shift  \\\n",
       "0     2085      29   mp-976273       Hf6Ge4     *COCH2O    (2, 1, 0)  0.022   \n",
       "1    10724      20  mp-1247259     Ca6Rh2N6       *CHCO    (1, 0, 0)  0.312   \n",
       "\n",
       "    top          adsorption_site  class  anomaly adslab_slab_key    energy  \\\n",
       "0  True    ((9.3, 4.58, 26.89),)      1        1   random2024607 -9.992999   \n",
       "1  True  ((10.54, 1.25, 22.82),)      2        0   random1171399 -9.982733   \n",
       "\n",
       "     pkey                                              pdesc  \\\n",
       "0  COCH2O  [1.4773670434951782, 0.012636385030216642, -0....   \n",
       "1    CHCO  [1.6455507054924965, 0.9016518630087376, -0.22...   \n",
       "\n",
       "                                               sdesc  \n",
       "0  [0.008257746696472168, 1.0352611541748047, 1.2...  \n",
       "1  [0.005488276481628418, 0.16277754306793213, 0....  "
      ]
     },
     "execution_count": 59,
     "metadata": {},
     "output_type": "execute_result"
    }
   ],
   "source": [
    "df.head(2)"
   ]
  },
  {
   "cell_type": "code",
   "execution_count": 60,
   "id": "7275144f-5a67-4db2-9d1d-88541e2caa31",
   "metadata": {},
   "outputs": [
    {
     "name": "stdout",
     "output_type": "stream",
     "text": [
      "(446885, 16)\n"
     ]
    }
   ],
   "source": [
    "print(df.shape)"
   ]
  },
  {
   "cell_type": "code",
   "execution_count": 61,
   "id": "532fc819-cce2-4565-9b40-896dd83af306",
   "metadata": {},
   "outputs": [],
   "source": [
    "df = df[df['sdesc'].str.len() > 0]"
   ]
  },
  {
   "cell_type": "code",
   "execution_count": 62,
   "id": "b6a073bb-f4a6-4b24-af47-d269223edc68",
   "metadata": {},
   "outputs": [
    {
     "name": "stdout",
     "output_type": "stream",
     "text": [
      "(437781, 16)\n"
     ]
    }
   ],
   "source": [
    "print(df.shape)"
   ]
  },
  {
   "cell_type": "code",
   "execution_count": 65,
   "id": "e01be863-0307-47c6-8e29-ffeb3cff1ff5",
   "metadata": {},
   "outputs": [],
   "source": [
    "list_scols = ['s' + str(i) for i in range(len(list_adsorbate))]"
   ]
  },
  {
   "cell_type": "code",
   "execution_count": 66,
   "id": "ac1135b2-185f-4c6b-8cda-f45f990915b1",
   "metadata": {},
   "outputs": [],
   "source": [
    "df[list_scols] = pd.DataFrame(df.sdesc.tolist(), index= df.index)"
   ]
  },
  {
   "cell_type": "code",
   "execution_count": 67,
   "id": "da86231e-168c-4af1-939c-19fb774aaf59",
   "metadata": {},
   "outputs": [
    {
     "name": "stdout",
     "output_type": "stream",
     "text": [
      "(437781, 25)\n"
     ]
    }
   ],
   "source": [
    "print(df.shape)"
   ]
  },
  {
   "cell_type": "code",
   "execution_count": 68,
   "id": "5b57cbfa-0b9e-478f-82e8-f7c48bceeb87",
   "metadata": {},
   "outputs": [],
   "source": [
    "list_pcols = ['p' + str(i) for i in range(int(arr_emb[0].shape[0]))]"
   ]
  },
  {
   "cell_type": "code",
   "execution_count": 69,
   "id": "9d8af2ad-9408-4f02-9ba7-16d6658a7372",
   "metadata": {},
   "outputs": [],
   "source": [
    "try:\n",
    "    df[list_pcols] = pd.DataFrame(df.pdesc.tolist(), index= df.index)\n",
    "except Exception as e:\n",
    "    print(e)"
   ]
  },
  {
   "cell_type": "code",
   "execution_count": 78,
   "id": "79448bbf-68b6-4700-88a6-41c2ef541116",
   "metadata": {},
   "outputs": [
    {
     "name": "stdout",
     "output_type": "stream",
     "text": [
      "(437781, 793)\n"
     ]
    }
   ],
   "source": [
    "print(df.shape)"
   ]
  },
  {
   "cell_type": "code",
   "execution_count": 79,
   "id": "66586ccc-aa95-421b-8456-6a94a409664a",
   "metadata": {},
   "outputs": [
    {
     "data": {
      "text/html": [
       "<div>\n",
       "<style scoped>\n",
       "    .dataframe tbody tr th:only-of-type {\n",
       "        vertical-align: middle;\n",
       "    }\n",
       "\n",
       "    .dataframe tbody tr th {\n",
       "        vertical-align: top;\n",
       "    }\n",
       "\n",
       "    .dataframe thead th {\n",
       "        text-align: right;\n",
       "    }\n",
       "</style>\n",
       "<table border=\"1\" class=\"dataframe\">\n",
       "  <thead>\n",
       "    <tr style=\"text-align: right;\">\n",
       "      <th></th>\n",
       "      <th>bulk_id</th>\n",
       "      <th>ads_id</th>\n",
       "      <th>bulk_mpid</th>\n",
       "      <th>bulk_symbols</th>\n",
       "      <th>ads_symbols</th>\n",
       "      <th>miller_index</th>\n",
       "      <th>shift</th>\n",
       "      <th>top</th>\n",
       "      <th>adsorption_site</th>\n",
       "      <th>class</th>\n",
       "      <th>...</th>\n",
       "      <th>p758</th>\n",
       "      <th>p759</th>\n",
       "      <th>p760</th>\n",
       "      <th>p761</th>\n",
       "      <th>p762</th>\n",
       "      <th>p763</th>\n",
       "      <th>p764</th>\n",
       "      <th>p765</th>\n",
       "      <th>p766</th>\n",
       "      <th>p767</th>\n",
       "    </tr>\n",
       "  </thead>\n",
       "  <tbody>\n",
       "    <tr>\n",
       "      <th>0</th>\n",
       "      <td>2085</td>\n",
       "      <td>29</td>\n",
       "      <td>mp-976273</td>\n",
       "      <td>Hf6Ge4</td>\n",
       "      <td>*COCH2O</td>\n",
       "      <td>(2, 1, 0)</td>\n",
       "      <td>0.022</td>\n",
       "      <td>True</td>\n",
       "      <td>((9.3, 4.58, 26.89),)</td>\n",
       "      <td>1</td>\n",
       "      <td>...</td>\n",
       "      <td>-0.698056</td>\n",
       "      <td>0.273536</td>\n",
       "      <td>0.742442</td>\n",
       "      <td>0.618160</td>\n",
       "      <td>0.486411</td>\n",
       "      <td>-0.934350</td>\n",
       "      <td>0.204278</td>\n",
       "      <td>0.679431</td>\n",
       "      <td>0.341144</td>\n",
       "      <td>-0.852883</td>\n",
       "    </tr>\n",
       "    <tr>\n",
       "      <th>1</th>\n",
       "      <td>10724</td>\n",
       "      <td>20</td>\n",
       "      <td>mp-1247259</td>\n",
       "      <td>Ca6Rh2N6</td>\n",
       "      <td>*CHCO</td>\n",
       "      <td>(1, 0, 0)</td>\n",
       "      <td>0.312</td>\n",
       "      <td>True</td>\n",
       "      <td>((10.54, 1.25, 22.82),)</td>\n",
       "      <td>2</td>\n",
       "      <td>...</td>\n",
       "      <td>-0.625508</td>\n",
       "      <td>-0.456795</td>\n",
       "      <td>0.304594</td>\n",
       "      <td>1.134157</td>\n",
       "      <td>-0.394405</td>\n",
       "      <td>-1.171003</td>\n",
       "      <td>-0.648138</td>\n",
       "      <td>-0.021550</td>\n",
       "      <td>-1.443121</td>\n",
       "      <td>0.004959</td>\n",
       "    </tr>\n",
       "  </tbody>\n",
       "</table>\n",
       "<p>2 rows × 793 columns</p>\n",
       "</div>"
      ],
      "text/plain": [
       "   bulk_id  ads_id   bulk_mpid bulk_symbols ads_symbols miller_index  shift  \\\n",
       "0     2085      29   mp-976273       Hf6Ge4     *COCH2O    (2, 1, 0)  0.022   \n",
       "1    10724      20  mp-1247259     Ca6Rh2N6       *CHCO    (1, 0, 0)  0.312   \n",
       "\n",
       "    top          adsorption_site  class  ...      p758      p759      p760  \\\n",
       "0  True    ((9.3, 4.58, 26.89),)      1  ... -0.698056  0.273536  0.742442   \n",
       "1  True  ((10.54, 1.25, 22.82),)      2  ... -0.625508 -0.456795  0.304594   \n",
       "\n",
       "       p761      p762      p763      p764      p765      p766      p767  \n",
       "0  0.618160  0.486411 -0.934350  0.204278  0.679431  0.341144 -0.852883  \n",
       "1  1.134157 -0.394405 -1.171003 -0.648138 -0.021550 -1.443121  0.004959  \n",
       "\n",
       "[2 rows x 793 columns]"
      ]
     },
     "execution_count": 79,
     "metadata": {},
     "output_type": "execute_result"
    }
   ],
   "source": [
    "df.head(2)"
   ]
  },
  {
   "cell_type": "code",
   "execution_count": 80,
   "id": "654fd94c-afd2-456e-9bad-043708a685d3",
   "metadata": {},
   "outputs": [],
   "source": [
    "# df.to_parquet('datasets/ocp_reactions_info_df.parquet')"
   ]
  },
  {
   "cell_type": "code",
   "execution_count": 81,
   "id": "48bb10f2-29a0-4ccc-b6d0-89834637c518",
   "metadata": {},
   "outputs": [],
   "source": [
    "df = pd.read_parquet('datasets/ocp_reactions_info_df.parquet')"
   ]
  },
  {
   "cell_type": "code",
   "execution_count": 82,
   "id": "2cd0bfee-5bf6-40b5-aadd-9850495e3b8d",
   "metadata": {},
   "outputs": [
    {
     "name": "stdout",
     "output_type": "stream",
     "text": [
      "(437781, 793)\n"
     ]
    }
   ],
   "source": [
    "print(df.shape)"
   ]
  },
  {
   "cell_type": "code",
   "execution_count": 83,
   "id": "9d779a26-49cc-470e-a565-04af04e78c6a",
   "metadata": {},
   "outputs": [],
   "source": [
    "df.rename(columns={'energy': 'nre'}, inplace=True)"
   ]
  },
  {
   "cell_type": "code",
   "execution_count": 84,
   "id": "429fe7a0-9cba-4076-bcda-3b92b4b72ed7",
   "metadata": {},
   "outputs": [],
   "source": [
    "df = df[list_scols + list_pcols + ['nre']]"
   ]
  },
  {
   "cell_type": "code",
   "execution_count": 85,
   "id": "e09c9f77-0b73-40ef-b2f5-3dda691a65db",
   "metadata": {},
   "outputs": [
    {
     "name": "stdout",
     "output_type": "stream",
     "text": [
      "(437781, 778)\n"
     ]
    }
   ],
   "source": [
    "print(df.shape)"
   ]
  },
  {
   "cell_type": "code",
   "execution_count": 86,
   "id": "6ed2d36a-b6f1-44ac-989b-42486ab1ab2b",
   "metadata": {},
   "outputs": [
    {
     "data": {
      "text/html": [
       "<div>\n",
       "<style scoped>\n",
       "    .dataframe tbody tr th:only-of-type {\n",
       "        vertical-align: middle;\n",
       "    }\n",
       "\n",
       "    .dataframe tbody tr th {\n",
       "        vertical-align: top;\n",
       "    }\n",
       "\n",
       "    .dataframe thead th {\n",
       "        text-align: right;\n",
       "    }\n",
       "</style>\n",
       "<table border=\"1\" class=\"dataframe\">\n",
       "  <thead>\n",
       "    <tr style=\"text-align: right;\">\n",
       "      <th></th>\n",
       "      <th>s0</th>\n",
       "      <th>s1</th>\n",
       "      <th>s2</th>\n",
       "      <th>s3</th>\n",
       "      <th>s4</th>\n",
       "      <th>s5</th>\n",
       "      <th>s6</th>\n",
       "      <th>s7</th>\n",
       "      <th>s8</th>\n",
       "      <th>p0</th>\n",
       "      <th>...</th>\n",
       "      <th>p759</th>\n",
       "      <th>p760</th>\n",
       "      <th>p761</th>\n",
       "      <th>p762</th>\n",
       "      <th>p763</th>\n",
       "      <th>p764</th>\n",
       "      <th>p765</th>\n",
       "      <th>p766</th>\n",
       "      <th>p767</th>\n",
       "      <th>nre</th>\n",
       "    </tr>\n",
       "  </thead>\n",
       "  <tbody>\n",
       "    <tr>\n",
       "      <th>0</th>\n",
       "      <td>0.008258</td>\n",
       "      <td>1.035261</td>\n",
       "      <td>1.294881</td>\n",
       "      <td>1.552592</td>\n",
       "      <td>1.783934</td>\n",
       "      <td>1.012493</td>\n",
       "      <td>2.079694</td>\n",
       "      <td>0.436319</td>\n",
       "      <td>-1.365212</td>\n",
       "      <td>1.477367</td>\n",
       "      <td>...</td>\n",
       "      <td>0.273536</td>\n",
       "      <td>0.742442</td>\n",
       "      <td>0.618160</td>\n",
       "      <td>0.486411</td>\n",
       "      <td>-0.934350</td>\n",
       "      <td>0.204278</td>\n",
       "      <td>0.679431</td>\n",
       "      <td>0.341144</td>\n",
       "      <td>-0.852883</td>\n",
       "      <td>-9.992999</td>\n",
       "    </tr>\n",
       "    <tr>\n",
       "      <th>1</th>\n",
       "      <td>0.005488</td>\n",
       "      <td>0.162778</td>\n",
       "      <td>0.328713</td>\n",
       "      <td>1.856944</td>\n",
       "      <td>1.908573</td>\n",
       "      <td>1.835093</td>\n",
       "      <td>1.429667</td>\n",
       "      <td>0.374538</td>\n",
       "      <td>-1.153396</td>\n",
       "      <td>1.645551</td>\n",
       "      <td>...</td>\n",
       "      <td>-0.456795</td>\n",
       "      <td>0.304594</td>\n",
       "      <td>1.134157</td>\n",
       "      <td>-0.394405</td>\n",
       "      <td>-1.171003</td>\n",
       "      <td>-0.648138</td>\n",
       "      <td>-0.021550</td>\n",
       "      <td>-1.443121</td>\n",
       "      <td>0.004959</td>\n",
       "      <td>-9.982733</td>\n",
       "    </tr>\n",
       "  </tbody>\n",
       "</table>\n",
       "<p>2 rows × 778 columns</p>\n",
       "</div>"
      ],
      "text/plain": [
       "         s0        s1        s2        s3        s4        s5        s6  \\\n",
       "0  0.008258  1.035261  1.294881  1.552592  1.783934  1.012493  2.079694   \n",
       "1  0.005488  0.162778  0.328713  1.856944  1.908573  1.835093  1.429667   \n",
       "\n",
       "         s7        s8        p0  ...      p759      p760      p761      p762  \\\n",
       "0  0.436319 -1.365212  1.477367  ...  0.273536  0.742442  0.618160  0.486411   \n",
       "1  0.374538 -1.153396  1.645551  ... -0.456795  0.304594  1.134157 -0.394405   \n",
       "\n",
       "       p763      p764      p765      p766      p767       nre  \n",
       "0 -0.934350  0.204278  0.679431  0.341144 -0.852883 -9.992999  \n",
       "1 -1.171003 -0.648138 -0.021550 -1.443121  0.004959 -9.982733  \n",
       "\n",
       "[2 rows x 778 columns]"
      ]
     },
     "execution_count": 86,
     "metadata": {},
     "output_type": "execute_result"
    }
   ],
   "source": [
    "df.head(2)"
   ]
  },
  {
   "cell_type": "code",
   "execution_count": 88,
   "id": "58e8c495-5564-4238-a06a-ffa98086e5cc",
   "metadata": {},
   "outputs": [],
   "source": [
    "# df.to_parquet('datasets/ocp_reactions_info_df_dataset.parquet')"
   ]
  },
  {
   "cell_type": "code",
   "execution_count": 89,
   "id": "7a5429cd-73ea-44b1-bf6d-4a65d0f005f6",
   "metadata": {},
   "outputs": [],
   "source": [
    "df = pd.read_parquet('datasets/ocp_reactions_info_df_dataset.parquet')"
   ]
  },
  {
   "cell_type": "code",
   "execution_count": 90,
   "id": "9bc35965-b573-4538-bcfd-da05c00c6888",
   "metadata": {},
   "outputs": [
    {
     "name": "stdout",
     "output_type": "stream",
     "text": [
      "(437781, 778)\n"
     ]
    }
   ],
   "source": [
    "print(df.shape)"
   ]
  },
  {
   "cell_type": "code",
   "execution_count": null,
   "id": "d04ac75c-c45f-48e5-ba10-bdfd7fa4530f",
   "metadata": {},
   "outputs": [],
   "source": []
  }
 ],
 "metadata": {
  "kernelspec": {
   "display_name": "Python 3 (ipykernel)",
   "language": "python",
   "name": "python3"
  },
  "language_info": {
   "codemirror_mode": {
    "name": "ipython",
    "version": 3
   },
   "file_extension": ".py",
   "mimetype": "text/x-python",
   "name": "python",
   "nbconvert_exporter": "python",
   "pygments_lexer": "ipython3",
   "version": "3.10.9"
  }
 },
 "nbformat": 4,
 "nbformat_minor": 5
}
