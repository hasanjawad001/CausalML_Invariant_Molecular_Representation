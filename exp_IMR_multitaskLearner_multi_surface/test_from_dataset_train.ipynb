{
 "cells": [
  {
   "cell_type": "code",
   "execution_count": 1,
   "id": "9517e920",
   "metadata": {},
   "outputs": [],
   "source": [
    "import json\n",
    "import pickle\n",
    "import numpy as np\n",
    "from ocpmodels.datasets import SinglePointLmdbDataset "
   ]
  },
  {
   "cell_type": "code",
   "execution_count": 2,
   "id": "fe4f594d",
   "metadata": {},
   "outputs": [],
   "source": [
    "# # load dataset\n",
    "# print('- load dataset')\n",
    "# src = 'ocp/data/is2re/all/train/data.lmdb'\n",
    "# dataset = SinglePointLmdbDataset({\"src\": src})\n",
    "   \n",
    "# # generate ads energy mappings\n",
    "# print('- create energy dataset')\n",
    "# keys = []\n",
    "# energies = []\n",
    "# for data in dataset:\n",
    "#     keys.append('random' + str(data.sid))\n",
    "#     energies.append(data.y_relaxed)\n",
    "    \n",
    "# energy_data = dict(zip(keys, energies))\n",
    "\n",
    "# # Open a file and use dump()\n",
    "# with open('mapping_energies_train.pkl', 'wb') as file:\n",
    "      \n",
    "#     # A new file will be created\n",
    "#     pickle.dump(energy_data, file)\n",
    "\n",
    "# print('done.')"
   ]
  },
  {
   "cell_type": "code",
   "execution_count": 3,
   "id": "a0a56506",
   "metadata": {},
   "outputs": [
    {
     "name": "stdout",
     "output_type": "stream",
     "text": [
      "- load data mapping\n",
      "- load adslab_slab mapping\n",
      "- load energy mapping - train\n"
     ]
    }
   ],
   "source": [
    "# load mappings\n",
    "print('- load data mapping')\n",
    "with open('oc20_data_mapping.pkl', 'rb') as f:\n",
    "    mapping_data = pickle.load(f)\n",
    "\n",
    "print('- load adslab_slab mapping')\n",
    "with open('mapping_adslab_slab.pkl', 'rb') as f:\n",
    "    mapping_adslab_slab = pickle.load(f)\n",
    "    \n",
    "print('- load energy mapping - train')\n",
    "with open('mapping_energies_train.pkl', 'rb') as f:\n",
    "    energy_data = pickle.load(f)"
   ]
  },
  {
   "cell_type": "code",
   "execution_count": 4,
   "id": "436bd6cc",
   "metadata": {},
   "outputs": [],
   "source": [
    "def find_key(miller_index, bulk_symbol, ads_symbol):\n",
    "    matching_keys = []\n",
    "    \n",
    "    for key, values in mapping_data.items():\n",
    "        if (values['miller_index'] == miller_index and\n",
    "            values['bulk_symbols'] == bulk_symbol and\n",
    "            values['ads_symbols'] == ads_symbol):\n",
    "            matching_keys.append(key)\n",
    "            \n",
    "    return matching_keys\n",
    "\n",
    "def get_ads_energy(miller_index, bulk_symbol, ads_symbol):\n",
    "    my_keys = find_key(miller_index, bulk_symbol, ads_symbol)\n",
    "    all_keys = energy_data.keys()\n",
    "    \n",
    "    energies = []\n",
    "    for key in my_keys:\n",
    "        print('MAPDATA: ', key)\n",
    "        print(json.dumps(mapping_data[key], indent=4))\n",
    "        if key in all_keys:\n",
    "            energies.append(energy_data[key])\n",
    "            print('ENERGY: ', energy_data[key])\n",
    "        else:\n",
    "            print('NO ENERGY')\n",
    "        print(' ')\n",
    "            \n",
    "    return energies"
   ]
  },
  {
   "cell_type": "code",
   "execution_count": 21,
   "id": "fcbc8b76",
   "metadata": {},
   "outputs": [
    {
     "name": "stdout",
     "output_type": "stream",
     "text": [
      "[]\n",
      "[]\n"
     ]
    }
   ],
   "source": [
    "miller_index = (1, 1, 1)\n",
    "bulk_symbol = 'Pt'\n",
    "ads_symbol = '*O'\n",
    "\n",
    "keys = find_key(miller_index, bulk_symbol, ads_symbol)\n",
    "print(keys)\n",
    "\n",
    "energies = get_ads_energy(miller_index, bulk_symbol, ads_symbol)\n",
    "print(energies) \n",
    "\n",
    "# to get one energy we may opt to keep the minimum energy"
   ]
  },
  {
   "cell_type": "code",
   "execution_count": 11,
   "id": "e2f1b9c2",
   "metadata": {},
   "outputs": [
    {
     "data": {
      "text/plain": [
       "{'bulk_id': 56,\n",
       " 'ads_id': 2,\n",
       " 'bulk_mpid': 'mp-1056438',\n",
       " 'bulk_symbols': 'Pd',\n",
       " 'ads_symbols': '*OH',\n",
       " 'miller_index': (1, 1, 1),\n",
       " 'shift': 0.167,\n",
       " 'top': True,\n",
       " 'adsorption_site': ((-0.0, 1.62, 24.22),),\n",
       " 'class': 0,\n",
       " 'anomaly': 0}"
      ]
     },
     "execution_count": 11,
     "metadata": {},
     "output_type": "execute_result"
    }
   ],
   "source": [
    "mapping_data['random1408994']"
   ]
  },
  {
   "cell_type": "code",
   "execution_count": 7,
   "id": "f21a71fa",
   "metadata": {},
   "outputs": [
    {
     "data": {
      "text/plain": [
       "{'bulk_id': 27,\n",
       " 'ads_id': 2,\n",
       " 'bulk_mpid': 'mp-2',\n",
       " 'bulk_symbols': 'Pd',\n",
       " 'ads_symbols': '*OH',\n",
       " 'miller_index': (1, 1, 1),\n",
       " 'shift': 0.167,\n",
       " 'top': True,\n",
       " 'adsorption_site': ((7.03, 0.81, 24.22),),\n",
       " 'class': 0,\n",
       " 'anomaly': 0}"
      ]
     },
     "execution_count": 7,
     "metadata": {},
     "output_type": "execute_result"
    }
   ],
   "source": [
    "mapping_data['random28166']"
   ]
  },
  {
   "cell_type": "code",
   "execution_count": 8,
   "id": "e65233ef",
   "metadata": {},
   "outputs": [
    {
     "data": {
      "text/plain": [
       "460328"
      ]
     },
     "execution_count": 8,
     "metadata": {},
     "output_type": "execute_result"
    }
   ],
   "source": [
    "len(energy_data)"
   ]
  },
  {
   "cell_type": "code",
   "execution_count": 9,
   "id": "ad2f15c0",
   "metadata": {},
   "outputs": [
    {
     "data": {
      "text/plain": [
       "1281041"
      ]
     },
     "execution_count": 9,
     "metadata": {},
     "output_type": "execute_result"
    }
   ],
   "source": [
    "len(mapping_data)"
   ]
  },
  {
   "cell_type": "code",
   "execution_count": null,
   "id": "08de78ec",
   "metadata": {},
   "outputs": [],
   "source": []
  }
 ],
 "metadata": {
  "kernelspec": {
   "display_name": "Python 3 (ipykernel)",
   "language": "python",
   "name": "python3"
  },
  "language_info": {
   "codemirror_mode": {
    "name": "ipython",
    "version": 3
   },
   "file_extension": ".py",
   "mimetype": "text/x-python",
   "name": "python",
   "nbconvert_exporter": "python",
   "pygments_lexer": "ipython3",
   "version": "3.10.9"
  }
 },
 "nbformat": 4,
 "nbformat_minor": 5
}
