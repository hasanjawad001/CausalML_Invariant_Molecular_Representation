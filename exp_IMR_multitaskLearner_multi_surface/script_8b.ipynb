{
 "cells": [
  {
   "cell_type": "code",
   "execution_count": 1,
   "id": "cbd01030-dd60-497d-b3dc-b1542daccfa9",
   "metadata": {},
   "outputs": [],
   "source": [
    "# git clone https://github.com/Open-Catalyst-Project/ocp.git\n",
    "# cd ocp\n",
    "# pip install -e .\n",
    "\n",
    "# pip install pyg_lib torch_scatter torch_sparse torch_cluster torch_spline_conv -f https://data.pyg.org/whl/torch-2.0.0+cu118.html\n",
    "# pip install lmdb ase pymatgen\n",
    "# pip install wandb tensorboard\n",
    "\n",
    "# git clone https://github.com/SUNCAT-Center/CatKit.git\n",
    "# cd CatKit\n",
    "# SKLEARN_ALLOW_DEPRECATED_SKLEARN_PACKAGE_INSTALL=True\n",
    "# pip install -e ."
   ]
  },
  {
   "cell_type": "code",
   "execution_count": 2,
   "id": "16874e72-4dc7-4a55-a491-b1b2c7e2c2aa",
   "metadata": {},
   "outputs": [],
   "source": [
    "# # https://nbviewer.org/gist/mhoffman/c418acb6b3f928eb4ef71f4001d120d9\n",
    "\n",
    "# import requests\n",
    "# import pprint\n",
    "# import sys\n",
    "# import string\n",
    "# import json\n",
    "# import io\n",
    "# import copy\n",
    "# import ase.io\n",
    "# import ase.calculators.singlepoint\n",
    "# import pickle\n",
    "\n",
    "# GRAPHQL = 'http://api.catalysis-hub.org/graphql'\n",
    "\n",
    "# def fetch(query):\n",
    "#     return requests.get(\n",
    "#         GRAPHQL, {'query': query}\n",
    "#     ).json()['data']\n",
    "\n",
    "# def reactions_from_dataset(pub_id, page_size=10):\n",
    "#     reactions = []\n",
    "#     has_next_page = True\n",
    "#     start_cursor = ''\n",
    "#     page = 0\n",
    "#     while has_next_page:\n",
    "#         data = fetch(\"\"\"{{\n",
    "#       reactions(pubId: \"{pub_id}\", first: {page_size}, after: \"{start_cursor}\") {{\n",
    "#         totalCount\n",
    "#         pageInfo {{\n",
    "#           hasNextPage\n",
    "#           hasPreviousPage\n",
    "#           startCursor\n",
    "#           endCursor \n",
    "#         }}  \n",
    "#         edges {{\n",
    "#           node {{\n",
    "#             chemicalComposition\n",
    "#             surfaceComposition\n",
    "#             facet\n",
    "#             sites\n",
    "#             coverages\n",
    "#             reactants\n",
    "#             products\n",
    "#             Equation\n",
    "#             reactionEnergy\n",
    "#             activationEnergy\n",
    "#             dftCode\n",
    "#             dftFunctional\n",
    "#             username\n",
    "#             pubId\n",
    "#             reactionSystems {{\n",
    "#               name\n",
    "#               systems {{\n",
    "#                 energy\n",
    "#                 InputFile(format: \"json\")\n",
    "#               }}\n",
    "#             }}  \n",
    "#           }}  \n",
    "#         }}  \n",
    "#       }}    \n",
    "#     }}\"\"\".format(start_cursor=start_cursor,\n",
    "#                  page_size=page_size,\n",
    "#                  pub_id=pub_id,\n",
    "#                 ))\n",
    "#         has_next_page = data['reactions']['pageInfo']['hasNextPage']\n",
    "#         start_cursor = data['reactions']['pageInfo']['endCursor']\n",
    "#         page += 1\n",
    "#         print(has_next_page, start_cursor, page_size * page, data['reactions']['totalCount'])\n",
    "#         reactions.extend(map(lambda x: x['node'], data['reactions']['edges']))\n",
    "\n",
    "#     return reactions\n",
    "\n",
    "# def aseify_reactions(reactions):\n",
    "#     for i, reaction in enumerate(reactions):\n",
    "#         for j, _ in enumerate(reactions[i]['reactionSystems']):\n",
    "#             with io.StringIO() as tmp_file:\n",
    "#                 system = reactions[i]['reactionSystems'][j].pop('systems')\n",
    "#                 tmp_file.write(system.pop('InputFile'))\n",
    "#                 tmp_file.seek(0)\n",
    "#                 atoms = ase.io.read(tmp_file, format='json')\n",
    "#             calculator = ase.calculators.singlepoint.SinglePointCalculator(\n",
    "#                 atoms,\n",
    "#                 energy=system.pop('energy')\n",
    "#             )\n",
    "#             atoms.set_calculator(calculator)\n",
    "#             #print(atoms.get_potential_energy())\n",
    "#             reactions[i]['reactionSystems'][j]['atoms'] = atoms\n",
    "#         # flatten list further into {name: atoms, ...} dictionary\n",
    "#         reactions[i]['reactionSystems'] = {x['name']: x['atoms']\n",
    "#                                           for x in reactions[i]['reactionSystems']}\n",
    "        \n",
    "# if __name__=='__main__':\n",
    "#     raw_reactions = reactions_from_dataset(\"MamunHighT2019\") # this will get all 88587 reactions\n",
    "#     # raw_reactions = reactions_from_dataset(\"FesterEdge2017\")\n",
    "    \n",
    "#     reactions = copy.deepcopy(raw_reactions)\n",
    "#     aseify_reactions(reactions)\n",
    "    \n",
    "#     # Save reactions to a file\n",
    "#     with open('/curdir/datasets/reactions.pickle', 'wb') as f:\n",
    "#         pickle.dump(reactions, f)\n",
    "    \n",
    "#     # # Load reactions from a file\n",
    "#     # with open('/curdir/datasets/reactions.pickle', 'rb') as f:\n",
    "#     #     loaded_reactions = pickle.load(f)\n",
    "    "
   ]
  },
  {
   "cell_type": "code",
   "execution_count": 3,
   "id": "0b14f4aa-c107-4d8d-a25b-b11c2e6d1a2a",
   "metadata": {},
   "outputs": [],
   "source": [
    "# !pip install ray"
   ]
  },
  {
   "cell_type": "code",
   "execution_count": 4,
   "id": "93dfd09b-dc36-4c08-a3be-951f2a19152e",
   "metadata": {},
   "outputs": [
    {
     "name": "stderr",
     "output_type": "stream",
     "text": [
      "2023-10-17 20:01:10,400\tINFO util.py:159 -- Outdated packages:\n",
      "  ipywidgets==7.6.5 found, needs ipywidgets>=8\n",
      "Run `pip install -U ipywidgets`, then restart the notebook server for rich notebook output.\n"
     ]
    }
   ],
   "source": [
    "import pickle\n",
    "import os\n",
    "import numpy as np\n",
    "import ase.io\n",
    "from ase.constraints import FixAtoms\n",
    "from ase.build import add_adsorbate, molecule, surface\n",
    "from pymatgen.ext.matproj import MPRester\n",
    "from pymatgen.core.surface import generate_all_slabs, SlabGenerator\n",
    "from pymatgen.io.ase import AseAtomsAdaptor\n",
    "from ocpmodels.common.relaxation.ase_utils import OCPCalculator\n",
    "import json\n",
    "import ray\n",
    "import pandas as pd\n",
    "from transformers import AutoTokenizer, AutoModel, pipeline"
   ]
  },
  {
   "cell_type": "code",
   "execution_count": 5,
   "id": "7192dee2-196f-4677-b982-d8fd86e63bd9",
   "metadata": {},
   "outputs": [],
   "source": [
    "with open('datasets/reactions.pickle', 'rb') as f:\n",
    "    loaded_reactions = pickle.load(f)"
   ]
  },
  {
   "cell_type": "code",
   "execution_count": 6,
   "id": "65488ca8-fb7c-4df5-b53a-2226e92fc974",
   "metadata": {},
   "outputs": [
    {
     "data": {
      "text/plain": [
       "88587"
      ]
     },
     "execution_count": 6,
     "metadata": {},
     "output_type": "execute_result"
    }
   ],
   "source": [
    "len(loaded_reactions)"
   ]
  },
  {
   "cell_type": "code",
   "execution_count": 7,
   "id": "70ab4ef7-5f96-457a-bef0-dba34b16b908",
   "metadata": {},
   "outputs": [
    {
     "data": {
      "text/plain": [
       "[{'chemicalComposition': 'Re3V9',\n",
       "  'surfaceComposition': 'V3Re',\n",
       "  'facet': '111',\n",
       "  'sites': '{\"C\": \"hollow\", \"O\": \"hollow\"}',\n",
       "  'coverages': '{\"C\": 0.25, \"O\": 0.25}',\n",
       "  'reactants': '{\"star\": 3, \"CO2gas\": 1}',\n",
       "  'products': '{\"Cstar\": 1, \"Ostar\": 2}',\n",
       "  'Equation': 'CO2(g) + 3* -> C* + 2O*',\n",
       "  'reactionEnergy': -7.092022703231123,\n",
       "  'activationEnergy': None,\n",
       "  'dftCode': 'Quantum ESPRESSO 5.1',\n",
       "  'dftFunctional': 'BEEF-vdW',\n",
       "  'username': 'winther@stanford.edu',\n",
       "  'pubId': 'MamunHighT2019',\n",
       "  'reactionSystems': {'bulk': Atoms(symbols='V3Re', pbc=True, cell=[3.847775727704837, 3.847775727704837, 3.847775727704837], calculator=SinglePointCalculator(...)),\n",
       "   'star': Atoms(symbols='V3ReV3ReV3Re', pbc=True, cell=[[5.441575614916559, 0.0, 0.0], [-2.7207878074582794, 4.712542666507961, 0.0], [0.0, 0.0, 24.443027270242712]], calculator=SinglePointCalculator(...)),\n",
       "   'Ostar': Atoms(symbols='VReV3ReV3ReV2O', pbc=True, cell=[[5.441575614916559, 0.0, 0.0], [2.7207878074582794, 4.712542666507961, 0.0], [0.0, 0.0, 24.443027270242712]], calculator=SinglePointCalculator(...)),\n",
       "   'Cstar': Atoms(symbols='VReV3ReV3ReV2C', pbc=True, cell=[[5.441575614916559, 0.0, 0.0], [2.7207878074582794, 4.712542666507961, 0.0], [0.0, 0.0, 24.443027270242712]], calculator=SinglePointCalculator(...)),\n",
       "   'CO2gas': Atoms(symbols='CO2', pbc=True, cell=[19.999998584662084, 19.999998584662084, 22.35731441784215], calculator=SinglePointCalculator(...))}}]"
      ]
     },
     "execution_count": 7,
     "metadata": {},
     "output_type": "execute_result"
    }
   ],
   "source": [
    "loaded_reactions[4000:4001]"
   ]
  },
  {
   "cell_type": "code",
   "execution_count": 8,
   "id": "0a80ff3d-56e9-469e-b759-79bfe65748b5",
   "metadata": {},
   "outputs": [],
   "source": [
    "# m = MPRester('Yct0KDbJbqMLWluZEovkwrLXh2VRHXbc')"
   ]
  },
  {
   "cell_type": "code",
   "execution_count": 9,
   "id": "e46e2ea4-3a58-4e2e-9287-d52c74de1542",
   "metadata": {},
   "outputs": [
    {
     "name": "stderr",
     "output_type": "stream",
     "text": [
      "2023-10-17 20:01:37,989\tINFO worker.py:1621 -- Started a local Ray instance.\n"
     ]
    },
    {
     "data": {
      "text/html": [
       "<div class=\"lm-Widget p-Widget lm-Panel p-Panel jp-Cell-outputWrapper\">\n",
       "    <div style=\"margin-left: 50px;display: flex;flex-direction: row;align-items: center\">\n",
       "        <div class=\"jp-RenderedHTMLCommon\" style=\"display: flex; flex-direction: row;\">\n",
       "  <svg viewBox=\"0 0 567 224\" fill=\"none\" xmlns=\"http://www.w3.org/2000/svg\" style=\"height: 3em;\">\n",
       "    <g clip-path=\"url(#clip0_4338_178347)\">\n",
       "        <path d=\"M341.29 165.561H355.29L330.13 129.051C345.63 123.991 354.21 112.051 354.21 94.2307C354.21 71.3707 338.72 58.1807 311.88 58.1807H271V165.561H283.27V131.661H311.8C314.25 131.661 316.71 131.501 319.01 131.351L341.25 165.561H341.29ZM283.29 119.851V70.0007H311.82C331.3 70.0007 342.34 78.2907 342.34 94.5507C342.34 111.271 331.34 119.861 311.82 119.861L283.29 119.851ZM451.4 138.411L463.4 165.561H476.74L428.74 58.1807H416L367.83 165.561H380.83L392.83 138.411H451.4ZM446.19 126.601H398L422 72.1407L446.24 126.601H446.19ZM526.11 128.741L566.91 58.1807H554.35L519.99 114.181L485.17 58.1807H472.44L514.01 129.181V165.541H526.13V128.741H526.11Z\" fill=\"var(--jp-ui-font-color0)\"/>\n",
       "        <path d=\"M82.35 104.44C84.0187 97.8827 87.8248 92.0678 93.1671 87.9146C98.5094 83.7614 105.083 81.5067 111.85 81.5067C118.617 81.5067 125.191 83.7614 130.533 87.9146C135.875 92.0678 139.681 97.8827 141.35 104.44H163.75C164.476 101.562 165.622 98.8057 167.15 96.2605L127.45 56.5605C121.071 60.3522 113.526 61.6823 106.235 60.3005C98.9443 58.9187 92.4094 54.9203 87.8602 49.0574C83.3109 43.1946 81.0609 35.8714 81.5332 28.4656C82.0056 21.0599 85.1679 14.0819 90.4252 8.8446C95.6824 3.60726 102.672 0.471508 110.08 0.0272655C117.487 -0.416977 124.802 1.86091 130.647 6.4324C136.493 11.0039 140.467 17.5539 141.821 24.8501C143.175 32.1463 141.816 39.6859 138 46.0505L177.69 85.7505C182.31 82.9877 187.58 81.4995 192.962 81.4375C198.345 81.3755 203.648 82.742 208.33 85.3976C213.012 88.0532 216.907 91.9029 219.616 96.5544C222.326 101.206 223.753 106.492 223.753 111.875C223.753 117.258 222.326 122.545 219.616 127.197C216.907 131.848 213.012 135.698 208.33 138.353C203.648 141.009 198.345 142.375 192.962 142.313C187.58 142.251 182.31 140.763 177.69 138L138 177.7C141.808 184.071 143.155 191.614 141.79 198.91C140.424 206.205 136.44 212.75 130.585 217.313C124.731 221.875 117.412 224.141 110.004 223.683C102.596 223.226 95.6103 220.077 90.3621 214.828C85.1139 209.58 81.9647 202.595 81.5072 195.187C81.0497 187.779 83.3154 180.459 87.878 174.605C92.4405 168.751 98.9853 164.766 106.281 163.401C113.576 162.035 121.119 163.383 127.49 167.19L167.19 127.49C165.664 124.941 164.518 122.182 163.79 119.3H141.39C139.721 125.858 135.915 131.673 130.573 135.826C125.231 139.98 118.657 142.234 111.89 142.234C105.123 142.234 98.5494 139.98 93.2071 135.826C87.8648 131.673 84.0587 125.858 82.39 119.3H60C58.1878 126.495 53.8086 132.78 47.6863 136.971C41.5641 141.163 34.1211 142.972 26.7579 142.059C19.3947 141.146 12.6191 137.574 7.70605 132.014C2.79302 126.454 0.0813599 119.29 0.0813599 111.87C0.0813599 104.451 2.79302 97.2871 7.70605 91.7272C12.6191 86.1673 19.3947 82.5947 26.7579 81.6817C34.1211 80.7686 41.5641 82.5781 47.6863 86.7696C53.8086 90.9611 58.1878 97.2456 60 104.44H82.35ZM100.86 204.32C103.407 206.868 106.759 208.453 110.345 208.806C113.93 209.159 117.527 208.258 120.522 206.256C123.517 204.254 125.725 201.276 126.771 197.828C127.816 194.38 127.633 190.677 126.253 187.349C124.874 184.021 122.383 181.274 119.205 179.577C116.027 177.88 112.359 177.337 108.826 178.042C105.293 178.746 102.113 180.654 99.8291 183.44C97.5451 186.226 96.2979 189.718 96.3 193.32C96.2985 195.364 96.7006 197.388 97.4831 199.275C98.2656 201.163 99.4132 202.877 100.86 204.32ZM204.32 122.88C206.868 120.333 208.453 116.981 208.806 113.396C209.159 109.811 208.258 106.214 206.256 103.219C204.254 100.223 201.275 98.0151 197.827 96.97C194.38 95.9249 190.676 96.1077 187.348 97.4873C184.02 98.8669 181.274 101.358 179.577 104.536C177.879 107.714 177.337 111.382 178.041 114.915C178.746 118.448 180.653 121.627 183.439 123.911C186.226 126.195 189.717 127.443 193.32 127.44C195.364 127.443 197.388 127.042 199.275 126.259C201.163 125.476 202.878 124.328 204.32 122.88ZM122.88 19.4205C120.333 16.8729 116.981 15.2876 113.395 14.9347C109.81 14.5817 106.213 15.483 103.218 17.4849C100.223 19.4868 98.0146 22.4654 96.9696 25.9131C95.9245 29.3608 96.1073 33.0642 97.4869 36.3922C98.8665 39.7202 101.358 42.4668 104.535 44.1639C107.713 45.861 111.381 46.4036 114.914 45.6992C118.447 44.9949 121.627 43.0871 123.911 40.301C126.195 37.515 127.442 34.0231 127.44 30.4205C127.44 28.3772 127.038 26.3539 126.255 24.4664C125.473 22.5788 124.326 20.8642 122.88 19.4205ZM19.42 100.86C16.8725 103.408 15.2872 106.76 14.9342 110.345C14.5813 113.93 15.4826 117.527 17.4844 120.522C19.4863 123.518 22.4649 125.726 25.9127 126.771C29.3604 127.816 33.0638 127.633 36.3918 126.254C39.7198 124.874 42.4664 122.383 44.1635 119.205C45.8606 116.027 46.4032 112.359 45.6988 108.826C44.9944 105.293 43.0866 102.114 40.3006 99.8296C37.5145 97.5455 34.0227 96.2983 30.42 96.3005C26.2938 96.3018 22.337 97.9421 19.42 100.86ZM100.86 100.86C98.3125 103.408 96.7272 106.76 96.3742 110.345C96.0213 113.93 96.9226 117.527 98.9244 120.522C100.926 123.518 103.905 125.726 107.353 126.771C110.8 127.816 114.504 127.633 117.832 126.254C121.16 124.874 123.906 122.383 125.604 119.205C127.301 116.027 127.843 112.359 127.139 108.826C126.434 105.293 124.527 102.114 121.741 99.8296C118.955 97.5455 115.463 96.2983 111.86 96.3005C109.817 96.299 107.793 96.701 105.905 97.4835C104.018 98.2661 102.303 99.4136 100.86 100.86Z\" fill=\"#00AEEF\"/>\n",
       "    </g>\n",
       "    <defs>\n",
       "        <clipPath id=\"clip0_4338_178347\">\n",
       "            <rect width=\"566.93\" height=\"223.75\" fill=\"white\"/>\n",
       "        </clipPath>\n",
       "    </defs>\n",
       "  </svg>\n",
       "</div>\n",
       "\n",
       "        <table class=\"jp-RenderedHTMLCommon\" style=\"border-collapse: collapse;color: var(--jp-ui-font-color1);font-size: var(--jp-ui-font-size1);\">\n",
       "    <tr>\n",
       "        <td style=\"text-align: left\"><b>Python version:</b></td>\n",
       "        <td style=\"text-align: left\"><b>3.10.9</b></td>\n",
       "    </tr>\n",
       "    <tr>\n",
       "        <td style=\"text-align: left\"><b>Ray version:</b></td>\n",
       "        <td style=\"text-align: left\"><b>2.6.2</b></td>\n",
       "    </tr>\n",
       "    \n",
       "</table>\n",
       "\n",
       "    </div>\n",
       "</div>\n"
      ],
      "text/plain": [
       "RayContext(dashboard_url='', python_version='3.10.9', ray_version='2.6.2', ray_commit='92ad4bab9e93c7a207a44c65ab51295f92566cb4', protocol_version=None)"
      ]
     },
     "execution_count": 9,
     "metadata": {},
     "output_type": "execute_result"
    }
   ],
   "source": [
    "ray.init(ignore_reinit_error=True)"
   ]
  },
  {
   "cell_type": "code",
   "execution_count": 10,
   "id": "15cbd606-e857-4a93-a7aa-bef69501b6e5",
   "metadata": {},
   "outputs": [
    {
     "ename": "RuntimeError",
     "evalue": "!atom.empty() INTERNAL ASSERT FAILED at \"/opt/conda/conda-bld/pytorch_1678402411778/work/aten/src/ATen/core/qualified_name.h\":24, please report a bug to PyTorch. Invalid name for qualified name: '__torch__.ocpmodels.models..equiformer_v2.gaussian_rbf.gaussian'",
     "output_type": "error",
     "traceback": [
      "\u001b[0;31m---------------------------------------------------------------------------\u001b[0m",
      "\u001b[0;31mRuntimeError\u001b[0m                              Traceback (most recent call last)",
      "Cell \u001b[0;32mIn[10], line 5\u001b[0m\n\u001b[1;32m      2\u001b[0m checkpoint_path \u001b[38;5;241m=\u001b[39m \u001b[38;5;124m\"\u001b[39m\u001b[38;5;124mdimenetpp_all.pt\u001b[39m\u001b[38;5;124m\"\u001b[39m\n\u001b[1;32m      4\u001b[0m \u001b[38;5;66;03m# Define the calculator\u001b[39;00m\n\u001b[0;32m----> 5\u001b[0m calc_id \u001b[38;5;241m=\u001b[39m ray\u001b[38;5;241m.\u001b[39mput(\u001b[43mOCPCalculator\u001b[49m\u001b[43m(\u001b[49m\u001b[43mconfig_yml\u001b[49m\u001b[38;5;241;43m=\u001b[39;49m\u001b[43mconfig_yml_path\u001b[49m\u001b[43m,\u001b[49m\u001b[43m \u001b[49m\u001b[43mcheckpoint\u001b[49m\u001b[38;5;241;43m=\u001b[39;49m\u001b[43mcheckpoint_path\u001b[49m\u001b[43m)\u001b[49m)\n",
      "File \u001b[0;32m/host_workspace/v9/ocp/ocpmodels/common/relaxation/ase_utils.py:91\u001b[0m, in \u001b[0;36mOCPCalculator.__init__\u001b[0;34m(self, config_yml, checkpoint, trainer, cutoff, max_neighbors, cpu)\u001b[0m\n\u001b[1;32m     65\u001b[0m \u001b[38;5;28;01mdef\u001b[39;00m \u001b[38;5;21m__init__\u001b[39m(\n\u001b[1;32m     66\u001b[0m     \u001b[38;5;28mself\u001b[39m,\n\u001b[1;32m     67\u001b[0m     config_yml: Optional[\u001b[38;5;28mstr\u001b[39m] \u001b[38;5;241m=\u001b[39m \u001b[38;5;28;01mNone\u001b[39;00m,\n\u001b[0;32m   (...)\u001b[0m\n\u001b[1;32m     72\u001b[0m     cpu: \u001b[38;5;28mbool\u001b[39m \u001b[38;5;241m=\u001b[39m \u001b[38;5;28;01mTrue\u001b[39;00m,\n\u001b[1;32m     73\u001b[0m ) \u001b[38;5;241m-\u001b[39m\u001b[38;5;241m>\u001b[39m \u001b[38;5;28;01mNone\u001b[39;00m:\n\u001b[1;32m     74\u001b[0m     \u001b[38;5;124;03m\"\"\"\u001b[39;00m\n\u001b[1;32m     75\u001b[0m \u001b[38;5;124;03m    OCP-ASE Calculator\u001b[39;00m\n\u001b[1;32m     76\u001b[0m \n\u001b[0;32m   (...)\u001b[0m\n\u001b[1;32m     89\u001b[0m \u001b[38;5;124;03m            Whether to load and run the model on CPU. Set `False` for GPU.\u001b[39;00m\n\u001b[1;32m     90\u001b[0m \u001b[38;5;124;03m    \"\"\"\u001b[39;00m\n\u001b[0;32m---> 91\u001b[0m     \u001b[43msetup_imports\u001b[49m\u001b[43m(\u001b[49m\u001b[43m)\u001b[49m\n\u001b[1;32m     92\u001b[0m     setup_logging()\n\u001b[1;32m     93\u001b[0m     Calculator\u001b[38;5;241m.\u001b[39m\u001b[38;5;21m__init__\u001b[39m(\u001b[38;5;28mself\u001b[39m)\n",
      "File \u001b[0;32m/host_workspace/v9/ocp/ocpmodels/common/utils.py:328\u001b[0m, in \u001b[0;36msetup_imports\u001b[0;34m(config)\u001b[0m\n\u001b[1;32m    326\u001b[0m \u001b[38;5;28;01mfor\u001b[39;00m key \u001b[38;5;129;01min\u001b[39;00m import_keys:\n\u001b[1;32m    327\u001b[0m     \u001b[38;5;28;01mfor\u001b[39;00m f \u001b[38;5;129;01min\u001b[39;00m (project_root \u001b[38;5;241m/\u001b[39m \u001b[38;5;124m\"\u001b[39m\u001b[38;5;124mocpmodels\u001b[39m\u001b[38;5;124m\"\u001b[39m \u001b[38;5;241m/\u001b[39m key)\u001b[38;5;241m.\u001b[39mrglob(\u001b[38;5;124m\"\u001b[39m\u001b[38;5;124m*.py\u001b[39m\u001b[38;5;124m\"\u001b[39m):\n\u001b[0;32m--> 328\u001b[0m         \u001b[43m_import_local_file\u001b[49m\u001b[43m(\u001b[49m\u001b[43mf\u001b[49m\u001b[43m,\u001b[49m\u001b[43m \u001b[49m\u001b[43mproject_root\u001b[49m\u001b[38;5;241;43m=\u001b[39;49m\u001b[43mproject_root\u001b[49m\u001b[43m)\u001b[49m\n\u001b[1;32m    330\u001b[0m \u001b[38;5;28;01mif\u001b[39;00m \u001b[38;5;129;01mnot\u001b[39;00m skip_experimental_imports:\n\u001b[1;32m    331\u001b[0m     setup_experimental_imports(project_root)\n",
      "File \u001b[0;32m/host_workspace/v9/ocp/ocpmodels/common/utils.py:259\u001b[0m, in \u001b[0;36m_import_local_file\u001b[0;34m(path, project_root)\u001b[0m\n\u001b[1;32m    252\u001b[0m module_name \u001b[38;5;241m=\u001b[39m \u001b[38;5;124m\"\u001b[39m\u001b[38;5;124m.\u001b[39m\u001b[38;5;124m\"\u001b[39m\u001b[38;5;241m.\u001b[39mjoin(\n\u001b[1;32m    253\u001b[0m     path\u001b[38;5;241m.\u001b[39mabsolute()\n\u001b[1;32m    254\u001b[0m     \u001b[38;5;241m.\u001b[39mrelative_to(project_root\u001b[38;5;241m.\u001b[39mabsolute())\n\u001b[1;32m    255\u001b[0m     \u001b[38;5;241m.\u001b[39mwith_suffix(\u001b[38;5;124m\"\u001b[39m\u001b[38;5;124m\"\u001b[39m)\n\u001b[1;32m    256\u001b[0m     \u001b[38;5;241m.\u001b[39mparts\n\u001b[1;32m    257\u001b[0m )\n\u001b[1;32m    258\u001b[0m logging\u001b[38;5;241m.\u001b[39mdebug(\u001b[38;5;124mf\u001b[39m\u001b[38;5;124m\"\u001b[39m\u001b[38;5;124mResolved module name of \u001b[39m\u001b[38;5;132;01m{\u001b[39;00mpath\u001b[38;5;132;01m}\u001b[39;00m\u001b[38;5;124m to \u001b[39m\u001b[38;5;132;01m{\u001b[39;00mmodule_name\u001b[38;5;132;01m}\u001b[39;00m\u001b[38;5;124m\"\u001b[39m)\n\u001b[0;32m--> 259\u001b[0m \u001b[43mimportlib\u001b[49m\u001b[38;5;241;43m.\u001b[39;49m\u001b[43mimport_module\u001b[49m\u001b[43m(\u001b[49m\u001b[43mmodule_name\u001b[49m\u001b[43m)\u001b[49m\n",
      "File \u001b[0;32m/opt/anaconda3/lib/python3.10/importlib/__init__.py:126\u001b[0m, in \u001b[0;36mimport_module\u001b[0;34m(name, package)\u001b[0m\n\u001b[1;32m    124\u001b[0m             \u001b[38;5;28;01mbreak\u001b[39;00m\n\u001b[1;32m    125\u001b[0m         level \u001b[38;5;241m+\u001b[39m\u001b[38;5;241m=\u001b[39m \u001b[38;5;241m1\u001b[39m\n\u001b[0;32m--> 126\u001b[0m \u001b[38;5;28;01mreturn\u001b[39;00m \u001b[43m_bootstrap\u001b[49m\u001b[38;5;241;43m.\u001b[39;49m\u001b[43m_gcd_import\u001b[49m\u001b[43m(\u001b[49m\u001b[43mname\u001b[49m\u001b[43m[\u001b[49m\u001b[43mlevel\u001b[49m\u001b[43m:\u001b[49m\u001b[43m]\u001b[49m\u001b[43m,\u001b[49m\u001b[43m \u001b[49m\u001b[43mpackage\u001b[49m\u001b[43m,\u001b[49m\u001b[43m \u001b[49m\u001b[43mlevel\u001b[49m\u001b[43m)\u001b[49m\n",
      "File \u001b[0;32m<frozen importlib._bootstrap>:1050\u001b[0m, in \u001b[0;36m_gcd_import\u001b[0;34m(name, package, level)\u001b[0m\n",
      "File \u001b[0;32m<frozen importlib._bootstrap>:1027\u001b[0m, in \u001b[0;36m_find_and_load\u001b[0;34m(name, import_)\u001b[0m\n",
      "File \u001b[0;32m<frozen importlib._bootstrap>:992\u001b[0m, in \u001b[0;36m_find_and_load_unlocked\u001b[0;34m(name, import_)\u001b[0m\n",
      "File \u001b[0;32m<frozen importlib._bootstrap>:241\u001b[0m, in \u001b[0;36m_call_with_frames_removed\u001b[0;34m(f, *args, **kwds)\u001b[0m\n",
      "File \u001b[0;32m<frozen importlib._bootstrap>:1050\u001b[0m, in \u001b[0;36m_gcd_import\u001b[0;34m(name, package, level)\u001b[0m\n",
      "File \u001b[0;32m<frozen importlib._bootstrap>:1027\u001b[0m, in \u001b[0;36m_find_and_load\u001b[0;34m(name, import_)\u001b[0m\n",
      "File \u001b[0;32m<frozen importlib._bootstrap>:992\u001b[0m, in \u001b[0;36m_find_and_load_unlocked\u001b[0;34m(name, import_)\u001b[0m\n",
      "File \u001b[0;32m<frozen importlib._bootstrap>:241\u001b[0m, in \u001b[0;36m_call_with_frames_removed\u001b[0;34m(f, *args, **kwds)\u001b[0m\n",
      "File \u001b[0;32m<frozen importlib._bootstrap>:1050\u001b[0m, in \u001b[0;36m_gcd_import\u001b[0;34m(name, package, level)\u001b[0m\n",
      "File \u001b[0;32m<frozen importlib._bootstrap>:1027\u001b[0m, in \u001b[0;36m_find_and_load\u001b[0;34m(name, import_)\u001b[0m\n",
      "File \u001b[0;32m<frozen importlib._bootstrap>:1006\u001b[0m, in \u001b[0;36m_find_and_load_unlocked\u001b[0;34m(name, import_)\u001b[0m\n",
      "File \u001b[0;32m<frozen importlib._bootstrap>:688\u001b[0m, in \u001b[0;36m_load_unlocked\u001b[0;34m(spec)\u001b[0m\n",
      "File \u001b[0;32m<frozen importlib._bootstrap_external>:883\u001b[0m, in \u001b[0;36mexec_module\u001b[0;34m(self, module)\u001b[0m\n",
      "File \u001b[0;32m<frozen importlib._bootstrap>:241\u001b[0m, in \u001b[0;36m_call_with_frames_removed\u001b[0;34m(f, *args, **kwds)\u001b[0m\n",
      "File \u001b[0;32m/host_workspace/v9/ocp/ocpmodels/models/__init__.py:10\u001b[0m\n\u001b[1;32m      8\u001b[0m \u001b[38;5;28;01mfrom\u001b[39;00m \u001b[38;5;21;01m.\u001b[39;00m\u001b[38;5;21;01mdimenet\u001b[39;00m \u001b[38;5;28;01mimport\u001b[39;00m DimeNetWrap \u001b[38;5;28;01mas\u001b[39;00m DimeNet\n\u001b[1;32m      9\u001b[0m \u001b[38;5;28;01mfrom\u001b[39;00m \u001b[38;5;21;01m.\u001b[39;00m\u001b[38;5;21;01mdimenet_plus_plus\u001b[39;00m \u001b[38;5;28;01mimport\u001b[39;00m DimeNetPlusPlusWrap \u001b[38;5;28;01mas\u001b[39;00m DimeNetPlusPlus\n\u001b[0;32m---> 10\u001b[0m \u001b[38;5;28;01mfrom\u001b[39;00m \u001b[38;5;21;01m.\u001b[39;00m\u001b[38;5;21;01mequiformer_v2\u001b[39;00m \u001b[38;5;28;01mimport\u001b[39;00m EquiformerV2\n\u001b[1;32m     11\u001b[0m \u001b[38;5;28;01mfrom\u001b[39;00m \u001b[38;5;21;01m.\u001b[39;00m\u001b[38;5;21;01mescn\u001b[39;00m \u001b[38;5;28;01mimport\u001b[39;00m eSCN\n\u001b[1;32m     12\u001b[0m \u001b[38;5;28;01mfrom\u001b[39;00m \u001b[38;5;21;01m.\u001b[39;00m\u001b[38;5;21;01mforcenet\u001b[39;00m \u001b[38;5;28;01mimport\u001b[39;00m ForceNet\n",
      "File \u001b[0;32m/host_workspace/v9/ocp/ocpmodels/models/equiformer_v2/__init__.py:1\u001b[0m\n\u001b[0;32m----> 1\u001b[0m \u001b[38;5;28;01mfrom\u001b[39;00m \u001b[38;5;21;01m.\u001b[39;00m\u001b[38;5;21;01mequiformer_v2_oc20\u001b[39;00m \u001b[38;5;28;01mimport\u001b[39;00m EquiformerV2_OC20 \u001b[38;5;28;01mas\u001b[39;00m EquiformerV2\n",
      "File \u001b[0;32m/host_workspace/v9/ocp/ocpmodels/models/equiformer_v2/equiformer_v2_oc20.py:20\u001b[0m\n\u001b[1;32m     16\u001b[0m     \u001b[38;5;28;01mpass\u001b[39;00m\n\u001b[1;32m     19\u001b[0m \u001b[38;5;28;01mfrom\u001b[39;00m \u001b[38;5;21;01m.\u001b[39;00m\u001b[38;5;21;01medge_rot_mat\u001b[39;00m \u001b[38;5;28;01mimport\u001b[39;00m init_edge_rot_mat\n\u001b[0;32m---> 20\u001b[0m \u001b[38;5;28;01mfrom\u001b[39;00m \u001b[38;5;21;01m.\u001b[39;00m\u001b[38;5;21;01mgaussian_rbf\u001b[39;00m \u001b[38;5;28;01mimport\u001b[39;00m GaussianRadialBasisLayer\n\u001b[1;32m     21\u001b[0m \u001b[38;5;28;01mfrom\u001b[39;00m \u001b[38;5;21;01m.\u001b[39;00m\u001b[38;5;21;01minput_block\u001b[39;00m \u001b[38;5;28;01mimport\u001b[39;00m EdgeDegreeEmbedding\n\u001b[1;32m     22\u001b[0m \u001b[38;5;28;01mfrom\u001b[39;00m \u001b[38;5;21;01m.\u001b[39;00m\u001b[38;5;21;01mlayer_norm\u001b[39;00m \u001b[38;5;28;01mimport\u001b[39;00m (\n\u001b[1;32m     23\u001b[0m     EquivariantLayerNormArray,\n\u001b[1;32m     24\u001b[0m     EquivariantLayerNormArraySphericalHarmonics,\n\u001b[0;32m   (...)\u001b[0m\n\u001b[1;32m     27\u001b[0m     get_normalization_layer,\n\u001b[1;32m     28\u001b[0m )\n",
      "File \u001b[0;32m/host_workspace/v9/ocp/ocpmodels/models/equiformer_v2/gaussian_rbf.py:5\u001b[0m\n\u001b[1;32m      1\u001b[0m \u001b[38;5;28;01mimport\u001b[39;00m \u001b[38;5;21;01mtorch\u001b[39;00m\n\u001b[1;32m      4\u001b[0m \u001b[38;5;129;43m@torch\u001b[39;49m\u001b[38;5;241;43m.\u001b[39;49m\u001b[43mjit\u001b[49m\u001b[38;5;241;43m.\u001b[39;49m\u001b[43mscript\u001b[49m\n\u001b[0;32m----> 5\u001b[0m \u001b[38;5;28;43;01mdef\u001b[39;49;00m\u001b[43m \u001b[49m\u001b[38;5;21;43mgaussian\u001b[39;49m\u001b[43m(\u001b[49m\u001b[43mx\u001b[49m\u001b[43m:\u001b[49m\u001b[43m \u001b[49m\u001b[43mtorch\u001b[49m\u001b[38;5;241;43m.\u001b[39;49m\u001b[43mTensor\u001b[49m\u001b[43m,\u001b[49m\u001b[43m \u001b[49m\u001b[43mmean\u001b[49m\u001b[43m,\u001b[49m\u001b[43m \u001b[49m\u001b[43mstd\u001b[49m\u001b[43m)\u001b[49m\u001b[43m \u001b[49m\u001b[38;5;241;43m-\u001b[39;49m\u001b[38;5;241;43m>\u001b[39;49m\u001b[43m \u001b[49m\u001b[43mtorch\u001b[49m\u001b[38;5;241;43m.\u001b[39;49m\u001b[43mTensor\u001b[49m\u001b[43m:\u001b[49m\n\u001b[1;32m      6\u001b[0m \u001b[43m    \u001b[49m\u001b[43mpi\u001b[49m\u001b[43m \u001b[49m\u001b[38;5;241;43m=\u001b[39;49m\u001b[43m \u001b[49m\u001b[38;5;241;43m3.14159\u001b[39;49m\n\u001b[1;32m      7\u001b[0m \u001b[43m    \u001b[49m\u001b[43ma\u001b[49m\u001b[43m \u001b[49m\u001b[38;5;241;43m=\u001b[39;49m\u001b[43m \u001b[49m\u001b[43m(\u001b[49m\u001b[38;5;241;43m2\u001b[39;49m\u001b[43m \u001b[49m\u001b[38;5;241;43m*\u001b[39;49m\u001b[43m \u001b[49m\u001b[43mpi\u001b[49m\u001b[43m)\u001b[49m\u001b[43m \u001b[49m\u001b[38;5;241;43m*\u001b[39;49m\u001b[38;5;241;43m*\u001b[39;49m\u001b[43m \u001b[49m\u001b[38;5;241;43m0.5\u001b[39;49m\n",
      "File \u001b[0;32m/opt/anaconda3/lib/python3.10/site-packages/torch/jit/_script.py:1341\u001b[0m, in \u001b[0;36mscript\u001b[0;34m(obj, optimize, _frames_up, _rcb, example_inputs)\u001b[0m\n\u001b[1;32m   1339\u001b[0m \u001b[38;5;28;01mif\u001b[39;00m _rcb \u001b[38;5;129;01mis\u001b[39;00m \u001b[38;5;28;01mNone\u001b[39;00m:\n\u001b[1;32m   1340\u001b[0m     _rcb \u001b[38;5;241m=\u001b[39m _jit_internal\u001b[38;5;241m.\u001b[39mcreateResolutionCallbackFromClosure(obj)\n\u001b[0;32m-> 1341\u001b[0m fn \u001b[38;5;241m=\u001b[39m torch\u001b[38;5;241m.\u001b[39m_C\u001b[38;5;241m.\u001b[39m_jit_script_compile(\n\u001b[1;32m   1342\u001b[0m     qualified_name, ast, _rcb, get_default_args(obj)\n\u001b[1;32m   1343\u001b[0m )\n\u001b[1;32m   1344\u001b[0m \u001b[38;5;66;03m# Forward docstrings\u001b[39;00m\n\u001b[1;32m   1345\u001b[0m fn\u001b[38;5;241m.\u001b[39m\u001b[38;5;18m__doc__\u001b[39m \u001b[38;5;241m=\u001b[39m obj\u001b[38;5;241m.\u001b[39m\u001b[38;5;18m__doc__\u001b[39m\n",
      "\u001b[0;31mRuntimeError\u001b[0m: !atom.empty() INTERNAL ASSERT FAILED at \"/opt/conda/conda-bld/pytorch_1678402411778/work/aten/src/ATen/core/qualified_name.h\":24, please report a bug to PyTorch. Invalid name for qualified name: '__torch__.ocpmodels.models..equiformer_v2.gaussian_rbf.gaussian'"
     ]
    }
   ],
   "source": [
    "config_yml_path = \"ocp/configs/is2re/all/dimenet_plus_plus/dpp.yml\"\n",
    "checkpoint_path = \"dimenetpp_all.pt\"\n",
    "\n",
    "# Define the calculator\n",
    "calc_id = ray.put(OCPCalculator(config_yml=config_yml_path, checkpoint=checkpoint_path))"
   ]
  },
  {
   "cell_type": "code",
   "execution_count": 10,
   "id": "dbdd9c32",
   "metadata": {},
   "outputs": [],
   "source": [
    "def get_energy(ase_slab, ads_symbol):\n",
    "    \n",
    "    adslab = ase_slab.copy()\n",
    "    adslab.calc = ray.get(calc_id)\n",
    "    # print(adslab)\n",
    "    \n",
    "    slab_energy = adslab.get_potential_energy()\n",
    "    \n",
    "    # add the molecule\n",
    "    adsorbate = molecule(ads_symbol)\n",
    "    add_adsorbate(adslab, adsorbate, 3, offset=(1, 1))\n",
    "    # print(adslab)\n",
    "    \n",
    "    ads_energy = adslab.get_potential_energy()\n",
    "    \n",
    "    # because this is a fingerprint we do not need to reference to gas molecules \n",
    "    # because this is the same constant across surfaces\n",
    "    \n",
    "    return ads_energy - slab_energy"
   ]
  },
  {
   "cell_type": "code",
   "execution_count": 11,
   "id": "d9a85e3a-5e57-44e8-9ed9-d087991179b2",
   "metadata": {},
   "outputs": [
    {
     "data": {
      "text/plain": [
       "3.444236993789673"
      ]
     },
     "execution_count": 11,
     "metadata": {},
     "output_type": "execute_result"
    }
   ],
   "source": [
    "get_energy(loaded_reactions[5]['reactionSystems']['star'], 'O2' )"
   ]
  },
  {
   "cell_type": "code",
   "execution_count": 14,
   "id": "86724e71-79ca-4c1c-b7e5-30f6134e9c5a",
   "metadata": {},
   "outputs": [
    {
     "name": "stdout",
     "output_type": "stream",
     "text": [
      "{'Equation': '0.5N2(g) + * -> N*',\n",
      " 'activationEnergy': None,\n",
      " 'chemicalComposition': 'Sc3V9',\n",
      " 'coverages': '{\"N\": 0.25}',\n",
      " 'dftCode': 'Quantum ESPRESSO 5.1',\n",
      " 'dftFunctional': 'BEEF-vdW',\n",
      " 'facet': '111',\n",
      " 'products': '{\"Nstar\": 1}',\n",
      " 'pubId': 'MamunHighT2019',\n",
      " 'reactants': '{\"star\": 1, \"N2gas\": 0.5}',\n",
      " 'reactionEnergy': -2.810391181412342,\n",
      " 'reactionSystems': {'N2gas': Atoms(symbols='N2', pbc=True, cell=[19.999998584662084, 19.999998584662084, 21.129978504696908], calculator=SinglePointCalculator(...)),\n",
      "                     'Nstar': Atoms(symbols='VScV3ScV3ScV2N', pbc=True, cell=[[5.6401896008612615, 0.0, 0.0], [2.8200948004306308, 4.884546654335772, 0.0], [0.0, 0.0, 24.60519325876673]], calculator=SinglePointCalculator(...)),\n",
      "                     'bulk': Atoms(symbols='V3Sc', pbc=True, cell=[3.9882157177663338, 3.9882157177663338, 3.9882157177663338], calculator=SinglePointCalculator(...)),\n",
      "                     'star': Atoms(symbols='V3ScV3ScV3Sc', pbc=True, cell=[[5.6401896008612615, 0.0, 0.0], [-2.8200948004306308, 4.884546654335772, 0.0], [0.0, 0.0, 24.60519325876673]], calculator=SinglePointCalculator(...))},\n",
      " 'sites': '{\"N\": \"hollow|A_A_A|HCP\"}',\n",
      " 'surfaceComposition': 'V3Sc',\n",
      " 'username': 'winther@stanford.edu'}\n"
     ]
    }
   ],
   "source": [
    "from pprint import pprint\n",
    "for i in range(1):\n",
    "    pprint(loaded_reactions[i])"
   ]
  },
  {
   "cell_type": "code",
   "execution_count": 30,
   "id": "ce12b4fe-1874-488d-801c-15e6c0b4c5bc",
   "metadata": {},
   "outputs": [],
   "source": [
    "list_adsorbate = ['H', 'O', 'C', 'CO', 'OH', 'N2', 'CO2', 'NH3', 'CH4'] ## 'H2S' "
   ]
  },
  {
   "cell_type": "code",
   "execution_count": 17,
   "id": "df48facc-7323-40ab-8821-baf9211575e1",
   "metadata": {},
   "outputs": [],
   "source": [
    "@ray.remote\n",
    "def process_reaction(react, list_adsorbate):\n",
    "    try:\n",
    "        d_prod = json.loads(react['products'])\n",
    "        if len(d_prod.keys()) != 1:\n",
    "            return None\n",
    "\n",
    "        sc = react['surfaceComposition']\n",
    "        facet = react['facet']\n",
    "        star = react['reactionSystems']['star']\n",
    "        list_sdesc = []\n",
    "        ase_slab = star\n",
    "        for ads_symbol in list_adsorbate:\n",
    "            sdesc = get_energy(ase_slab, ads_symbol)\n",
    "            list_sdesc.append(sdesc)\n",
    "\n",
    "        pkey = list(d_prod.keys())[0].replace('star', '')\n",
    "        pval = d_prod[list(d_prod.keys())[0]]\n",
    "        pdesc = []\n",
    "\n",
    "        re = react['reactionEnergy']\n",
    "        nre = re/pval\n",
    "        \n",
    "        eqn = react['Equation']\n",
    "        ae = react['activationEnergy']\n",
    "        cc = react['chemicalComposition']\n",
    "        d_cvr = json.loads(react['coverages'])\n",
    "        dft_code = react['dftCode']\n",
    "        dft_func = react['dftFunctional']\n",
    "        pubid = react['pubId']\n",
    "        d_reactants = json.loads(react['reactants'])\n",
    "        sites = json.loads(react['sites'])\n",
    "        username = react['username']\n",
    "\n",
    "        rinfo = {\n",
    "            'sc': sc,\n",
    "            'facet': facet,\n",
    "            'star': str(star.symbols),\n",
    "            'sdesc': list_sdesc,\n",
    "            \n",
    "            'pkey': pkey,\n",
    "            'pval': pval,\n",
    "            'pdesc': pdesc,\n",
    "            \n",
    "            're': re,\n",
    "            'nre': nre,\n",
    "            \n",
    "            'd_prod': d_prod,\n",
    "            'eqn': eqn,\n",
    "            'ae': ae, \n",
    "            'cc': cc, \n",
    "            'd_cvr': d_cvr, \n",
    "            'dft_code': dft_code,\n",
    "            'dft_func': dft_func,\n",
    "            'pubid': pubid,\n",
    "            'd_reactants': d_reactants,\n",
    "            'sites': sites,\n",
    "            'username': username\n",
    "            \n",
    "        }\n",
    "        return rinfo\n",
    "    except Exception as e:\n",
    "        return None\n",
    "    \n",
    "futures = [process_reaction.remote(react, list_adsorbate) for react in loaded_reactions[:]]\n",
    "results = ray.get(futures)\n",
    "\n",
    "# Filter out None values\n",
    "list_rinfo = [r for r in results if r is not None]"
   ]
  },
  {
   "cell_type": "code",
   "execution_count": 19,
   "id": "d4689592-0834-4813-9e9f-c2841efff4b2",
   "metadata": {},
   "outputs": [
    {
     "name": "stdout",
     "output_type": "stream",
     "text": [
      "45136\n",
      "{'sc': 'V3Sc', 'facet': '111', 'star': 'V3ScV3ScV3Sc', 'sdesc': [0.5108659267425537, -0.4489332437515259, -0.230901837348938, -0.4028477668762207, 0.3514571189880371, 0.1492377519607544, -0.04714500904083252, 0.31800568103790283, -1.1302334070205688], 'pkey': 'N', 'pval': 1, 'pdesc': [], 're': -2.810391181412342, 'nre': -2.810391181412342, 'd_prod': {'Nstar': 1}, 'eqn': '0.5N2(g) + * -> N*', 'ae': None, 'cc': 'Sc3V9', 'd_cvr': {'N': 0.25}, 'dft_code': 'Quantum ESPRESSO 5.1', 'dft_func': 'BEEF-vdW', 'pubid': 'MamunHighT2019', 'd_reactants': {'star': 1, 'N2gas': 0.5}, 'sites': {'N': 'hollow|A_A_A|HCP'}, 'username': 'winther@stanford.edu'}\n"
     ]
    }
   ],
   "source": [
    "print(len(list_rinfo))\n",
    "print(list_rinfo[0])"
   ]
  },
  {
   "cell_type": "code",
   "execution_count": 122,
   "id": "3f920226-17e0-4202-951f-88b6335a3795",
   "metadata": {},
   "outputs": [],
   "source": [
    "# with open('datasets/reactions_info.pickle', 'wb') as f:\n",
    "#     pickle.dump(list_rinfo, f)"
   ]
  },
  {
   "cell_type": "code",
   "execution_count": 13,
   "id": "12ef0253-2ad2-441f-b96b-19a6c6cbaae4",
   "metadata": {},
   "outputs": [],
   "source": [
    "with open('datasets/reactions_info.pickle', 'rb') as f:\n",
    "    loaded_list_rinfo = pickle.load(f)"
   ]
  },
  {
   "cell_type": "code",
   "execution_count": 14,
   "id": "9a3a26b7-94ab-400c-ae86-71f9ed040e61",
   "metadata": {},
   "outputs": [
    {
     "name": "stdout",
     "output_type": "stream",
     "text": [
      "45136\n",
      "{'sc': 'V3Sc', 'facet': '111', 'star': 'V3ScV3ScV3Sc', 'sdesc': [0.5108659267425537, -0.4489332437515259, -0.230901837348938, -0.4028477668762207, 0.3514571189880371, 0.1492377519607544, -0.04714500904083252, 0.31800568103790283, -1.1302334070205688], 'pkey': 'N', 'pval': 1, 'pdesc': [], 're': -2.810391181412342, 'nre': -2.810391181412342, 'd_prod': {'Nstar': 1}, 'eqn': '0.5N2(g) + * -> N*', 'ae': None, 'cc': 'Sc3V9', 'd_cvr': {'N': 0.25}, 'dft_code': 'Quantum ESPRESSO 5.1', 'dft_func': 'BEEF-vdW', 'pubid': 'MamunHighT2019', 'd_reactants': {'star': 1, 'N2gas': 0.5}, 'sites': {'N': 'hollow|A_A_A|HCP'}, 'username': 'winther@stanford.edu'}\n"
     ]
    }
   ],
   "source": [
    "print(len(loaded_list_rinfo))\n",
    "print(loaded_list_rinfo[0])"
   ]
  },
  {
   "cell_type": "code",
   "execution_count": 15,
   "id": "22f942c5-08e4-4072-b221-82547d5c1973",
   "metadata": {},
   "outputs": [],
   "source": [
    "# for d in loaded_list_rinfo[4000:4001]:\n",
    "#     pprint(d)"
   ]
  },
  {
   "cell_type": "code",
   "execution_count": 16,
   "id": "33d06e12-025c-4376-bfaa-c9ad842a219a",
   "metadata": {},
   "outputs": [],
   "source": [
    "## todo: generate product descriptions"
   ]
  },
  {
   "cell_type": "code",
   "execution_count": 17,
   "id": "e5d2bf58-813c-41f7-be98-cd6eaf016f85",
   "metadata": {},
   "outputs": [],
   "source": [
    "list_pkey =  []\n",
    "for rinfo in loaded_list_rinfo:\n",
    "    pkey = rinfo['pkey']\n",
    "    list_pkey.append(pkey)"
   ]
  },
  {
   "cell_type": "code",
   "execution_count": 18,
   "id": "9812972b-3bdc-462a-a050-8bb364b7df56",
   "metadata": {},
   "outputs": [
    {
     "data": {
      "text/plain": [
       "['H', 'C', 'CH3', 'O', 'CH2', 'S', 'SH', 'NH', 'OH', 'H2O', 'N', 'CH']"
      ]
     },
     "execution_count": 18,
     "metadata": {},
     "output_type": "execute_result"
    }
   ],
   "source": [
    "list(set(list_pkey))"
   ]
  },
  {
   "cell_type": "code",
   "execution_count": 19,
   "id": "4a987c96-d2a1-417a-8612-48de64f10545",
   "metadata": {},
   "outputs": [],
   "source": [
    "d_pkey_vs_smiles = {\n",
    "    ## pubchem: one entry/ multi entry/ previous datasets\n",
    "    'S': '[S]',\n",
    "    'O': '[O]',\n",
    "    'CH': '[CH]', \n",
    "    'H': '[H]',\n",
    "    'SH': '[SH]',    \n",
    "    'NH': '[NH]',\n",
    "    'CH3': '[CH3]',   \n",
    "    'H2O': 'O',\n",
    "    'C': '[C]',   \n",
    "    'N': '[N]',    \n",
    "    'OH': '[OH]',\n",
    "    'CH2': '[CH2]', \n",
    "}"
   ]
  },
  {
   "cell_type": "code",
   "execution_count": 20,
   "id": "9928db40-23a7-4627-95b0-efd9798874e0",
   "metadata": {},
   "outputs": [
    {
     "name": "stderr",
     "output_type": "stream",
     "text": [
      "Some weights of the model checkpoint at mrm8488/chEMBL26_smiles_v2 were not used when initializing RobertaModel: ['lm_head.decoder.bias', 'lm_head.dense.bias', 'lm_head.dense.weight', 'lm_head.layer_norm.bias', 'lm_head.decoder.weight', 'lm_head.bias', 'lm_head.layer_norm.weight']\n",
      "- This IS expected if you are initializing RobertaModel from the checkpoint of a model trained on another task or with another architecture (e.g. initializing a BertForSequenceClassification model from a BertForPreTraining model).\n",
      "- This IS NOT expected if you are initializing RobertaModel from the checkpoint of a model that you expect to be exactly identical (initializing a BertForSequenceClassification model from a BertForSequenceClassification model).\n"
     ]
    }
   ],
   "source": [
    "## pretrained model\n",
    "tokenizer = AutoTokenizer.from_pretrained(\"mrm8488/chEMBL26_smiles_v2\")\n",
    "model = AutoModel.from_pretrained(\"mrm8488/chEMBL26_smiles_v2\")\n",
    "fe = pipeline('feature-extraction', model=model, tokenizer=tokenizer, device=-1) ## device= (0 for GPU, -1 for CPU)"
   ]
  },
  {
   "cell_type": "code",
   "execution_count": 21,
   "id": "f0b0c6c4-a98a-4f60-a57c-b7001791b1f1",
   "metadata": {},
   "outputs": [],
   "source": [
    "list_pkey= list(d_pkey_vs_smiles.keys())\n",
    "list_smiles= list(d_pkey_vs_smiles.values())\n",
    "list_emb_1 = fe(list_smiles)"
   ]
  },
  {
   "cell_type": "code",
   "execution_count": 22,
   "id": "16b0cf44-3f75-4a50-8ca5-582880f4cb94",
   "metadata": {},
   "outputs": [
    {
     "name": "stdout",
     "output_type": "stream",
     "text": [
      "(12, 768)\n"
     ]
    }
   ],
   "source": [
    "list_emb_2 = []\n",
    "for emb_1 in list_emb_1:\n",
    "    emb_2 = np.mean(np.array(emb_1[0]), axis=0)\n",
    "    list_emb_2.append(emb_2)\n",
    "arr_emb = np.array(list_emb_2)\n",
    "print(arr_emb.shape)"
   ]
  },
  {
   "cell_type": "code",
   "execution_count": 23,
   "id": "359b4e9b-a5d8-41f0-91e7-02626151fd19",
   "metadata": {},
   "outputs": [],
   "source": [
    "d_pkey_vs_pdesc = {}\n",
    "for i, pkey in enumerate(list_pkey):\n",
    "    pdesc = arr_emb[i]\n",
    "    d_pkey_vs_pdesc[pkey] = pdesc    "
   ]
  },
  {
   "cell_type": "code",
   "execution_count": 24,
   "id": "6284290a-da2b-4be6-a009-53941ba2b84d",
   "metadata": {},
   "outputs": [
    {
     "name": "stdout",
     "output_type": "stream",
     "text": [
      "0\n",
      "10000\n",
      "20000\n",
      "30000\n",
      "40000\n"
     ]
    }
   ],
   "source": [
    "for irinfo, rinfo in enumerate(loaded_list_rinfo):\n",
    "    pkey = rinfo['pkey']\n",
    "    pdesc = list(d_pkey_vs_pdesc[pkey])\n",
    "    rinfo['pdesc'] = pdesc\n",
    "    if irinfo%10000==0:\n",
    "        print(irinfo)"
   ]
  },
  {
   "cell_type": "code",
   "execution_count": 25,
   "id": "942e594e-03d0-4683-9e77-697a13503487",
   "metadata": {},
   "outputs": [],
   "source": [
    "# Now, to convert this into a DataFrame:\n",
    "df = pd.DataFrame(loaded_list_rinfo)"
   ]
  },
  {
   "cell_type": "code",
   "execution_count": 26,
   "id": "a8f6011e-b24b-46b4-8771-fcfd9f78832c",
   "metadata": {},
   "outputs": [
    {
     "data": {
      "text/html": [
       "<div>\n",
       "<style scoped>\n",
       "    .dataframe tbody tr th:only-of-type {\n",
       "        vertical-align: middle;\n",
       "    }\n",
       "\n",
       "    .dataframe tbody tr th {\n",
       "        vertical-align: top;\n",
       "    }\n",
       "\n",
       "    .dataframe thead th {\n",
       "        text-align: right;\n",
       "    }\n",
       "</style>\n",
       "<table border=\"1\" class=\"dataframe\">\n",
       "  <thead>\n",
       "    <tr style=\"text-align: right;\">\n",
       "      <th></th>\n",
       "      <th>sc</th>\n",
       "      <th>facet</th>\n",
       "      <th>star</th>\n",
       "      <th>sdesc</th>\n",
       "      <th>pkey</th>\n",
       "      <th>pval</th>\n",
       "      <th>pdesc</th>\n",
       "      <th>re</th>\n",
       "      <th>nre</th>\n",
       "      <th>d_prod</th>\n",
       "      <th>eqn</th>\n",
       "      <th>ae</th>\n",
       "      <th>cc</th>\n",
       "      <th>d_cvr</th>\n",
       "      <th>dft_code</th>\n",
       "      <th>dft_func</th>\n",
       "      <th>pubid</th>\n",
       "      <th>d_reactants</th>\n",
       "      <th>sites</th>\n",
       "      <th>username</th>\n",
       "    </tr>\n",
       "  </thead>\n",
       "  <tbody>\n",
       "    <tr>\n",
       "      <th>0</th>\n",
       "      <td>V3Sc</td>\n",
       "      <td>111</td>\n",
       "      <td>V3ScV3ScV3Sc</td>\n",
       "      <td>[0.5108659267425537, -0.4489332437515259, -0.2...</td>\n",
       "      <td>N</td>\n",
       "      <td>1</td>\n",
       "      <td>[0.48027973622083664, -0.6266024529933929, 0.8...</td>\n",
       "      <td>-2.810391</td>\n",
       "      <td>-2.810391</td>\n",
       "      <td>{'Nstar': 1}</td>\n",
       "      <td>0.5N2(g) + * -&gt; N*</td>\n",
       "      <td>None</td>\n",
       "      <td>Sc3V9</td>\n",
       "      <td>{'N': 0.25}</td>\n",
       "      <td>Quantum ESPRESSO 5.1</td>\n",
       "      <td>BEEF-vdW</td>\n",
       "      <td>MamunHighT2019</td>\n",
       "      <td>{'star': 1, 'N2gas': 0.5}</td>\n",
       "      <td>{'N': 'hollow|A_A_A|HCP'}</td>\n",
       "      <td>winther@stanford.edu</td>\n",
       "    </tr>\n",
       "    <tr>\n",
       "      <th>1</th>\n",
       "      <td>HgTa</td>\n",
       "      <td>101</td>\n",
       "      <td>Ta2Hg2Ta2Hg2Ta2Hg2</td>\n",
       "      <td>[0.34193313121795654, 0.4899855852127075, 0.61...</td>\n",
       "      <td>O</td>\n",
       "      <td>1</td>\n",
       "      <td>[0.42940246015787126, -0.6335948944091797, 0.9...</td>\n",
       "      <td>-2.099597</td>\n",
       "      <td>-2.099597</td>\n",
       "      <td>{'Ostar': 1}</td>\n",
       "      <td>H2O(g) - H2(g) + * -&gt; O*</td>\n",
       "      <td>None</td>\n",
       "      <td>Hg6Ta6</td>\n",
       "      <td>{'O': 0.25}</td>\n",
       "      <td>Quantum ESPRESSO 5.1</td>\n",
       "      <td>BEEF-vdW</td>\n",
       "      <td>MamunHighT2019</td>\n",
       "      <td>{'star': 1, 'H2gas': -1.0, 'H2Ogas': 1.0}</td>\n",
       "      <td>{'O': 'bridge|B_B|A'}</td>\n",
       "      <td>winther@stanford.edu</td>\n",
       "    </tr>\n",
       "  </tbody>\n",
       "</table>\n",
       "</div>"
      ],
      "text/plain": [
       "     sc facet                star  \\\n",
       "0  V3Sc   111        V3ScV3ScV3Sc   \n",
       "1  HgTa   101  Ta2Hg2Ta2Hg2Ta2Hg2   \n",
       "\n",
       "                                               sdesc pkey  pval  \\\n",
       "0  [0.5108659267425537, -0.4489332437515259, -0.2...    N     1   \n",
       "1  [0.34193313121795654, 0.4899855852127075, 0.61...    O     1   \n",
       "\n",
       "                                               pdesc        re       nre  \\\n",
       "0  [0.48027973622083664, -0.6266024529933929, 0.8... -2.810391 -2.810391   \n",
       "1  [0.42940246015787126, -0.6335948944091797, 0.9... -2.099597 -2.099597   \n",
       "\n",
       "         d_prod                       eqn    ae      cc        d_cvr  \\\n",
       "0  {'Nstar': 1}        0.5N2(g) + * -> N*  None   Sc3V9  {'N': 0.25}   \n",
       "1  {'Ostar': 1}  H2O(g) - H2(g) + * -> O*  None  Hg6Ta6  {'O': 0.25}   \n",
       "\n",
       "               dft_code  dft_func           pubid  \\\n",
       "0  Quantum ESPRESSO 5.1  BEEF-vdW  MamunHighT2019   \n",
       "1  Quantum ESPRESSO 5.1  BEEF-vdW  MamunHighT2019   \n",
       "\n",
       "                                 d_reactants                      sites  \\\n",
       "0                  {'star': 1, 'N2gas': 0.5}  {'N': 'hollow|A_A_A|HCP'}   \n",
       "1  {'star': 1, 'H2gas': -1.0, 'H2Ogas': 1.0}      {'O': 'bridge|B_B|A'}   \n",
       "\n",
       "               username  \n",
       "0  winther@stanford.edu  \n",
       "1  winther@stanford.edu  "
      ]
     },
     "execution_count": 26,
     "metadata": {},
     "output_type": "execute_result"
    }
   ],
   "source": [
    "df.head(2)"
   ]
  },
  {
   "cell_type": "code",
   "execution_count": 27,
   "id": "347452a5-d016-4d55-967a-1ccdbf41eeae",
   "metadata": {},
   "outputs": [
    {
     "name": "stdout",
     "output_type": "stream",
     "text": [
      "(45136, 20)\n"
     ]
    }
   ],
   "source": [
    "print(df.shape)"
   ]
  },
  {
   "cell_type": "code",
   "execution_count": 28,
   "id": "c08afed8-ecd8-41e3-866d-53c252277fcc",
   "metadata": {},
   "outputs": [
    {
     "name": "stdout",
     "output_type": "stream",
     "text": [
      "(11257, 20)\n"
     ]
    }
   ],
   "source": [
    "df = df.sort_values(by='nre')\n",
    "df = df.groupby(['star', 'pkey']).first().reset_index()\n",
    "print(df.shape)"
   ]
  },
  {
   "cell_type": "code",
   "execution_count": 31,
   "id": "b06c0dcd-2c58-4e24-b395-d0f4914c78e5",
   "metadata": {},
   "outputs": [],
   "source": [
    "list_scols = ['s' + str(i) for i in range(len(list_adsorbate))]"
   ]
  },
  {
   "cell_type": "code",
   "execution_count": 32,
   "id": "e72147e0-d8b2-4521-8431-d8394806d2fb",
   "metadata": {},
   "outputs": [],
   "source": [
    "df[list_scols] = pd.DataFrame(df.sdesc.tolist(), index= df.index)"
   ]
  },
  {
   "cell_type": "code",
   "execution_count": 33,
   "id": "c78f2371-4967-47c5-9581-98dd8dfcd202",
   "metadata": {},
   "outputs": [
    {
     "name": "stdout",
     "output_type": "stream",
     "text": [
      "(11257, 29)\n"
     ]
    }
   ],
   "source": [
    "print(df.shape)"
   ]
  },
  {
   "cell_type": "code",
   "execution_count": 34,
   "id": "26b40b92-7d38-4b4a-8a47-fcbcbd138760",
   "metadata": {},
   "outputs": [],
   "source": [
    "list_pcols = ['p' + str(i) for i in range(int(arr_emb[0].shape[0]))]"
   ]
  },
  {
   "cell_type": "code",
   "execution_count": 35,
   "id": "4c44f7f6-2b3b-4a76-9bc2-f38f8d91c161",
   "metadata": {},
   "outputs": [],
   "source": [
    "try:\n",
    "    df[list_pcols] = pd.DataFrame(df.pdesc.tolist(), index= df.index)\n",
    "except Exception as e:\n",
    "    print(e)"
   ]
  },
  {
   "cell_type": "code",
   "execution_count": 37,
   "id": "7d5c91e2-5302-4dd2-b0f2-c89094ee23dd",
   "metadata": {},
   "outputs": [
    {
     "name": "stdout",
     "output_type": "stream",
     "text": [
      "(11257, 797)\n"
     ]
    }
   ],
   "source": [
    "print(df.shape)"
   ]
  },
  {
   "cell_type": "code",
   "execution_count": 38,
   "id": "0c7e8226-9022-49f3-a01a-19a01c644dc0",
   "metadata": {},
   "outputs": [
    {
     "data": {
      "text/html": [
       "<div>\n",
       "<style scoped>\n",
       "    .dataframe tbody tr th:only-of-type {\n",
       "        vertical-align: middle;\n",
       "    }\n",
       "\n",
       "    .dataframe tbody tr th {\n",
       "        vertical-align: top;\n",
       "    }\n",
       "\n",
       "    .dataframe thead th {\n",
       "        text-align: right;\n",
       "    }\n",
       "</style>\n",
       "<table border=\"1\" class=\"dataframe\">\n",
       "  <thead>\n",
       "    <tr style=\"text-align: right;\">\n",
       "      <th></th>\n",
       "      <th>star</th>\n",
       "      <th>pkey</th>\n",
       "      <th>sc</th>\n",
       "      <th>facet</th>\n",
       "      <th>sdesc</th>\n",
       "      <th>pval</th>\n",
       "      <th>pdesc</th>\n",
       "      <th>re</th>\n",
       "      <th>nre</th>\n",
       "      <th>d_prod</th>\n",
       "      <th>...</th>\n",
       "      <th>p758</th>\n",
       "      <th>p759</th>\n",
       "      <th>p760</th>\n",
       "      <th>p761</th>\n",
       "      <th>p762</th>\n",
       "      <th>p763</th>\n",
       "      <th>p764</th>\n",
       "      <th>p765</th>\n",
       "      <th>p766</th>\n",
       "      <th>p767</th>\n",
       "    </tr>\n",
       "  </thead>\n",
       "  <tbody>\n",
       "    <tr>\n",
       "      <th>0</th>\n",
       "      <td>Ag12</td>\n",
       "      <td>C</td>\n",
       "      <td>Ag</td>\n",
       "      <td>111</td>\n",
       "      <td>[1.3833613395690918, 2.2273499965667725, 3.257...</td>\n",
       "      <td>1</td>\n",
       "      <td>[1.5289912700653077, -0.41977829933166505, -0....</td>\n",
       "      <td>5.608979</td>\n",
       "      <td>5.608979</td>\n",
       "      <td>{'Cstar': 1}</td>\n",
       "      <td>...</td>\n",
       "      <td>-0.516870</td>\n",
       "      <td>1.128245</td>\n",
       "      <td>0.940684</td>\n",
       "      <td>1.901682</td>\n",
       "      <td>-0.801239</td>\n",
       "      <td>-1.315113</td>\n",
       "      <td>-0.644158</td>\n",
       "      <td>0.311038</td>\n",
       "      <td>-0.162647</td>\n",
       "      <td>-0.846766</td>\n",
       "    </tr>\n",
       "    <tr>\n",
       "      <th>1</th>\n",
       "      <td>Ag12</td>\n",
       "      <td>CH</td>\n",
       "      <td>Ag</td>\n",
       "      <td>111</td>\n",
       "      <td>[1.3833613395690918, 2.2273499965667725, 3.257...</td>\n",
       "      <td>1</td>\n",
       "      <td>[1.423767828196287, 0.0374512255191803, 0.2759...</td>\n",
       "      <td>3.996914</td>\n",
       "      <td>3.996914</td>\n",
       "      <td>{'CHstar': 1}</td>\n",
       "      <td>...</td>\n",
       "      <td>-1.233719</td>\n",
       "      <td>0.248250</td>\n",
       "      <td>0.536033</td>\n",
       "      <td>1.534562</td>\n",
       "      <td>-0.736114</td>\n",
       "      <td>-0.747634</td>\n",
       "      <td>-1.661336</td>\n",
       "      <td>0.266347</td>\n",
       "      <td>-0.284854</td>\n",
       "      <td>-0.232635</td>\n",
       "    </tr>\n",
       "  </tbody>\n",
       "</table>\n",
       "<p>2 rows × 797 columns</p>\n",
       "</div>"
      ],
      "text/plain": [
       "   star pkey  sc facet                                              sdesc  \\\n",
       "0  Ag12    C  Ag   111  [1.3833613395690918, 2.2273499965667725, 3.257...   \n",
       "1  Ag12   CH  Ag   111  [1.3833613395690918, 2.2273499965667725, 3.257...   \n",
       "\n",
       "   pval                                              pdesc        re  \\\n",
       "0     1  [1.5289912700653077, -0.41977829933166505, -0....  5.608979   \n",
       "1     1  [1.423767828196287, 0.0374512255191803, 0.2759...  3.996914   \n",
       "\n",
       "        nre         d_prod  ...      p758      p759      p760      p761  \\\n",
       "0  5.608979   {'Cstar': 1}  ... -0.516870  1.128245  0.940684  1.901682   \n",
       "1  3.996914  {'CHstar': 1}  ... -1.233719  0.248250  0.536033  1.534562   \n",
       "\n",
       "       p762      p763      p764      p765      p766      p767  \n",
       "0 -0.801239 -1.315113 -0.644158  0.311038 -0.162647 -0.846766  \n",
       "1 -0.736114 -0.747634 -1.661336  0.266347 -0.284854 -0.232635  \n",
       "\n",
       "[2 rows x 797 columns]"
      ]
     },
     "execution_count": 38,
     "metadata": {},
     "output_type": "execute_result"
    }
   ],
   "source": [
    "df.head(2)"
   ]
  },
  {
   "cell_type": "code",
   "execution_count": 39,
   "id": "cb196f3f-4c7c-4d00-a454-720333bfb505",
   "metadata": {},
   "outputs": [],
   "source": [
    "# df.to_pickle('datasets/reactions_info_df.pickle')"
   ]
  },
  {
   "cell_type": "code",
   "execution_count": 40,
   "id": "f83a6dc7-d4d0-41f9-9321-a869b7502879",
   "metadata": {},
   "outputs": [],
   "source": [
    "df = pd.read_pickle('datasets/reactions_info_df.pickle')"
   ]
  },
  {
   "cell_type": "code",
   "execution_count": 41,
   "id": "3b5f325c-ab9b-4a4a-a9a4-bdd99927c4d7",
   "metadata": {},
   "outputs": [
    {
     "name": "stdout",
     "output_type": "stream",
     "text": [
      "(11257, 797)\n"
     ]
    }
   ],
   "source": [
    "print(df.shape)"
   ]
  },
  {
   "cell_type": "code",
   "execution_count": 42,
   "id": "44af2115-5ceb-463e-8053-3a8871437db5",
   "metadata": {},
   "outputs": [],
   "source": [
    "df = df[list_scols + list_pcols + ['nre']]"
   ]
  },
  {
   "cell_type": "code",
   "execution_count": 43,
   "id": "7a83acdf-d50e-4446-90f7-52f11ac66c55",
   "metadata": {},
   "outputs": [
    {
     "data": {
      "text/plain": [
       "(11257, 778)"
      ]
     },
     "execution_count": 43,
     "metadata": {},
     "output_type": "execute_result"
    }
   ],
   "source": [
    "df.shape"
   ]
  },
  {
   "cell_type": "code",
   "execution_count": 44,
   "id": "4514b9b3-318a-4dda-a2e3-5f2c8f4b20d1",
   "metadata": {},
   "outputs": [
    {
     "data": {
      "text/html": [
       "<div>\n",
       "<style scoped>\n",
       "    .dataframe tbody tr th:only-of-type {\n",
       "        vertical-align: middle;\n",
       "    }\n",
       "\n",
       "    .dataframe tbody tr th {\n",
       "        vertical-align: top;\n",
       "    }\n",
       "\n",
       "    .dataframe thead th {\n",
       "        text-align: right;\n",
       "    }\n",
       "</style>\n",
       "<table border=\"1\" class=\"dataframe\">\n",
       "  <thead>\n",
       "    <tr style=\"text-align: right;\">\n",
       "      <th></th>\n",
       "      <th>s0</th>\n",
       "      <th>s1</th>\n",
       "      <th>s2</th>\n",
       "      <th>s3</th>\n",
       "      <th>s4</th>\n",
       "      <th>s5</th>\n",
       "      <th>s6</th>\n",
       "      <th>s7</th>\n",
       "      <th>s8</th>\n",
       "      <th>p0</th>\n",
       "      <th>...</th>\n",
       "      <th>p759</th>\n",
       "      <th>p760</th>\n",
       "      <th>p761</th>\n",
       "      <th>p762</th>\n",
       "      <th>p763</th>\n",
       "      <th>p764</th>\n",
       "      <th>p765</th>\n",
       "      <th>p766</th>\n",
       "      <th>p767</th>\n",
       "      <th>nre</th>\n",
       "    </tr>\n",
       "  </thead>\n",
       "  <tbody>\n",
       "    <tr>\n",
       "      <th>0</th>\n",
       "      <td>1.383361</td>\n",
       "      <td>2.22735</td>\n",
       "      <td>3.257025</td>\n",
       "      <td>1.991915</td>\n",
       "      <td>2.301531</td>\n",
       "      <td>2.101231</td>\n",
       "      <td>2.811456</td>\n",
       "      <td>0.432559</td>\n",
       "      <td>-1.222454</td>\n",
       "      <td>1.528991</td>\n",
       "      <td>...</td>\n",
       "      <td>1.128245</td>\n",
       "      <td>0.940684</td>\n",
       "      <td>1.901682</td>\n",
       "      <td>-0.801239</td>\n",
       "      <td>-1.315113</td>\n",
       "      <td>-0.644158</td>\n",
       "      <td>0.311038</td>\n",
       "      <td>-0.162647</td>\n",
       "      <td>-0.846766</td>\n",
       "      <td>5.608979</td>\n",
       "    </tr>\n",
       "    <tr>\n",
       "      <th>1</th>\n",
       "      <td>1.383361</td>\n",
       "      <td>2.22735</td>\n",
       "      <td>3.257025</td>\n",
       "      <td>1.991915</td>\n",
       "      <td>2.301531</td>\n",
       "      <td>2.101231</td>\n",
       "      <td>2.811456</td>\n",
       "      <td>0.432559</td>\n",
       "      <td>-1.222454</td>\n",
       "      <td>1.423768</td>\n",
       "      <td>...</td>\n",
       "      <td>0.248250</td>\n",
       "      <td>0.536033</td>\n",
       "      <td>1.534562</td>\n",
       "      <td>-0.736114</td>\n",
       "      <td>-0.747634</td>\n",
       "      <td>-1.661336</td>\n",
       "      <td>0.266347</td>\n",
       "      <td>-0.284854</td>\n",
       "      <td>-0.232635</td>\n",
       "      <td>3.996914</td>\n",
       "    </tr>\n",
       "  </tbody>\n",
       "</table>\n",
       "<p>2 rows × 778 columns</p>\n",
       "</div>"
      ],
      "text/plain": [
       "         s0       s1        s2        s3        s4        s5        s6  \\\n",
       "0  1.383361  2.22735  3.257025  1.991915  2.301531  2.101231  2.811456   \n",
       "1  1.383361  2.22735  3.257025  1.991915  2.301531  2.101231  2.811456   \n",
       "\n",
       "         s7        s8        p0  ...      p759      p760      p761      p762  \\\n",
       "0  0.432559 -1.222454  1.528991  ...  1.128245  0.940684  1.901682 -0.801239   \n",
       "1  0.432559 -1.222454  1.423768  ...  0.248250  0.536033  1.534562 -0.736114   \n",
       "\n",
       "       p763      p764      p765      p766      p767       nre  \n",
       "0 -1.315113 -0.644158  0.311038 -0.162647 -0.846766  5.608979  \n",
       "1 -0.747634 -1.661336  0.266347 -0.284854 -0.232635  3.996914  \n",
       "\n",
       "[2 rows x 778 columns]"
      ]
     },
     "execution_count": 44,
     "metadata": {},
     "output_type": "execute_result"
    }
   ],
   "source": [
    "df.head(2)"
   ]
  },
  {
   "cell_type": "code",
   "execution_count": 45,
   "id": "ca5e4188-754d-4089-ac25-555e00a72906",
   "metadata": {},
   "outputs": [],
   "source": [
    "# df.to_pickle('datasets/reactions_info_df_dataset.pickle')"
   ]
  },
  {
   "cell_type": "code",
   "execution_count": 46,
   "id": "73ba0c01-cec7-441b-825b-f8939974bb1c",
   "metadata": {},
   "outputs": [],
   "source": [
    "df = pd.read_pickle('datasets/reactions_info_df_dataset.pickle')"
   ]
  },
  {
   "cell_type": "code",
   "execution_count": 47,
   "id": "99f73056-183c-4e01-ae43-68e46596e82d",
   "metadata": {},
   "outputs": [
    {
     "data": {
      "text/plain": [
       "(11257, 778)"
      ]
     },
     "execution_count": 47,
     "metadata": {},
     "output_type": "execute_result"
    }
   ],
   "source": [
    "df.shape"
   ]
  },
  {
   "cell_type": "code",
   "execution_count": null,
   "id": "922b9cf4-1720-43fc-86b6-0726530c57ee",
   "metadata": {},
   "outputs": [],
   "source": []
  }
 ],
 "metadata": {
  "kernelspec": {
   "display_name": "Python 3 (ipykernel)",
   "language": "python",
   "name": "python3"
  },
  "language_info": {
   "codemirror_mode": {
    "name": "ipython",
    "version": 3
   },
   "file_extension": ".py",
   "mimetype": "text/x-python",
   "name": "python",
   "nbconvert_exporter": "python",
   "pygments_lexer": "ipython3",
   "version": "3.10.9"
  }
 },
 "nbformat": 4,
 "nbformat_minor": 5
}
