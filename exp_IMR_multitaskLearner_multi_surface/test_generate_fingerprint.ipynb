{
 "cells": [
  {
   "cell_type": "code",
   "execution_count": 1,
   "id": "cca01019",
   "metadata": {},
   "outputs": [
    {
     "name": "stderr",
     "output_type": "stream",
     "text": [
      "/home/gterejan/.local/lib/python3.10/site-packages/mp_api/client/mprester.py:182: UserWarning: mpcontribs-client not installed. Install the package to query MPContribs data, or construct pourbaix diagrams: 'pip install mpcontribs-client'\n",
      "  warnings.warn(\n"
     ]
    }
   ],
   "source": [
    "import os\n",
    "import numpy as np\n",
    "import ase.io\n",
    "from ase.constraints import FixAtoms\n",
    "from ase.build import add_adsorbate, molecule, surface\n",
    "from pymatgen.ext.matproj import MPRester\n",
    "from pymatgen.core.surface import generate_all_slabs, SlabGenerator\n",
    "from pymatgen.io.ase import AseAtomsAdaptor\n",
    "from ocpmodels.common.relaxation.ase_utils import OCPCalculator\n",
    "\n",
    "m = MPRester('Yct0KDbJbqMLWluZEovkwrLXh2VRHXbc')"
   ]
  },
  {
   "cell_type": "code",
   "execution_count": 2,
   "id": "f401d717",
   "metadata": {},
   "outputs": [
    {
     "name": "stderr",
     "output_type": "stream",
     "text": [
      "ERROR:root:Invalid setup for SCN. Either the e3nn library or Jd.pt is missing.\n"
     ]
    },
    {
     "name": "stdout",
     "output_type": "stream",
     "text": [
      "amp: false\n",
      "cmd:\n",
      "  checkpoint_dir: /host_workspace/checkpoints/2023-07-07-10-17-36\n",
      "  commit: null\n",
      "  identifier: ''\n",
      "  logs_dir: /host_workspace/logs/tensorboard/2023-07-07-10-17-36\n",
      "  print_every: 100\n",
      "  results_dir: /host_workspace/results/2023-07-07-10-17-36\n",
      "  seed: null\n",
      "  timestamp_id: 2023-07-07-10-17-36\n",
      "dataset: null\n",
      "gpus: 0\n",
      "logger: tensorboard\n",
      "model: dimenetplusplus\n",
      "model_attributes:\n",
      "  cutoff: 6.0\n",
      "  hidden_channels: 256\n",
      "  num_after_skip: 2\n",
      "  num_before_skip: 1\n",
      "  num_blocks: 3\n",
      "  num_output_layers: 3\n",
      "  num_radial: 6\n",
      "  num_spherical: 7\n",
      "  otf_graph: true\n",
      "  out_emb_channels: 192\n",
      "  regress_forces: false\n",
      "  use_pbc: true\n",
      "noddp: false\n",
      "optim:\n",
      "  batch_size: 4\n",
      "  eval_batch_size: 4\n",
      "  lr_gamma: 0.1\n",
      "  lr_initial: 0.0001\n",
      "  lr_milestones:\n",
      "  - 115082\n",
      "  - 230164\n",
      "  - 345246\n",
      "  max_epochs: 20\n",
      "  num_workers: 4\n",
      "  warmup_factor: 0.2\n",
      "  warmup_steps: 57541\n",
      "slurm: {}\n",
      "task:\n",
      "  dataset: single_point_lmdb\n",
      "  description: Relaxed state energy prediction from initial structure.\n",
      "  labels:\n",
      "  - relaxed energy\n",
      "  metric: mae\n",
      "  type: regression\n",
      "trainer: energy\n",
      "\n"
     ]
    }
   ],
   "source": [
    "config_yml_path = \"ocp/configs/is2re/all/dimenet_plus_plus/dpp.yml\"\n",
    "checkpoint_path = \"dimenetpp_all.pt\"\n",
    "\n",
    "# Define the calculator\n",
    "calc = OCPCalculator(config_yml=config_yml_path, checkpoint=checkpoint_path)"
   ]
  },
  {
   "cell_type": "code",
   "execution_count": 20,
   "id": "f7abe986",
   "metadata": {},
   "outputs": [],
   "source": [
    "fingerprint_ads = ['H', 'O', 'C', 'CO', 'OH',    'N2', 'CO2', 'NH3', 'CH4', 'H2S']\n",
    "\n",
    "bulk_symbol = \"Pt\"\n",
    "ads_symbol = fingerprint_ads[1]\n",
    "miller_index = (1, 1, 1)"
   ]
  },
  {
   "cell_type": "code",
   "execution_count": 21,
   "id": "282b795e",
   "metadata": {},
   "outputs": [
    {
     "data": {
      "application/vnd.jupyter.widget-view+json": {
       "model_id": "91e6f8e7d8ec4b7a924ac5d5e9bb6ce2",
       "version_major": 2,
       "version_minor": 0
      },
      "text/plain": [
       "Retrieving MaterialsDoc documents:   0%|          | 0/3 [00:00<?, ?it/s]"
      ]
     },
     "metadata": {},
     "output_type": "display_data"
    }
   ],
   "source": [
    "# get material ids for a given bulk symbol\n",
    "material_ids = m.get_materials_ids(bulk_symbol)"
   ]
  },
  {
   "cell_type": "code",
   "execution_count": 22,
   "id": "a4af5474",
   "metadata": {},
   "outputs": [
    {
     "name": "stdout",
     "output_type": "stream",
     "text": [
      "[MPID(mp-126), MPID(mp-2646979), MPID(mp-2647022)]\n"
     ]
    }
   ],
   "source": [
    "print(material_ids)"
   ]
  },
  {
   "cell_type": "code",
   "execution_count": 32,
   "id": "4d7321a4",
   "metadata": {},
   "outputs": [
    {
     "data": {
      "application/vnd.jupyter.widget-view+json": {
       "model_id": "da8b5d81e6ac437d829a92279e7fce52",
       "version_major": 2,
       "version_minor": 0
      },
      "text/plain": [
       "Retrieving MaterialsDoc documents:   0%|          | 0/1 [00:00<?, ?it/s]"
      ]
     },
     "metadata": {},
     "output_type": "display_data"
    }
   ],
   "source": [
    "material_id = material_ids[0]\n",
    "\n",
    "# get the slabs for a given material_id\n",
    "structure = m.get_structure_by_material_id(material_id)\n",
    "\n",
    "# Create the SlabGenerator\n",
    "slabgen = SlabGenerator(structure, miller_index, 10, 10)\n",
    "\n",
    "# Get all slabs\n",
    "slabs = slabgen.get_slabs()"
   ]
  },
  {
   "cell_type": "code",
   "execution_count": 33,
   "id": "2a40c7d6",
   "metadata": {},
   "outputs": [
    {
     "data": {
      "text/plain": [
       "1"
      ]
     },
     "execution_count": 33,
     "metadata": {},
     "output_type": "execute_result"
    }
   ],
   "source": [
    "len(slabs)"
   ]
  },
  {
   "cell_type": "code",
   "execution_count": 34,
   "id": "385134f0",
   "metadata": {},
   "outputs": [
    {
     "data": {
      "text/plain": [
       "0.509479284286499"
      ]
     },
     "execution_count": 34,
     "metadata": {},
     "output_type": "execute_result"
    }
   ],
   "source": [
    "slab = slabs[0]\n",
    "\n",
    "# Construct a sample structure\n",
    "# adslab = surface(bulk_symbol, miller_index, layers=3)\n",
    "\n",
    "adslab = AseAtomsAdaptor().get_atoms(slab)\n",
    "\n",
    "adsorbate = molecule(ads_symbol)\n",
    "add_adsorbate(adslab, adsorbate, 3, offset=(1, 1))\n",
    "tags = np.zeros(len(adslab))\n",
    "tags[18:27] = 1\n",
    "tags[27:] = 2\n",
    "adslab.set_tags(tags)\n",
    "cons= FixAtoms(indices=[atom.index for atom in adslab if (atom.tag == 0)])\n",
    "adslab.set_constraint(cons)\n",
    "adslab.center(vacuum=13.0, axis=2)\n",
    "adslab.set_pbc(True)\n",
    "\n",
    "# Set up the calculator\n",
    "adslab.calc = calc\n",
    "\n",
    "# get adsorption energy\n",
    "adslab.get_potential_energy()"
   ]
  },
  {
   "cell_type": "code",
   "execution_count": 14,
   "id": "e0744211",
   "metadata": {},
   "outputs": [
    {
     "data": {
      "application/vnd.jupyter.widget-view+json": {
       "model_id": "50c2d8334aa848d6973d6450d87ba414",
       "version_major": 2,
       "version_minor": 0
      },
      "text/plain": [
       "Retrieving MaterialsDoc documents:   0%|          | 0/1 [00:00<?, ?it/s]"
      ]
     },
     "metadata": {},
     "output_type": "display_data"
    },
    {
     "data": {
      "text/plain": [
       "Structure Summary\n",
       "Lattice\n",
       "    abc : 4.14407046 4.144070993962987 5.47557816\n",
       " angles : 90.0 90.0 119.99999573768088\n",
       " volume : 81.4357219320045\n",
       "      A : 4.14407046 0.0 0.0\n",
       "      B : -2.07203523 3.58887091 0.0\n",
       "      C : 0.0 -0.0 5.47557816\n",
       "    pbc : True True True\n",
       "PeriodicSite: Sn (2.0720, 1.1963, 4.1067) [0.6667, 0.3333, 0.7500]\n",
       "PeriodicSite: Sn (-0.0000, 2.3926, 1.3689) [0.3333, 0.6667, 0.2500]\n",
       "PeriodicSite: Pt (0.0000, 0.0000, 2.7378) [-0.0000, 0.0000, 0.5000]\n",
       "PeriodicSite: Pt (0.0000, 0.0000, 0.0000) [-0.0000, 0.0000, 0.0000]"
      ]
     },
     "execution_count": 14,
     "metadata": {},
     "output_type": "execute_result"
    }
   ],
   "source": [
    "m.get_structure_by_material_id(material_ids[0])"
   ]
  },
  {
   "cell_type": "code",
   "execution_count": 16,
   "id": "63bfb774",
   "metadata": {},
   "outputs": [
    {
     "data": {
      "text/plain": [
       "Structure Summary\n",
       "Lattice\n",
       "    abc : 4.144070993962987 5.47557816 24.86442276\n",
       " angles : 90.0 119.99999573768088 90.0\n",
       " volume : 488.61433159202704\n",
       "      A : 3.58887091 0.0 -2.0720352299999996\n",
       "      B : 8.805401259170722e-16 5.47557816 3.3528246335625773e-16\n",
       "      C : 0.0 0.0 24.86442276\n",
       "    pbc : True True True\n",
       "PeriodicSite: Sn (1.1963, 4.1067, 1.3814) [0.3333, 0.7500, 0.0833]\n",
       "PeriodicSite: Sn (2.3926, 1.3689, -0.6907) [0.6667, 0.2500, 0.0278]\n",
       "PeriodicSite: Pt (0.0000, 2.7378, 3.4534) [0.0000, 0.5000, 0.1389]\n",
       "PeriodicSite: Pt (0.0000, 0.0000, 3.4534) [0.0000, 0.0000, 0.1389]\n",
       "PeriodicSite: Sn (1.1963, 4.1067, 5.5254) [0.3333, 0.7500, 0.2500]\n",
       "PeriodicSite: Sn (2.3926, 1.3689, 3.4534) [0.6667, 0.2500, 0.1944]\n",
       "PeriodicSite: Pt (0.0000, 2.7378, 7.5975) [0.0000, 0.5000, 0.3056]\n",
       "PeriodicSite: Pt (0.0000, 0.0000, 7.5975) [0.0000, 0.0000, 0.3056]\n",
       "PeriodicSite: Sn (1.1963, 4.1067, 9.6695) [0.3333, 0.7500, 0.4167]\n",
       "PeriodicSite: Sn (2.3926, 1.3689, 7.5975) [0.6667, 0.2500, 0.3611]\n",
       "PeriodicSite: Pt (0.0000, 2.7378, 11.7415) [0.0000, 0.5000, 0.4722]\n",
       "PeriodicSite: Pt (0.0000, 0.0000, 11.7415) [0.0000, 0.0000, 0.4722]"
      ]
     },
     "execution_count": 16,
     "metadata": {},
     "output_type": "execute_result"
    }
   ],
   "source": [
    "slabs[0]"
   ]
  },
  {
   "cell_type": "code",
   "execution_count": 17,
   "id": "75e72421",
   "metadata": {},
   "outputs": [
    {
     "data": {
      "text/plain": [
       "Structure Summary\n",
       "Lattice\n",
       "    abc : 4.144070993962987 5.47557816 24.86442276\n",
       " angles : 90.0 119.99999573768088 90.0\n",
       " volume : 488.61433159202704\n",
       "      A : 3.58887091 0.0 -2.0720352299999996\n",
       "      B : 8.805401259170722e-16 5.47557816 3.3528246335625773e-16\n",
       "      C : 0.0 0.0 24.86442276\n",
       "    pbc : True True True\n",
       "PeriodicSite: Sn (1.1963, 4.1067, 0.0000) [0.3333, 0.7500, 0.0278]\n",
       "PeriodicSite: Sn (2.3926, 1.3689, 2.0720) [0.6667, 0.2500, 0.1389]\n",
       "PeriodicSite: Pt (0.0000, 2.7378, 2.0720) [0.0000, 0.5000, 0.0833]\n",
       "PeriodicSite: Pt (0.0000, 0.0000, 2.0720) [0.0000, 0.0000, 0.0833]\n",
       "PeriodicSite: Sn (1.1963, 4.1067, 4.1441) [0.3333, 0.7500, 0.1944]\n",
       "PeriodicSite: Sn (2.3926, 1.3689, 6.2161) [0.6667, 0.2500, 0.3056]\n",
       "PeriodicSite: Pt (0.0000, 2.7378, 6.2161) [0.0000, 0.5000, 0.2500]\n",
       "PeriodicSite: Pt (0.0000, 0.0000, 6.2161) [0.0000, 0.0000, 0.2500]\n",
       "PeriodicSite: Sn (1.1963, 4.1067, 8.2881) [0.3333, 0.7500, 0.3611]\n",
       "PeriodicSite: Sn (2.3926, 1.3689, 10.3602) [0.6667, 0.2500, 0.4722]\n",
       "PeriodicSite: Pt (0.0000, 2.7378, 10.3602) [0.0000, 0.5000, 0.4167]\n",
       "PeriodicSite: Pt (0.0000, 0.0000, 10.3602) [0.0000, 0.0000, 0.4167]"
      ]
     },
     "execution_count": 17,
     "metadata": {},
     "output_type": "execute_result"
    }
   ],
   "source": [
    "slabs[1]"
   ]
  },
  {
   "cell_type": "code",
   "execution_count": null,
   "id": "08b298c9",
   "metadata": {},
   "outputs": [],
   "source": []
  }
 ],
 "metadata": {
  "kernelspec": {
   "display_name": "Python 3 (ipykernel)",
   "language": "python",
   "name": "python3"
  },
  "language_info": {
   "codemirror_mode": {
    "name": "ipython",
    "version": 3
   },
   "file_extension": ".py",
   "mimetype": "text/x-python",
   "name": "python",
   "nbconvert_exporter": "python",
   "pygments_lexer": "ipython3",
   "version": "3.10.9"
  }
 },
 "nbformat": 4,
 "nbformat_minor": 5
}
