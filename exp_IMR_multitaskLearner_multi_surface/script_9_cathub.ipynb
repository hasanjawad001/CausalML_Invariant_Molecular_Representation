{
 "cells": [
  {
   "cell_type": "code",
   "execution_count": 1,
   "id": "dda7b8e2-1540-434f-8149-70a9022cba1a",
   "metadata": {},
   "outputs": [],
   "source": [
    "## for the follwing code\n",
    "#         # Embedding block.\n",
    "#         x = self.emb(data.atomic_numbers.long(), rbf, i, j)\n",
    "#         P = self.output_blocks[0](x, rbf, i, num_nodes=pos.size(0))\n",
    "#         print(x.shape, P.shape)\n",
    "        \n",
    "#         ## change\n",
    "#         def capture_embeddings(module, input, output):\n",
    "#             self.embs.append(output.detach())  # Store the output embeddings\n",
    "            \n",
    "#         ## change\n",
    "#         hook_handle = self.interaction_blocks[-1].register_forward_hook(capture_embeddings)\n",
    "            \n",
    "#         # Interaction blocks.\n",
    "#         for interaction_block, output_block in zip(\n",
    "#             self.interaction_blocks, self.output_blocks[1:]\n",
    "#         ):\n",
    "#             x = interaction_block(x, rbf, sbf, idx_kj, idx_ji)\n",
    "#             P += output_block(x, rbf, i, num_nodes=pos.size(0))\n",
    "#             print(x.shape, P.shape)\n",
    "\n",
    "## getting following output\n",
    "# Atoms(symbols='H5Au48Co8O17', pbc=True, cell=[5.878883441, 20.365049623, 20.81515], calculator=OCPCalculator(...))\n",
    "# torch.Size([3477, 256]) torch.Size([78, 1])\n",
    "# torch.Size([3477, 256]) torch.Size([78, 1])\n",
    "# torch.Size([3477, 256]) torch.Size([78, 1])\n",
    "# torch.Size([3477, 256]) torch.Size([78, 1])\n",
    "# Atoms(symbols='CH9Au48Co8O17', pbc=True, cell=[5.878883441, 20.365049623, 20.81515], calculator=OCPCalculator(...))\n",
    "# torch.Size([3533, 256]) torch.Size([83, 1])\n",
    "# torch.Size([3533, 256]) torch.Size([83, 1])\n",
    "# torch.Size([3533, 256]) torch.Size([83, 1])\n",
    "# torch.Size([3533, 256]) torch.Size([83, 1])\n",
    "# -1.2942085266113281"
   ]
  },
  {
   "cell_type": "code",
   "execution_count": 2,
   "id": "792d3d0d-a895-4cf4-9bf6-b5cd3316b9a5",
   "metadata": {},
   "outputs": [],
   "source": [
    "import os\n",
    "import numpy as np\n",
    "import ase.io\n",
    "from ase.constraints import FixAtoms\n",
    "from ase.build import add_adsorbate, molecule, surface\n",
    "from pymatgen.ext.matproj import MPRester\n",
    "from pymatgen.core.surface import generate_all_slabs, SlabGenerator\n",
    "from pymatgen.io.ase import AseAtomsAdaptor\n",
    "from ocpmodels.common.relaxation.ase_utils import OCPCalculator\n",
    "import torch\n",
    "import pickle\n",
    "import json\n",
    "import pandas as pd"
   ]
  },
  {
   "cell_type": "code",
   "execution_count": 4,
   "id": "85f9aab3-bf4a-4a21-89ce-d80d9f058cb7",
   "metadata": {},
   "outputs": [
    {
     "name": "stderr",
     "output_type": "stream",
     "text": [
      "/opt/anaconda3/lib/python3.10/site-packages/torch/cuda/__init__.py:546: UserWarning: Can't initialize NVML\n",
      "  warnings.warn(\"Can't initialize NVML\")\n"
     ]
    }
   ],
   "source": [
    "config_yml_path = \"ocp/configs/is2re/all/dimenet_plus_plus/dpp.yml\"\n",
    "checkpoint_path = \"dimenetpp_all.pt\"\n",
    "# Define the calculator\n",
    "calc = OCPCalculator(config_yml=config_yml_path, checkpoint=checkpoint_path)"
   ]
  },
  {
   "cell_type": "code",
   "execution_count": 5,
   "id": "1f39fe9e-6b53-48af-a808-6ba5c882fc84",
   "metadata": {},
   "outputs": [
    {
     "data": {
      "text/plain": [
       "<ocpmodels.common.relaxation.ase_utils.OCPCalculator at 0x7f9ef2f39b10>"
      ]
     },
     "execution_count": 5,
     "metadata": {},
     "output_type": "execute_result"
    }
   ],
   "source": [
    "calc"
   ]
  },
  {
   "cell_type": "code",
   "execution_count": 6,
   "id": "5520654e-a86f-448c-848f-8e92b47ebca2",
   "metadata": {},
   "outputs": [],
   "source": [
    "with open('datasets/reactions.pickle', 'rb') as f:\n",
    "    loaded_reactions = pickle.load(f)"
   ]
  },
  {
   "cell_type": "code",
   "execution_count": 7,
   "id": "1f5b44fb-a607-48f1-9e64-b277bac3d4e7",
   "metadata": {},
   "outputs": [
    {
     "data": {
      "text/plain": [
       "88587"
      ]
     },
     "execution_count": 7,
     "metadata": {},
     "output_type": "execute_result"
    }
   ],
   "source": [
    "len(loaded_reactions)"
   ]
  },
  {
   "cell_type": "code",
   "execution_count": 9,
   "id": "91e6d347-8696-4fe0-bb3c-4bc7d3eb4a35",
   "metadata": {},
   "outputs": [],
   "source": [
    "# list_rinfo = []\n",
    "# for ir, r in enumerate(loaded_reactions):\n",
    "#     try:\n",
    "#         if ir%1000==0:\n",
    "#             print(ir, len(list_rinfo))\n",
    "    \n",
    "#         ## retrieve slab and adsorbate\n",
    "#         ase_slab = r['reactionSystems']['star']\n",
    "#         d_prod = json.loads(r['products'])\n",
    "#         if len(d_prod.keys()) != 1:\n",
    "#             continue\n",
    "#         pkey = list(d_prod.keys())[0].replace('star', '')\n",
    "#         ads_symbol = pkey    \n",
    "\n",
    "#         ## get slab energy and embeddings\n",
    "#         adslab = ase_slab.copy()\n",
    "#         adslab.calc = calc\n",
    "#         # print(adslab)\n",
    "#         slab_energy = adslab.get_potential_energy()\n",
    "#         slab_embs = torch.mean(calc.trainer.model.module.embs[0], dim=0)    \n",
    "\n",
    "#         ## get slab + adsorbate energy and embeddings\n",
    "#         # add the molecule\n",
    "#         adsorbate = molecule(ads_symbol)\n",
    "#         add_adsorbate(adslab, adsorbate, 3, offset=(1, 1))\n",
    "#         # print(adslab)\n",
    "#         ads_energy = adslab.get_potential_energy()\n",
    "#         ads_embs = torch.mean(calc.trainer.model.module.embs[0], dim=0)    \n",
    "        \n",
    "#         ## additional info\n",
    "#         sc = r['surfaceComposition']\n",
    "#         facet = r['facet']\n",
    "#         pval = d_prod[list(d_prod.keys())[0]]        \n",
    "#         re = r['reactionEnergy']\n",
    "#         nre = re/pval\n",
    "        \n",
    "#         eqn = r['Equation']\n",
    "#         ae = r['activationEnergy']\n",
    "#         cc = r['chemicalComposition']\n",
    "#         d_cvr = json.loads(r['coverages'])\n",
    "#         dft_code = r['dftCode']\n",
    "#         dft_func = r['dftFunctional']\n",
    "#         pubid = r['pubId']\n",
    "#         d_reactants = json.loads(r['reactants'])\n",
    "#         sites = json.loads(r['sites'])\n",
    "#         username = r['username']\n",
    "\n",
    "#         rinfo = {\n",
    "#             'ase_slab': ase_slab,            \n",
    "#             'd_prod': d_prod,            \n",
    "#             'pkey': pkey,\n",
    "#             'slab_embs': slab_embs,\n",
    "#             'ads_embs': ads_embs,\n",
    "            \n",
    "#             'sc': sc,\n",
    "#             'facet': facet,            \n",
    "#             'pval': pval,            \n",
    "#             're': re,\n",
    "#             'nre': nre,\n",
    "            \n",
    "#             'eqn': eqn,\n",
    "#             'ae': ae, \n",
    "#             'cc': cc, \n",
    "#             'd_cvr': d_cvr, \n",
    "#             'dft_code': dft_code,\n",
    "#             'dft_func': dft_func,\n",
    "#             'pubid': pubid,\n",
    "#             'd_reactants': d_reactants,\n",
    "#             'sites': sites,\n",
    "#             'username': username            \n",
    "#         }\n",
    "#         list_rinfo.append(rinfo)\n",
    "#     except Exception as e:\n",
    "#         pass\n",
    "    "
   ]
  },
  {
   "cell_type": "code",
   "execution_count": 10,
   "id": "dc07f5f0-7d5f-4119-8ac8-fda193314bb4",
   "metadata": {},
   "outputs": [],
   "source": [
    "# with open('datasets/reactions_info_2.pickle', 'wb') as f:\n",
    "#     pickle.dump(list_rinfo, f)"
   ]
  },
  {
   "cell_type": "code",
   "execution_count": 11,
   "id": "0b759aa3-f5b3-41b7-a3fd-90aafc48264f",
   "metadata": {},
   "outputs": [],
   "source": [
    "with open('datasets/reactions_info_2.pickle', 'rb') as f:\n",
    "    loaded_list_rinfo = pickle.load(f)"
   ]
  },
  {
   "cell_type": "code",
   "execution_count": 12,
   "id": "67f1c5ff-8ae1-4851-969e-50eb1052caad",
   "metadata": {},
   "outputs": [
    {
     "data": {
      "text/plain": [
       "43678"
      ]
     },
     "execution_count": 12,
     "metadata": {},
     "output_type": "execute_result"
    }
   ],
   "source": [
    "len(loaded_list_rinfo)"
   ]
  },
  {
   "cell_type": "code",
   "execution_count": 13,
   "id": "e76b8c22-4a8e-4303-93dd-3fae9b711857",
   "metadata": {},
   "outputs": [],
   "source": [
    "# Convert tensor values in 'ads_embs' to lists of floats\n",
    "for item in loaded_list_rinfo:\n",
    "    item['ads_embs'] = [float(x) for x in item['ads_embs']]"
   ]
  },
  {
   "cell_type": "code",
   "execution_count": 14,
   "id": "fcdeb037-e8a7-4128-b9ba-d62794390bf4",
   "metadata": {},
   "outputs": [],
   "source": [
    "# Convert list of dictionaries to DataFrame\n",
    "df = pd.DataFrame(loaded_list_rinfo)"
   ]
  },
  {
   "cell_type": "code",
   "execution_count": 15,
   "id": "3ae9a526-3779-463f-ac22-4d2d9044116c",
   "metadata": {},
   "outputs": [],
   "source": [
    "# Split 'ads_embs' into separate columns\n",
    "ads_embs_cols = df['ads_embs'].apply(pd.Series)\n",
    "ads_embs_cols.columns = ['e' + str(i) for i in range(256)]"
   ]
  },
  {
   "cell_type": "code",
   "execution_count": 16,
   "id": "aecad98e-3570-4993-b489-3d08c6f74fa5",
   "metadata": {},
   "outputs": [],
   "source": [
    "# Drop the original 'ads_embs' column and concatenate the new columns\n",
    "df = df.drop('ads_embs', axis=1)\n",
    "df = pd.concat([df, ads_embs_cols], axis=1)"
   ]
  },
  {
   "cell_type": "code",
   "execution_count": 17,
   "id": "872a8681-a720-4deb-9518-d9db34a24f3c",
   "metadata": {},
   "outputs": [
    {
     "name": "stdout",
     "output_type": "stream",
     "text": [
      "(10938, 275)\n"
     ]
    }
   ],
   "source": [
    "df = df.sort_values(by='nre')\n",
    "df = df.groupby(['sc', 'facet', 'pkey']).first().reset_index()\n",
    "print(df.shape)"
   ]
  },
  {
   "cell_type": "code",
   "execution_count": 18,
   "id": "4354e641-cf92-4f39-849e-597f5b5050bd",
   "metadata": {},
   "outputs": [],
   "source": [
    "df = df[['e' + str(i) for i in range(256)] + ['nre']]"
   ]
  },
  {
   "cell_type": "code",
   "execution_count": 19,
   "id": "4519c025-114d-4be4-905a-443bb1796142",
   "metadata": {},
   "outputs": [
    {
     "data": {
      "text/plain": [
       "(10938, 257)"
      ]
     },
     "execution_count": 19,
     "metadata": {},
     "output_type": "execute_result"
    }
   ],
   "source": [
    "df.shape"
   ]
  },
  {
   "cell_type": "code",
   "execution_count": 20,
   "id": "1db0ad88-1dbb-433b-ae97-934e06078a7e",
   "metadata": {},
   "outputs": [
    {
     "data": {
      "text/html": [
       "<div>\n",
       "<style scoped>\n",
       "    .dataframe tbody tr th:only-of-type {\n",
       "        vertical-align: middle;\n",
       "    }\n",
       "\n",
       "    .dataframe tbody tr th {\n",
       "        vertical-align: top;\n",
       "    }\n",
       "\n",
       "    .dataframe thead th {\n",
       "        text-align: right;\n",
       "    }\n",
       "</style>\n",
       "<table border=\"1\" class=\"dataframe\">\n",
       "  <thead>\n",
       "    <tr style=\"text-align: right;\">\n",
       "      <th></th>\n",
       "      <th>e0</th>\n",
       "      <th>e1</th>\n",
       "      <th>e2</th>\n",
       "      <th>e3</th>\n",
       "      <th>e4</th>\n",
       "      <th>e5</th>\n",
       "      <th>e6</th>\n",
       "      <th>e7</th>\n",
       "      <th>e8</th>\n",
       "      <th>e9</th>\n",
       "      <th>...</th>\n",
       "      <th>e247</th>\n",
       "      <th>e248</th>\n",
       "      <th>e249</th>\n",
       "      <th>e250</th>\n",
       "      <th>e251</th>\n",
       "      <th>e252</th>\n",
       "      <th>e253</th>\n",
       "      <th>e254</th>\n",
       "      <th>e255</th>\n",
       "      <th>nre</th>\n",
       "    </tr>\n",
       "  </thead>\n",
       "  <tbody>\n",
       "    <tr>\n",
       "      <th>0</th>\n",
       "      <td>-0.051727</td>\n",
       "      <td>-0.286628</td>\n",
       "      <td>1.382931</td>\n",
       "      <td>-1.435718</td>\n",
       "      <td>2.597454</td>\n",
       "      <td>-0.519882</td>\n",
       "      <td>1.805875</td>\n",
       "      <td>-1.458474</td>\n",
       "      <td>-1.170391</td>\n",
       "      <td>0.392702</td>\n",
       "      <td>...</td>\n",
       "      <td>-0.281010</td>\n",
       "      <td>-1.516974</td>\n",
       "      <td>-0.710036</td>\n",
       "      <td>2.207847</td>\n",
       "      <td>-0.556048</td>\n",
       "      <td>0.106218</td>\n",
       "      <td>0.500164</td>\n",
       "      <td>0.067475</td>\n",
       "      <td>-1.460815</td>\n",
       "      <td>5.608979</td>\n",
       "    </tr>\n",
       "    <tr>\n",
       "      <th>1</th>\n",
       "      <td>-0.174674</td>\n",
       "      <td>-0.420665</td>\n",
       "      <td>1.293232</td>\n",
       "      <td>-1.630182</td>\n",
       "      <td>2.610617</td>\n",
       "      <td>0.041520</td>\n",
       "      <td>1.422713</td>\n",
       "      <td>-1.272242</td>\n",
       "      <td>-0.592301</td>\n",
       "      <td>0.131498</td>\n",
       "      <td>...</td>\n",
       "      <td>-0.154266</td>\n",
       "      <td>-1.227633</td>\n",
       "      <td>-0.841806</td>\n",
       "      <td>2.116062</td>\n",
       "      <td>-0.115456</td>\n",
       "      <td>0.222690</td>\n",
       "      <td>0.624747</td>\n",
       "      <td>0.546530</td>\n",
       "      <td>-1.335673</td>\n",
       "      <td>3.996914</td>\n",
       "    </tr>\n",
       "  </tbody>\n",
       "</table>\n",
       "<p>2 rows × 257 columns</p>\n",
       "</div>"
      ],
      "text/plain": [
       "         e0        e1        e2        e3        e4        e5        e6  \\\n",
       "0 -0.051727 -0.286628  1.382931 -1.435718  2.597454 -0.519882  1.805875   \n",
       "1 -0.174674 -0.420665  1.293232 -1.630182  2.610617  0.041520  1.422713   \n",
       "\n",
       "         e7        e8        e9  ...      e247      e248      e249      e250  \\\n",
       "0 -1.458474 -1.170391  0.392702  ... -0.281010 -1.516974 -0.710036  2.207847   \n",
       "1 -1.272242 -0.592301  0.131498  ... -0.154266 -1.227633 -0.841806  2.116062   \n",
       "\n",
       "       e251      e252      e253      e254      e255       nre  \n",
       "0 -0.556048  0.106218  0.500164  0.067475 -1.460815  5.608979  \n",
       "1 -0.115456  0.222690  0.624747  0.546530 -1.335673  3.996914  \n",
       "\n",
       "[2 rows x 257 columns]"
      ]
     },
     "execution_count": 20,
     "metadata": {},
     "output_type": "execute_result"
    }
   ],
   "source": [
    "df.head(2)"
   ]
  },
  {
   "cell_type": "code",
   "execution_count": 21,
   "id": "c1a6b696-9a2f-4790-9922-989ae07ad6f3",
   "metadata": {},
   "outputs": [],
   "source": [
    "# df.to_pickle('datasets/reactions_info_df_2.pickle')"
   ]
  },
  {
   "cell_type": "code",
   "execution_count": 22,
   "id": "24a21578-0ac1-4d75-b509-841573485412",
   "metadata": {},
   "outputs": [],
   "source": [
    "df = pd.read_pickle('datasets/reactions_info_df_2.pickle')"
   ]
  },
  {
   "cell_type": "code",
   "execution_count": 23,
   "id": "5f11cabd-75c8-4b64-94a1-b38957f53504",
   "metadata": {},
   "outputs": [
    {
     "data": {
      "text/plain": [
       "(10938, 257)"
      ]
     },
     "execution_count": 23,
     "metadata": {},
     "output_type": "execute_result"
    }
   ],
   "source": [
    "df.shape"
   ]
  },
  {
   "cell_type": "code",
   "execution_count": 24,
   "id": "4a5f01a9-e2b2-4917-be63-3093778c1b23",
   "metadata": {},
   "outputs": [
    {
     "data": {
      "text/html": [
       "<div>\n",
       "<style scoped>\n",
       "    .dataframe tbody tr th:only-of-type {\n",
       "        vertical-align: middle;\n",
       "    }\n",
       "\n",
       "    .dataframe tbody tr th {\n",
       "        vertical-align: top;\n",
       "    }\n",
       "\n",
       "    .dataframe thead th {\n",
       "        text-align: right;\n",
       "    }\n",
       "</style>\n",
       "<table border=\"1\" class=\"dataframe\">\n",
       "  <thead>\n",
       "    <tr style=\"text-align: right;\">\n",
       "      <th></th>\n",
       "      <th>e0</th>\n",
       "      <th>e1</th>\n",
       "      <th>e2</th>\n",
       "      <th>e3</th>\n",
       "      <th>e4</th>\n",
       "      <th>e5</th>\n",
       "      <th>e6</th>\n",
       "      <th>e7</th>\n",
       "      <th>e8</th>\n",
       "      <th>e9</th>\n",
       "      <th>...</th>\n",
       "      <th>e247</th>\n",
       "      <th>e248</th>\n",
       "      <th>e249</th>\n",
       "      <th>e250</th>\n",
       "      <th>e251</th>\n",
       "      <th>e252</th>\n",
       "      <th>e253</th>\n",
       "      <th>e254</th>\n",
       "      <th>e255</th>\n",
       "      <th>nre</th>\n",
       "    </tr>\n",
       "  </thead>\n",
       "  <tbody>\n",
       "    <tr>\n",
       "      <th>0</th>\n",
       "      <td>-0.051727</td>\n",
       "      <td>-0.286628</td>\n",
       "      <td>1.382931</td>\n",
       "      <td>-1.435718</td>\n",
       "      <td>2.597454</td>\n",
       "      <td>-0.519882</td>\n",
       "      <td>1.805875</td>\n",
       "      <td>-1.458474</td>\n",
       "      <td>-1.170391</td>\n",
       "      <td>0.392702</td>\n",
       "      <td>...</td>\n",
       "      <td>-0.281010</td>\n",
       "      <td>-1.516974</td>\n",
       "      <td>-0.710036</td>\n",
       "      <td>2.207847</td>\n",
       "      <td>-0.556048</td>\n",
       "      <td>0.106218</td>\n",
       "      <td>0.500164</td>\n",
       "      <td>0.067475</td>\n",
       "      <td>-1.460815</td>\n",
       "      <td>5.608979</td>\n",
       "    </tr>\n",
       "    <tr>\n",
       "      <th>1</th>\n",
       "      <td>-0.174674</td>\n",
       "      <td>-0.420665</td>\n",
       "      <td>1.293232</td>\n",
       "      <td>-1.630182</td>\n",
       "      <td>2.610617</td>\n",
       "      <td>0.041520</td>\n",
       "      <td>1.422713</td>\n",
       "      <td>-1.272242</td>\n",
       "      <td>-0.592301</td>\n",
       "      <td>0.131498</td>\n",
       "      <td>...</td>\n",
       "      <td>-0.154266</td>\n",
       "      <td>-1.227633</td>\n",
       "      <td>-0.841806</td>\n",
       "      <td>2.116062</td>\n",
       "      <td>-0.115456</td>\n",
       "      <td>0.222690</td>\n",
       "      <td>0.624747</td>\n",
       "      <td>0.546530</td>\n",
       "      <td>-1.335673</td>\n",
       "      <td>3.996914</td>\n",
       "    </tr>\n",
       "    <tr>\n",
       "      <th>2</th>\n",
       "      <td>-0.343314</td>\n",
       "      <td>-0.235674</td>\n",
       "      <td>1.567940</td>\n",
       "      <td>-1.390991</td>\n",
       "      <td>1.977526</td>\n",
       "      <td>0.139984</td>\n",
       "      <td>1.089224</td>\n",
       "      <td>-1.166580</td>\n",
       "      <td>-0.692959</td>\n",
       "      <td>-0.110241</td>\n",
       "      <td>...</td>\n",
       "      <td>-0.341959</td>\n",
       "      <td>-1.198122</td>\n",
       "      <td>-0.903510</td>\n",
       "      <td>1.975405</td>\n",
       "      <td>-0.591985</td>\n",
       "      <td>-0.113284</td>\n",
       "      <td>0.572909</td>\n",
       "      <td>0.548986</td>\n",
       "      <td>-1.033705</td>\n",
       "      <td>1.476339</td>\n",
       "    </tr>\n",
       "    <tr>\n",
       "      <th>3</th>\n",
       "      <td>-0.334801</td>\n",
       "      <td>-0.539823</td>\n",
       "      <td>1.276774</td>\n",
       "      <td>-1.881636</td>\n",
       "      <td>2.435134</td>\n",
       "      <td>-0.462364</td>\n",
       "      <td>1.572978</td>\n",
       "      <td>-1.456305</td>\n",
       "      <td>-1.060732</td>\n",
       "      <td>-0.164784</td>\n",
       "      <td>...</td>\n",
       "      <td>-0.248361</td>\n",
       "      <td>-1.591639</td>\n",
       "      <td>-1.124636</td>\n",
       "      <td>2.116420</td>\n",
       "      <td>-0.781833</td>\n",
       "      <td>-0.052015</td>\n",
       "      <td>0.452242</td>\n",
       "      <td>-0.112862</td>\n",
       "      <td>-1.649781</td>\n",
       "      <td>0.338155</td>\n",
       "    </tr>\n",
       "    <tr>\n",
       "      <th>4</th>\n",
       "      <td>-0.344107</td>\n",
       "      <td>-0.327844</td>\n",
       "      <td>1.366605</td>\n",
       "      <td>-1.291086</td>\n",
       "      <td>2.136957</td>\n",
       "      <td>-0.279175</td>\n",
       "      <td>1.176640</td>\n",
       "      <td>-1.202859</td>\n",
       "      <td>-0.808488</td>\n",
       "      <td>-0.204060</td>\n",
       "      <td>...</td>\n",
       "      <td>-0.250685</td>\n",
       "      <td>-1.344624</td>\n",
       "      <td>-0.927819</td>\n",
       "      <td>1.914095</td>\n",
       "      <td>-0.652576</td>\n",
       "      <td>-0.078962</td>\n",
       "      <td>0.684331</td>\n",
       "      <td>0.447531</td>\n",
       "      <td>-1.397458</td>\n",
       "      <td>-0.120299</td>\n",
       "    </tr>\n",
       "  </tbody>\n",
       "</table>\n",
       "<p>5 rows × 257 columns</p>\n",
       "</div>"
      ],
      "text/plain": [
       "         e0        e1        e2        e3        e4        e5        e6  \\\n",
       "0 -0.051727 -0.286628  1.382931 -1.435718  2.597454 -0.519882  1.805875   \n",
       "1 -0.174674 -0.420665  1.293232 -1.630182  2.610617  0.041520  1.422713   \n",
       "2 -0.343314 -0.235674  1.567940 -1.390991  1.977526  0.139984  1.089224   \n",
       "3 -0.334801 -0.539823  1.276774 -1.881636  2.435134 -0.462364  1.572978   \n",
       "4 -0.344107 -0.327844  1.366605 -1.291086  2.136957 -0.279175  1.176640   \n",
       "\n",
       "         e7        e8        e9  ...      e247      e248      e249      e250  \\\n",
       "0 -1.458474 -1.170391  0.392702  ... -0.281010 -1.516974 -0.710036  2.207847   \n",
       "1 -1.272242 -0.592301  0.131498  ... -0.154266 -1.227633 -0.841806  2.116062   \n",
       "2 -1.166580 -0.692959 -0.110241  ... -0.341959 -1.198122 -0.903510  1.975405   \n",
       "3 -1.456305 -1.060732 -0.164784  ... -0.248361 -1.591639 -1.124636  2.116420   \n",
       "4 -1.202859 -0.808488 -0.204060  ... -0.250685 -1.344624 -0.927819  1.914095   \n",
       "\n",
       "       e251      e252      e253      e254      e255       nre  \n",
       "0 -0.556048  0.106218  0.500164  0.067475 -1.460815  5.608979  \n",
       "1 -0.115456  0.222690  0.624747  0.546530 -1.335673  3.996914  \n",
       "2 -0.591985 -0.113284  0.572909  0.548986 -1.033705  1.476339  \n",
       "3 -0.781833 -0.052015  0.452242 -0.112862 -1.649781  0.338155  \n",
       "4 -0.652576 -0.078962  0.684331  0.447531 -1.397458 -0.120299  \n",
       "\n",
       "[5 rows x 257 columns]"
      ]
     },
     "execution_count": 24,
     "metadata": {},
     "output_type": "execute_result"
    }
   ],
   "source": [
    "df.head()"
   ]
  },
  {
   "cell_type": "code",
   "execution_count": null,
   "id": "2ec79543-beac-4b71-a9e3-e61c4a1b853a",
   "metadata": {},
   "outputs": [],
   "source": []
  },
  {
   "cell_type": "code",
   "execution_count": null,
   "id": "27288b1e-945f-4ecf-95a4-72af58f070de",
   "metadata": {},
   "outputs": [],
   "source": []
  },
  {
   "cell_type": "code",
   "execution_count": null,
   "id": "f1af4eb7-53f9-43cc-8e86-b41cd88a9e69",
   "metadata": {},
   "outputs": [],
   "source": []
  }
 ],
 "metadata": {
  "kernelspec": {
   "display_name": "Python 3 (ipykernel)",
   "language": "python",
   "name": "python3"
  },
  "language_info": {
   "codemirror_mode": {
    "name": "ipython",
    "version": 3
   },
   "file_extension": ".py",
   "mimetype": "text/x-python",
   "name": "python",
   "nbconvert_exporter": "python",
   "pygments_lexer": "ipython3",
   "version": "3.10.9"
  }
 },
 "nbformat": 4,
 "nbformat_minor": 5
}
