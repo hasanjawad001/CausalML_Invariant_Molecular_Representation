{
 "cells": [
  {
   "cell_type": "code",
   "execution_count": 6,
   "id": "562f7808-558b-404d-ab57-c681ae7ef7f6",
   "metadata": {},
   "outputs": [],
   "source": [
    "import pandas as pd\n",
    "import matplotlib.pyplot as plt"
   ]
  },
  {
   "cell_type": "code",
   "execution_count": 7,
   "id": "d230a71d-fda1-4917-8dde-6a697c9832ab",
   "metadata": {},
   "outputs": [],
   "source": [
    "df = pd.read_parquet('datasets/ocp_reactions_info_df_dataset.parquet')"
   ]
  },
  {
   "cell_type": "code",
   "execution_count": 8,
   "id": "ae93ee11-e640-401e-a3a3-f1aacaa151f4",
   "metadata": {},
   "outputs": [
    {
     "name": "stdout",
     "output_type": "stream",
     "text": [
      "(437781, 778)\n"
     ]
    }
   ],
   "source": [
    "print(df.shape)"
   ]
  },
  {
   "cell_type": "code",
   "execution_count": 9,
   "id": "716fc4dc-cb17-46ee-a126-bb1e1dc84dab",
   "metadata": {},
   "outputs": [
    {
     "data": {
      "text/html": [
       "<div>\n",
       "<style scoped>\n",
       "    .dataframe tbody tr th:only-of-type {\n",
       "        vertical-align: middle;\n",
       "    }\n",
       "\n",
       "    .dataframe tbody tr th {\n",
       "        vertical-align: top;\n",
       "    }\n",
       "\n",
       "    .dataframe thead th {\n",
       "        text-align: right;\n",
       "    }\n",
       "</style>\n",
       "<table border=\"1\" class=\"dataframe\">\n",
       "  <thead>\n",
       "    <tr style=\"text-align: right;\">\n",
       "      <th></th>\n",
       "      <th>s0</th>\n",
       "      <th>s1</th>\n",
       "      <th>s2</th>\n",
       "      <th>s3</th>\n",
       "      <th>s4</th>\n",
       "      <th>s5</th>\n",
       "      <th>s6</th>\n",
       "      <th>s7</th>\n",
       "      <th>s8</th>\n",
       "      <th>p0</th>\n",
       "      <th>...</th>\n",
       "      <th>p759</th>\n",
       "      <th>p760</th>\n",
       "      <th>p761</th>\n",
       "      <th>p762</th>\n",
       "      <th>p763</th>\n",
       "      <th>p764</th>\n",
       "      <th>p765</th>\n",
       "      <th>p766</th>\n",
       "      <th>p767</th>\n",
       "      <th>nre</th>\n",
       "    </tr>\n",
       "  </thead>\n",
       "  <tbody>\n",
       "    <tr>\n",
       "      <th>0</th>\n",
       "      <td>0.008258</td>\n",
       "      <td>1.035261</td>\n",
       "      <td>1.294881</td>\n",
       "      <td>1.552592</td>\n",
       "      <td>1.783934</td>\n",
       "      <td>1.012493</td>\n",
       "      <td>2.079694</td>\n",
       "      <td>0.436319</td>\n",
       "      <td>-1.365212</td>\n",
       "      <td>1.477367</td>\n",
       "      <td>...</td>\n",
       "      <td>0.273536</td>\n",
       "      <td>0.742442</td>\n",
       "      <td>0.618160</td>\n",
       "      <td>0.486411</td>\n",
       "      <td>-0.934350</td>\n",
       "      <td>0.204278</td>\n",
       "      <td>0.679431</td>\n",
       "      <td>0.341144</td>\n",
       "      <td>-0.852883</td>\n",
       "      <td>-9.992999</td>\n",
       "    </tr>\n",
       "    <tr>\n",
       "      <th>1</th>\n",
       "      <td>0.005488</td>\n",
       "      <td>0.162778</td>\n",
       "      <td>0.328713</td>\n",
       "      <td>1.856944</td>\n",
       "      <td>1.908573</td>\n",
       "      <td>1.835093</td>\n",
       "      <td>1.429667</td>\n",
       "      <td>0.374538</td>\n",
       "      <td>-1.153396</td>\n",
       "      <td>1.645551</td>\n",
       "      <td>...</td>\n",
       "      <td>-0.456795</td>\n",
       "      <td>0.304594</td>\n",
       "      <td>1.134157</td>\n",
       "      <td>-0.394405</td>\n",
       "      <td>-1.171003</td>\n",
       "      <td>-0.648138</td>\n",
       "      <td>-0.021550</td>\n",
       "      <td>-1.443121</td>\n",
       "      <td>0.004959</td>\n",
       "      <td>-9.982733</td>\n",
       "    </tr>\n",
       "  </tbody>\n",
       "</table>\n",
       "<p>2 rows × 778 columns</p>\n",
       "</div>"
      ],
      "text/plain": [
       "         s0        s1        s2        s3        s4        s5        s6  \\\n",
       "0  0.008258  1.035261  1.294881  1.552592  1.783934  1.012493  2.079694   \n",
       "1  0.005488  0.162778  0.328713  1.856944  1.908573  1.835093  1.429667   \n",
       "\n",
       "         s7        s8        p0  ...      p759      p760      p761      p762  \\\n",
       "0  0.436319 -1.365212  1.477367  ...  0.273536  0.742442  0.618160  0.486411   \n",
       "1  0.374538 -1.153396  1.645551  ... -0.456795  0.304594  1.134157 -0.394405   \n",
       "\n",
       "       p763      p764      p765      p766      p767       nre  \n",
       "0 -0.934350  0.204278  0.679431  0.341144 -0.852883 -9.992999  \n",
       "1 -1.171003 -0.648138 -0.021550 -1.443121  0.004959 -9.982733  \n",
       "\n",
       "[2 rows x 778 columns]"
      ]
     },
     "execution_count": 9,
     "metadata": {},
     "output_type": "execute_result"
    }
   ],
   "source": [
    "df.head(2)"
   ]
  },
  {
   "cell_type": "code",
   "execution_count": 10,
   "id": "39dc200b-3106-453c-a658-8545cf78fc7a",
   "metadata": {},
   "outputs": [
    {
     "name": "stdout",
     "output_type": "stream",
     "text": [
      "count    437781.000000\n",
      "mean         -1.560752\n",
      "std           2.286843\n",
      "min          -9.992999\n",
      "25%          -3.038686\n",
      "50%          -1.728214\n",
      "75%          -0.263230\n",
      "max           9.999101\n",
      "Name: nre, dtype: float64\n"
     ]
    }
   ],
   "source": [
    "print(df['nre'].describe())"
   ]
  },
  {
   "cell_type": "code",
   "execution_count": 11,
   "id": "ed98f7da-2416-40dd-bf30-1893d57fbf4d",
   "metadata": {},
   "outputs": [
    {
     "data": {
      "image/png": "[encoded data removed]",
      "text/plain": [
       "<Figure size 640x480 with 1 Axes>"
      ]
     },
     "metadata": {},
     "output_type": "display_data"
    }
   ],
   "source": [
    "df['nre'].hist()\n",
    "plt.title('Histogram of nre column')\n",
    "plt.xlabel('Value')\n",
    "plt.ylabel('Frequency')\n",
    "plt.show()"
   ]
  },
  {
   "cell_type": "code",
   "execution_count": null,
   "id": "e3b8d3d8-e979-400b-aef9-5fed16016123",
   "metadata": {},
   "outputs": [],
   "source": []
  }
 ],
 "metadata": {
  "kernelspec": {
   "display_name": "Python 3 (ipykernel)",
   "language": "python",
   "name": "python3"
  },
  "language_info": {
   "codemirror_mode": {
    "name": "ipython",
    "version": 3
   },
   "file_extension": ".py",
   "mimetype": "text/x-python",
   "name": "python",
   "nbconvert_exporter": "python",
   "pygments_lexer": "ipython3",
   "version": "3.10.9"
  }
 },
 "nbformat": 4,
 "nbformat_minor": 5
}
