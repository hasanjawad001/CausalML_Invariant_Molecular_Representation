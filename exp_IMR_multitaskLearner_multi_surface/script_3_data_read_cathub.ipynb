{
 "cells": [
  {
   "cell_type": "code",
   "execution_count": 11,
   "id": "562f7808-558b-404d-ab57-c681ae7ef7f6",
   "metadata": {},
   "outputs": [],
   "source": [
    "import pandas as pd\n",
    "import matplotlib.pyplot as plt"
   ]
  },
  {
   "cell_type": "code",
   "execution_count": 12,
   "id": "d230a71d-fda1-4917-8dde-6a697c9832ab",
   "metadata": {},
   "outputs": [],
   "source": [
    "df = pd.read_pickle('datasets/reactions_info_df_dataset.pickle')"
   ]
  },
  {
   "cell_type": "code",
   "execution_count": 13,
   "id": "ae93ee11-e640-401e-a3a3-f1aacaa151f4",
   "metadata": {},
   "outputs": [
    {
     "name": "stdout",
     "output_type": "stream",
     "text": [
      "(11257, 778)\n"
     ]
    }
   ],
   "source": [
    "print(df.shape)"
   ]
  },
  {
   "cell_type": "code",
   "execution_count": 14,
   "id": "716fc4dc-cb17-46ee-a126-bb1e1dc84dab",
   "metadata": {},
   "outputs": [
    {
     "data": {
      "text/html": [
       "<div>\n",
       "<style scoped>\n",
       "    .dataframe tbody tr th:only-of-type {\n",
       "        vertical-align: middle;\n",
       "    }\n",
       "\n",
       "    .dataframe tbody tr th {\n",
       "        vertical-align: top;\n",
       "    }\n",
       "\n",
       "    .dataframe thead th {\n",
       "        text-align: right;\n",
       "    }\n",
       "</style>\n",
       "<table border=\"1\" class=\"dataframe\">\n",
       "  <thead>\n",
       "    <tr style=\"text-align: right;\">\n",
       "      <th></th>\n",
       "      <th>s0</th>\n",
       "      <th>s1</th>\n",
       "      <th>s2</th>\n",
       "      <th>s3</th>\n",
       "      <th>s4</th>\n",
       "      <th>s5</th>\n",
       "      <th>s6</th>\n",
       "      <th>s7</th>\n",
       "      <th>s8</th>\n",
       "      <th>p0</th>\n",
       "      <th>...</th>\n",
       "      <th>p759</th>\n",
       "      <th>p760</th>\n",
       "      <th>p761</th>\n",
       "      <th>p762</th>\n",
       "      <th>p763</th>\n",
       "      <th>p764</th>\n",
       "      <th>p765</th>\n",
       "      <th>p766</th>\n",
       "      <th>p767</th>\n",
       "      <th>nre</th>\n",
       "    </tr>\n",
       "  </thead>\n",
       "  <tbody>\n",
       "    <tr>\n",
       "      <th>0</th>\n",
       "      <td>1.383361</td>\n",
       "      <td>2.22735</td>\n",
       "      <td>3.257025</td>\n",
       "      <td>1.991915</td>\n",
       "      <td>2.301531</td>\n",
       "      <td>2.101231</td>\n",
       "      <td>2.811456</td>\n",
       "      <td>0.432559</td>\n",
       "      <td>-1.222454</td>\n",
       "      <td>1.528991</td>\n",
       "      <td>...</td>\n",
       "      <td>1.128245</td>\n",
       "      <td>0.940684</td>\n",
       "      <td>1.901682</td>\n",
       "      <td>-0.801239</td>\n",
       "      <td>-1.315113</td>\n",
       "      <td>-0.644158</td>\n",
       "      <td>0.311038</td>\n",
       "      <td>-0.162647</td>\n",
       "      <td>-0.846766</td>\n",
       "      <td>5.608979</td>\n",
       "    </tr>\n",
       "    <tr>\n",
       "      <th>1</th>\n",
       "      <td>1.383361</td>\n",
       "      <td>2.22735</td>\n",
       "      <td>3.257025</td>\n",
       "      <td>1.991915</td>\n",
       "      <td>2.301531</td>\n",
       "      <td>2.101231</td>\n",
       "      <td>2.811456</td>\n",
       "      <td>0.432559</td>\n",
       "      <td>-1.222454</td>\n",
       "      <td>1.423768</td>\n",
       "      <td>...</td>\n",
       "      <td>0.248250</td>\n",
       "      <td>0.536033</td>\n",
       "      <td>1.534562</td>\n",
       "      <td>-0.736114</td>\n",
       "      <td>-0.747634</td>\n",
       "      <td>-1.661336</td>\n",
       "      <td>0.266347</td>\n",
       "      <td>-0.284854</td>\n",
       "      <td>-0.232635</td>\n",
       "      <td>3.996914</td>\n",
       "    </tr>\n",
       "  </tbody>\n",
       "</table>\n",
       "<p>2 rows × 778 columns</p>\n",
       "</div>"
      ],
      "text/plain": [
       "         s0       s1        s2        s3        s4        s5        s6  \\\n",
       "0  1.383361  2.22735  3.257025  1.991915  2.301531  2.101231  2.811456   \n",
       "1  1.383361  2.22735  3.257025  1.991915  2.301531  2.101231  2.811456   \n",
       "\n",
       "         s7        s8        p0  ...      p759      p760      p761      p762  \\\n",
       "0  0.432559 -1.222454  1.528991  ...  1.128245  0.940684  1.901682 -0.801239   \n",
       "1  0.432559 -1.222454  1.423768  ...  0.248250  0.536033  1.534562 -0.736114   \n",
       "\n",
       "       p763      p764      p765      p766      p767       nre  \n",
       "0 -1.315113 -0.644158  0.311038 -0.162647 -0.846766  5.608979  \n",
       "1 -0.747634 -1.661336  0.266347 -0.284854 -0.232635  3.996914  \n",
       "\n",
       "[2 rows x 778 columns]"
      ]
     },
     "execution_count": 14,
     "metadata": {},
     "output_type": "execute_result"
    }
   ],
   "source": [
    "df.head(2)"
   ]
  },
  {
   "cell_type": "code",
   "execution_count": 15,
   "id": "39dc200b-3106-453c-a658-8545cf78fc7a",
   "metadata": {},
   "outputs": [
    {
     "name": "stdout",
     "output_type": "stream",
     "text": [
      "count    11257.000000\n",
      "mean        -0.650176\n",
      "std          2.161529\n",
      "min         -6.448967\n",
      "25%         -2.107409\n",
      "50%         -0.581818\n",
      "75%          0.776215\n",
      "max          9.131201\n",
      "Name: nre, dtype: float64\n"
     ]
    }
   ],
   "source": [
    "print(df['nre'].describe())"
   ]
  },
  {
   "cell_type": "code",
   "execution_count": 16,
   "id": "79ecddd0-6874-4cf2-a68b-834d6f7aa2b0",
   "metadata": {},
   "outputs": [
    {
     "data": {
      "image/png": "[encoded data removed]",
      "text/plain": [
       "<Figure size 640x480 with 1 Axes>"
      ]
     },
     "metadata": {},
     "output_type": "display_data"
    }
   ],
   "source": [
    "df['nre'].hist()\n",
    "plt.title('Histogram of nre column')\n",
    "plt.xlabel('Value')\n",
    "plt.ylabel('Frequency')\n",
    "plt.show()"
   ]
  },
  {
   "cell_type": "code",
   "execution_count": null,
   "id": "c66f7bef-426f-4459-82bc-1a235e7ead71",
   "metadata": {},
   "outputs": [],
   "source": []
  }
 ],
 "metadata": {
  "kernelspec": {
   "display_name": "Python 3 (ipykernel)",
   "language": "python",
   "name": "python3"
  },
  "language_info": {
   "codemirror_mode": {
    "name": "ipython",
    "version": 3
   },
   "file_extension": ".py",
   "mimetype": "text/x-python",
   "name": "python",
   "nbconvert_exporter": "python",
   "pygments_lexer": "ipython3",
   "version": "3.10.9"
  }
 },
 "nbformat": 4,
 "nbformat_minor": 5
}
