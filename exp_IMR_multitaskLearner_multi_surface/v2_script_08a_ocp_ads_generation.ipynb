{
 "cells": [
  {
   "cell_type": "code",
   "execution_count": 21,
   "id": "a399b148-0cf6-4944-b8c8-6ad7f756c83f",
   "metadata": {},
   "outputs": [],
   "source": [
    "# !ls /host_workspace/v9/"
   ]
  },
  {
   "cell_type": "code",
   "execution_count": 22,
   "id": "9eb4b937-a348-4ce8-a8e1-239a9c87f495",
   "metadata": {},
   "outputs": [],
   "source": [
    "# import os\n",
    "# # Navigate to the Open-Catalyst-Project directory\n",
    "# os.chdir('/host_workspace/v9/Open-Catalyst-Dataset')\n",
    "# # Install the package\n",
    "# !pip install -e ."
   ]
  },
  {
   "cell_type": "code",
   "execution_count": 23,
   "id": "d6affb36-d7ad-4a24-8da7-ed202eba4d3e",
   "metadata": {},
   "outputs": [],
   "source": [
    "import ocdata\n",
    "import pickle"
   ]
  },
  {
   "cell_type": "code",
   "execution_count": 24,
   "id": "d0ab83e9-208a-4897-ae6e-d8149a56d10a",
   "metadata": {},
   "outputs": [],
   "source": [
    "data = pickle.load(open(\"Open-Catalyst-Dataset/ocdata/databases/pkls/adsorbates.pkl\", \"rb\",))"
   ]
  },
  {
   "cell_type": "code",
   "execution_count": 25,
   "id": "56bb0383-1516-4ca5-9cd6-c6e738e3e4ce",
   "metadata": {},
   "outputs": [],
   "source": [
    "d_adsid_vs_obj = {}"
   ]
  },
  {
   "cell_type": "code",
   "execution_count": 26,
   "id": "1cbc8a50-cc76-406e-b591-b15bec288afb",
   "metadata": {},
   "outputs": [],
   "source": [
    "for k, v in data.items():\n",
    "    d_adsid_vs_obj[k] = v[0]"
   ]
  },
  {
   "cell_type": "code",
   "execution_count": 30,
   "id": "5d66b45f-05a6-4176-a28d-af7681bc1810",
   "metadata": {},
   "outputs": [],
   "source": [
    "file_path = 'datasets/products/d_adsid_vs_obj.pkl'\n",
    "with open(file_path, 'wb') as file:\n",
    "    pickle.dump(d_adsid_vs_obj, file)"
   ]
  },
  {
   "cell_type": "code",
   "execution_count": 37,
   "id": "7d1b69c7-f383-4a2a-a0cc-ebdf6022d5d5",
   "metadata": {},
   "outputs": [],
   "source": [
    "# d_adsid_vs_obj"
   ]
  },
  {
   "cell_type": "code",
   "execution_count": 38,
   "id": "ede9a5ad-4126-410d-8db6-019c6ea86d96",
   "metadata": {},
   "outputs": [],
   "source": [
    "## bulk info"
   ]
  },
  {
   "cell_type": "code",
   "execution_count": 40,
   "id": "57ce6e44-d8d5-4dd9-a002-ed8f29667864",
   "metadata": {},
   "outputs": [],
   "source": [
    "# data = pickle.load(open(\"Open-Catalyst-Dataset/ocdata/databases/pkls/bulks.pkl\", \"rb\",))\n",
    "# data[0]"
   ]
  },
  {
   "cell_type": "code",
   "execution_count": null,
   "id": "45ca4362-6bf5-415e-bb3e-53da8b027fd3",
   "metadata": {},
   "outputs": [],
   "source": []
  },
  {
   "cell_type": "code",
   "execution_count": null,
   "id": "2c2feebd-7f57-4de7-849b-73ee1c202a7f",
   "metadata": {},
   "outputs": [],
   "source": []
  }
 ],
 "metadata": {
  "kernelspec": {
   "display_name": "Python 3 (ipykernel)",
   "language": "python",
   "name": "python3"
  },
  "language_info": {
   "codemirror_mode": {
    "name": "ipython",
    "version": 3
   },
   "file_extension": ".py",
   "mimetype": "text/x-python",
   "name": "python",
   "nbconvert_exporter": "python",
   "pygments_lexer": "ipython3",
   "version": "3.10.9"
  }
 },
 "nbformat": 4,
 "nbformat_minor": 5
}
