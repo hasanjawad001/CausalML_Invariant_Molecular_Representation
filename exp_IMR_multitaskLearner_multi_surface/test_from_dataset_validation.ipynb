{
 "cells": [
  {
   "cell_type": "code",
   "execution_count": 108,
   "id": "925586b1",
   "metadata": {},
   "outputs": [],
   "source": [
    "import json\n",
    "import pickle\n",
    "import numpy as np\n",
    "from ocpmodels.datasets import SinglePointLmdbDataset "
   ]
  },
  {
   "cell_type": "code",
   "execution_count": 109,
   "id": "a6f72df2",
   "metadata": {},
   "outputs": [
    {
     "name": "stdout",
     "output_type": "stream",
     "text": [
      "- load dataset\n",
      "- create energy validation dataset\n",
      "done.\n"
     ]
    }
   ],
   "source": [
    "# # load dataset\n",
    "# print('- load dataset')\n",
    "# src = 'ocp/data/is2re/all/val_id/data.lmdb'\n",
    "# dataset = SinglePointLmdbDataset({\"src\": src})\n",
    "   \n",
    "# # generate ads energy mappings\n",
    "# print('- create energy validation dataset')\n",
    "# keys = []\n",
    "# energies = []\n",
    "# for data in dataset:\n",
    "#     keys.append('random' + str(data.sid))\n",
    "#     energies.append(data.y_relaxed)\n",
    "    \n",
    "# energy_data = dict(zip(keys, energies))\n",
    "\n",
    "# # Open a file and use dump()\n",
    "# with open('mapping_energies_validation.pkl', 'wb') as file:\n",
    "      \n",
    "#     # A new file will be created\n",
    "#     pickle.dump(energy_data, file)\n",
    "\n",
    "# print('done.')"
   ]
  },
  {
   "cell_type": "code",
   "execution_count": 111,
   "id": "8d149049",
   "metadata": {},
   "outputs": [
    {
     "name": "stdout",
     "output_type": "stream",
     "text": [
      "- load data mapping\n",
      "- load adslab_slab mapping\n",
      "- load energy mapping - train\n"
     ]
    }
   ],
   "source": [
    "# load mappings\n",
    "print('- load data mapping')\n",
    "with open('oc20_data_mapping.pkl', 'rb') as f:\n",
    "    mapping_data = pickle.load(f)\n",
    "\n",
    "print('- load adslab_slab mapping')\n",
    "with open('mapping_adslab_slab.pkl', 'rb') as f:\n",
    "    mapping_adslab_slab = pickle.load(f)\n",
    "    \n",
    "print('- load energy mapping - validation')\n",
    "with open('mapping_energies_validation.pkl', 'rb') as f:\n",
    "    energy_data = pickle.load(f)"
   ]
  },
  {
   "cell_type": "code",
   "execution_count": 112,
   "id": "3a3ebfbc",
   "metadata": {},
   "outputs": [],
   "source": [
    "def find_key(miller_index, bulk_symbol, ads_symbol):\n",
    "    matching_keys = []\n",
    "    \n",
    "    for key, values in mapping_data.items():\n",
    "        if (values['miller_index'] == miller_index and\n",
    "            values['bulk_symbols'] == bulk_symbol and\n",
    "            values['ads_symbols'] == ads_symbol):\n",
    "            matching_keys.append(key)\n",
    "            \n",
    "    return matching_keys\n",
    "\n",
    "def get_ads_energy(miller_index, bulk_symbol, ads_symbol):\n",
    "    my_keys = find_key(miller_index, bulk_symbol, ads_symbol)\n",
    "    all_keys = energy_data.keys()\n",
    "    \n",
    "    energies = []\n",
    "    for key in my_keys:\n",
    "        print('MAPDATA: ', key)\n",
    "        print(json.dumps(mapping_data[key], indent=4))\n",
    "        if key in all_keys:\n",
    "            energies.append(energy_data[key])\n",
    "            print('ENERGY: ', energy_data[key])\n",
    "        else:\n",
    "            print('NO ENERGY')\n",
    "        print(' ')\n",
    "            \n",
    "    return energies"
   ]
  },
  {
   "cell_type": "code",
   "execution_count": 113,
   "id": "0a713832",
   "metadata": {},
   "outputs": [
    {
     "name": "stdout",
     "output_type": "stream",
     "text": [
      "MAPDATA:  random1408994\n",
      "{\n",
      "    \"bulk_id\": 56,\n",
      "    \"ads_id\": 2,\n",
      "    \"bulk_mpid\": \"mp-1056438\",\n",
      "    \"bulk_symbols\": \"Pd\",\n",
      "    \"ads_symbols\": \"*OH\",\n",
      "    \"miller_index\": [\n",
      "        1,\n",
      "        1,\n",
      "        1\n",
      "    ],\n",
      "    \"shift\": 0.167,\n",
      "    \"top\": true,\n",
      "    \"adsorption_site\": [\n",
      "        [\n",
      "            -0.0,\n",
      "            1.62,\n",
      "            24.22\n",
      "        ]\n",
      "    ],\n",
      "    \"class\": 0,\n",
      "    \"anomaly\": 0\n",
      "}\n",
      "NO ENERGY\n",
      " \n",
      "MAPDATA:  random28166\n",
      "{\n",
      "    \"bulk_id\": 27,\n",
      "    \"ads_id\": 2,\n",
      "    \"bulk_mpid\": \"mp-2\",\n",
      "    \"bulk_symbols\": \"Pd\",\n",
      "    \"ads_symbols\": \"*OH\",\n",
      "    \"miller_index\": [\n",
      "        1,\n",
      "        1,\n",
      "        1\n",
      "    ],\n",
      "    \"shift\": 0.167,\n",
      "    \"top\": true,\n",
      "    \"adsorption_site\": [\n",
      "        [\n",
      "            7.03,\n",
      "            0.81,\n",
      "            24.22\n",
      "        ]\n",
      "    ],\n",
      "    \"class\": 0,\n",
      "    \"anomaly\": 0\n",
      "}\n",
      "NO ENERGY\n",
      " \n",
      "MAPDATA:  random139052\n",
      "{\n",
      "    \"bulk_id\": 56,\n",
      "    \"ads_id\": 2,\n",
      "    \"bulk_mpid\": \"mp-1056438\",\n",
      "    \"bulk_symbols\": \"Pd\",\n",
      "    \"ads_symbols\": \"*OH\",\n",
      "    \"miller_index\": [\n",
      "        1,\n",
      "        1,\n",
      "        1\n",
      "    ],\n",
      "    \"shift\": 0.167,\n",
      "    \"top\": true,\n",
      "    \"adsorption_site\": [\n",
      "        [\n",
      "            7.03,\n",
      "            0.81,\n",
      "            24.22\n",
      "        ]\n",
      "    ],\n",
      "    \"class\": 0,\n",
      "    \"anomaly\": 0\n",
      "}\n",
      "ENERGY:  0.9937738899999999\n",
      " \n"
     ]
    }
   ],
   "source": [
    "miller_index = (1, 1, 1)\n",
    "bulk_symbol = 'Pd'\n",
    "ads_symbol = '*OH'\n",
    "\n",
    "keys = find_key(miller_index, bulk_symbol, ads_symbol)\n",
    "# print(keys)\n",
    "\n",
    "energies = get_ads_energy(miller_index, bulk_symbol, ads_symbol)\n",
    "# print(energies) \n",
    "\n",
    "# to get one energy we may opt to keep the minimum energy"
   ]
  },
  {
   "cell_type": "code",
   "execution_count": 93,
   "id": "738a0e65",
   "metadata": {},
   "outputs": [
    {
     "data": {
      "text/plain": [
       "{'bulk_id': 56,\n",
       " 'ads_id': 2,\n",
       " 'bulk_mpid': 'mp-1056438',\n",
       " 'bulk_symbols': 'Pd',\n",
       " 'ads_symbols': '*OH',\n",
       " 'miller_index': (1, 1, 1),\n",
       " 'shift': 0.167,\n",
       " 'top': True,\n",
       " 'adsorption_site': ((-0.0, 1.62, 24.22),),\n",
       " 'class': 0,\n",
       " 'anomaly': 0}"
      ]
     },
     "execution_count": 93,
     "metadata": {},
     "output_type": "execute_result"
    }
   ],
   "source": [
    "mapping_data['random1408994']"
   ]
  },
  {
   "cell_type": "code",
   "execution_count": 94,
   "id": "c32035c7",
   "metadata": {},
   "outputs": [
    {
     "data": {
      "text/plain": [
       "{'bulk_id': 27,\n",
       " 'ads_id': 2,\n",
       " 'bulk_mpid': 'mp-2',\n",
       " 'bulk_symbols': 'Pd',\n",
       " 'ads_symbols': '*OH',\n",
       " 'miller_index': (1, 1, 1),\n",
       " 'shift': 0.167,\n",
       " 'top': True,\n",
       " 'adsorption_site': ((7.03, 0.81, 24.22),),\n",
       " 'class': 0,\n",
       " 'anomaly': 0}"
      ]
     },
     "execution_count": 94,
     "metadata": {},
     "output_type": "execute_result"
    }
   ],
   "source": [
    "mapping_data['random28166']"
   ]
  },
  {
   "cell_type": "code",
   "execution_count": 115,
   "id": "39575eff",
   "metadata": {},
   "outputs": [
    {
     "data": {
      "text/plain": [
       "24943"
      ]
     },
     "execution_count": 115,
     "metadata": {},
     "output_type": "execute_result"
    }
   ],
   "source": [
    "len(energy_data)"
   ]
  },
  {
   "cell_type": "code",
   "execution_count": null,
   "id": "aee7dd59",
   "metadata": {},
   "outputs": [],
   "source": []
  }
 ],
 "metadata": {
  "kernelspec": {
   "display_name": "Python 3 (ipykernel)",
   "language": "python",
   "name": "python3"
  },
  "language_info": {
   "codemirror_mode": {
    "name": "ipython",
    "version": 3
   },
   "file_extension": ".py",
   "mimetype": "text/x-python",
   "name": "python",
   "nbconvert_exporter": "python",
   "pygments_lexer": "ipython3",
   "version": "3.10.9"
  }
 },
 "nbformat": 4,
 "nbformat_minor": 5
}
