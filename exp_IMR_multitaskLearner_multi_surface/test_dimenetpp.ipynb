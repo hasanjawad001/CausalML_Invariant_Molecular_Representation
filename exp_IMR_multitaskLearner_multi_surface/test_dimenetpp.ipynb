{
 "cells": [
  {
   "cell_type": "code",
   "execution_count": 1,
   "id": "75abc11e",
   "metadata": {},
   "outputs": [
    {
     "name": "stderr",
     "output_type": "stream",
     "text": [
      "ERROR:root:Invalid setup for SCN. Either the e3nn library or Jd.pt is missing.\n"
     ]
    },
    {
     "name": "stdout",
     "output_type": "stream",
     "text": [
      "2.0.0\n",
      "11.8\n"
     ]
    }
   ],
   "source": [
    "from ocpmodels.trainers import EnergyTrainer\n",
    "from ocpmodels.datasets import SinglePointLmdbDataset\n",
    "from ocpmodels import models\n",
    "from ocpmodels.common import logger\n",
    "from ocpmodels.common.utils import setup_logging\n",
    "setup_logging()\n",
    "\n",
    "import numpy as np\n",
    "import copy\n",
    "import os\n",
    "\n",
    "import torch\n",
    "print(torch.__version__)\n",
    "print(torch.version.cuda)"
   ]
  },
  {
   "cell_type": "code",
   "execution_count": 2,
   "id": "6a8ab9aa",
   "metadata": {},
   "outputs": [
    {
     "data": {
      "text/plain": [
       "[{'src': 'ocp/data/is2re/10k/train/data.lmdb',\n",
       "  'normalize_labels': True,\n",
       "  'target_mean': -1.525913953781128,\n",
       "  'target_std': 2.279365062713623},\n",
       " {'src': 'ocp/data/is2re/all/val_id/data.lmdb'},\n",
       " {'src': 'ocp/data/is2re/all/val_id/data.lmdb'}]"
      ]
     },
     "execution_count": 2,
     "metadata": {},
     "output_type": "execute_result"
    }
   ],
   "source": [
    "train_src = \"ocp/data/is2re/10k/train/data.lmdb\"\n",
    "val_src = \"ocp/data/is2re/all/val_id/data.lmdb\"\n",
    "\n",
    "dataset = [\n",
    "    {\n",
    "        \"src\": train_src,\n",
    "        \"normalize_labels\": True,\n",
    "        \"target_mean\": -1.525913953781128,\n",
    "        \"target_std\": 2.279365062713623,\n",
    "    },\n",
    "    {\"src\": val_src}, # val data\n",
    "    {\"src\": val_src}, # test data\n",
    "]\n",
    "\n",
    "dataset"
   ]
  },
  {
   "cell_type": "code",
   "execution_count": 3,
   "id": "ae0c555c",
   "metadata": {},
   "outputs": [],
   "source": [
    "task = {\n",
    "  \"dataset\": \"single_point_lmdb\",\n",
    "  \"description\": \"Relaxed state energy prediction from initial structure.\",\n",
    "  \"type\": \"regression\",\n",
    "  \"metric\": \"mae\",\n",
    "  \"labels\": [\"relaxed energy\"],\n",
    "}\n",
    "# Model\n",
    "model = {    \n",
    "    'name': 'dimenetplusplus',\n",
    "    \"num_spherical\": 7,\n",
    "    \"num_radial\": 6,\n",
    "    \"num_blocks\": 3,\n",
    "    \"hidden_channels\": 256,\n",
    "    \"out_emb_channels\": 192,\n",
    "    \"num_before_skip\": 1,\n",
    "    \"num_after_skip\": 2,\n",
    "    \"num_output_layers\": 3,\n",
    "    \"cutoff\": 6.0,\n",
    "    \"use_pbc\": True,\n",
    "    \"regress_forces\": False,\n",
    "}\n",
    "# Optimizer\n",
    "optimizer = {\n",
    "    'batch_size': 4,\n",
    "    'eval_batch_size': 4,\n",
    "    'num_workers': 4,\n",
    "    'lr_initial': 1.e-4,\n",
    "    'lr_gamma': 0.1,\n",
    "    'lr_milestones': [115082, 230164, 345246],\n",
    "    'warmup_steps': 57541,\n",
    "    'warmup_factor': 0.2,\n",
    "    'max_epochs': 20,\n",
    "}"
   ]
  },
  {
   "cell_type": "code",
   "execution_count": 4,
   "id": "be2c55e9",
   "metadata": {},
   "outputs": [
    {
     "name": "stdout",
     "output_type": "stream",
     "text": [
      "amp: true\n",
      "cmd:\n",
      "  checkpoint_dir: ./checkpoints/2023-07-06-13-40-16-IS2RE-val-example\n",
      "  commit: null\n",
      "  identifier: IS2RE-val-example\n",
      "  logs_dir: ./logs/tensorboard/2023-07-06-13-40-16-IS2RE-val-example\n",
      "  print_every: 10\n",
      "  results_dir: ./results/2023-07-06-13-40-16-IS2RE-val-example\n",
      "  seed: 0\n",
      "  timestamp_id: 2023-07-06-13-40-16-IS2RE-val-example\n",
      "dataset:\n",
      "  normalize_labels: true\n",
      "  src: ocp/data/is2re/10k/train/data.lmdb\n",
      "  target_mean: -1.525913953781128\n",
      "  target_std: 2.279365062713623\n",
      "gpus: 1\n",
      "logger: tensorboard\n",
      "model: dimenetplusplus\n",
      "model_attributes:\n",
      "  cutoff: 6.0\n",
      "  hidden_channels: 256\n",
      "  num_after_skip: 2\n",
      "  num_before_skip: 1\n",
      "  num_blocks: 3\n",
      "  num_output_layers: 3\n",
      "  num_radial: 6\n",
      "  num_spherical: 7\n",
      "  out_emb_channels: 192\n",
      "  regress_forces: false\n",
      "  use_pbc: true\n",
      "noddp: false\n",
      "optim:\n",
      "  batch_size: 4\n",
      "  eval_batch_size: 4\n",
      "  lr_gamma: 0.1\n",
      "  lr_initial: 0.0001\n",
      "  lr_milestones:\n",
      "  - 115082\n",
      "  - 230164\n",
      "  - 345246\n",
      "  max_epochs: 20\n",
      "  num_workers: 4\n",
      "  warmup_factor: 0.2\n",
      "  warmup_steps: 57541\n",
      "slurm: {}\n",
      "task:\n",
      "  dataset: single_point_lmdb\n",
      "  description: Relaxed state energy prediction from initial structure.\n",
      "  labels:\n",
      "  - relaxed energy\n",
      "  metric: mae\n",
      "  type: regression\n",
      "test_dataset:\n",
      "  src: ocp/data/is2re/all/val_id/data.lmdb\n",
      "trainer: energy\n",
      "val_dataset:\n",
      "  src: ocp/data/is2re/all/val_id/data.lmdb\n",
      "\n"
     ]
    },
    {
     "name": "stderr",
     "output_type": "stream",
     "text": [
      "WARNING:root:Model gradient logging to tensorboard not yet supported.\n"
     ]
    }
   ],
   "source": [
    "# Path to the pre-trained model file\n",
    "model_path = 'dimenetpp_all.pt'\n",
    "\n",
    "pretrained_energy_trainer = EnergyTrainer(\n",
    "    task=task,\n",
    "    model=model,\n",
    "    dataset=dataset,\n",
    "    optimizer=optimizer,\n",
    "    identifier=\"IS2RE-val-example\",\n",
    "    run_dir=\"./\", # directory to save results if is_debug=False. Prediction files are saved here so be careful not to override!\n",
    "    is_debug=False, # if True, do not save checkpoint, logs, or results\n",
    "    print_every=10,\n",
    "    seed=0, # random seed to use\n",
    "    logger=\"tensorboard\", # logger of choice (tensorboard and wandb supported)\n",
    "    local_rank=0,\n",
    "    amp=True, # use PyTorch Automatic Mixed Precision (faster training and less memory usage)\n",
    ")\n",
    "\n",
    "pretrained_energy_trainer.load_checkpoint(checkpoint_path=model_path)"
   ]
  },
  {
   "cell_type": "code",
   "execution_count": 5,
   "id": "7509e620",
   "metadata": {},
   "outputs": [
    {
     "name": "stderr",
     "output_type": "stream",
     "text": [
      "device 0: 100%|████████████████████████████████████████████████████████████████████████████████████████████████████████████████████████████████████████████████████████████████████████████████████████████████████████████| 6236/6236 [04:12<00:00, 24.68it/s]\n"
     ]
    }
   ],
   "source": [
    "# make predictions on the existing test_loader\n",
    "predictions = pretrained_energy_trainer.predict(pretrained_energy_trainer.test_loader, results_file=\"is2re_results\", disable_tqdm=False)"
   ]
  },
  {
   "cell_type": "code",
   "execution_count": 6,
   "id": "44a3afd1-ff0f-4fff-ba68-10213cd24976",
   "metadata": {},
   "outputs": [],
   "source": [
    "predictions"
   ]
  },
  {
   "cell_type": "code",
   "execution_count": null,
   "id": "890d6645-e921-4368-ae86-6de0608623dd",
   "metadata": {},
   "outputs": [],
   "source": []
  },
  {
   "cell_type": "code",
   "execution_count": null,
   "id": "38c3752a",
   "metadata": {},
   "outputs": [],
   "source": []
  }
 ],
 "metadata": {
  "kernelspec": {
   "display_name": "Python 3 (ipykernel)",
   "language": "python",
   "name": "python3"
  },
  "language_info": {
   "codemirror_mode": {
    "name": "ipython",
    "version": 3
   },
   "file_extension": ".py",
   "mimetype": "text/x-python",
   "name": "python",
   "nbconvert_exporter": "python",
   "pygments_lexer": "ipython3",
   "version": "3.10.9"
  }
 },
 "nbformat": 4,
 "nbformat_minor": 5
}
