{
 "cells": [
  {
   "cell_type": "code",
   "execution_count": 1,
   "id": "9c1d4593-82b9-476a-aa23-8ad1a3547f2a",
   "metadata": {},
   "outputs": [],
   "source": [
    "## for the follwing code\n",
    "\n",
    "#         # Embedding block.\n",
    "#         x = self.emb(data.atomic_numbers.long(), rbf, i, j)\n",
    "#         P = self.output_blocks[0](x, rbf, i, num_nodes=pos.size(0))\n",
    "#         print(x.shape, P.shape)\n",
    "        \n",
    "#         ## change\n",
    "#         def capture_embeddings(module, input, output):\n",
    "#             self.embs.append(output.detach())  # Store the output embeddings\n",
    "            \n",
    "#         ## change\n",
    "#         hook_handle = self.interaction_blocks[-1].register_forward_hook(capture_embeddings)\n",
    "            \n",
    "#         # Interaction blocks.\n",
    "#         for interaction_block, output_block in zip(\n",
    "#             self.interaction_blocks, self.output_blocks[1:]\n",
    "#         ):\n",
    "#             x = interaction_block(x, rbf, sbf, idx_kj, idx_ji)\n",
    "#             P += output_block(x, rbf, i, num_nodes=pos.size(0))\n",
    "#             print(x.shape, P.shape)\n",
    "\n",
    "## getting following output\n",
    "\n",
    "# Atoms(symbols='H5Au48Co8O17', pbc=True, cell=[5.878883441, 20.365049623, 20.81515], calculator=OCPCalculator(...))\n",
    "# torch.Size([3477, 256]) torch.Size([78, 1])\n",
    "# torch.Size([3477, 256]) torch.Size([78, 1])\n",
    "# torch.Size([3477, 256]) torch.Size([78, 1])\n",
    "# torch.Size([3477, 256]) torch.Size([78, 1])\n",
    "# Atoms(symbols='CH9Au48Co8O17', pbc=True, cell=[5.878883441, 20.365049623, 20.81515], calculator=OCPCalculator(...))\n",
    "# torch.Size([3533, 256]) torch.Size([83, 1])\n",
    "# torch.Size([3533, 256]) torch.Size([83, 1])\n",
    "# torch.Size([3533, 256]) torch.Size([83, 1])\n",
    "# torch.Size([3533, 256]) torch.Size([83, 1])\n",
    "# -1.2942085266113281"
   ]
  },
  {
   "cell_type": "code",
   "execution_count": 2,
   "id": "ad618057-85c8-4be1-a7f2-8524c5c8756b",
   "metadata": {},
   "outputs": [],
   "source": [
    "# https://nbviewer.org/gist/mhoffman/c418acb6b3f928eb4ef71f4001d120d9"
   ]
  },
  {
   "cell_type": "code",
   "execution_count": 3,
   "id": "59755cc1",
   "metadata": {},
   "outputs": [],
   "source": [
    "import requests\n",
    "import pprint\n",
    "import sys\n",
    "import string\n",
    "import json\n",
    "import io\n",
    "import copy\n",
    "\n",
    "import ase.io\n",
    "import ase.calculators.singlepoint\n",
    "\n",
    "GRAPHQL = 'http://api.catalysis-hub.org/graphql'\n",
    "\n",
    "def fetch(query):\n",
    "    return requests.get(\n",
    "        GRAPHQL, {'query': query}\n",
    "    ).json()['data']"
   ]
  },
  {
   "cell_type": "code",
   "execution_count": 4,
   "id": "a9d6d676",
   "metadata": {},
   "outputs": [
    {
     "name": "stdout",
     "output_type": "stream",
     "text": [
      "True YXJyYXljb25uZWN0aW9uOjk= 10 16\n",
      "False YXJyYXljb25uZWN0aW9uOjE1 20 16\n"
     ]
    }
   ],
   "source": [
    "def reactions_from_dataset(pub_id, page_size=10):\n",
    "    reactions = []\n",
    "    has_next_page = True\n",
    "    start_cursor = ''\n",
    "    page = 0\n",
    "    while has_next_page:\n",
    "        data = fetch(\"\"\"{{\n",
    "      reactions(pubId: \"{pub_id}\", first: {page_size}, after: \"{start_cursor}\") {{\n",
    "        totalCount\n",
    "        pageInfo {{\n",
    "          hasNextPage\n",
    "          hasPreviousPage\n",
    "          startCursor\n",
    "          endCursor \n",
    "        }}  \n",
    "        edges {{\n",
    "          node {{\n",
    "            Equation\n",
    "            reactants\n",
    "            products\n",
    "            reactionEnergy\n",
    "            reactionSystems {{\n",
    "              name\n",
    "              systems {{\n",
    "                energy\n",
    "                InputFile(format: \"json\")\n",
    "              }}\n",
    "            }}  \n",
    "          }}  \n",
    "        }}  \n",
    "      }}    \n",
    "    }}\"\"\".format(start_cursor=start_cursor,\n",
    "                 page_size=page_size,\n",
    "                 pub_id=pub_id,\n",
    "                ))\n",
    "        has_next_page = data['reactions']['pageInfo']['hasNextPage']\n",
    "        start_cursor = data['reactions']['pageInfo']['endCursor']\n",
    "        page += 1\n",
    "        print(has_next_page, start_cursor, page_size * page, data['reactions']['totalCount'])\n",
    "        reactions.extend(map(lambda x: x['node'], data['reactions']['edges']))\n",
    "\n",
    "    return reactions\n",
    "\n",
    "# raw_reactions = reactions_from_dataset(\"MamunHighT2019\") # this will get all 88587 reactions\n",
    "raw_reactions = reactions_from_dataset(\"FesterEdge2017\")"
   ]
  },
  {
   "cell_type": "code",
   "execution_count": 5,
   "id": "7408ebdf",
   "metadata": {},
   "outputs": [],
   "source": [
    "def aseify_reactions(reactions):\n",
    "    for i, reaction in enumerate(reactions):\n",
    "        for j, _ in enumerate(reactions[i]['reactionSystems']):\n",
    "            with io.StringIO() as tmp_file:\n",
    "                system = reactions[i]['reactionSystems'][j].pop('systems')\n",
    "                tmp_file.write(system.pop('InputFile'))\n",
    "                tmp_file.seek(0)\n",
    "                atoms = ase.io.read(tmp_file, format='json')\n",
    "            calculator = ase.calculators.singlepoint.SinglePointCalculator(\n",
    "                atoms,\n",
    "                energy=system.pop('energy')\n",
    "            )\n",
    "            atoms.set_calculator(calculator)\n",
    "            #print(atoms.get_potential_energy())\n",
    "            reactions[i]['reactionSystems'][j]['atoms'] = atoms\n",
    "        # flatten list further into {name: atoms, ...} dictionary\n",
    "        reactions[i]['reactionSystems'] = {x['name']: x['atoms']\n",
    "                                          for x in reactions[i]['reactionSystems']}\n",
    "        \n",
    "reactions = copy.deepcopy(raw_reactions)\n",
    "aseify_reactions(reactions)"
   ]
  },
  {
   "cell_type": "code",
   "execution_count": 6,
   "id": "f2f27f3c",
   "metadata": {},
   "outputs": [
    {
     "data": {
      "text/plain": [
       "{'Equation': '2.0H2O(g) - 1.5H2(g) + * -> HO2*',\n",
       " 'reactants': '{\"star\": 1, \"H2gas\": -1.5, \"H2Ogas\": 2.0}',\n",
       " 'products': '{\"HO2star\": 1}',\n",
       " 'reactionEnergy': 1.8164483250000103,\n",
       " 'reactionSystems': {'HO2star': Atoms(symbols='H6Au48Co8O19', pbc=True, cell=[5.878883441, 20.365049623, 20.81515], calculator=SinglePointCalculator(...)),\n",
       "  'H2Ogas': Atoms(symbols='H2O', pbc=True, cell=[14.0, 16.526478, 16.596309], calculator=SinglePointCalculator(...)),\n",
       "  'H2gas': Atoms(symbols='H2', pbc=True, cell=[14.0, 15.0, 16.737166], calculator=SinglePointCalculator(...)),\n",
       "  'star': Atoms(symbols='H5Au48Co8O17', pbc=True, cell=[5.878883441, 20.365049623, 20.81515], calculator=SinglePointCalculator(...))}}"
      ]
     },
     "execution_count": 6,
     "metadata": {},
     "output_type": "execute_result"
    }
   ],
   "source": [
    "reactions[5]"
   ]
  },
  {
   "cell_type": "code",
   "execution_count": 7,
   "id": "c8d27f28",
   "metadata": {},
   "outputs": [
    {
     "data": {
      "text/plain": [
       "Atoms(symbols='H5Au48Co8O17', pbc=True, cell=[5.878883441, 20.365049623, 20.81515], calculator=SinglePointCalculator(...))"
      ]
     },
     "execution_count": 7,
     "metadata": {},
     "output_type": "execute_result"
    }
   ],
   "source": [
    "reactions[5]['reactionSystems']['star']  # this is my slab"
   ]
  },
  {
   "cell_type": "code",
   "execution_count": 8,
   "id": "b8e381bf-b9e9-43f3-a4ea-bd15cace556f",
   "metadata": {},
   "outputs": [],
   "source": [
    "# this is just a copy for feature generator"
   ]
  },
  {
   "cell_type": "code",
   "execution_count": 10,
   "id": "2c0c75b3-c668-4539-a56e-462042eaae24",
   "metadata": {},
   "outputs": [
    {
     "name": "stderr",
     "output_type": "stream",
     "text": [
      "/home/mchowdh5/.local/lib/python3.10/site-packages/mp_api/client/mprester.py:182: UserWarning: mpcontribs-client not installed. Install the package to query MPContribs data, or construct pourbaix diagrams: 'pip install mpcontribs-client'\n",
      "  warnings.warn(\n",
      "/opt/anaconda3/lib/python3.10/site-packages/torch/cuda/__init__.py:546: UserWarning: Can't initialize NVML\n",
      "  warnings.warn(\"Can't initialize NVML\")\n"
     ]
    }
   ],
   "source": [
    "import os\n",
    "import numpy as np\n",
    "import ase.io\n",
    "from ase.constraints import FixAtoms\n",
    "from ase.build import add_adsorbate, molecule, surface\n",
    "from pymatgen.ext.matproj import MPRester\n",
    "from pymatgen.core.surface import generate_all_slabs, SlabGenerator\n",
    "from pymatgen.io.ase import AseAtomsAdaptor\n",
    "from ocpmodels.common.relaxation.ase_utils import OCPCalculator\n",
    "\n",
    "m = MPRester('Yct0KDbJbqMLWluZEovkwrLXh2VRHXbc')\n",
    "\n",
    "config_yml_path = \"ocp/configs/is2re/all/dimenet_plus_plus/dpp.yml\"\n",
    "checkpoint_path = \"dimenetpp_all.pt\"\n",
    "\n",
    "# Define the calculator\n",
    "calc = OCPCalculator(config_yml=config_yml_path, checkpoint=checkpoint_path)"
   ]
  },
  {
   "cell_type": "code",
   "execution_count": 11,
   "id": "3b7c4e28-5d7c-40df-bf31-7507705d2a64",
   "metadata": {},
   "outputs": [
    {
     "data": {
      "text/plain": [
       "<ocpmodels.common.relaxation.ase_utils.OCPCalculator at 0x7f5f7477d4e0>"
      ]
     },
     "execution_count": 11,
     "metadata": {},
     "output_type": "execute_result"
    }
   ],
   "source": [
    "calc"
   ]
  },
  {
   "cell_type": "code",
   "execution_count": 12,
   "id": "99e67c8d-cf39-4621-9db1-c39910d0feef",
   "metadata": {},
   "outputs": [
    {
     "name": "stdout",
     "output_type": "stream",
     "text": [
      "Atoms(symbols='H5Au48Co8O17', pbc=True, cell=[5.878883441, 20.365049623, 20.81515], calculator=OCPCalculator(...))\n",
      "Atoms(symbols='CH9Au48Co8O17', pbc=True, cell=[5.878883441, 20.365049623, 20.81515], calculator=OCPCalculator(...))\n"
     ]
    },
    {
     "data": {
      "text/plain": [
       "-1.2942085266113281"
      ]
     },
     "execution_count": 12,
     "metadata": {},
     "output_type": "execute_result"
    }
   ],
   "source": [
    "def get_energy(ase_slab, ads_symbol):\n",
    "    \n",
    "    adslab = ase_slab.copy()\n",
    "    adslab.calc = calc\n",
    "    print(adslab)\n",
    "    \n",
    "    slab_energy = adslab.get_potential_energy()\n",
    "    \n",
    "    # add the molecule\n",
    "    adsorbate = molecule(ads_symbol)\n",
    "    add_adsorbate(adslab, adsorbate, 3, offset=(1, 1))\n",
    "    print(adslab)\n",
    "    \n",
    "    ads_energy = adslab.get_potential_energy()\n",
    "    \n",
    "    # because this is a fingerprint we do not need to reference to gas molecules \n",
    "    # because this is the same constant across surfaces\n",
    "    \n",
    "    return ads_energy - slab_energy\n",
    "    \n",
    "\n",
    "get_energy( reactions[5]['reactionSystems']['star'], 'CH4' )"
   ]
  },
  {
   "cell_type": "code",
   "execution_count": 13,
   "id": "f0c1df13-21df-42e6-9b72-98282dd803f8",
   "metadata": {},
   "outputs": [],
   "source": [
    "embeddings = calc.trainer.model.module.embs"
   ]
  },
  {
   "cell_type": "code",
   "execution_count": 14,
   "id": "9e6e3715-c780-4001-a002-cf51d68ae86c",
   "metadata": {},
   "outputs": [],
   "source": [
    "a = embeddings[0]"
   ]
  },
  {
   "cell_type": "code",
   "execution_count": 15,
   "id": "b04ed3f3-7b36-453c-9ad9-582b72e327d1",
   "metadata": {},
   "outputs": [
    {
     "data": {
      "text/plain": [
       "torch.Size([3533, 256])"
      ]
     },
     "execution_count": 15,
     "metadata": {},
     "output_type": "execute_result"
    }
   ],
   "source": [
    "a.shape"
   ]
  },
  {
   "cell_type": "code",
   "execution_count": 16,
   "id": "8727d044-bd14-4c14-a2af-74589e566c69",
   "metadata": {},
   "outputs": [
    {
     "data": {
      "text/plain": [
       "tensor([-0.5188,  0.0327, -0.5164, -0.8912,  2.3772])"
      ]
     },
     "execution_count": 16,
     "metadata": {},
     "output_type": "execute_result"
    }
   ],
   "source": [
    "a[0, :5]"
   ]
  },
  {
   "cell_type": "code",
   "execution_count": 15,
   "id": "830d3f60-9188-4225-b9f8-b204e3c23d45",
   "metadata": {},
   "outputs": [
    {
     "data": {
      "text/plain": [
       "tensor([-0.5188,  0.0327, -0.5164, -0.8912,  2.3772])"
      ]
     },
     "execution_count": 15,
     "metadata": {},
     "output_type": "execute_result"
    }
   ],
   "source": []
  },
  {
   "cell_type": "code",
   "execution_count": 17,
   "id": "0052746d-133c-4b97-a741-7977616e5759",
   "metadata": {},
   "outputs": [
    {
     "data": {
      "text/plain": [
       "tensor([-0.5305,  0.0348, -0.5109, -0.8876,  2.3865])"
      ]
     },
     "execution_count": 17,
     "metadata": {},
     "output_type": "execute_result"
    }
   ],
   "source": [
    "a[1, :5]"
   ]
  },
  {
   "cell_type": "code",
   "execution_count": 16,
   "id": "dbf8a5ef-ab09-42df-b502-6b92db61c9f3",
   "metadata": {},
   "outputs": [
    {
     "data": {
      "text/plain": [
       "tensor([-0.5305,  0.0348, -0.5109, -0.8876,  2.3865])"
      ]
     },
     "execution_count": 16,
     "metadata": {},
     "output_type": "execute_result"
    }
   ],
   "source": []
  },
  {
   "cell_type": "code",
   "execution_count": 19,
   "id": "ab7d82b2-0636-4b99-ba68-156fc3bd7024",
   "metadata": {},
   "outputs": [],
   "source": [
    "import torch\n",
    "b = torch.mean(a, dim=0)\n"
   ]
  },
  {
   "cell_type": "code",
   "execution_count": 22,
   "id": "32be60a7-3672-40cf-8bea-311496e83fae",
   "metadata": {},
   "outputs": [
    {
     "data": {
      "text/plain": [
       "torch.Size([256])"
      ]
     },
     "execution_count": 22,
     "metadata": {},
     "output_type": "execute_result"
    }
   ],
   "source": [
    "b.shape"
   ]
  },
  {
   "cell_type": "code",
   "execution_count": null,
   "id": "c9843e43-8c83-4b91-af33-1c4c4484f3c2",
   "metadata": {},
   "outputs": [],
   "source": []
  }
 ],
 "metadata": {
  "kernelspec": {
   "display_name": "Python 3 (ipykernel)",
   "language": "python",
   "name": "python3"
  },
  "language_info": {
   "codemirror_mode": {
    "name": "ipython",
    "version": 3
   },
   "file_extension": ".py",
   "mimetype": "text/x-python",
   "name": "python",
   "nbconvert_exporter": "python",
   "pygments_lexer": "ipython3",
   "version": "3.10.9"
  }
 },
 "nbformat": 4,
 "nbformat_minor": 5
}
