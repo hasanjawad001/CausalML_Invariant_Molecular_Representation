{
 "cells": [
  {
   "cell_type": "code",
   "execution_count": 1,
   "id": "9cda603f",
   "metadata": {},
   "outputs": [],
   "source": [
    "from pymatgen.ext.matproj import MPRester\n",
    "from pymatgen.core.surface import generate_all_slabs"
   ]
  },
  {
   "cell_type": "code",
   "execution_count": 2,
   "id": "66b0f733",
   "metadata": {},
   "outputs": [
    {
     "name": "stderr",
     "output_type": "stream",
     "text": [
      "/home/gterejan/.local/lib/python3.10/site-packages/mp_api/client/mprester.py:182: UserWarning: mpcontribs-client not installed. Install the package to query MPContribs data, or construct pourbaix diagrams: 'pip install mpcontribs-client'\n",
      "  warnings.warn(\n"
     ]
    },
    {
     "data": {
      "application/vnd.jupyter.widget-view+json": {
       "model_id": "c9c0b4d93a2c4c66afde926083199d45",
       "version_major": 2,
       "version_minor": 0
      },
      "text/plain": [
       "Retrieving MaterialsDoc documents:   0%|          | 0/1 [00:00<?, ?it/s]"
      ]
     },
     "metadata": {},
     "output_type": "display_data"
    },
    {
     "name": "stderr",
     "output_type": "stream",
     "text": [
      "/home/gterejan/.local/lib/python3.10/site-packages/mp_api/client/core/client.py:892: UserWarning: Document primary key has changed from mp-1056438 to mp-2, returning data for mp-2 in materials/core route.    \n",
      "  warnings.warn(\n"
     ]
    },
    {
     "data": {
      "application/vnd.jupyter.widget-view+json": {
       "model_id": "ac7493c3ee704679baf166d212d43a56",
       "version_major": 2,
       "version_minor": 0
      },
      "text/plain": [
       "Retrieving MaterialsDoc documents:   0%|          | 0/1 [00:00<?, ?it/s]"
      ]
     },
     "metadata": {},
     "output_type": "display_data"
    }
   ],
   "source": [
    "m = MPRester('Yct0KDbJbqMLWluZEovkwrLXh2VRHXbc')\n",
    "structure = m.get_structure_by_material_id(\"mp-1056438\") # replace XXXX with id for the bulk symbol"
   ]
  },
  {
   "cell_type": "code",
   "execution_count": 5,
   "id": "b9c89fc7",
   "metadata": {},
   "outputs": [],
   "source": [
    "# m.get_structures('Fe2O3')"
   ]
  },
  {
   "cell_type": "code",
   "execution_count": 17,
   "id": "dcaa5f1d",
   "metadata": {},
   "outputs": [],
   "source": [
    "miller_index = (1, 1, 1) # replace with your miller index\n",
    "slabs = generate_all_slabs(structure, max_index=3, min_slab_size=10.0, min_vacuum_size=10.0)\n",
    "\n",
    "# Find the slab that matches your miller index\n",
    "for slab in slabs:\n",
    "    if slab.miller_index == miller_index:\n",
    "        your_slab = slab\n",
    "        break"
   ]
  },
  {
   "cell_type": "code",
   "execution_count": 18,
   "id": "e5405ef5",
   "metadata": {},
   "outputs": [
    {
     "data": {
      "text/plain": [
       "Structure Summary\n",
       "Lattice\n",
       "    abc : 2.769950863255495 2.769949536984469 27.69950055644841\n",
       " angles : 119.99998462575788 119.99997917435608 60.000014769518614\n",
       " volume : 150.27994594069256\n",
       "      A : 2.3988483182191427 0.0 -1.3849745597039151\n",
       "      B : 0.7996155486164591 2.2616547228669988 -1.3849741248069116\n",
       "      C : 0.0 0.0 27.69950055644841\n",
       "    pbc : True True True\n",
       "PeriodicSite: Pd (0.0000, 0.0000, 1.3850) [0.0000, 0.0000, 0.0500]\n",
       "PeriodicSite: Pd (0.0000, 0.0000, 4.1549) [0.0000, 0.0000, 0.1500]\n",
       "PeriodicSite: Pd (0.0000, 0.0000, 6.9249) [0.0000, 0.0000, 0.2500]\n",
       "PeriodicSite: Pd (0.0000, 0.0000, 9.6948) [0.0000, 0.0000, 0.3500]\n",
       "PeriodicSite: Pd (0.0000, 0.0000, 12.4648) [0.0000, 0.0000, 0.4500]"
      ]
     },
     "execution_count": 18,
     "metadata": {},
     "output_type": "execute_result"
    }
   ],
   "source": [
    "your_slab"
   ]
  },
  {
   "cell_type": "code",
   "execution_count": 19,
   "id": "c09079bc",
   "metadata": {},
   "outputs": [],
   "source": [
    "import torch\n",
    "\n",
    "# Path to the pre-trained model file\n",
    "model_path = 'dimenetpp_all.pt'\n",
    "\n",
    "# Load the model\n",
    "model = torch.load(model_path)"
   ]
  },
  {
   "cell_type": "code",
   "execution_count": 20,
   "id": "2a9f1009-948d-4f6a-bd54-599e40e37d4f",
   "metadata": {},
   "outputs": [],
   "source": [
    "model"
   ]
  },
  {
   "cell_type": "code",
   "execution_count": null,
   "id": "8dba992a-bd2e-45a3-9841-7bb61d9457b5",
   "metadata": {},
   "outputs": [],
   "source": []
  },
  {
   "cell_type": "code",
   "execution_count": null,
   "id": "54bea9ed",
   "metadata": {},
   "outputs": [],
   "source": []
  }
 ],
 "metadata": {
  "kernelspec": {
   "display_name": "Python 3 (ipykernel)",
   "language": "python",
   "name": "python3"
  },
  "language_info": {
   "codemirror_mode": {
    "name": "ipython",
    "version": 3
   },
   "file_extension": ".py",
   "mimetype": "text/x-python",
   "name": "python",
   "nbconvert_exporter": "python",
   "pygments_lexer": "ipython3",
   "version": "3.10.9"
  }
 },
 "nbformat": 4,
 "nbformat_minor": 5
}
