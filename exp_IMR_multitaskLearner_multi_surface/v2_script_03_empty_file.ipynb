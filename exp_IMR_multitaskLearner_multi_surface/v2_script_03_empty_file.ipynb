{
 "cells": [
  {
   "cell_type": "code",
   "execution_count": null,
   "id": "551e49b2-48d3-4926-9119-58d67eef5bd8",
   "metadata": {},
   "outputs": [],
   "source": [
    "## for v2 there is nothing as v2_script_3.ipynb, file is created because there is file with v2_script_4 already, \n",
    "## just to maintian the sequence"
   ]
  },
  {
   "cell_type": "code",
   "execution_count": null,
   "id": "2f7ac329-d4ba-47a2-8cab-65de20b177b1",
   "metadata": {},
   "outputs": [],
   "source": []
  }
 ],
 "metadata": {
  "kernelspec": {
   "display_name": "Python 3 (ipykernel)",
   "language": "python",
   "name": "python3"
  },
  "language_info": {
   "codemirror_mode": {
    "name": "ipython",
    "version": 3
   },
   "file_extension": ".py",
   "mimetype": "text/x-python",
   "name": "python",
   "nbconvert_exporter": "python",
   "pygments_lexer": "ipython3",
   "version": "3.10.9"
  }
 },
 "nbformat": 4,
 "nbformat_minor": 5
}
